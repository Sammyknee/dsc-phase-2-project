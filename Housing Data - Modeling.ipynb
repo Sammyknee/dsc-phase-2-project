{
 "cells": [
  {
   "cell_type": "markdown",
   "metadata": {},
   "source": [
    "* Add photo header"
   ]
  },
  {
   "cell_type": "markdown",
   "metadata": {},
   "source": [
    "# Modeling and Evaluation"
   ]
  },
  {
   "cell_type": "markdown",
   "metadata": {},
   "source": [
    "In this notebook, we iterate through different versions of a regression model to create the most accurate model for predicting home prices."
   ]
  },
  {
   "cell_type": "code",
   "execution_count": 1,
   "metadata": {},
   "outputs": [],
   "source": [
    "# import necessary libraries\n",
    "import pandas as pd\n",
    "import numpy as np\n",
    "import seaborn as sns\n",
    "import matplotlib.pyplot as plt\n",
    "\n",
    "from statsmodels.formula.api import ols\n",
    "from statsmodels.stats.outliers_influence import variance_inflation_factor\n",
    "import statsmodels.api as sm\n",
    "import scipy.stats as stats\n",
    "from sklearn.model_selection import train_test_split\n",
    "from sklearn.linear_model import LinearRegression\n",
    "from sklearn.model_selection import cross_val_score"
   ]
  },
  {
   "cell_type": "code",
   "execution_count": 2,
   "metadata": {},
   "outputs": [],
   "source": [
    "#load clean dataset\n",
    "data = pd.read_csv('data/housing_data_clean.csv')"
   ]
  },
  {
   "cell_type": "code",
   "execution_count": 3,
   "metadata": {
    "scrolled": true
   },
   "outputs": [
    {
     "name": "stdout",
     "output_type": "stream",
     "text": [
      "<class 'pandas.core.frame.DataFrame'>\n",
      "RangeIndex: 21191 entries, 0 to 21190\n",
      "Data columns (total 55 columns):\n",
      " #   Column                Non-Null Count  Dtype  \n",
      "---  ------                --------------  -----  \n",
      " 0   id                    21191 non-null  int64  \n",
      " 1   date                  21191 non-null  object \n",
      " 2   price                 21191 non-null  float64\n",
      " 3   sqft_lot              21191 non-null  int64  \n",
      " 4   sqft_above            21191 non-null  int64  \n",
      " 5   sqft_basement         21191 non-null  float64\n",
      " 6   yr_built              21191 non-null  int64  \n",
      " 7   yr_renovated          21191 non-null  float64\n",
      " 8   lat                   21191 non-null  float64\n",
      " 9   long                  21191 non-null  float64\n",
      " 10  sqft_living15         21191 non-null  int64  \n",
      " 11  sqft_lot15            21191 non-null  int64  \n",
      " 12  bedro_2               21191 non-null  int64  \n",
      " 13  bedro_3               21191 non-null  int64  \n",
      " 14  bedro_4               21191 non-null  int64  \n",
      " 15  bedro_5               21191 non-null  int64  \n",
      " 16  bedro_6               21191 non-null  int64  \n",
      " 17  bedro_7               21191 non-null  int64  \n",
      " 18  bedro_8               21191 non-null  int64  \n",
      " 19  bedro_9               21191 non-null  int64  \n",
      " 20  bedro_10              21191 non-null  int64  \n",
      " 21  bedro_11              21191 non-null  int64  \n",
      " 22  bedro_33              21191 non-null  int64  \n",
      " 23  bathr_1_to_2          21191 non-null  int64  \n",
      " 24  bathr_2_to_3          21191 non-null  int64  \n",
      " 25  bathr_3_to_4          21191 non-null  int64  \n",
      " 26  bathr_4_to_5          21191 non-null  int64  \n",
      " 27  bathr_5_to_6          21191 non-null  int64  \n",
      " 28  bathr_6_plus          21191 non-null  int64  \n",
      " 29  floor_1.5             21191 non-null  int64  \n",
      " 30  floor_2.0             21191 non-null  int64  \n",
      " 31  floor_2.5             21191 non-null  int64  \n",
      " 32  floor_3.0             21191 non-null  int64  \n",
      " 33  floor_3.5             21191 non-null  int64  \n",
      " 34  water_1.0             21191 non-null  int64  \n",
      " 35  view_1.0              21191 non-null  int64  \n",
      " 36  view_2.0              21191 non-null  int64  \n",
      " 37  view_3.0              21191 non-null  int64  \n",
      " 38  view_4.0              21191 non-null  int64  \n",
      " 39  condi_2               21191 non-null  int64  \n",
      " 40  condi_3               21191 non-null  int64  \n",
      " 41  condi_4               21191 non-null  int64  \n",
      " 42  condi_5               21191 non-null  int64  \n",
      " 43  grade_4               21191 non-null  int64  \n",
      " 44  grade_5               21191 non-null  int64  \n",
      " 45  grade_6               21191 non-null  int64  \n",
      " 46  grade_7               21191 non-null  int64  \n",
      " 47  grade_8               21191 non-null  int64  \n",
      " 48  grade_9               21191 non-null  int64  \n",
      " 49  grade_10              21191 non-null  int64  \n",
      " 50  grade_11              21191 non-null  int64  \n",
      " 51  grade_12              21191 non-null  int64  \n",
      " 52  zipco_98051_to_98100  21191 non-null  int64  \n",
      " 53  zipco_98101_to_98150  21191 non-null  int64  \n",
      " 54  zipco_98150_to_98200  21191 non-null  int64  \n",
      "dtypes: float64(5), int64(49), object(1)\n",
      "memory usage: 8.9+ MB\n"
     ]
    }
   ],
   "source": [
    "data.info()"
   ]
  },
  {
   "cell_type": "code",
   "execution_count": 4,
   "metadata": {},
   "outputs": [],
   "source": [
    "# fix formatting of columns\n",
    "subs = [(' ', '_'),('.',''),(\"'\",\"\"),('™', ''), ('®',''),\n",
    "        ('+','plus'), ('½','half'), ('-','_')\n",
    "       ]\n",
    "def col_formatting(col):\n",
    "    for old, new in subs:\n",
    "        col = col.replace(old,new)\n",
    "    return col"
   ]
  },
  {
   "cell_type": "code",
   "execution_count": 5,
   "metadata": {},
   "outputs": [],
   "source": [
    "data.columns = [col_formatting(col) for col in data.columns]"
   ]
  },
  {
   "cell_type": "code",
   "execution_count": 6,
   "metadata": {
    "scrolled": false
   },
   "outputs": [
    {
     "data": {
      "text/plain": [
       "['id',\n",
       " 'date',\n",
       " 'price',\n",
       " 'sqft_lot',\n",
       " 'sqft_above',\n",
       " 'sqft_basement',\n",
       " 'yr_built',\n",
       " 'yr_renovated',\n",
       " 'lat',\n",
       " 'long',\n",
       " 'sqft_living15',\n",
       " 'sqft_lot15',\n",
       " 'bedro_2',\n",
       " 'bedro_3',\n",
       " 'bedro_4',\n",
       " 'bedro_5',\n",
       " 'bedro_6',\n",
       " 'bedro_7',\n",
       " 'bedro_8',\n",
       " 'bedro_9',\n",
       " 'bedro_10',\n",
       " 'bedro_11',\n",
       " 'bedro_33',\n",
       " 'bathr_1_to_2',\n",
       " 'bathr_2_to_3',\n",
       " 'bathr_3_to_4',\n",
       " 'bathr_4_to_5',\n",
       " 'bathr_5_to_6',\n",
       " 'bathr_6_plus',\n",
       " 'floor_15',\n",
       " 'floor_20',\n",
       " 'floor_25',\n",
       " 'floor_30',\n",
       " 'floor_35',\n",
       " 'water_10',\n",
       " 'view_10',\n",
       " 'view_20',\n",
       " 'view_30',\n",
       " 'view_40',\n",
       " 'condi_2',\n",
       " 'condi_3',\n",
       " 'condi_4',\n",
       " 'condi_5',\n",
       " 'grade_4',\n",
       " 'grade_5',\n",
       " 'grade_6',\n",
       " 'grade_7',\n",
       " 'grade_8',\n",
       " 'grade_9',\n",
       " 'grade_10',\n",
       " 'grade_11',\n",
       " 'grade_12',\n",
       " 'zipco_98051_to_98100',\n",
       " 'zipco_98101_to_98150',\n",
       " 'zipco_98150_to_98200']"
      ]
     },
     "execution_count": 6,
     "metadata": {},
     "output_type": "execute_result"
    }
   ],
   "source": [
    "list(data.columns)"
   ]
  },
  {
   "cell_type": "markdown",
   "metadata": {},
   "source": [
    "## Model 1: Baseline"
   ]
  },
  {
   "cell_type": "code",
   "execution_count": 7,
   "metadata": {},
   "outputs": [],
   "source": [
    "# Option 2: This feels more intuitive"
   ]
  },
  {
   "cell_type": "code",
   "execution_count": 8,
   "metadata": {},
   "outputs": [],
   "source": [
    "# drop non-numerical columns like id and date.\n",
    "y = data['price']\n",
    "X = data.drop(['price', 'id', 'date'], axis=1)\n"
   ]
  },
  {
   "cell_type": "code",
   "execution_count": 9,
   "metadata": {},
   "outputs": [],
   "source": [
    "from sklearn.model_selection import train_test_split\n",
    "\n",
    "X_train, X_test, y_train, y_test = train_test_split(X, y, test_size=0.2, random_state=55)"
   ]
  },
  {
   "cell_type": "code",
   "execution_count": 10,
   "metadata": {},
   "outputs": [
    {
     "data": {
      "text/html": [
       "<table class=\"simpletable\">\n",
       "<caption>OLS Regression Results</caption>\n",
       "<tr>\n",
       "  <th>Dep. Variable:</th>          <td>price</td>      <th>  R-squared:         </th>  <td>   0.730</td>  \n",
       "</tr>\n",
       "<tr>\n",
       "  <th>Model:</th>                   <td>OLS</td>       <th>  Adj. R-squared:    </th>  <td>   0.729</td>  \n",
       "</tr>\n",
       "<tr>\n",
       "  <th>Method:</th>             <td>Least Squares</td>  <th>  F-statistic:       </th>  <td>   896.2</td>  \n",
       "</tr>\n",
       "<tr>\n",
       "  <th>Date:</th>             <td>Wed, 06 Jan 2021</td> <th>  Prob (F-statistic):</th>   <td>  0.00</td>   \n",
       "</tr>\n",
       "<tr>\n",
       "  <th>Time:</th>                 <td>17:52:04</td>     <th>  Log-Likelihood:    </th> <td>-2.2434e+05</td>\n",
       "</tr>\n",
       "<tr>\n",
       "  <th>No. Observations:</th>      <td> 16952</td>      <th>  AIC:               </th>  <td>4.488e+05</td> \n",
       "</tr>\n",
       "<tr>\n",
       "  <th>Df Residuals:</th>          <td> 16900</td>      <th>  BIC:               </th>  <td>4.492e+05</td> \n",
       "</tr>\n",
       "<tr>\n",
       "  <th>Df Model:</th>              <td>    51</td>      <th>                     </th>      <td> </td>     \n",
       "</tr>\n",
       "<tr>\n",
       "  <th>Covariance Type:</th>      <td>nonrobust</td>    <th>                     </th>      <td> </td>     \n",
       "</tr>\n",
       "</table>\n",
       "<table class=\"simpletable\">\n",
       "<tr>\n",
       "            <td></td>              <th>coef</th>     <th>std err</th>      <th>t</th>      <th>P>|t|</th>  <th>[0.025</th>    <th>0.975]</th>  \n",
       "</tr>\n",
       "<tr>\n",
       "  <th>const</th>                <td>-2.233e+07</td> <td> 1.35e+06</td> <td>  -16.511</td> <td> 0.000</td> <td> -2.5e+07</td> <td>-1.97e+07</td>\n",
       "</tr>\n",
       "<tr>\n",
       "  <th>sqft_lot</th>             <td>    0.1354</td> <td>    0.038</td> <td>    3.594</td> <td> 0.000</td> <td>    0.062</td> <td>    0.209</td>\n",
       "</tr>\n",
       "<tr>\n",
       "  <th>sqft_above</th>           <td>   86.8607</td> <td>    3.102</td> <td>   28.002</td> <td> 0.000</td> <td>   80.780</td> <td>   92.941</td>\n",
       "</tr>\n",
       "<tr>\n",
       "  <th>sqft_basement</th>        <td>   79.3085</td> <td>    3.464</td> <td>   22.898</td> <td> 0.000</td> <td>   72.520</td> <td>   86.097</td>\n",
       "</tr>\n",
       "<tr>\n",
       "  <th>yr_built</th>             <td>-1499.5924</td> <td>   63.577</td> <td>  -23.587</td> <td> 0.000</td> <td>-1624.211</td> <td>-1374.974</td>\n",
       "</tr>\n",
       "<tr>\n",
       "  <th>yr_renovated</th>         <td>   25.2719</td> <td>    3.100</td> <td>    8.152</td> <td> 0.000</td> <td>   19.196</td> <td>   31.348</td>\n",
       "</tr>\n",
       "<tr>\n",
       "  <th>lat</th>                  <td> 5.391e+05</td> <td> 8511.061</td> <td>   63.343</td> <td> 0.000</td> <td> 5.22e+05</td> <td> 5.56e+05</td>\n",
       "</tr>\n",
       "<tr>\n",
       "  <th>long</th>                 <td>-1.887e+04</td> <td> 1.12e+04</td> <td>   -1.688</td> <td> 0.091</td> <td>-4.08e+04</td> <td> 3038.528</td>\n",
       "</tr>\n",
       "<tr>\n",
       "  <th>sqft_living15</th>        <td>   57.4243</td> <td>    2.802</td> <td>   20.497</td> <td> 0.000</td> <td>   51.933</td> <td>   62.916</td>\n",
       "</tr>\n",
       "<tr>\n",
       "  <th>sqft_lot15</th>           <td>   -0.1200</td> <td>    0.056</td> <td>   -2.140</td> <td> 0.032</td> <td>   -0.230</td> <td>   -0.010</td>\n",
       "</tr>\n",
       "<tr>\n",
       "  <th>bedro_2</th>              <td> 2.346e+04</td> <td> 1.13e+04</td> <td>    2.079</td> <td> 0.038</td> <td> 1345.934</td> <td> 4.56e+04</td>\n",
       "</tr>\n",
       "<tr>\n",
       "  <th>bedro_3</th>              <td> 1.638e+04</td> <td> 1.13e+04</td> <td>    1.449</td> <td> 0.147</td> <td>-5781.412</td> <td> 3.85e+04</td>\n",
       "</tr>\n",
       "<tr>\n",
       "  <th>bedro_4</th>              <td> 7226.1405</td> <td> 1.16e+04</td> <td>    0.624</td> <td> 0.533</td> <td>-1.55e+04</td> <td> 2.99e+04</td>\n",
       "</tr>\n",
       "<tr>\n",
       "  <th>bedro_5</th>              <td> 6191.8018</td> <td> 1.22e+04</td> <td>    0.506</td> <td> 0.613</td> <td>-1.78e+04</td> <td> 3.02e+04</td>\n",
       "</tr>\n",
       "<tr>\n",
       "  <th>bedro_6</th>              <td>-1.923e+04</td> <td> 1.52e+04</td> <td>   -1.264</td> <td> 0.206</td> <td>-4.91e+04</td> <td> 1.06e+04</td>\n",
       "</tr>\n",
       "<tr>\n",
       "  <th>bedro_7</th>              <td>-7.106e+04</td> <td> 2.95e+04</td> <td>   -2.409</td> <td> 0.016</td> <td>-1.29e+05</td> <td>-1.32e+04</td>\n",
       "</tr>\n",
       "<tr>\n",
       "  <th>bedro_8</th>              <td>-3.038e+04</td> <td> 6.18e+04</td> <td>   -0.492</td> <td> 0.623</td> <td>-1.52e+05</td> <td> 9.08e+04</td>\n",
       "</tr>\n",
       "<tr>\n",
       "  <th>bedro_9</th>              <td>  8.67e+04</td> <td> 5.95e+04</td> <td>    1.458</td> <td> 0.145</td> <td>-2.99e+04</td> <td> 2.03e+05</td>\n",
       "</tr>\n",
       "<tr>\n",
       "  <th>bedro_10</th>             <td> 8.772e+04</td> <td> 8.03e+04</td> <td>    1.092</td> <td> 0.275</td> <td>-6.97e+04</td> <td> 2.45e+05</td>\n",
       "</tr>\n",
       "<tr>\n",
       "  <th>bedro_11</th>             <td>-1.141e+05</td> <td> 1.36e+05</td> <td>   -0.838</td> <td> 0.402</td> <td>-3.81e+05</td> <td> 1.53e+05</td>\n",
       "</tr>\n",
       "<tr>\n",
       "  <th>bedro_33</th>             <td> 1.038e+05</td> <td> 1.36e+05</td> <td>    0.764</td> <td> 0.445</td> <td>-1.63e+05</td> <td>  3.7e+05</td>\n",
       "</tr>\n",
       "<tr>\n",
       "  <th>bathr_1_to_2</th>         <td> 1.579e+04</td> <td> 3682.575</td> <td>    4.288</td> <td> 0.000</td> <td> 8572.623</td> <td>  2.3e+04</td>\n",
       "</tr>\n",
       "<tr>\n",
       "  <th>bathr_2_to_3</th>         <td>  3.15e+04</td> <td> 4717.224</td> <td>    6.678</td> <td> 0.000</td> <td> 2.23e+04</td> <td> 4.07e+04</td>\n",
       "</tr>\n",
       "<tr>\n",
       "  <th>bathr_3_to_4</th>         <td> 9.248e+04</td> <td> 6994.907</td> <td>   13.222</td> <td> 0.000</td> <td> 7.88e+04</td> <td> 1.06e+05</td>\n",
       "</tr>\n",
       "<tr>\n",
       "  <th>bathr_4_to_5</th>         <td>  1.15e+05</td> <td> 1.46e+04</td> <td>    7.866</td> <td> 0.000</td> <td> 8.63e+04</td> <td> 1.44e+05</td>\n",
       "</tr>\n",
       "<tr>\n",
       "  <th>bathr_5_to_6</th>         <td> 3.876e+04</td> <td> 4.16e+04</td> <td>    0.933</td> <td> 0.351</td> <td>-4.27e+04</td> <td>  1.2e+05</td>\n",
       "</tr>\n",
       "<tr>\n",
       "  <th>bathr_6_plus</th>         <td>-3.021e+05</td> <td> 1.02e+05</td> <td>   -2.967</td> <td> 0.003</td> <td>-5.02e+05</td> <td>-1.03e+05</td>\n",
       "</tr>\n",
       "<tr>\n",
       "  <th>floor_15</th>             <td> 1.503e+04</td> <td> 4178.973</td> <td>    3.595</td> <td> 0.000</td> <td> 6833.969</td> <td> 2.32e+04</td>\n",
       "</tr>\n",
       "<tr>\n",
       "  <th>floor_20</th>             <td> 8795.3795</td> <td> 3590.579</td> <td>    2.450</td> <td> 0.014</td> <td> 1757.471</td> <td> 1.58e+04</td>\n",
       "</tr>\n",
       "<tr>\n",
       "  <th>floor_25</th>             <td> 6.273e+04</td> <td> 1.33e+04</td> <td>    4.719</td> <td> 0.000</td> <td> 3.67e+04</td> <td> 8.88e+04</td>\n",
       "</tr>\n",
       "<tr>\n",
       "  <th>floor_30</th>             <td> 2.962e+04</td> <td> 7624.918</td> <td>    3.884</td> <td> 0.000</td> <td> 1.47e+04</td> <td> 4.46e+04</td>\n",
       "</tr>\n",
       "<tr>\n",
       "  <th>floor_35</th>             <td> 6382.7298</td> <td> 7.84e+04</td> <td>    0.081</td> <td> 0.935</td> <td>-1.47e+05</td> <td>  1.6e+05</td>\n",
       "</tr>\n",
       "<tr>\n",
       "  <th>water_10</th>             <td> 2.407e+05</td> <td> 1.88e+04</td> <td>   12.802</td> <td> 0.000</td> <td> 2.04e+05</td> <td> 2.78e+05</td>\n",
       "</tr>\n",
       "<tr>\n",
       "  <th>view_10</th>              <td> 7.998e+04</td> <td> 9057.143</td> <td>    8.831</td> <td> 0.000</td> <td> 6.22e+04</td> <td> 9.77e+04</td>\n",
       "</tr>\n",
       "<tr>\n",
       "  <th>view_20</th>              <td> 6.753e+04</td> <td> 5302.534</td> <td>   12.736</td> <td> 0.000</td> <td> 5.71e+04</td> <td> 7.79e+04</td>\n",
       "</tr>\n",
       "<tr>\n",
       "  <th>view_30</th>              <td> 1.221e+05</td> <td> 7636.033</td> <td>   15.988</td> <td> 0.000</td> <td> 1.07e+05</td> <td> 1.37e+05</td>\n",
       "</tr>\n",
       "<tr>\n",
       "  <th>view_40</th>              <td> 1.639e+05</td> <td> 1.21e+04</td> <td>   13.499</td> <td> 0.000</td> <td>  1.4e+05</td> <td> 1.88e+05</td>\n",
       "</tr>\n",
       "<tr>\n",
       "  <th>condi_2</th>              <td>  2.66e+04</td> <td> 2.86e+04</td> <td>    0.929</td> <td> 0.353</td> <td>-2.95e+04</td> <td> 8.27e+04</td>\n",
       "</tr>\n",
       "<tr>\n",
       "  <th>condi_3</th>              <td> 5.283e+04</td> <td> 2.64e+04</td> <td>    2.002</td> <td> 0.045</td> <td> 1109.482</td> <td> 1.05e+05</td>\n",
       "</tr>\n",
       "<tr>\n",
       "  <th>condi_4</th>              <td> 8.701e+04</td> <td> 2.64e+04</td> <td>    3.297</td> <td> 0.001</td> <td> 3.53e+04</td> <td> 1.39e+05</td>\n",
       "</tr>\n",
       "<tr>\n",
       "  <th>condi_5</th>              <td> 1.277e+05</td> <td> 2.66e+04</td> <td>    4.805</td> <td> 0.000</td> <td> 7.56e+04</td> <td>  1.8e+05</td>\n",
       "</tr>\n",
       "<tr>\n",
       "  <th>grade_4</th>              <td>-2.692e+06</td> <td> 1.51e+05</td> <td>  -17.773</td> <td> 0.000</td> <td>-2.99e+06</td> <td>-2.39e+06</td>\n",
       "</tr>\n",
       "<tr>\n",
       "  <th>grade_5</th>              <td>-2.694e+06</td> <td>  1.5e+05</td> <td>  -17.995</td> <td> 0.000</td> <td>-2.99e+06</td> <td> -2.4e+06</td>\n",
       "</tr>\n",
       "<tr>\n",
       "  <th>grade_6</th>              <td>-2.674e+06</td> <td>  1.5e+05</td> <td>  -17.843</td> <td> 0.000</td> <td>-2.97e+06</td> <td>-2.38e+06</td>\n",
       "</tr>\n",
       "<tr>\n",
       "  <th>grade_7</th>              <td> -2.62e+06</td> <td>  1.5e+05</td> <td>  -17.438</td> <td> 0.000</td> <td>-2.91e+06</td> <td>-2.33e+06</td>\n",
       "</tr>\n",
       "<tr>\n",
       "  <th>grade_8</th>              <td>-2.542e+06</td> <td> 1.51e+05</td> <td>  -16.891</td> <td> 0.000</td> <td>-2.84e+06</td> <td>-2.25e+06</td>\n",
       "</tr>\n",
       "<tr>\n",
       "  <th>grade_9</th>              <td>-2.424e+06</td> <td> 1.51e+05</td> <td>  -16.089</td> <td> 0.000</td> <td>-2.72e+06</td> <td>-2.13e+06</td>\n",
       "</tr>\n",
       "<tr>\n",
       "  <th>grade_10</th>             <td>-2.324e+06</td> <td> 1.51e+05</td> <td>  -15.400</td> <td> 0.000</td> <td>-2.62e+06</td> <td>-2.03e+06</td>\n",
       "</tr>\n",
       "<tr>\n",
       "  <th>grade_11</th>             <td>-2.217e+06</td> <td> 1.51e+05</td> <td>  -14.657</td> <td> 0.000</td> <td>-2.51e+06</td> <td>-1.92e+06</td>\n",
       "</tr>\n",
       "<tr>\n",
       "  <th>grade_12</th>             <td>-2.138e+06</td> <td> 1.53e+05</td> <td>  -13.949</td> <td> 0.000</td> <td>-2.44e+06</td> <td>-1.84e+06</td>\n",
       "</tr>\n",
       "<tr>\n",
       "  <th>zipco_98051_to_98100</th> <td>-4.257e+04</td> <td> 2943.773</td> <td>  -14.461</td> <td> 0.000</td> <td>-4.83e+04</td> <td>-3.68e+04</td>\n",
       "</tr>\n",
       "<tr>\n",
       "  <th>zipco_98101_to_98150</th> <td> 2.817e+04</td> <td> 3976.565</td> <td>    7.084</td> <td> 0.000</td> <td> 2.04e+04</td> <td>  3.6e+04</td>\n",
       "</tr>\n",
       "<tr>\n",
       "  <th>zipco_98150_to_98200</th> <td> -6.16e+04</td> <td> 4372.721</td> <td>  -14.087</td> <td> 0.000</td> <td>-7.02e+04</td> <td> -5.3e+04</td>\n",
       "</tr>\n",
       "</table>\n",
       "<table class=\"simpletable\">\n",
       "<tr>\n",
       "  <th>Omnibus:</th>       <td>3783.818</td> <th>  Durbin-Watson:     </th> <td>   2.007</td> \n",
       "</tr>\n",
       "<tr>\n",
       "  <th>Prob(Omnibus):</th>  <td> 0.000</td>  <th>  Jarque-Bera (JB):  </th> <td>15972.511</td>\n",
       "</tr>\n",
       "<tr>\n",
       "  <th>Skew:</th>           <td> 1.044</td>  <th>  Prob(JB):          </th> <td>    0.00</td> \n",
       "</tr>\n",
       "<tr>\n",
       "  <th>Kurtosis:</th>       <td> 7.272</td>  <th>  Cond. No.          </th> <td>2.44e+15</td> \n",
       "</tr>\n",
       "</table><br/><br/>Notes:<br/>[1] Standard Errors assume that the covariance matrix of the errors is correctly specified.<br/>[2] The smallest eigenvalue is 6.59e-18. This might indicate that there are<br/>strong multicollinearity problems or that the design matrix is singular."
      ],
      "text/plain": [
       "<class 'statsmodels.iolib.summary.Summary'>\n",
       "\"\"\"\n",
       "                            OLS Regression Results                            \n",
       "==============================================================================\n",
       "Dep. Variable:                  price   R-squared:                       0.730\n",
       "Model:                            OLS   Adj. R-squared:                  0.729\n",
       "Method:                 Least Squares   F-statistic:                     896.2\n",
       "Date:                Wed, 06 Jan 2021   Prob (F-statistic):               0.00\n",
       "Time:                        17:52:04   Log-Likelihood:            -2.2434e+05\n",
       "No. Observations:               16952   AIC:                         4.488e+05\n",
       "Df Residuals:                   16900   BIC:                         4.492e+05\n",
       "Df Model:                          51                                         \n",
       "Covariance Type:            nonrobust                                         \n",
       "========================================================================================\n",
       "                           coef    std err          t      P>|t|      [0.025      0.975]\n",
       "----------------------------------------------------------------------------------------\n",
       "const                -2.233e+07   1.35e+06    -16.511      0.000    -2.5e+07   -1.97e+07\n",
       "sqft_lot                 0.1354      0.038      3.594      0.000       0.062       0.209\n",
       "sqft_above              86.8607      3.102     28.002      0.000      80.780      92.941\n",
       "sqft_basement           79.3085      3.464     22.898      0.000      72.520      86.097\n",
       "yr_built             -1499.5924     63.577    -23.587      0.000   -1624.211   -1374.974\n",
       "yr_renovated            25.2719      3.100      8.152      0.000      19.196      31.348\n",
       "lat                   5.391e+05   8511.061     63.343      0.000    5.22e+05    5.56e+05\n",
       "long                 -1.887e+04   1.12e+04     -1.688      0.091   -4.08e+04    3038.528\n",
       "sqft_living15           57.4243      2.802     20.497      0.000      51.933      62.916\n",
       "sqft_lot15              -0.1200      0.056     -2.140      0.032      -0.230      -0.010\n",
       "bedro_2               2.346e+04   1.13e+04      2.079      0.038    1345.934    4.56e+04\n",
       "bedro_3               1.638e+04   1.13e+04      1.449      0.147   -5781.412    3.85e+04\n",
       "bedro_4               7226.1405   1.16e+04      0.624      0.533   -1.55e+04    2.99e+04\n",
       "bedro_5               6191.8018   1.22e+04      0.506      0.613   -1.78e+04    3.02e+04\n",
       "bedro_6              -1.923e+04   1.52e+04     -1.264      0.206   -4.91e+04    1.06e+04\n",
       "bedro_7              -7.106e+04   2.95e+04     -2.409      0.016   -1.29e+05   -1.32e+04\n",
       "bedro_8              -3.038e+04   6.18e+04     -0.492      0.623   -1.52e+05    9.08e+04\n",
       "bedro_9                8.67e+04   5.95e+04      1.458      0.145   -2.99e+04    2.03e+05\n",
       "bedro_10              8.772e+04   8.03e+04      1.092      0.275   -6.97e+04    2.45e+05\n",
       "bedro_11             -1.141e+05   1.36e+05     -0.838      0.402   -3.81e+05    1.53e+05\n",
       "bedro_33              1.038e+05   1.36e+05      0.764      0.445   -1.63e+05     3.7e+05\n",
       "bathr_1_to_2          1.579e+04   3682.575      4.288      0.000    8572.623     2.3e+04\n",
       "bathr_2_to_3           3.15e+04   4717.224      6.678      0.000    2.23e+04    4.07e+04\n",
       "bathr_3_to_4          9.248e+04   6994.907     13.222      0.000    7.88e+04    1.06e+05\n",
       "bathr_4_to_5           1.15e+05   1.46e+04      7.866      0.000    8.63e+04    1.44e+05\n",
       "bathr_5_to_6          3.876e+04   4.16e+04      0.933      0.351   -4.27e+04     1.2e+05\n",
       "bathr_6_plus         -3.021e+05   1.02e+05     -2.967      0.003   -5.02e+05   -1.03e+05\n",
       "floor_15              1.503e+04   4178.973      3.595      0.000    6833.969    2.32e+04\n",
       "floor_20              8795.3795   3590.579      2.450      0.014    1757.471    1.58e+04\n",
       "floor_25              6.273e+04   1.33e+04      4.719      0.000    3.67e+04    8.88e+04\n",
       "floor_30              2.962e+04   7624.918      3.884      0.000    1.47e+04    4.46e+04\n",
       "floor_35              6382.7298   7.84e+04      0.081      0.935   -1.47e+05     1.6e+05\n",
       "water_10              2.407e+05   1.88e+04     12.802      0.000    2.04e+05    2.78e+05\n",
       "view_10               7.998e+04   9057.143      8.831      0.000    6.22e+04    9.77e+04\n",
       "view_20               6.753e+04   5302.534     12.736      0.000    5.71e+04    7.79e+04\n",
       "view_30               1.221e+05   7636.033     15.988      0.000    1.07e+05    1.37e+05\n",
       "view_40               1.639e+05   1.21e+04     13.499      0.000     1.4e+05    1.88e+05\n",
       "condi_2                2.66e+04   2.86e+04      0.929      0.353   -2.95e+04    8.27e+04\n",
       "condi_3               5.283e+04   2.64e+04      2.002      0.045    1109.482    1.05e+05\n",
       "condi_4               8.701e+04   2.64e+04      3.297      0.001    3.53e+04    1.39e+05\n",
       "condi_5               1.277e+05   2.66e+04      4.805      0.000    7.56e+04     1.8e+05\n",
       "grade_4              -2.692e+06   1.51e+05    -17.773      0.000   -2.99e+06   -2.39e+06\n",
       "grade_5              -2.694e+06    1.5e+05    -17.995      0.000   -2.99e+06    -2.4e+06\n",
       "grade_6              -2.674e+06    1.5e+05    -17.843      0.000   -2.97e+06   -2.38e+06\n",
       "grade_7               -2.62e+06    1.5e+05    -17.438      0.000   -2.91e+06   -2.33e+06\n",
       "grade_8              -2.542e+06   1.51e+05    -16.891      0.000   -2.84e+06   -2.25e+06\n",
       "grade_9              -2.424e+06   1.51e+05    -16.089      0.000   -2.72e+06   -2.13e+06\n",
       "grade_10             -2.324e+06   1.51e+05    -15.400      0.000   -2.62e+06   -2.03e+06\n",
       "grade_11             -2.217e+06   1.51e+05    -14.657      0.000   -2.51e+06   -1.92e+06\n",
       "grade_12             -2.138e+06   1.53e+05    -13.949      0.000   -2.44e+06   -1.84e+06\n",
       "zipco_98051_to_98100 -4.257e+04   2943.773    -14.461      0.000   -4.83e+04   -3.68e+04\n",
       "zipco_98101_to_98150  2.817e+04   3976.565      7.084      0.000    2.04e+04     3.6e+04\n",
       "zipco_98150_to_98200  -6.16e+04   4372.721    -14.087      0.000   -7.02e+04    -5.3e+04\n",
       "==============================================================================\n",
       "Omnibus:                     3783.818   Durbin-Watson:                   2.007\n",
       "Prob(Omnibus):                  0.000   Jarque-Bera (JB):            15972.511\n",
       "Skew:                           1.044   Prob(JB):                         0.00\n",
       "Kurtosis:                       7.272   Cond. No.                     2.44e+15\n",
       "==============================================================================\n",
       "\n",
       "Notes:\n",
       "[1] Standard Errors assume that the covariance matrix of the errors is correctly specified.\n",
       "[2] The smallest eigenvalue is 6.59e-18. This might indicate that there are\n",
       "strong multicollinearity problems or that the design matrix is singular.\n",
       "\"\"\""
      ]
     },
     "execution_count": 10,
     "metadata": {},
     "output_type": "execute_result"
    }
   ],
   "source": [
    "import statsmodels.api as sm\n",
    "X_int = sm.add_constant(X_train)\n",
    "model = sm.OLS(y_train, X_int).fit()\n",
    "model.summary()"
   ]
  },
  {
   "cell_type": "markdown",
   "metadata": {},
   "source": [
    "This initial model has an R-squared value of .73. Let's also look at the RMSE values to see how well our model works."
   ]
  },
  {
   "cell_type": "code",
   "execution_count": 11,
   "metadata": {
    "scrolled": true
   },
   "outputs": [
    {
     "data": {
      "text/plain": [
       "LinearRegression()"
      ]
     },
     "execution_count": 11,
     "metadata": {},
     "output_type": "execute_result"
    }
   ],
   "source": [
    "linreg = LinearRegression()\n",
    "linreg.fit(X_train, y_train)"
   ]
  },
  {
   "cell_type": "code",
   "execution_count": 12,
   "metadata": {},
   "outputs": [],
   "source": [
    "y_hat_train = linreg.predict(X_train)\n",
    "y_hat_test = linreg.predict(X_test)"
   ]
  },
  {
   "cell_type": "code",
   "execution_count": 13,
   "metadata": {},
   "outputs": [
    {
     "name": "stdout",
     "output_type": "stream",
     "text": [
      "RMSE Train: 135223.08948439363\n",
      "RMSE Test: 134376.47659722518\n"
     ]
    }
   ],
   "source": [
    "from sklearn.metrics import mean_squared_error\n",
    "mse_train = mean_squared_error(y_train, y_hat_train)\n",
    "mse_test = mean_squared_error(y_test, y_hat_test)\n",
    "print('RMSE Train:', np.sqrt(mse_train))\n",
    "print('RMSE Test:', np.sqrt(mse_test))"
   ]
  },
  {
   "cell_type": "markdown",
   "metadata": {},
   "source": [
    "This model has a decent root mean squared error value, and the train dataset RMSE is relatively close to the test set."
   ]
  },
  {
   "cell_type": "markdown",
   "metadata": {},
   "source": [
    "## Model 2: Remove statistically insignificant p-values"
   ]
  },
  {
   "cell_type": "markdown",
   "metadata": {},
   "source": [
    "Let's see if we can further refine our model. Looking at the p-values of each feature, it looks like a number of them are not statistically significant. Let's remove all features with p-values greater than 0.05."
   ]
  },
  {
   "cell_type": "code",
   "execution_count": 14,
   "metadata": {},
   "outputs": [],
   "source": [
    "summary = model.summary()\n",
    "p_table = summary.tables[1]\n",
    "p_table = pd.DataFrame(p_table.data)"
   ]
  },
  {
   "cell_type": "code",
   "execution_count": 15,
   "metadata": {},
   "outputs": [],
   "source": [
    "p_table.columns = p_table.iloc[0]"
   ]
  },
  {
   "cell_type": "code",
   "execution_count": 16,
   "metadata": {},
   "outputs": [],
   "source": [
    "p_table.drop(0, inplace=True)"
   ]
  },
  {
   "cell_type": "code",
   "execution_count": 17,
   "metadata": {},
   "outputs": [],
   "source": [
    "p_table.set_index(p_table.columns[0], inplace=True)"
   ]
  },
  {
   "cell_type": "code",
   "execution_count": 18,
   "metadata": {},
   "outputs": [
    {
     "data": {
      "text/html": [
       "<div>\n",
       "<style scoped>\n",
       "    .dataframe tbody tr th:only-of-type {\n",
       "        vertical-align: middle;\n",
       "    }\n",
       "\n",
       "    .dataframe tbody tr th {\n",
       "        vertical-align: top;\n",
       "    }\n",
       "\n",
       "    .dataframe thead th {\n",
       "        text-align: right;\n",
       "    }\n",
       "</style>\n",
       "<table border=\"1\" class=\"dataframe\">\n",
       "  <thead>\n",
       "    <tr style=\"text-align: right;\">\n",
       "      <th></th>\n",
       "      <th>coef</th>\n",
       "      <th>std err</th>\n",
       "      <th>t</th>\n",
       "      <th>P&gt;|t|</th>\n",
       "      <th>[0.025</th>\n",
       "      <th>0.975]</th>\n",
       "    </tr>\n",
       "    <tr>\n",
       "      <th></th>\n",
       "      <th></th>\n",
       "      <th></th>\n",
       "      <th></th>\n",
       "      <th></th>\n",
       "      <th></th>\n",
       "      <th></th>\n",
       "    </tr>\n",
       "  </thead>\n",
       "  <tbody>\n",
       "    <tr>\n",
       "      <th>const</th>\n",
       "      <td>-2.233e+07</td>\n",
       "      <td>1.35e+06</td>\n",
       "      <td>-16.511</td>\n",
       "      <td>0.000</td>\n",
       "      <td>-2.5e+07</td>\n",
       "      <td>-1.97e+07</td>\n",
       "    </tr>\n",
       "    <tr>\n",
       "      <th>sqft_lot</th>\n",
       "      <td>0.1354</td>\n",
       "      <td>0.038</td>\n",
       "      <td>3.594</td>\n",
       "      <td>0.000</td>\n",
       "      <td>0.062</td>\n",
       "      <td>0.209</td>\n",
       "    </tr>\n",
       "    <tr>\n",
       "      <th>sqft_above</th>\n",
       "      <td>86.8607</td>\n",
       "      <td>3.102</td>\n",
       "      <td>28.002</td>\n",
       "      <td>0.000</td>\n",
       "      <td>80.780</td>\n",
       "      <td>92.941</td>\n",
       "    </tr>\n",
       "    <tr>\n",
       "      <th>sqft_basement</th>\n",
       "      <td>79.3085</td>\n",
       "      <td>3.464</td>\n",
       "      <td>22.898</td>\n",
       "      <td>0.000</td>\n",
       "      <td>72.520</td>\n",
       "      <td>86.097</td>\n",
       "    </tr>\n",
       "    <tr>\n",
       "      <th>yr_built</th>\n",
       "      <td>-1499.5924</td>\n",
       "      <td>63.577</td>\n",
       "      <td>-23.587</td>\n",
       "      <td>0.000</td>\n",
       "      <td>-1624.211</td>\n",
       "      <td>-1374.974</td>\n",
       "    </tr>\n",
       "    <tr>\n",
       "      <th>yr_renovated</th>\n",
       "      <td>25.2719</td>\n",
       "      <td>3.100</td>\n",
       "      <td>8.152</td>\n",
       "      <td>0.000</td>\n",
       "      <td>19.196</td>\n",
       "      <td>31.348</td>\n",
       "    </tr>\n",
       "    <tr>\n",
       "      <th>lat</th>\n",
       "      <td>5.391e+05</td>\n",
       "      <td>8511.061</td>\n",
       "      <td>63.343</td>\n",
       "      <td>0.000</td>\n",
       "      <td>5.22e+05</td>\n",
       "      <td>5.56e+05</td>\n",
       "    </tr>\n",
       "    <tr>\n",
       "      <th>long</th>\n",
       "      <td>-1.887e+04</td>\n",
       "      <td>1.12e+04</td>\n",
       "      <td>-1.688</td>\n",
       "      <td>0.091</td>\n",
       "      <td>-4.08e+04</td>\n",
       "      <td>3038.528</td>\n",
       "    </tr>\n",
       "    <tr>\n",
       "      <th>sqft_living15</th>\n",
       "      <td>57.4243</td>\n",
       "      <td>2.802</td>\n",
       "      <td>20.497</td>\n",
       "      <td>0.000</td>\n",
       "      <td>51.933</td>\n",
       "      <td>62.916</td>\n",
       "    </tr>\n",
       "    <tr>\n",
       "      <th>sqft_lot15</th>\n",
       "      <td>-0.1200</td>\n",
       "      <td>0.056</td>\n",
       "      <td>-2.140</td>\n",
       "      <td>0.032</td>\n",
       "      <td>-0.230</td>\n",
       "      <td>-0.010</td>\n",
       "    </tr>\n",
       "    <tr>\n",
       "      <th>bedro_2</th>\n",
       "      <td>2.346e+04</td>\n",
       "      <td>1.13e+04</td>\n",
       "      <td>2.079</td>\n",
       "      <td>0.038</td>\n",
       "      <td>1345.934</td>\n",
       "      <td>4.56e+04</td>\n",
       "    </tr>\n",
       "    <tr>\n",
       "      <th>bedro_3</th>\n",
       "      <td>1.638e+04</td>\n",
       "      <td>1.13e+04</td>\n",
       "      <td>1.449</td>\n",
       "      <td>0.147</td>\n",
       "      <td>-5781.412</td>\n",
       "      <td>3.85e+04</td>\n",
       "    </tr>\n",
       "    <tr>\n",
       "      <th>bedro_4</th>\n",
       "      <td>7226.1405</td>\n",
       "      <td>1.16e+04</td>\n",
       "      <td>0.624</td>\n",
       "      <td>0.533</td>\n",
       "      <td>-1.55e+04</td>\n",
       "      <td>2.99e+04</td>\n",
       "    </tr>\n",
       "    <tr>\n",
       "      <th>bedro_5</th>\n",
       "      <td>6191.8018</td>\n",
       "      <td>1.22e+04</td>\n",
       "      <td>0.506</td>\n",
       "      <td>0.613</td>\n",
       "      <td>-1.78e+04</td>\n",
       "      <td>3.02e+04</td>\n",
       "    </tr>\n",
       "    <tr>\n",
       "      <th>bedro_6</th>\n",
       "      <td>-1.923e+04</td>\n",
       "      <td>1.52e+04</td>\n",
       "      <td>-1.264</td>\n",
       "      <td>0.206</td>\n",
       "      <td>-4.91e+04</td>\n",
       "      <td>1.06e+04</td>\n",
       "    </tr>\n",
       "    <tr>\n",
       "      <th>bedro_7</th>\n",
       "      <td>-7.106e+04</td>\n",
       "      <td>2.95e+04</td>\n",
       "      <td>-2.409</td>\n",
       "      <td>0.016</td>\n",
       "      <td>-1.29e+05</td>\n",
       "      <td>-1.32e+04</td>\n",
       "    </tr>\n",
       "    <tr>\n",
       "      <th>bedro_8</th>\n",
       "      <td>-3.038e+04</td>\n",
       "      <td>6.18e+04</td>\n",
       "      <td>-0.492</td>\n",
       "      <td>0.623</td>\n",
       "      <td>-1.52e+05</td>\n",
       "      <td>9.08e+04</td>\n",
       "    </tr>\n",
       "    <tr>\n",
       "      <th>bedro_9</th>\n",
       "      <td>8.67e+04</td>\n",
       "      <td>5.95e+04</td>\n",
       "      <td>1.458</td>\n",
       "      <td>0.145</td>\n",
       "      <td>-2.99e+04</td>\n",
       "      <td>2.03e+05</td>\n",
       "    </tr>\n",
       "    <tr>\n",
       "      <th>bedro_10</th>\n",
       "      <td>8.772e+04</td>\n",
       "      <td>8.03e+04</td>\n",
       "      <td>1.092</td>\n",
       "      <td>0.275</td>\n",
       "      <td>-6.97e+04</td>\n",
       "      <td>2.45e+05</td>\n",
       "    </tr>\n",
       "    <tr>\n",
       "      <th>bedro_11</th>\n",
       "      <td>-1.141e+05</td>\n",
       "      <td>1.36e+05</td>\n",
       "      <td>-0.838</td>\n",
       "      <td>0.402</td>\n",
       "      <td>-3.81e+05</td>\n",
       "      <td>1.53e+05</td>\n",
       "    </tr>\n",
       "    <tr>\n",
       "      <th>bedro_33</th>\n",
       "      <td>1.038e+05</td>\n",
       "      <td>1.36e+05</td>\n",
       "      <td>0.764</td>\n",
       "      <td>0.445</td>\n",
       "      <td>-1.63e+05</td>\n",
       "      <td>3.7e+05</td>\n",
       "    </tr>\n",
       "    <tr>\n",
       "      <th>bathr_1_to_2</th>\n",
       "      <td>1.579e+04</td>\n",
       "      <td>3682.575</td>\n",
       "      <td>4.288</td>\n",
       "      <td>0.000</td>\n",
       "      <td>8572.623</td>\n",
       "      <td>2.3e+04</td>\n",
       "    </tr>\n",
       "    <tr>\n",
       "      <th>bathr_2_to_3</th>\n",
       "      <td>3.15e+04</td>\n",
       "      <td>4717.224</td>\n",
       "      <td>6.678</td>\n",
       "      <td>0.000</td>\n",
       "      <td>2.23e+04</td>\n",
       "      <td>4.07e+04</td>\n",
       "    </tr>\n",
       "    <tr>\n",
       "      <th>bathr_3_to_4</th>\n",
       "      <td>9.248e+04</td>\n",
       "      <td>6994.907</td>\n",
       "      <td>13.222</td>\n",
       "      <td>0.000</td>\n",
       "      <td>7.88e+04</td>\n",
       "      <td>1.06e+05</td>\n",
       "    </tr>\n",
       "    <tr>\n",
       "      <th>bathr_4_to_5</th>\n",
       "      <td>1.15e+05</td>\n",
       "      <td>1.46e+04</td>\n",
       "      <td>7.866</td>\n",
       "      <td>0.000</td>\n",
       "      <td>8.63e+04</td>\n",
       "      <td>1.44e+05</td>\n",
       "    </tr>\n",
       "    <tr>\n",
       "      <th>bathr_5_to_6</th>\n",
       "      <td>3.876e+04</td>\n",
       "      <td>4.16e+04</td>\n",
       "      <td>0.933</td>\n",
       "      <td>0.351</td>\n",
       "      <td>-4.27e+04</td>\n",
       "      <td>1.2e+05</td>\n",
       "    </tr>\n",
       "    <tr>\n",
       "      <th>bathr_6_plus</th>\n",
       "      <td>-3.021e+05</td>\n",
       "      <td>1.02e+05</td>\n",
       "      <td>-2.967</td>\n",
       "      <td>0.003</td>\n",
       "      <td>-5.02e+05</td>\n",
       "      <td>-1.03e+05</td>\n",
       "    </tr>\n",
       "    <tr>\n",
       "      <th>floor_15</th>\n",
       "      <td>1.503e+04</td>\n",
       "      <td>4178.973</td>\n",
       "      <td>3.595</td>\n",
       "      <td>0.000</td>\n",
       "      <td>6833.969</td>\n",
       "      <td>2.32e+04</td>\n",
       "    </tr>\n",
       "    <tr>\n",
       "      <th>floor_20</th>\n",
       "      <td>8795.3795</td>\n",
       "      <td>3590.579</td>\n",
       "      <td>2.450</td>\n",
       "      <td>0.014</td>\n",
       "      <td>1757.471</td>\n",
       "      <td>1.58e+04</td>\n",
       "    </tr>\n",
       "    <tr>\n",
       "      <th>floor_25</th>\n",
       "      <td>6.273e+04</td>\n",
       "      <td>1.33e+04</td>\n",
       "      <td>4.719</td>\n",
       "      <td>0.000</td>\n",
       "      <td>3.67e+04</td>\n",
       "      <td>8.88e+04</td>\n",
       "    </tr>\n",
       "    <tr>\n",
       "      <th>floor_30</th>\n",
       "      <td>2.962e+04</td>\n",
       "      <td>7624.918</td>\n",
       "      <td>3.884</td>\n",
       "      <td>0.000</td>\n",
       "      <td>1.47e+04</td>\n",
       "      <td>4.46e+04</td>\n",
       "    </tr>\n",
       "    <tr>\n",
       "      <th>floor_35</th>\n",
       "      <td>6382.7298</td>\n",
       "      <td>7.84e+04</td>\n",
       "      <td>0.081</td>\n",
       "      <td>0.935</td>\n",
       "      <td>-1.47e+05</td>\n",
       "      <td>1.6e+05</td>\n",
       "    </tr>\n",
       "    <tr>\n",
       "      <th>water_10</th>\n",
       "      <td>2.407e+05</td>\n",
       "      <td>1.88e+04</td>\n",
       "      <td>12.802</td>\n",
       "      <td>0.000</td>\n",
       "      <td>2.04e+05</td>\n",
       "      <td>2.78e+05</td>\n",
       "    </tr>\n",
       "    <tr>\n",
       "      <th>view_10</th>\n",
       "      <td>7.998e+04</td>\n",
       "      <td>9057.143</td>\n",
       "      <td>8.831</td>\n",
       "      <td>0.000</td>\n",
       "      <td>6.22e+04</td>\n",
       "      <td>9.77e+04</td>\n",
       "    </tr>\n",
       "    <tr>\n",
       "      <th>view_20</th>\n",
       "      <td>6.753e+04</td>\n",
       "      <td>5302.534</td>\n",
       "      <td>12.736</td>\n",
       "      <td>0.000</td>\n",
       "      <td>5.71e+04</td>\n",
       "      <td>7.79e+04</td>\n",
       "    </tr>\n",
       "    <tr>\n",
       "      <th>view_30</th>\n",
       "      <td>1.221e+05</td>\n",
       "      <td>7636.033</td>\n",
       "      <td>15.988</td>\n",
       "      <td>0.000</td>\n",
       "      <td>1.07e+05</td>\n",
       "      <td>1.37e+05</td>\n",
       "    </tr>\n",
       "    <tr>\n",
       "      <th>view_40</th>\n",
       "      <td>1.639e+05</td>\n",
       "      <td>1.21e+04</td>\n",
       "      <td>13.499</td>\n",
       "      <td>0.000</td>\n",
       "      <td>1.4e+05</td>\n",
       "      <td>1.88e+05</td>\n",
       "    </tr>\n",
       "    <tr>\n",
       "      <th>condi_2</th>\n",
       "      <td>2.66e+04</td>\n",
       "      <td>2.86e+04</td>\n",
       "      <td>0.929</td>\n",
       "      <td>0.353</td>\n",
       "      <td>-2.95e+04</td>\n",
       "      <td>8.27e+04</td>\n",
       "    </tr>\n",
       "    <tr>\n",
       "      <th>condi_3</th>\n",
       "      <td>5.283e+04</td>\n",
       "      <td>2.64e+04</td>\n",
       "      <td>2.002</td>\n",
       "      <td>0.045</td>\n",
       "      <td>1109.482</td>\n",
       "      <td>1.05e+05</td>\n",
       "    </tr>\n",
       "    <tr>\n",
       "      <th>condi_4</th>\n",
       "      <td>8.701e+04</td>\n",
       "      <td>2.64e+04</td>\n",
       "      <td>3.297</td>\n",
       "      <td>0.001</td>\n",
       "      <td>3.53e+04</td>\n",
       "      <td>1.39e+05</td>\n",
       "    </tr>\n",
       "    <tr>\n",
       "      <th>condi_5</th>\n",
       "      <td>1.277e+05</td>\n",
       "      <td>2.66e+04</td>\n",
       "      <td>4.805</td>\n",
       "      <td>0.000</td>\n",
       "      <td>7.56e+04</td>\n",
       "      <td>1.8e+05</td>\n",
       "    </tr>\n",
       "    <tr>\n",
       "      <th>grade_4</th>\n",
       "      <td>-2.692e+06</td>\n",
       "      <td>1.51e+05</td>\n",
       "      <td>-17.773</td>\n",
       "      <td>0.000</td>\n",
       "      <td>-2.99e+06</td>\n",
       "      <td>-2.39e+06</td>\n",
       "    </tr>\n",
       "    <tr>\n",
       "      <th>grade_5</th>\n",
       "      <td>-2.694e+06</td>\n",
       "      <td>1.5e+05</td>\n",
       "      <td>-17.995</td>\n",
       "      <td>0.000</td>\n",
       "      <td>-2.99e+06</td>\n",
       "      <td>-2.4e+06</td>\n",
       "    </tr>\n",
       "    <tr>\n",
       "      <th>grade_6</th>\n",
       "      <td>-2.674e+06</td>\n",
       "      <td>1.5e+05</td>\n",
       "      <td>-17.843</td>\n",
       "      <td>0.000</td>\n",
       "      <td>-2.97e+06</td>\n",
       "      <td>-2.38e+06</td>\n",
       "    </tr>\n",
       "    <tr>\n",
       "      <th>grade_7</th>\n",
       "      <td>-2.62e+06</td>\n",
       "      <td>1.5e+05</td>\n",
       "      <td>-17.438</td>\n",
       "      <td>0.000</td>\n",
       "      <td>-2.91e+06</td>\n",
       "      <td>-2.33e+06</td>\n",
       "    </tr>\n",
       "    <tr>\n",
       "      <th>grade_8</th>\n",
       "      <td>-2.542e+06</td>\n",
       "      <td>1.51e+05</td>\n",
       "      <td>-16.891</td>\n",
       "      <td>0.000</td>\n",
       "      <td>-2.84e+06</td>\n",
       "      <td>-2.25e+06</td>\n",
       "    </tr>\n",
       "    <tr>\n",
       "      <th>grade_9</th>\n",
       "      <td>-2.424e+06</td>\n",
       "      <td>1.51e+05</td>\n",
       "      <td>-16.089</td>\n",
       "      <td>0.000</td>\n",
       "      <td>-2.72e+06</td>\n",
       "      <td>-2.13e+06</td>\n",
       "    </tr>\n",
       "    <tr>\n",
       "      <th>grade_10</th>\n",
       "      <td>-2.324e+06</td>\n",
       "      <td>1.51e+05</td>\n",
       "      <td>-15.400</td>\n",
       "      <td>0.000</td>\n",
       "      <td>-2.62e+06</td>\n",
       "      <td>-2.03e+06</td>\n",
       "    </tr>\n",
       "    <tr>\n",
       "      <th>grade_11</th>\n",
       "      <td>-2.217e+06</td>\n",
       "      <td>1.51e+05</td>\n",
       "      <td>-14.657</td>\n",
       "      <td>0.000</td>\n",
       "      <td>-2.51e+06</td>\n",
       "      <td>-1.92e+06</td>\n",
       "    </tr>\n",
       "    <tr>\n",
       "      <th>grade_12</th>\n",
       "      <td>-2.138e+06</td>\n",
       "      <td>1.53e+05</td>\n",
       "      <td>-13.949</td>\n",
       "      <td>0.000</td>\n",
       "      <td>-2.44e+06</td>\n",
       "      <td>-1.84e+06</td>\n",
       "    </tr>\n",
       "    <tr>\n",
       "      <th>zipco_98051_to_98100</th>\n",
       "      <td>-4.257e+04</td>\n",
       "      <td>2943.773</td>\n",
       "      <td>-14.461</td>\n",
       "      <td>0.000</td>\n",
       "      <td>-4.83e+04</td>\n",
       "      <td>-3.68e+04</td>\n",
       "    </tr>\n",
       "    <tr>\n",
       "      <th>zipco_98101_to_98150</th>\n",
       "      <td>2.817e+04</td>\n",
       "      <td>3976.565</td>\n",
       "      <td>7.084</td>\n",
       "      <td>0.000</td>\n",
       "      <td>2.04e+04</td>\n",
       "      <td>3.6e+04</td>\n",
       "    </tr>\n",
       "    <tr>\n",
       "      <th>zipco_98150_to_98200</th>\n",
       "      <td>-6.16e+04</td>\n",
       "      <td>4372.721</td>\n",
       "      <td>-14.087</td>\n",
       "      <td>0.000</td>\n",
       "      <td>-7.02e+04</td>\n",
       "      <td>-5.3e+04</td>\n",
       "    </tr>\n",
       "  </tbody>\n",
       "</table>\n",
       "</div>"
      ],
      "text/plain": [
       "0                           coef    std err          t   P>|t|     [0.025  \\\n",
       "                                                                            \n",
       "const                 -2.233e+07   1.35e+06    -16.511   0.000   -2.5e+07   \n",
       "sqft_lot                  0.1354      0.038      3.594   0.000      0.062   \n",
       "sqft_above               86.8607      3.102     28.002   0.000     80.780   \n",
       "sqft_basement            79.3085      3.464     22.898   0.000     72.520   \n",
       "yr_built              -1499.5924     63.577    -23.587   0.000  -1624.211   \n",
       "yr_renovated             25.2719      3.100      8.152   0.000     19.196   \n",
       "lat                    5.391e+05   8511.061     63.343   0.000   5.22e+05   \n",
       "long                  -1.887e+04   1.12e+04     -1.688   0.091  -4.08e+04   \n",
       "sqft_living15            57.4243      2.802     20.497   0.000     51.933   \n",
       "sqft_lot15               -0.1200      0.056     -2.140   0.032     -0.230   \n",
       "bedro_2                2.346e+04   1.13e+04      2.079   0.038   1345.934   \n",
       "bedro_3                1.638e+04   1.13e+04      1.449   0.147  -5781.412   \n",
       "bedro_4                7226.1405   1.16e+04      0.624   0.533  -1.55e+04   \n",
       "bedro_5                6191.8018   1.22e+04      0.506   0.613  -1.78e+04   \n",
       "bedro_6               -1.923e+04   1.52e+04     -1.264   0.206  -4.91e+04   \n",
       "bedro_7               -7.106e+04   2.95e+04     -2.409   0.016  -1.29e+05   \n",
       "bedro_8               -3.038e+04   6.18e+04     -0.492   0.623  -1.52e+05   \n",
       "bedro_9                 8.67e+04   5.95e+04      1.458   0.145  -2.99e+04   \n",
       "bedro_10               8.772e+04   8.03e+04      1.092   0.275  -6.97e+04   \n",
       "bedro_11              -1.141e+05   1.36e+05     -0.838   0.402  -3.81e+05   \n",
       "bedro_33               1.038e+05   1.36e+05      0.764   0.445  -1.63e+05   \n",
       "bathr_1_to_2           1.579e+04   3682.575      4.288   0.000   8572.623   \n",
       "bathr_2_to_3            3.15e+04   4717.224      6.678   0.000   2.23e+04   \n",
       "bathr_3_to_4           9.248e+04   6994.907     13.222   0.000   7.88e+04   \n",
       "bathr_4_to_5            1.15e+05   1.46e+04      7.866   0.000   8.63e+04   \n",
       "bathr_5_to_6           3.876e+04   4.16e+04      0.933   0.351  -4.27e+04   \n",
       "bathr_6_plus          -3.021e+05   1.02e+05     -2.967   0.003  -5.02e+05   \n",
       "floor_15               1.503e+04   4178.973      3.595   0.000   6833.969   \n",
       "floor_20               8795.3795   3590.579      2.450   0.014   1757.471   \n",
       "floor_25               6.273e+04   1.33e+04      4.719   0.000   3.67e+04   \n",
       "floor_30               2.962e+04   7624.918      3.884   0.000   1.47e+04   \n",
       "floor_35               6382.7298   7.84e+04      0.081   0.935  -1.47e+05   \n",
       "water_10               2.407e+05   1.88e+04     12.802   0.000   2.04e+05   \n",
       "view_10                7.998e+04   9057.143      8.831   0.000   6.22e+04   \n",
       "view_20                6.753e+04   5302.534     12.736   0.000   5.71e+04   \n",
       "view_30                1.221e+05   7636.033     15.988   0.000   1.07e+05   \n",
       "view_40                1.639e+05   1.21e+04     13.499   0.000    1.4e+05   \n",
       "condi_2                 2.66e+04   2.86e+04      0.929   0.353  -2.95e+04   \n",
       "condi_3                5.283e+04   2.64e+04      2.002   0.045   1109.482   \n",
       "condi_4                8.701e+04   2.64e+04      3.297   0.001   3.53e+04   \n",
       "condi_5                1.277e+05   2.66e+04      4.805   0.000   7.56e+04   \n",
       "grade_4               -2.692e+06   1.51e+05    -17.773   0.000  -2.99e+06   \n",
       "grade_5               -2.694e+06    1.5e+05    -17.995   0.000  -2.99e+06   \n",
       "grade_6               -2.674e+06    1.5e+05    -17.843   0.000  -2.97e+06   \n",
       "grade_7                -2.62e+06    1.5e+05    -17.438   0.000  -2.91e+06   \n",
       "grade_8               -2.542e+06   1.51e+05    -16.891   0.000  -2.84e+06   \n",
       "grade_9               -2.424e+06   1.51e+05    -16.089   0.000  -2.72e+06   \n",
       "grade_10              -2.324e+06   1.51e+05    -15.400   0.000  -2.62e+06   \n",
       "grade_11              -2.217e+06   1.51e+05    -14.657   0.000  -2.51e+06   \n",
       "grade_12              -2.138e+06   1.53e+05    -13.949   0.000  -2.44e+06   \n",
       "zipco_98051_to_98100  -4.257e+04   2943.773    -14.461   0.000  -4.83e+04   \n",
       "zipco_98101_to_98150   2.817e+04   3976.565      7.084   0.000   2.04e+04   \n",
       "zipco_98150_to_98200   -6.16e+04   4372.721    -14.087   0.000  -7.02e+04   \n",
       "\n",
       "0                        0.975]  \n",
       "                                 \n",
       "const                 -1.97e+07  \n",
       "sqft_lot                  0.209  \n",
       "sqft_above               92.941  \n",
       "sqft_basement            86.097  \n",
       "yr_built              -1374.974  \n",
       "yr_renovated             31.348  \n",
       "lat                    5.56e+05  \n",
       "long                   3038.528  \n",
       "sqft_living15            62.916  \n",
       "sqft_lot15               -0.010  \n",
       "bedro_2                4.56e+04  \n",
       "bedro_3                3.85e+04  \n",
       "bedro_4                2.99e+04  \n",
       "bedro_5                3.02e+04  \n",
       "bedro_6                1.06e+04  \n",
       "bedro_7               -1.32e+04  \n",
       "bedro_8                9.08e+04  \n",
       "bedro_9                2.03e+05  \n",
       "bedro_10               2.45e+05  \n",
       "bedro_11               1.53e+05  \n",
       "bedro_33                3.7e+05  \n",
       "bathr_1_to_2            2.3e+04  \n",
       "bathr_2_to_3           4.07e+04  \n",
       "bathr_3_to_4           1.06e+05  \n",
       "bathr_4_to_5           1.44e+05  \n",
       "bathr_5_to_6            1.2e+05  \n",
       "bathr_6_plus          -1.03e+05  \n",
       "floor_15               2.32e+04  \n",
       "floor_20               1.58e+04  \n",
       "floor_25               8.88e+04  \n",
       "floor_30               4.46e+04  \n",
       "floor_35                1.6e+05  \n",
       "water_10               2.78e+05  \n",
       "view_10                9.77e+04  \n",
       "view_20                7.79e+04  \n",
       "view_30                1.37e+05  \n",
       "view_40                1.88e+05  \n",
       "condi_2                8.27e+04  \n",
       "condi_3                1.05e+05  \n",
       "condi_4                1.39e+05  \n",
       "condi_5                 1.8e+05  \n",
       "grade_4               -2.39e+06  \n",
       "grade_5                -2.4e+06  \n",
       "grade_6               -2.38e+06  \n",
       "grade_7               -2.33e+06  \n",
       "grade_8               -2.25e+06  \n",
       "grade_9               -2.13e+06  \n",
       "grade_10              -2.03e+06  \n",
       "grade_11              -1.92e+06  \n",
       "grade_12              -1.84e+06  \n",
       "zipco_98051_to_98100  -3.68e+04  \n",
       "zipco_98101_to_98150    3.6e+04  \n",
       "zipco_98150_to_98200   -5.3e+04  "
      ]
     },
     "execution_count": 18,
     "metadata": {},
     "output_type": "execute_result"
    }
   ],
   "source": [
    "p_table"
   ]
  },
  {
   "cell_type": "code",
   "execution_count": 19,
   "metadata": {},
   "outputs": [
    {
     "name": "stdout",
     "output_type": "stream",
     "text": [
      "<class 'pandas.core.frame.DataFrame'>\n",
      "Index: 53 entries, const to zipco_98150_to_98200\n",
      "Data columns (total 6 columns):\n",
      " #   Column   Non-Null Count  Dtype \n",
      "---  ------   --------------  ----- \n",
      " 0   coef     53 non-null     object\n",
      " 1   std err  53 non-null     object\n",
      " 2   t        53 non-null     object\n",
      " 3   P>|t|    53 non-null     object\n",
      " 4   [0.025   53 non-null     object\n",
      " 5   0.975]   53 non-null     object\n",
      "dtypes: object(6)\n",
      "memory usage: 2.9+ KB\n"
     ]
    }
   ],
   "source": [
    "p_table.info()"
   ]
  },
  {
   "cell_type": "code",
   "execution_count": 20,
   "metadata": {},
   "outputs": [],
   "source": [
    "p_table['P>|t|'] = p_table['P>|t|'].astype(float)"
   ]
  },
  {
   "cell_type": "code",
   "execution_count": 21,
   "metadata": {
    "scrolled": true
   },
   "outputs": [
    {
     "data": {
      "text/plain": [
       "['const',\n",
       " 'sqft_lot',\n",
       " 'sqft_above',\n",
       " 'sqft_basement',\n",
       " 'yr_built',\n",
       " 'yr_renovated',\n",
       " 'lat',\n",
       " 'sqft_living15',\n",
       " 'sqft_lot15',\n",
       " 'bedro_2',\n",
       " 'bedro_7',\n",
       " 'bathr_1_to_2',\n",
       " 'bathr_2_to_3',\n",
       " 'bathr_3_to_4',\n",
       " 'bathr_4_to_5',\n",
       " 'bathr_6_plus',\n",
       " 'floor_15',\n",
       " 'floor_20',\n",
       " 'floor_25',\n",
       " 'floor_30',\n",
       " 'water_10',\n",
       " 'view_10',\n",
       " 'view_20',\n",
       " 'view_30',\n",
       " 'view_40',\n",
       " 'condi_3',\n",
       " 'condi_4',\n",
       " 'condi_5',\n",
       " 'grade_4',\n",
       " 'grade_5',\n",
       " 'grade_6',\n",
       " 'grade_7',\n",
       " 'grade_8',\n",
       " 'grade_9',\n",
       " 'grade_10',\n",
       " 'grade_11',\n",
       " 'grade_12',\n",
       " 'zipco_98051_to_98100',\n",
       " 'zipco_98101_to_98150',\n",
       " 'zipco_98150_to_98200']"
      ]
     },
     "execution_count": 21,
     "metadata": {},
     "output_type": "execute_result"
    }
   ],
   "source": [
    "new_x_cols = list(p_table[p_table['P>|t|']<0.05].index)\n",
    "new_x_cols"
   ]
  },
  {
   "cell_type": "code",
   "execution_count": 22,
   "metadata": {},
   "outputs": [],
   "source": [
    "new_x_cols.remove('const')"
   ]
  },
  {
   "cell_type": "code",
   "execution_count": 24,
   "metadata": {
    "scrolled": true
   },
   "outputs": [
    {
     "name": "stdout",
     "output_type": "stream",
     "text": [
      "52 39\n"
     ]
    }
   ],
   "source": [
    "print(len(X.columns), len(new_x_cols))"
   ]
  },
  {
   "cell_type": "code",
   "execution_count": 25,
   "metadata": {
    "scrolled": false
   },
   "outputs": [
    {
     "data": {
      "text/html": [
       "<table class=\"simpletable\">\n",
       "<caption>OLS Regression Results</caption>\n",
       "<tr>\n",
       "  <th>Dep. Variable:</th>          <td>price</td>      <th>  R-squared:         </th>  <td>   0.729</td>  \n",
       "</tr>\n",
       "<tr>\n",
       "  <th>Model:</th>                   <td>OLS</td>       <th>  Adj. R-squared:    </th>  <td>   0.728</td>  \n",
       "</tr>\n",
       "<tr>\n",
       "  <th>Method:</th>             <td>Least Squares</td>  <th>  F-statistic:       </th>  <td>   1165.</td>  \n",
       "</tr>\n",
       "<tr>\n",
       "  <th>Date:</th>             <td>Wed, 06 Jan 2021</td> <th>  Prob (F-statistic):</th>   <td>  0.00</td>   \n",
       "</tr>\n",
       "<tr>\n",
       "  <th>Time:</th>                 <td>17:53:11</td>     <th>  Log-Likelihood:    </th> <td>-2.2429e+05</td>\n",
       "</tr>\n",
       "<tr>\n",
       "  <th>No. Observations:</th>      <td> 16952</td>      <th>  AIC:               </th>  <td>4.487e+05</td> \n",
       "</tr>\n",
       "<tr>\n",
       "  <th>Df Residuals:</th>          <td> 16912</td>      <th>  BIC:               </th>  <td>4.490e+05</td> \n",
       "</tr>\n",
       "<tr>\n",
       "  <th>Df Model:</th>              <td>    39</td>      <th>                     </th>      <td> </td>     \n",
       "</tr>\n",
       "<tr>\n",
       "  <th>Covariance Type:</th>      <td>nonrobust</td>    <th>                     </th>      <td> </td>     \n",
       "</tr>\n",
       "</table>\n",
       "<table class=\"simpletable\">\n",
       "<tr>\n",
       "            <td></td>              <th>coef</th>     <th>std err</th>      <th>t</th>      <th>P>|t|</th>  <th>[0.025</th>    <th>0.975]</th>  \n",
       "</tr>\n",
       "<tr>\n",
       "  <th>const</th>                <td>-2.275e+07</td> <td> 4.49e+05</td> <td>  -50.716</td> <td> 0.000</td> <td>-2.36e+07</td> <td>-2.19e+07</td>\n",
       "</tr>\n",
       "<tr>\n",
       "  <th>sqft_lot</th>             <td>    0.1269</td> <td>    0.037</td> <td>    3.445</td> <td> 0.001</td> <td>    0.055</td> <td>    0.199</td>\n",
       "</tr>\n",
       "<tr>\n",
       "  <th>sqft_above</th>           <td>   83.7395</td> <td>    2.906</td> <td>   28.819</td> <td> 0.000</td> <td>   78.044</td> <td>   89.435</td>\n",
       "</tr>\n",
       "<tr>\n",
       "  <th>sqft_basement</th>        <td>   76.0517</td> <td>    3.289</td> <td>   23.125</td> <td> 0.000</td> <td>   69.606</td> <td>   82.498</td>\n",
       "</tr>\n",
       "<tr>\n",
       "  <th>yr_built</th>             <td>-1479.0682</td> <td>   62.819</td> <td>  -23.545</td> <td> 0.000</td> <td>-1602.200</td> <td>-1355.937</td>\n",
       "</tr>\n",
       "<tr>\n",
       "  <th>yr_renovated</th>         <td>   28.1887</td> <td>    3.130</td> <td>    9.007</td> <td> 0.000</td> <td>   22.054</td> <td>   34.323</td>\n",
       "</tr>\n",
       "<tr>\n",
       "  <th>lat</th>                  <td>  5.43e+05</td> <td> 8416.672</td> <td>   64.516</td> <td> 0.000</td> <td> 5.27e+05</td> <td>  5.6e+05</td>\n",
       "</tr>\n",
       "<tr>\n",
       "  <th>sqft_living15</th>        <td>   54.3238</td> <td>    2.808</td> <td>   19.348</td> <td> 0.000</td> <td>   48.820</td> <td>   59.827</td>\n",
       "</tr>\n",
       "<tr>\n",
       "  <th>sqft_lot15</th>           <td>   -0.0827</td> <td>    0.056</td> <td>   -1.475</td> <td> 0.140</td> <td>   -0.193</td> <td>    0.027</td>\n",
       "</tr>\n",
       "<tr>\n",
       "  <th>bedro_2</th>              <td> 1.302e+04</td> <td> 3544.155</td> <td>    3.673</td> <td> 0.000</td> <td> 6070.115</td> <td>    2e+04</td>\n",
       "</tr>\n",
       "<tr>\n",
       "  <th>bedro_7</th>              <td>-8.025e+04</td> <td> 2.62e+04</td> <td>   -3.063</td> <td> 0.002</td> <td>-1.32e+05</td> <td>-2.89e+04</td>\n",
       "</tr>\n",
       "<tr>\n",
       "  <th>bathr_1_to_2</th>         <td> 1.633e+04</td> <td> 3634.408</td> <td>    4.493</td> <td> 0.000</td> <td> 9204.110</td> <td> 2.35e+04</td>\n",
       "</tr>\n",
       "<tr>\n",
       "  <th>bathr_2_to_3</th>         <td> 3.218e+04</td> <td> 4625.541</td> <td>    6.957</td> <td> 0.000</td> <td> 2.31e+04</td> <td> 4.12e+04</td>\n",
       "</tr>\n",
       "<tr>\n",
       "  <th>bathr_3_to_4</th>         <td> 9.807e+04</td> <td> 6857.362</td> <td>   14.302</td> <td> 0.000</td> <td> 8.46e+04</td> <td> 1.12e+05</td>\n",
       "</tr>\n",
       "<tr>\n",
       "  <th>bathr_4_to_5</th>         <td> 1.031e+05</td> <td> 1.43e+04</td> <td>    7.193</td> <td> 0.000</td> <td>  7.5e+04</td> <td> 1.31e+05</td>\n",
       "</tr>\n",
       "<tr>\n",
       "  <th>bathr_6_plus</th>         <td>-1.674e+04</td> <td>  9.6e+04</td> <td>   -0.174</td> <td> 0.862</td> <td>-2.05e+05</td> <td> 1.71e+05</td>\n",
       "</tr>\n",
       "<tr>\n",
       "  <th>floor_15</th>             <td> 1.719e+04</td> <td> 4208.921</td> <td>    4.083</td> <td> 0.000</td> <td> 8935.556</td> <td> 2.54e+04</td>\n",
       "</tr>\n",
       "<tr>\n",
       "  <th>floor_20</th>             <td> 7081.3564</td> <td> 3552.153</td> <td>    1.994</td> <td> 0.046</td> <td>  118.766</td> <td>  1.4e+04</td>\n",
       "</tr>\n",
       "<tr>\n",
       "  <th>floor_25</th>             <td> 8.306e+04</td> <td> 1.31e+04</td> <td>    6.322</td> <td> 0.000</td> <td> 5.73e+04</td> <td> 1.09e+05</td>\n",
       "</tr>\n",
       "<tr>\n",
       "  <th>floor_30</th>             <td>  2.81e+04</td> <td> 7541.767</td> <td>    3.726</td> <td> 0.000</td> <td> 1.33e+04</td> <td> 4.29e+04</td>\n",
       "</tr>\n",
       "<tr>\n",
       "  <th>water_10</th>             <td> 2.449e+05</td> <td> 1.94e+04</td> <td>   12.596</td> <td> 0.000</td> <td> 2.07e+05</td> <td> 2.83e+05</td>\n",
       "</tr>\n",
       "<tr>\n",
       "  <th>view_10</th>              <td> 8.549e+04</td> <td> 8528.784</td> <td>   10.024</td> <td> 0.000</td> <td> 6.88e+04</td> <td> 1.02e+05</td>\n",
       "</tr>\n",
       "<tr>\n",
       "  <th>view_20</th>              <td> 6.487e+04</td> <td> 5328.149</td> <td>   12.174</td> <td> 0.000</td> <td> 5.44e+04</td> <td> 7.53e+04</td>\n",
       "</tr>\n",
       "<tr>\n",
       "  <th>view_30</th>              <td> 1.205e+05</td> <td> 7474.328</td> <td>   16.128</td> <td> 0.000</td> <td> 1.06e+05</td> <td> 1.35e+05</td>\n",
       "</tr>\n",
       "<tr>\n",
       "  <th>view_40</th>              <td> 1.602e+05</td> <td> 1.22e+04</td> <td>   13.089</td> <td> 0.000</td> <td> 1.36e+05</td> <td> 1.84e+05</td>\n",
       "</tr>\n",
       "<tr>\n",
       "  <th>condi_3</th>              <td> 2.488e+04</td> <td> 1.11e+04</td> <td>    2.241</td> <td> 0.025</td> <td> 3118.427</td> <td> 4.66e+04</td>\n",
       "</tr>\n",
       "<tr>\n",
       "  <th>condi_4</th>              <td> 5.855e+04</td> <td> 1.12e+04</td> <td>    5.250</td> <td> 0.000</td> <td> 3.67e+04</td> <td> 8.04e+04</td>\n",
       "</tr>\n",
       "<tr>\n",
       "  <th>condi_5</th>              <td> 9.652e+04</td> <td> 1.16e+04</td> <td>    8.318</td> <td> 0.000</td> <td> 7.38e+04</td> <td> 1.19e+05</td>\n",
       "</tr>\n",
       "<tr>\n",
       "  <th>grade_4</th>              <td>-1.612e+05</td> <td> 1.38e+05</td> <td>   -1.168</td> <td> 0.243</td> <td>-4.32e+05</td> <td> 1.09e+05</td>\n",
       "</tr>\n",
       "<tr>\n",
       "  <th>grade_5</th>              <td>-1.514e+05</td> <td> 1.35e+05</td> <td>   -1.118</td> <td> 0.264</td> <td>-4.17e+05</td> <td> 1.14e+05</td>\n",
       "</tr>\n",
       "<tr>\n",
       "  <th>grade_6</th>              <td>-1.269e+05</td> <td> 1.35e+05</td> <td>   -0.939</td> <td> 0.348</td> <td>-3.92e+05</td> <td> 1.38e+05</td>\n",
       "</tr>\n",
       "<tr>\n",
       "  <th>grade_7</th>              <td>-6.977e+04</td> <td> 1.35e+05</td> <td>   -0.516</td> <td> 0.606</td> <td>-3.35e+05</td> <td> 1.95e+05</td>\n",
       "</tr>\n",
       "<tr>\n",
       "  <th>grade_8</th>              <td> 8049.9664</td> <td> 1.35e+05</td> <td>    0.060</td> <td> 0.953</td> <td>-2.57e+05</td> <td> 2.73e+05</td>\n",
       "</tr>\n",
       "<tr>\n",
       "  <th>grade_9</th>              <td> 1.266e+05</td> <td> 1.35e+05</td> <td>    0.936</td> <td> 0.349</td> <td>-1.39e+05</td> <td> 3.92e+05</td>\n",
       "</tr>\n",
       "<tr>\n",
       "  <th>grade_10</th>             <td>  2.31e+05</td> <td> 1.35e+05</td> <td>    1.706</td> <td> 0.088</td> <td>-3.43e+04</td> <td> 4.96e+05</td>\n",
       "</tr>\n",
       "<tr>\n",
       "  <th>grade_11</th>             <td> 3.274e+05</td> <td> 1.36e+05</td> <td>    2.413</td> <td> 0.016</td> <td> 6.15e+04</td> <td> 5.93e+05</td>\n",
       "</tr>\n",
       "<tr>\n",
       "  <th>grade_12</th>             <td> 4.296e+05</td> <td> 1.38e+05</td> <td>    3.110</td> <td> 0.002</td> <td> 1.59e+05</td> <td>    7e+05</td>\n",
       "</tr>\n",
       "<tr>\n",
       "  <th>zipco_98051_to_98100</th> <td>  -4.3e+04</td> <td> 2918.003</td> <td>  -14.735</td> <td> 0.000</td> <td>-4.87e+04</td> <td>-3.73e+04</td>\n",
       "</tr>\n",
       "<tr>\n",
       "  <th>zipco_98101_to_98150</th> <td> 3.135e+04</td> <td> 3408.727</td> <td>    9.196</td> <td> 0.000</td> <td> 2.47e+04</td> <td>  3.8e+04</td>\n",
       "</tr>\n",
       "<tr>\n",
       "  <th>zipco_98150_to_98200</th> <td>-5.804e+04</td> <td> 3962.439</td> <td>  -14.646</td> <td> 0.000</td> <td>-6.58e+04</td> <td>-5.03e+04</td>\n",
       "</tr>\n",
       "</table>\n",
       "<table class=\"simpletable\">\n",
       "<tr>\n",
       "  <th>Omnibus:</th>       <td>3761.294</td> <th>  Durbin-Watson:     </th> <td>   1.999</td> \n",
       "</tr>\n",
       "<tr>\n",
       "  <th>Prob(Omnibus):</th>  <td> 0.000</td>  <th>  Jarque-Bera (JB):  </th> <td>15684.646</td>\n",
       "</tr>\n",
       "<tr>\n",
       "  <th>Skew:</th>           <td> 1.042</td>  <th>  Prob(JB):          </th> <td>    0.00</td> \n",
       "</tr>\n",
       "<tr>\n",
       "  <th>Kurtosis:</th>       <td> 7.227</td>  <th>  Cond. No.          </th> <td>2.32e+07</td> \n",
       "</tr>\n",
       "</table><br/><br/>Notes:<br/>[1] Standard Errors assume that the covariance matrix of the errors is correctly specified.<br/>[2] The condition number is large, 2.32e+07. This might indicate that there are<br/>strong multicollinearity or other numerical problems."
      ],
      "text/plain": [
       "<class 'statsmodels.iolib.summary.Summary'>\n",
       "\"\"\"\n",
       "                            OLS Regression Results                            \n",
       "==============================================================================\n",
       "Dep. Variable:                  price   R-squared:                       0.729\n",
       "Model:                            OLS   Adj. R-squared:                  0.728\n",
       "Method:                 Least Squares   F-statistic:                     1165.\n",
       "Date:                Wed, 06 Jan 2021   Prob (F-statistic):               0.00\n",
       "Time:                        17:53:11   Log-Likelihood:            -2.2429e+05\n",
       "No. Observations:               16952   AIC:                         4.487e+05\n",
       "Df Residuals:                   16912   BIC:                         4.490e+05\n",
       "Df Model:                          39                                         \n",
       "Covariance Type:            nonrobust                                         \n",
       "========================================================================================\n",
       "                           coef    std err          t      P>|t|      [0.025      0.975]\n",
       "----------------------------------------------------------------------------------------\n",
       "const                -2.275e+07   4.49e+05    -50.716      0.000   -2.36e+07   -2.19e+07\n",
       "sqft_lot                 0.1269      0.037      3.445      0.001       0.055       0.199\n",
       "sqft_above              83.7395      2.906     28.819      0.000      78.044      89.435\n",
       "sqft_basement           76.0517      3.289     23.125      0.000      69.606      82.498\n",
       "yr_built             -1479.0682     62.819    -23.545      0.000   -1602.200   -1355.937\n",
       "yr_renovated            28.1887      3.130      9.007      0.000      22.054      34.323\n",
       "lat                    5.43e+05   8416.672     64.516      0.000    5.27e+05     5.6e+05\n",
       "sqft_living15           54.3238      2.808     19.348      0.000      48.820      59.827\n",
       "sqft_lot15              -0.0827      0.056     -1.475      0.140      -0.193       0.027\n",
       "bedro_2               1.302e+04   3544.155      3.673      0.000    6070.115       2e+04\n",
       "bedro_7              -8.025e+04   2.62e+04     -3.063      0.002   -1.32e+05   -2.89e+04\n",
       "bathr_1_to_2          1.633e+04   3634.408      4.493      0.000    9204.110    2.35e+04\n",
       "bathr_2_to_3          3.218e+04   4625.541      6.957      0.000    2.31e+04    4.12e+04\n",
       "bathr_3_to_4          9.807e+04   6857.362     14.302      0.000    8.46e+04    1.12e+05\n",
       "bathr_4_to_5          1.031e+05   1.43e+04      7.193      0.000     7.5e+04    1.31e+05\n",
       "bathr_6_plus         -1.674e+04    9.6e+04     -0.174      0.862   -2.05e+05    1.71e+05\n",
       "floor_15              1.719e+04   4208.921      4.083      0.000    8935.556    2.54e+04\n",
       "floor_20              7081.3564   3552.153      1.994      0.046     118.766     1.4e+04\n",
       "floor_25              8.306e+04   1.31e+04      6.322      0.000    5.73e+04    1.09e+05\n",
       "floor_30               2.81e+04   7541.767      3.726      0.000    1.33e+04    4.29e+04\n",
       "water_10              2.449e+05   1.94e+04     12.596      0.000    2.07e+05    2.83e+05\n",
       "view_10               8.549e+04   8528.784     10.024      0.000    6.88e+04    1.02e+05\n",
       "view_20               6.487e+04   5328.149     12.174      0.000    5.44e+04    7.53e+04\n",
       "view_30               1.205e+05   7474.328     16.128      0.000    1.06e+05    1.35e+05\n",
       "view_40               1.602e+05   1.22e+04     13.089      0.000    1.36e+05    1.84e+05\n",
       "condi_3               2.488e+04   1.11e+04      2.241      0.025    3118.427    4.66e+04\n",
       "condi_4               5.855e+04   1.12e+04      5.250      0.000    3.67e+04    8.04e+04\n",
       "condi_5               9.652e+04   1.16e+04      8.318      0.000    7.38e+04    1.19e+05\n",
       "grade_4              -1.612e+05   1.38e+05     -1.168      0.243   -4.32e+05    1.09e+05\n",
       "grade_5              -1.514e+05   1.35e+05     -1.118      0.264   -4.17e+05    1.14e+05\n",
       "grade_6              -1.269e+05   1.35e+05     -0.939      0.348   -3.92e+05    1.38e+05\n",
       "grade_7              -6.977e+04   1.35e+05     -0.516      0.606   -3.35e+05    1.95e+05\n",
       "grade_8               8049.9664   1.35e+05      0.060      0.953   -2.57e+05    2.73e+05\n",
       "grade_9               1.266e+05   1.35e+05      0.936      0.349   -1.39e+05    3.92e+05\n",
       "grade_10               2.31e+05   1.35e+05      1.706      0.088   -3.43e+04    4.96e+05\n",
       "grade_11              3.274e+05   1.36e+05      2.413      0.016    6.15e+04    5.93e+05\n",
       "grade_12              4.296e+05   1.38e+05      3.110      0.002    1.59e+05       7e+05\n",
       "zipco_98051_to_98100   -4.3e+04   2918.003    -14.735      0.000   -4.87e+04   -3.73e+04\n",
       "zipco_98101_to_98150  3.135e+04   3408.727      9.196      0.000    2.47e+04     3.8e+04\n",
       "zipco_98150_to_98200 -5.804e+04   3962.439    -14.646      0.000   -6.58e+04   -5.03e+04\n",
       "==============================================================================\n",
       "Omnibus:                     3761.294   Durbin-Watson:                   1.999\n",
       "Prob(Omnibus):                  0.000   Jarque-Bera (JB):            15684.646\n",
       "Skew:                           1.042   Prob(JB):                         0.00\n",
       "Kurtosis:                       7.227   Cond. No.                     2.32e+07\n",
       "==============================================================================\n",
       "\n",
       "Notes:\n",
       "[1] Standard Errors assume that the covariance matrix of the errors is correctly specified.\n",
       "[2] The condition number is large, 2.32e+07. This might indicate that there are\n",
       "strong multicollinearity or other numerical problems.\n",
       "\"\"\""
      ]
     },
     "execution_count": 25,
     "metadata": {},
     "output_type": "execute_result"
    }
   ],
   "source": [
    "X = data[new_x_cols]\n",
    "X_train, X_test, y_train, y_test = train_test_split(X, y, test_size=0.2, random_state=51)\n",
    "X_int = sm.add_constant(X_train)\n",
    "model_2 = sm.OLS(y_train, X_int).fit()\n",
    "model_2.summary()"
   ]
  },
  {
   "cell_type": "markdown",
   "metadata": {},
   "source": [
    "Our R-squared value stayed at .73 after removing 13 amount of features. Let's also check how our RMSE values have changed."
   ]
  },
  {
   "cell_type": "code",
   "execution_count": 26,
   "metadata": {},
   "outputs": [
    {
     "name": "stdout",
     "output_type": "stream",
     "text": [
      "RMSE Train: 134823.22345775703\n",
      "RMSE Test: 136437.8811431038\n"
     ]
    }
   ],
   "source": [
    "linreg = LinearRegression()\n",
    "linreg.fit(X_train, y_train)\n",
    "y_hat_train = linreg.predict(X_train)\n",
    "y_hat_test = linreg.predict(X_test)\n",
    "mse_train = mean_squared_error(y_train, y_hat_train)\n",
    "mse_test = mean_squared_error(y_test, y_hat_test)\n",
    "print('RMSE Train:', np.sqrt(mse_train))\n",
    "print('RMSE Test:', np.sqrt(mse_test))"
   ]
  },
  {
   "cell_type": "markdown",
   "metadata": {},
   "source": [
    "Our RMSE remained very close to the RMSE in our original model, leading us to conclude this is a better model (same result without uninfluential features). Next, let's investigate multicollinearity of the remaining features."
   ]
  },
  {
   "cell_type": "markdown",
   "metadata": {},
   "source": [
    "### Check Normality Assumption"
   ]
  },
  {
   "cell_type": "code",
   "execution_count": 28,
   "metadata": {
    "scrolled": false
   },
   "outputs": [
    {
     "data": {
      "image/png": "[encoded data removed]",
      "text/plain": [
       "<Figure size 432x288 with 1 Axes>"
      ]
     },
     "metadata": {
      "needs_background": "light"
     },
     "output_type": "display_data"
    }
   ],
   "source": [
    "fig = sm.graphics.qqplot(model_2.resid, dist=stats.norm, line='45', fit=True)"
   ]
  },
  {
   "cell_type": "markdown",
   "metadata": {},
   "source": [
    "### Check Homoscedasticity Assumption"
   ]
  },
  {
   "cell_type": "code",
   "execution_count": 31,
   "metadata": {
    "scrolled": true
   },
   "outputs": [
    {
     "data": {
      "text/plain": [
       "[<matplotlib.lines.Line2D at 0x258b60b6f10>]"
      ]
     },
     "execution_count": 31,
     "metadata": {},
     "output_type": "execute_result"
    },
    {
     "data": {
      "image/png": "[encoded data removed]",
      "text/plain": [
       "<Figure size 432x288 with 1 Axes>"
      ]
     },
     "metadata": {
      "needs_background": "light"
     },
     "output_type": "display_data"
    }
   ],
   "source": [
    "plt.scatter(model_2.predict(X_int), model_2.resid)\n",
    "plt.plot(model_2.predict(X_int), [0 for i in range(len(X_int))])"
   ]
  },
  {
   "cell_type": "markdown",
   "metadata": {},
   "source": [
    "It looks like the normality assumption is violated at the outliers of the data. It also looks like homoscedasticity is also being violated in the scatter of the residuals. Let's further remove outliers and see if it helps our data at all."
   ]
  },
  {
   "cell_type": "code",
   "execution_count": 68,
   "metadata": {},
   "outputs": [
    {
     "data": {
      "text/plain": [
       "<AxesSubplot:>"
      ]
     },
     "execution_count": 68,
     "metadata": {},
     "output_type": "execute_result"
    },
    {
     "data": {
      "image/png": "[encoded data removed]",
      "text/plain": [
       "<Figure size 432x288 with 1 Axes>"
      ]
     },
     "metadata": {
      "needs_background": "light"
     },
     "output_type": "display_data"
    }
   ],
   "source": [
    "data.price.hist()"
   ]
  },
  {
   "cell_type": "code",
   "execution_count": 69,
   "metadata": {
    "scrolled": false
   },
   "outputs": [
    {
     "name": "stdout",
     "output_type": "stream",
     "text": [
      "0.8 percentile: 685000.0\n",
      "0.81 percentile: 699000.0\n",
      "0.82 percentile: 710000.0\n",
      "0.83 percentile: 725000.0\n",
      "0.84 percentile: 739000.0\n",
      "0.85 percentile: 750000.0\n",
      "0.86 percentile: 769997.0\n",
      "0.87 percentile: 785000.0\n",
      "0.88 percentile: 800000.0\n",
      "0.89 percentile: 824000.0\n",
      "0.9 percentile: 845000.0\n",
      "0.91 percentile: 865000.0\n",
      "0.92 percentile: 895940.0\n",
      "0.93 percentile: 925000.0\n",
      "0.94 percentile: 962479.9999999988\n",
      "0.95 percentile: 1000000.0\n",
      "0.96 percentile: 1080000.0\n",
      "0.97 percentile: 1180000.0\n",
      "0.98 percentile: 1280000.0\n",
      "0.99 percentile: 1400000.0\n"
     ]
    }
   ],
   "source": [
    "for i in range(80,100):\n",
    "    q = i/100\n",
    "    print(\"{} percentile: {}\".format(q, data.price.quantile(q=q)))"
   ]
  },
  {
   "cell_type": "code",
   "execution_count": 45,
   "metadata": {
    "scrolled": true
   },
   "outputs": [
    {
     "name": "stdout",
     "output_type": "stream",
     "text": [
      "Percent removed: 0.0\n"
     ]
    },
    {
     "data": {
      "text/html": [
       "<table class=\"simpletable\">\n",
       "<caption>OLS Regression Results</caption>\n",
       "<tr>\n",
       "  <th>Dep. Variable:</th>          <td>price</td>      <th>  R-squared:         </th>  <td>   0.748</td> \n",
       "</tr>\n",
       "<tr>\n",
       "  <th>Model:</th>                   <td>OLS</td>       <th>  Adj. R-squared:    </th>  <td>   0.747</td> \n",
       "</tr>\n",
       "<tr>\n",
       "  <th>Method:</th>             <td>Least Squares</td>  <th>  F-statistic:       </th>  <td>   1271.</td> \n",
       "</tr>\n",
       "<tr>\n",
       "  <th>Date:</th>             <td>Wed, 06 Jan 2021</td> <th>  Prob (F-statistic):</th>   <td>  0.00</td>  \n",
       "</tr>\n",
       "<tr>\n",
       "  <th>Time:</th>                 <td>18:03:12</td>     <th>  Log-Likelihood:    </th>  <td>  59115.</td> \n",
       "</tr>\n",
       "<tr>\n",
       "  <th>No. Observations:</th>      <td> 16760</td>      <th>  AIC:               </th> <td>-1.181e+05</td>\n",
       "</tr>\n",
       "<tr>\n",
       "  <th>Df Residuals:</th>          <td> 16720</td>      <th>  BIC:               </th> <td>-1.178e+05</td>\n",
       "</tr>\n",
       "<tr>\n",
       "  <th>Df Model:</th>              <td>    39</td>      <th>                     </th>      <td> </td>    \n",
       "</tr>\n",
       "<tr>\n",
       "  <th>Covariance Type:</th>      <td>nonrobust</td>    <th>                     </th>      <td> </td>    \n",
       "</tr>\n",
       "</table>\n",
       "<table class=\"simpletable\">\n",
       "<tr>\n",
       "            <td></td>              <th>coef</th>     <th>std err</th>      <th>t</th>      <th>P>|t|</th>  <th>[0.025</th>    <th>0.975]</th>  \n",
       "</tr>\n",
       "<tr>\n",
       "  <th>const</th>                <td>   -0.8131</td> <td>    0.024</td> <td>  -34.391</td> <td> 0.000</td> <td>   -0.859</td> <td>   -0.767</td>\n",
       "</tr>\n",
       "<tr>\n",
       "  <th>sqft_lot</th>             <td> 1.776e-08</td> <td> 2.17e-09</td> <td>    8.166</td> <td> 0.000</td> <td> 1.35e-08</td> <td>  2.2e-08</td>\n",
       "</tr>\n",
       "<tr>\n",
       "  <th>sqft_above</th>           <td> 4.535e-06</td> <td> 1.55e-07</td> <td>   29.233</td> <td> 0.000</td> <td> 4.23e-06</td> <td> 4.84e-06</td>\n",
       "</tr>\n",
       "<tr>\n",
       "  <th>sqft_basement</th>        <td>  3.83e-06</td> <td> 1.75e-07</td> <td>   21.878</td> <td> 0.000</td> <td> 3.49e-06</td> <td> 4.17e-06</td>\n",
       "</tr>\n",
       "<tr>\n",
       "  <th>yr_built</th>             <td>-7.476e-05</td> <td> 3.34e-06</td> <td>  -22.350</td> <td> 0.000</td> <td>-8.13e-05</td> <td>-6.82e-05</td>\n",
       "</tr>\n",
       "<tr>\n",
       "  <th>yr_renovated</th>         <td> 1.029e-06</td> <td> 1.65e-07</td> <td>    6.241</td> <td> 0.000</td> <td> 7.06e-07</td> <td> 1.35e-06</td>\n",
       "</tr>\n",
       "<tr>\n",
       "  <th>lat</th>                  <td>    0.0395</td> <td>    0.000</td> <td>   89.308</td> <td> 0.000</td> <td>    0.039</td> <td>    0.040</td>\n",
       "</tr>\n",
       "<tr>\n",
       "  <th>sqft_living15</th>        <td>  3.65e-06</td> <td>  1.5e-07</td> <td>   24.260</td> <td> 0.000</td> <td> 3.36e-06</td> <td> 3.95e-06</td>\n",
       "</tr>\n",
       "<tr>\n",
       "  <th>sqft_lot15</th>           <td>-3.101e-09</td> <td> 3.05e-09</td> <td>   -1.016</td> <td> 0.310</td> <td>-9.08e-09</td> <td> 2.88e-09</td>\n",
       "</tr>\n",
       "<tr>\n",
       "  <th>bedro_2</th>              <td>    0.0005</td> <td>    0.000</td> <td>    2.513</td> <td> 0.012</td> <td>    0.000</td> <td>    0.001</td>\n",
       "</tr>\n",
       "<tr>\n",
       "  <th>bedro_7</th>              <td>   -0.0038</td> <td>    0.001</td> <td>   -2.763</td> <td> 0.006</td> <td>   -0.006</td> <td>   -0.001</td>\n",
       "</tr>\n",
       "<tr>\n",
       "  <th>bathr_1_to_2</th>         <td>    0.0024</td> <td>    0.000</td> <td>   12.531</td> <td> 0.000</td> <td>    0.002</td> <td>    0.003</td>\n",
       "</tr>\n",
       "<tr>\n",
       "  <th>bathr_2_to_3</th>         <td>    0.0035</td> <td>    0.000</td> <td>   14.326</td> <td> 0.000</td> <td>    0.003</td> <td>    0.004</td>\n",
       "</tr>\n",
       "<tr>\n",
       "  <th>bathr_3_to_4</th>         <td>    0.0046</td> <td>    0.000</td> <td>   12.527</td> <td> 0.000</td> <td>    0.004</td> <td>    0.005</td>\n",
       "</tr>\n",
       "<tr>\n",
       "  <th>bathr_4_to_5</th>         <td>    0.0031</td> <td>    0.001</td> <td>    3.948</td> <td> 0.000</td> <td>    0.002</td> <td>    0.005</td>\n",
       "</tr>\n",
       "<tr>\n",
       "  <th>bathr_6_plus</th>         <td>   -0.0020</td> <td>    0.004</td> <td>   -0.484</td> <td> 0.628</td> <td>   -0.010</td> <td>    0.006</td>\n",
       "</tr>\n",
       "<tr>\n",
       "  <th>floor_15</th>             <td>    0.0012</td> <td>    0.000</td> <td>    5.449</td> <td> 0.000</td> <td>    0.001</td> <td>    0.002</td>\n",
       "</tr>\n",
       "<tr>\n",
       "  <th>floor_20</th>             <td>    0.0009</td> <td>    0.000</td> <td>    4.831</td> <td> 0.000</td> <td>    0.001</td> <td>    0.001</td>\n",
       "</tr>\n",
       "<tr>\n",
       "  <th>floor_25</th>             <td>    0.0030</td> <td>    0.001</td> <td>    4.145</td> <td> 0.000</td> <td>    0.002</td> <td>    0.004</td>\n",
       "</tr>\n",
       "<tr>\n",
       "  <th>floor_30</th>             <td>    0.0008</td> <td>    0.000</td> <td>    1.871</td> <td> 0.061</td> <td> -3.6e-05</td> <td>    0.002</td>\n",
       "</tr>\n",
       "<tr>\n",
       "  <th>water_10</th>             <td>    0.0123</td> <td>    0.001</td> <td>   11.277</td> <td> 0.000</td> <td>    0.010</td> <td>    0.014</td>\n",
       "</tr>\n",
       "<tr>\n",
       "  <th>view_10</th>              <td>    0.0045</td> <td>    0.000</td> <td>    9.660</td> <td> 0.000</td> <td>    0.004</td> <td>    0.005</td>\n",
       "</tr>\n",
       "<tr>\n",
       "  <th>view_20</th>              <td>    0.0036</td> <td>    0.000</td> <td>   12.716</td> <td> 0.000</td> <td>    0.003</td> <td>    0.004</td>\n",
       "</tr>\n",
       "<tr>\n",
       "  <th>view_30</th>              <td>    0.0048</td> <td>    0.000</td> <td>   11.717</td> <td> 0.000</td> <td>    0.004</td> <td>    0.006</td>\n",
       "</tr>\n",
       "<tr>\n",
       "  <th>view_40</th>              <td>    0.0062</td> <td>    0.001</td> <td>    9.542</td> <td> 0.000</td> <td>    0.005</td> <td>    0.007</td>\n",
       "</tr>\n",
       "<tr>\n",
       "  <th>condi_3</th>              <td>    0.0052</td> <td>    0.001</td> <td>    8.788</td> <td> 0.000</td> <td>    0.004</td> <td>    0.006</td>\n",
       "</tr>\n",
       "<tr>\n",
       "  <th>condi_4</th>              <td>    0.0071</td> <td>    0.001</td> <td>   11.979</td> <td> 0.000</td> <td>    0.006</td> <td>    0.008</td>\n",
       "</tr>\n",
       "<tr>\n",
       "  <th>condi_5</th>              <td>    0.0090</td> <td>    0.001</td> <td>   14.526</td> <td> 0.000</td> <td>    0.008</td> <td>    0.010</td>\n",
       "</tr>\n",
       "<tr>\n",
       "  <th>grade_4</th>              <td>   -0.0221</td> <td>    0.007</td> <td>   -3.018</td> <td> 0.003</td> <td>   -0.036</td> <td>   -0.008</td>\n",
       "</tr>\n",
       "<tr>\n",
       "  <th>grade_5</th>              <td>   -0.0161</td> <td>    0.007</td> <td>   -2.257</td> <td> 0.024</td> <td>   -0.030</td> <td>   -0.002</td>\n",
       "</tr>\n",
       "<tr>\n",
       "  <th>grade_6</th>              <td>   -0.0116</td> <td>    0.007</td> <td>   -1.630</td> <td> 0.103</td> <td>   -0.026</td> <td>    0.002</td>\n",
       "</tr>\n",
       "<tr>\n",
       "  <th>grade_7</th>              <td>   -0.0062</td> <td>    0.007</td> <td>   -0.876</td> <td> 0.381</td> <td>   -0.020</td> <td>    0.008</td>\n",
       "</tr>\n",
       "<tr>\n",
       "  <th>grade_8</th>              <td>   -0.0015</td> <td>    0.007</td> <td>   -0.207</td> <td> 0.836</td> <td>   -0.015</td> <td>    0.013</td>\n",
       "</tr>\n",
       "<tr>\n",
       "  <th>grade_9</th>              <td>    0.0029</td> <td>    0.007</td> <td>    0.407</td> <td> 0.684</td> <td>   -0.011</td> <td>    0.017</td>\n",
       "</tr>\n",
       "<tr>\n",
       "  <th>grade_10</th>             <td>    0.0046</td> <td>    0.007</td> <td>    0.644</td> <td> 0.519</td> <td>   -0.009</td> <td>    0.019</td>\n",
       "</tr>\n",
       "<tr>\n",
       "  <th>grade_11</th>             <td>    0.0044</td> <td>    0.007</td> <td>    0.610</td> <td> 0.542</td> <td>   -0.010</td> <td>    0.018</td>\n",
       "</tr>\n",
       "<tr>\n",
       "  <th>grade_12</th>             <td>    0.0023</td> <td>    0.008</td> <td>    0.301</td> <td> 0.763</td> <td>   -0.012</td> <td>    0.017</td>\n",
       "</tr>\n",
       "<tr>\n",
       "  <th>zipco_98051_to_98100</th> <td>   -0.0010</td> <td>    0.000</td> <td>   -6.148</td> <td> 0.000</td> <td>   -0.001</td> <td>   -0.001</td>\n",
       "</tr>\n",
       "<tr>\n",
       "  <th>zipco_98101_to_98150</th> <td>    0.0030</td> <td>    0.000</td> <td>   16.753</td> <td> 0.000</td> <td>    0.003</td> <td>    0.003</td>\n",
       "</tr>\n",
       "<tr>\n",
       "  <th>zipco_98150_to_98200</th> <td>   -0.0035</td> <td>    0.000</td> <td>  -16.522</td> <td> 0.000</td> <td>   -0.004</td> <td>   -0.003</td>\n",
       "</tr>\n",
       "</table>\n",
       "<table class=\"simpletable\">\n",
       "<tr>\n",
       "  <th>Omnibus:</th>       <td>532.457</td> <th>  Durbin-Watson:     </th> <td>   2.004</td> \n",
       "</tr>\n",
       "<tr>\n",
       "  <th>Prob(Omnibus):</th> <td> 0.000</td>  <th>  Jarque-Bera (JB):  </th> <td>1193.661</td> \n",
       "</tr>\n",
       "<tr>\n",
       "  <th>Skew:</th>          <td>-0.181</td>  <th>  Prob(JB):          </th> <td>6.31e-260</td>\n",
       "</tr>\n",
       "<tr>\n",
       "  <th>Kurtosis:</th>      <td> 4.256</td>  <th>  Cond. No.          </th> <td>2.22e+07</td> \n",
       "</tr>\n",
       "</table><br/><br/>Notes:<br/>[1] Standard Errors assume that the covariance matrix of the errors is correctly specified.<br/>[2] The condition number is large, 2.22e+07. This might indicate that there are<br/>strong multicollinearity or other numerical problems."
      ],
      "text/plain": [
       "<class 'statsmodels.iolib.summary.Summary'>\n",
       "\"\"\"\n",
       "                            OLS Regression Results                            \n",
       "==============================================================================\n",
       "Dep. Variable:                  price   R-squared:                       0.748\n",
       "Model:                            OLS   Adj. R-squared:                  0.747\n",
       "Method:                 Least Squares   F-statistic:                     1271.\n",
       "Date:                Wed, 06 Jan 2021   Prob (F-statistic):               0.00\n",
       "Time:                        18:03:12   Log-Likelihood:                 59115.\n",
       "No. Observations:               16760   AIC:                        -1.181e+05\n",
       "Df Residuals:                   16720   BIC:                        -1.178e+05\n",
       "Df Model:                          39                                         \n",
       "Covariance Type:            nonrobust                                         \n",
       "========================================================================================\n",
       "                           coef    std err          t      P>|t|      [0.025      0.975]\n",
       "----------------------------------------------------------------------------------------\n",
       "const                   -0.8131      0.024    -34.391      0.000      -0.859      -0.767\n",
       "sqft_lot              1.776e-08   2.17e-09      8.166      0.000    1.35e-08     2.2e-08\n",
       "sqft_above            4.535e-06   1.55e-07     29.233      0.000    4.23e-06    4.84e-06\n",
       "sqft_basement          3.83e-06   1.75e-07     21.878      0.000    3.49e-06    4.17e-06\n",
       "yr_built             -7.476e-05   3.34e-06    -22.350      0.000   -8.13e-05   -6.82e-05\n",
       "yr_renovated          1.029e-06   1.65e-07      6.241      0.000    7.06e-07    1.35e-06\n",
       "lat                      0.0395      0.000     89.308      0.000       0.039       0.040\n",
       "sqft_living15          3.65e-06    1.5e-07     24.260      0.000    3.36e-06    3.95e-06\n",
       "sqft_lot15           -3.101e-09   3.05e-09     -1.016      0.310   -9.08e-09    2.88e-09\n",
       "bedro_2                  0.0005      0.000      2.513      0.012       0.000       0.001\n",
       "bedro_7                 -0.0038      0.001     -2.763      0.006      -0.006      -0.001\n",
       "bathr_1_to_2             0.0024      0.000     12.531      0.000       0.002       0.003\n",
       "bathr_2_to_3             0.0035      0.000     14.326      0.000       0.003       0.004\n",
       "bathr_3_to_4             0.0046      0.000     12.527      0.000       0.004       0.005\n",
       "bathr_4_to_5             0.0031      0.001      3.948      0.000       0.002       0.005\n",
       "bathr_6_plus            -0.0020      0.004     -0.484      0.628      -0.010       0.006\n",
       "floor_15                 0.0012      0.000      5.449      0.000       0.001       0.002\n",
       "floor_20                 0.0009      0.000      4.831      0.000       0.001       0.001\n",
       "floor_25                 0.0030      0.001      4.145      0.000       0.002       0.004\n",
       "floor_30                 0.0008      0.000      1.871      0.061    -3.6e-05       0.002\n",
       "water_10                 0.0123      0.001     11.277      0.000       0.010       0.014\n",
       "view_10                  0.0045      0.000      9.660      0.000       0.004       0.005\n",
       "view_20                  0.0036      0.000     12.716      0.000       0.003       0.004\n",
       "view_30                  0.0048      0.000     11.717      0.000       0.004       0.006\n",
       "view_40                  0.0062      0.001      9.542      0.000       0.005       0.007\n",
       "condi_3                  0.0052      0.001      8.788      0.000       0.004       0.006\n",
       "condi_4                  0.0071      0.001     11.979      0.000       0.006       0.008\n",
       "condi_5                  0.0090      0.001     14.526      0.000       0.008       0.010\n",
       "grade_4                 -0.0221      0.007     -3.018      0.003      -0.036      -0.008\n",
       "grade_5                 -0.0161      0.007     -2.257      0.024      -0.030      -0.002\n",
       "grade_6                 -0.0116      0.007     -1.630      0.103      -0.026       0.002\n",
       "grade_7                 -0.0062      0.007     -0.876      0.381      -0.020       0.008\n",
       "grade_8                 -0.0015      0.007     -0.207      0.836      -0.015       0.013\n",
       "grade_9                  0.0029      0.007      0.407      0.684      -0.011       0.017\n",
       "grade_10                 0.0046      0.007      0.644      0.519      -0.009       0.019\n",
       "grade_11                 0.0044      0.007      0.610      0.542      -0.010       0.018\n",
       "grade_12                 0.0023      0.008      0.301      0.763      -0.012       0.017\n",
       "zipco_98051_to_98100    -0.0010      0.000     -6.148      0.000      -0.001      -0.001\n",
       "zipco_98101_to_98150     0.0030      0.000     16.753      0.000       0.003       0.003\n",
       "zipco_98150_to_98200    -0.0035      0.000    -16.522      0.000      -0.004      -0.003\n",
       "==============================================================================\n",
       "Omnibus:                      532.457   Durbin-Watson:                   2.004\n",
       "Prob(Omnibus):                  0.000   Jarque-Bera (JB):             1193.661\n",
       "Skew:                          -0.181   Prob(JB):                    6.31e-260\n",
       "Kurtosis:                       4.256   Cond. No.                     2.22e+07\n",
       "==============================================================================\n",
       "\n",
       "Notes:\n",
       "[1] Standard Errors assume that the covariance matrix of the errors is correctly specified.\n",
       "[2] The condition number is large, 2.22e+07. This might indicate that there are\n",
       "strong multicollinearity or other numerical problems.\n",
       "\"\"\""
      ]
     },
     "execution_count": 45,
     "metadata": {},
     "output_type": "execute_result"
    }
   ],
   "source": [
    "orig_tot = len(data)\n",
    "data = data[data.price < 1300000] # Subsetting to remove extreme outliers\n",
    "print('Percent removed:', (orig_tot -len(data))/orig_tot)\n",
    "data.price = data.price.map(np.log) # Applying a log transformation\n",
    "\n",
    "# Refit model with subset features\n",
    "X = data[new_x_cols]\n",
    "y = data['price']\n",
    "X_train, X_test, y_train, y_test = train_test_split(X, y, test_size=0.2, random_state=51)\n",
    "X_int = sm.add_constant(X_train)\n",
    "model_3 = sm.OLS(y_train, X_int).fit()\n",
    "model_3.summary()"
   ]
  },
  {
   "cell_type": "markdown",
   "metadata": {},
   "source": [
    "By log transforming our dependent variable, this increased our R2 to .748."
   ]
  },
  {
   "cell_type": "code",
   "execution_count": 61,
   "metadata": {
    "scrolled": false
   },
   "outputs": [
    {
     "data": {
      "text/plain": [
       "<AxesSubplot:>"
      ]
     },
     "execution_count": 61,
     "metadata": {},
     "output_type": "execute_result"
    },
    {
     "data": {
      "image/png": "[encoded data removed]",
      "text/plain": [
       "<Figure size 432x288 with 1 Axes>"
      ]
     },
     "metadata": {
      "needs_background": "light"
     },
     "output_type": "display_data"
    }
   ],
   "source": [
    "data.price.hist()"
   ]
  },
  {
   "cell_type": "code",
   "execution_count": 62,
   "metadata": {},
   "outputs": [
    {
     "name": "stdout",
     "output_type": "stream",
     "text": [
      "0.0 percentile: 0.8844503653086496\n",
      "0.01 percentile: 0.9081548343387724\n",
      "0.02 percentile: 0.9126575622417962\n",
      "0.03 percentile: 0.9153792985144824\n",
      "0.04 percentile: 0.9170844894851363\n",
      "0.05 percentile: 0.918657058824239\n",
      "0.06 percentile: 0.9199090762252907\n",
      "0.07 percentile: 0.9208948646809424\n",
      "0.08 percentile: 0.9216740573414295\n",
      "0.09 percentile: 0.9228384436053173\n",
      "0.1 percentile: 0.92363295282814\n",
      "0.11 percentile: 0.9242786815501971\n",
      "0.12 percentile: 0.9247850056194804\n",
      "0.13 percentile: 0.9255219839103096\n",
      "0.14 percentile: 0.9261329187328965\n",
      "0.15 percentile: 0.9267193215323772\n",
      "0.16 percentile: 0.9273053801074514\n",
      "0.17 percentile: 0.9277611583864931\n",
      "0.18 percentile: 0.928320775207738\n",
      "0.19 percentile: 0.9289541503636708\n"
     ]
    }
   ],
   "source": [
    "for i in range(0,20):\n",
    "    q = i/100\n",
    "    print(\"{} percentile: {}\".format(q, data.price.quantile(q=q)))"
   ]
  },
  {
   "cell_type": "code",
   "execution_count": 63,
   "metadata": {
    "scrolled": true
   },
   "outputs": [
    {
     "name": "stdout",
     "output_type": "stream",
     "text": [
      "Percent removed: 0.003197938045916663\n"
     ]
    },
    {
     "data": {
      "text/html": [
       "<table class=\"simpletable\">\n",
       "<caption>OLS Regression Results</caption>\n",
       "<tr>\n",
       "  <th>Dep. Variable:</th>          <td>price</td>      <th>  R-squared:         </th>  <td>   0.745</td> \n",
       "</tr>\n",
       "<tr>\n",
       "  <th>Model:</th>                   <td>OLS</td>       <th>  Adj. R-squared:    </th>  <td>   0.744</td> \n",
       "</tr>\n",
       "<tr>\n",
       "  <th>Method:</th>             <td>Least Squares</td>  <th>  F-statistic:       </th>  <td>   1248.</td> \n",
       "</tr>\n",
       "<tr>\n",
       "  <th>Date:</th>             <td>Wed, 06 Jan 2021</td> <th>  Prob (F-statistic):</th>   <td>  0.00</td>  \n",
       "</tr>\n",
       "<tr>\n",
       "  <th>Time:</th>                 <td>18:13:44</td>     <th>  Log-Likelihood:    </th>  <td>  59194.</td> \n",
       "</tr>\n",
       "<tr>\n",
       "  <th>No. Observations:</th>      <td> 16707</td>      <th>  AIC:               </th> <td>-1.183e+05</td>\n",
       "</tr>\n",
       "<tr>\n",
       "  <th>Df Residuals:</th>          <td> 16667</td>      <th>  BIC:               </th> <td>-1.180e+05</td>\n",
       "</tr>\n",
       "<tr>\n",
       "  <th>Df Model:</th>              <td>    39</td>      <th>                     </th>      <td> </td>    \n",
       "</tr>\n",
       "<tr>\n",
       "  <th>Covariance Type:</th>      <td>nonrobust</td>    <th>                     </th>      <td> </td>    \n",
       "</tr>\n",
       "</table>\n",
       "<table class=\"simpletable\">\n",
       "<tr>\n",
       "            <td></td>              <th>coef</th>     <th>std err</th>      <th>t</th>      <th>P>|t|</th>  <th>[0.025</th>    <th>0.975]</th>  \n",
       "</tr>\n",
       "<tr>\n",
       "  <th>const</th>                <td>   -0.7804</td> <td>    0.023</td> <td>  -33.461</td> <td> 0.000</td> <td>   -0.826</td> <td>   -0.735</td>\n",
       "</tr>\n",
       "<tr>\n",
       "  <th>sqft_lot</th>             <td> 1.748e-08</td> <td> 1.91e-09</td> <td>    9.170</td> <td> 0.000</td> <td> 1.37e-08</td> <td> 2.12e-08</td>\n",
       "</tr>\n",
       "<tr>\n",
       "  <th>sqft_above</th>           <td> 4.367e-06</td> <td> 1.53e-07</td> <td>   28.573</td> <td> 0.000</td> <td> 4.07e-06</td> <td> 4.67e-06</td>\n",
       "</tr>\n",
       "<tr>\n",
       "  <th>sqft_basement</th>        <td> 3.781e-06</td> <td> 1.73e-07</td> <td>   21.828</td> <td> 0.000</td> <td> 3.44e-06</td> <td> 4.12e-06</td>\n",
       "</tr>\n",
       "<tr>\n",
       "  <th>yr_built</th>             <td>-7.666e-05</td> <td>  3.3e-06</td> <td>  -23.230</td> <td> 0.000</td> <td>-8.31e-05</td> <td>-7.02e-05</td>\n",
       "</tr>\n",
       "<tr>\n",
       "  <th>yr_renovated</th>         <td> 1.108e-06</td> <td> 1.63e-07</td> <td>    6.796</td> <td> 0.000</td> <td> 7.88e-07</td> <td> 1.43e-06</td>\n",
       "</tr>\n",
       "<tr>\n",
       "  <th>lat</th>                  <td>    0.0389</td> <td>    0.000</td> <td>   89.184</td> <td> 0.000</td> <td>    0.038</td> <td>    0.040</td>\n",
       "</tr>\n",
       "<tr>\n",
       "  <th>sqft_living15</th>        <td> 3.793e-06</td> <td> 1.48e-07</td> <td>   25.606</td> <td> 0.000</td> <td>  3.5e-06</td> <td> 4.08e-06</td>\n",
       "</tr>\n",
       "<tr>\n",
       "  <th>sqft_lot15</th>           <td>-4.528e-09</td> <td> 2.94e-09</td> <td>   -1.541</td> <td> 0.123</td> <td>-1.03e-08</td> <td> 1.23e-09</td>\n",
       "</tr>\n",
       "<tr>\n",
       "  <th>bedro_2</th>              <td>    0.0008</td> <td>    0.000</td> <td>    4.505</td> <td> 0.000</td> <td>    0.000</td> <td>    0.001</td>\n",
       "</tr>\n",
       "<tr>\n",
       "  <th>bedro_7</th>              <td>   -0.0025</td> <td>    0.001</td> <td>   -1.734</td> <td> 0.083</td> <td>   -0.005</td> <td>    0.000</td>\n",
       "</tr>\n",
       "<tr>\n",
       "  <th>bathr_1_to_2</th>         <td>    0.0023</td> <td>    0.000</td> <td>   12.314</td> <td> 0.000</td> <td>    0.002</td> <td>    0.003</td>\n",
       "</tr>\n",
       "<tr>\n",
       "  <th>bathr_2_to_3</th>         <td>    0.0035</td> <td>    0.000</td> <td>   14.462</td> <td> 0.000</td> <td>    0.003</td> <td>    0.004</td>\n",
       "</tr>\n",
       "<tr>\n",
       "  <th>bathr_3_to_4</th>         <td>    0.0049</td> <td>    0.000</td> <td>   13.473</td> <td> 0.000</td> <td>    0.004</td> <td>    0.006</td>\n",
       "</tr>\n",
       "<tr>\n",
       "  <th>bathr_4_to_5</th>         <td>    0.0031</td> <td>    0.001</td> <td>    3.835</td> <td> 0.000</td> <td>    0.002</td> <td>    0.005</td>\n",
       "</tr>\n",
       "<tr>\n",
       "  <th>bathr_6_plus</th>         <td>   -0.0058</td> <td>    0.005</td> <td>   -1.151</td> <td> 0.250</td> <td>   -0.016</td> <td>    0.004</td>\n",
       "</tr>\n",
       "<tr>\n",
       "  <th>floor_15</th>             <td>    0.0013</td> <td>    0.000</td> <td>    6.013</td> <td> 0.000</td> <td>    0.001</td> <td>    0.002</td>\n",
       "</tr>\n",
       "<tr>\n",
       "  <th>floor_20</th>             <td>    0.0008</td> <td>    0.000</td> <td>    4.049</td> <td> 0.000</td> <td>    0.000</td> <td>    0.001</td>\n",
       "</tr>\n",
       "<tr>\n",
       "  <th>floor_25</th>             <td>    0.0034</td> <td>    0.001</td> <td>    4.634</td> <td> 0.000</td> <td>    0.002</td> <td>    0.005</td>\n",
       "</tr>\n",
       "<tr>\n",
       "  <th>floor_30</th>             <td>    0.0009</td> <td>    0.000</td> <td>    2.281</td> <td> 0.023</td> <td>    0.000</td> <td>    0.002</td>\n",
       "</tr>\n",
       "<tr>\n",
       "  <th>water_10</th>             <td>    0.0124</td> <td>    0.001</td> <td>   11.757</td> <td> 0.000</td> <td>    0.010</td> <td>    0.014</td>\n",
       "</tr>\n",
       "<tr>\n",
       "  <th>view_10</th>              <td>    0.0047</td> <td>    0.000</td> <td>   10.192</td> <td> 0.000</td> <td>    0.004</td> <td>    0.006</td>\n",
       "</tr>\n",
       "<tr>\n",
       "  <th>view_20</th>              <td>    0.0036</td> <td>    0.000</td> <td>   12.965</td> <td> 0.000</td> <td>    0.003</td> <td>    0.004</td>\n",
       "</tr>\n",
       "<tr>\n",
       "  <th>view_30</th>              <td>    0.0051</td> <td>    0.000</td> <td>   12.607</td> <td> 0.000</td> <td>    0.004</td> <td>    0.006</td>\n",
       "</tr>\n",
       "<tr>\n",
       "  <th>view_40</th>              <td>    0.0054</td> <td>    0.001</td> <td>    8.316</td> <td> 0.000</td> <td>    0.004</td> <td>    0.007</td>\n",
       "</tr>\n",
       "<tr>\n",
       "  <th>condi_3</th>              <td>    0.0035</td> <td>    0.001</td> <td>    6.058</td> <td> 0.000</td> <td>    0.002</td> <td>    0.005</td>\n",
       "</tr>\n",
       "<tr>\n",
       "  <th>condi_4</th>              <td>    0.0054</td> <td>    0.001</td> <td>    9.202</td> <td> 0.000</td> <td>    0.004</td> <td>    0.006</td>\n",
       "</tr>\n",
       "<tr>\n",
       "  <th>condi_5</th>              <td>    0.0072</td> <td>    0.001</td> <td>   11.866</td> <td> 0.000</td> <td>    0.006</td> <td>    0.008</td>\n",
       "</tr>\n",
       "<tr>\n",
       "  <th>grade_4</th>              <td>   -0.0149</td> <td>    0.007</td> <td>   -2.064</td> <td> 0.039</td> <td>   -0.029</td> <td>   -0.001</td>\n",
       "</tr>\n",
       "<tr>\n",
       "  <th>grade_5</th>              <td>   -0.0138</td> <td>    0.007</td> <td>   -1.962</td> <td> 0.050</td> <td>   -0.028</td> <td>-1.61e-05</td>\n",
       "</tr>\n",
       "<tr>\n",
       "  <th>grade_6</th>              <td>   -0.0109</td> <td>    0.007</td> <td>   -1.556</td> <td> 0.120</td> <td>   -0.025</td> <td>    0.003</td>\n",
       "</tr>\n",
       "<tr>\n",
       "  <th>grade_7</th>              <td>   -0.0059</td> <td>    0.007</td> <td>   -0.844</td> <td> 0.399</td> <td>   -0.020</td> <td>    0.008</td>\n",
       "</tr>\n",
       "<tr>\n",
       "  <th>grade_8</th>              <td>   -0.0009</td> <td>    0.007</td> <td>   -0.134</td> <td> 0.893</td> <td>   -0.015</td> <td>    0.013</td>\n",
       "</tr>\n",
       "<tr>\n",
       "  <th>grade_9</th>              <td>    0.0035</td> <td>    0.007</td> <td>    0.504</td> <td> 0.614</td> <td>   -0.010</td> <td>    0.017</td>\n",
       "</tr>\n",
       "<tr>\n",
       "  <th>grade_10</th>             <td>    0.0052</td> <td>    0.007</td> <td>    0.746</td> <td> 0.456</td> <td>   -0.009</td> <td>    0.019</td>\n",
       "</tr>\n",
       "<tr>\n",
       "  <th>grade_11</th>             <td>    0.0055</td> <td>    0.007</td> <td>    0.785</td> <td> 0.432</td> <td>   -0.008</td> <td>    0.019</td>\n",
       "</tr>\n",
       "<tr>\n",
       "  <th>grade_12</th>             <td>    0.0041</td> <td>    0.007</td> <td>    0.547</td> <td> 0.584</td> <td>   -0.011</td> <td>    0.019</td>\n",
       "</tr>\n",
       "<tr>\n",
       "  <th>zipco_98051_to_98100</th> <td>   -0.0010</td> <td>    0.000</td> <td>   -6.568</td> <td> 0.000</td> <td>   -0.001</td> <td>   -0.001</td>\n",
       "</tr>\n",
       "<tr>\n",
       "  <th>zipco_98101_to_98150</th> <td>    0.0029</td> <td>    0.000</td> <td>   16.123</td> <td> 0.000</td> <td>    0.003</td> <td>    0.003</td>\n",
       "</tr>\n",
       "<tr>\n",
       "  <th>zipco_98150_to_98200</th> <td>   -0.0034</td> <td>    0.000</td> <td>  -16.369</td> <td> 0.000</td> <td>   -0.004</td> <td>   -0.003</td>\n",
       "</tr>\n",
       "</table>\n",
       "<table class=\"simpletable\">\n",
       "<tr>\n",
       "  <th>Omnibus:</th>       <td>338.502</td> <th>  Durbin-Watson:     </th> <td>   2.015</td> \n",
       "</tr>\n",
       "<tr>\n",
       "  <th>Prob(Omnibus):</th> <td> 0.000</td>  <th>  Jarque-Bera (JB):  </th> <td> 676.803</td> \n",
       "</tr>\n",
       "<tr>\n",
       "  <th>Skew:</th>          <td>-0.105</td>  <th>  Prob(JB):          </th> <td>1.08e-147</td>\n",
       "</tr>\n",
       "<tr>\n",
       "  <th>Kurtosis:</th>      <td> 3.963</td>  <th>  Cond. No.          </th> <td>2.31e+07</td> \n",
       "</tr>\n",
       "</table><br/><br/>Notes:<br/>[1] Standard Errors assume that the covariance matrix of the errors is correctly specified.<br/>[2] The condition number is large, 2.31e+07. This might indicate that there are<br/>strong multicollinearity or other numerical problems."
      ],
      "text/plain": [
       "<class 'statsmodels.iolib.summary.Summary'>\n",
       "\"\"\"\n",
       "                            OLS Regression Results                            \n",
       "==============================================================================\n",
       "Dep. Variable:                  price   R-squared:                       0.745\n",
       "Model:                            OLS   Adj. R-squared:                  0.744\n",
       "Method:                 Least Squares   F-statistic:                     1248.\n",
       "Date:                Wed, 06 Jan 2021   Prob (F-statistic):               0.00\n",
       "Time:                        18:13:44   Log-Likelihood:                 59194.\n",
       "No. Observations:               16707   AIC:                        -1.183e+05\n",
       "Df Residuals:                   16667   BIC:                        -1.180e+05\n",
       "Df Model:                          39                                         \n",
       "Covariance Type:            nonrobust                                         \n",
       "========================================================================================\n",
       "                           coef    std err          t      P>|t|      [0.025      0.975]\n",
       "----------------------------------------------------------------------------------------\n",
       "const                   -0.7804      0.023    -33.461      0.000      -0.826      -0.735\n",
       "sqft_lot              1.748e-08   1.91e-09      9.170      0.000    1.37e-08    2.12e-08\n",
       "sqft_above            4.367e-06   1.53e-07     28.573      0.000    4.07e-06    4.67e-06\n",
       "sqft_basement         3.781e-06   1.73e-07     21.828      0.000    3.44e-06    4.12e-06\n",
       "yr_built             -7.666e-05    3.3e-06    -23.230      0.000   -8.31e-05   -7.02e-05\n",
       "yr_renovated          1.108e-06   1.63e-07      6.796      0.000    7.88e-07    1.43e-06\n",
       "lat                      0.0389      0.000     89.184      0.000       0.038       0.040\n",
       "sqft_living15         3.793e-06   1.48e-07     25.606      0.000     3.5e-06    4.08e-06\n",
       "sqft_lot15           -4.528e-09   2.94e-09     -1.541      0.123   -1.03e-08    1.23e-09\n",
       "bedro_2                  0.0008      0.000      4.505      0.000       0.000       0.001\n",
       "bedro_7                 -0.0025      0.001     -1.734      0.083      -0.005       0.000\n",
       "bathr_1_to_2             0.0023      0.000     12.314      0.000       0.002       0.003\n",
       "bathr_2_to_3             0.0035      0.000     14.462      0.000       0.003       0.004\n",
       "bathr_3_to_4             0.0049      0.000     13.473      0.000       0.004       0.006\n",
       "bathr_4_to_5             0.0031      0.001      3.835      0.000       0.002       0.005\n",
       "bathr_6_plus            -0.0058      0.005     -1.151      0.250      -0.016       0.004\n",
       "floor_15                 0.0013      0.000      6.013      0.000       0.001       0.002\n",
       "floor_20                 0.0008      0.000      4.049      0.000       0.000       0.001\n",
       "floor_25                 0.0034      0.001      4.634      0.000       0.002       0.005\n",
       "floor_30                 0.0009      0.000      2.281      0.023       0.000       0.002\n",
       "water_10                 0.0124      0.001     11.757      0.000       0.010       0.014\n",
       "view_10                  0.0047      0.000     10.192      0.000       0.004       0.006\n",
       "view_20                  0.0036      0.000     12.965      0.000       0.003       0.004\n",
       "view_30                  0.0051      0.000     12.607      0.000       0.004       0.006\n",
       "view_40                  0.0054      0.001      8.316      0.000       0.004       0.007\n",
       "condi_3                  0.0035      0.001      6.058      0.000       0.002       0.005\n",
       "condi_4                  0.0054      0.001      9.202      0.000       0.004       0.006\n",
       "condi_5                  0.0072      0.001     11.866      0.000       0.006       0.008\n",
       "grade_4                 -0.0149      0.007     -2.064      0.039      -0.029      -0.001\n",
       "grade_5                 -0.0138      0.007     -1.962      0.050      -0.028   -1.61e-05\n",
       "grade_6                 -0.0109      0.007     -1.556      0.120      -0.025       0.003\n",
       "grade_7                 -0.0059      0.007     -0.844      0.399      -0.020       0.008\n",
       "grade_8                 -0.0009      0.007     -0.134      0.893      -0.015       0.013\n",
       "grade_9                  0.0035      0.007      0.504      0.614      -0.010       0.017\n",
       "grade_10                 0.0052      0.007      0.746      0.456      -0.009       0.019\n",
       "grade_11                 0.0055      0.007      0.785      0.432      -0.008       0.019\n",
       "grade_12                 0.0041      0.007      0.547      0.584      -0.011       0.019\n",
       "zipco_98051_to_98100    -0.0010      0.000     -6.568      0.000      -0.001      -0.001\n",
       "zipco_98101_to_98150     0.0029      0.000     16.123      0.000       0.003       0.003\n",
       "zipco_98150_to_98200    -0.0034      0.000    -16.369      0.000      -0.004      -0.003\n",
       "==============================================================================\n",
       "Omnibus:                      338.502   Durbin-Watson:                   2.015\n",
       "Prob(Omnibus):                  0.000   Jarque-Bera (JB):              676.803\n",
       "Skew:                          -0.105   Prob(JB):                    1.08e-147\n",
       "Kurtosis:                       3.963   Cond. No.                     2.31e+07\n",
       "==============================================================================\n",
       "\n",
       "Notes:\n",
       "[1] Standard Errors assume that the covariance matrix of the errors is correctly specified.\n",
       "[2] The condition number is large, 2.31e+07. This might indicate that there are\n",
       "strong multicollinearity or other numerical problems.\n",
       "\"\"\""
      ]
     },
     "execution_count": 63,
     "metadata": {},
     "output_type": "execute_result"
    }
   ],
   "source": [
    "orig_tot = len(data)\n",
    "data = data[data.price > 0.9] # Subsetting to remove extreme outliers\n",
    "print('Percent removed:', (orig_tot -len(data))/orig_tot)\n",
    "\n",
    "# Refit model with subset features\n",
    "X = data[new_x_cols]\n",
    "y = data['price']\n",
    "X_train, X_test, y_train, y_test = train_test_split(X, y, test_size=0.2, random_state=51)\n",
    "X_int = sm.add_constant(X_train)\n",
    "model_4 = sm.OLS(y_train, X_int).fit()\n",
    "model_4.summary()"
   ]
  },
  {
   "cell_type": "code",
   "execution_count": 72,
   "metadata": {},
   "outputs": [
    {
     "data": {
      "text/plain": [
       "['const',\n",
       " 'sqft_lot',\n",
       " 'sqft_above',\n",
       " 'sqft_basement',\n",
       " 'yr_built',\n",
       " 'yr_renovated',\n",
       " 'lat',\n",
       " 'sqft_living15',\n",
       " 'bedro_2',\n",
       " 'bathr_1_to_2',\n",
       " 'bathr_2_to_3',\n",
       " 'bathr_3_to_4',\n",
       " 'bathr_4_to_5',\n",
       " 'floor_15',\n",
       " 'floor_20',\n",
       " 'floor_25',\n",
       " 'floor_30',\n",
       " 'water_10',\n",
       " 'view_10',\n",
       " 'view_20',\n",
       " 'view_30',\n",
       " 'view_40',\n",
       " 'condi_3',\n",
       " 'condi_4',\n",
       " 'condi_5',\n",
       " 'grade_4',\n",
       " 'zipco_98051_to_98100',\n",
       " 'zipco_98101_to_98150',\n",
       " 'zipco_98150_to_98200']"
      ]
     },
     "execution_count": 72,
     "metadata": {},
     "output_type": "execute_result"
    }
   ],
   "source": [
    "\n",
    "\n",
    "summary = model_4.summary()\n",
    "p_table = summary.tables[1]\n",
    "p_table = pd.DataFrame(p_table.data)\n",
    "\n",
    "p_table.columns = p_table.iloc[0]\n",
    "\n",
    "p_table.drop(0, inplace=True)\n",
    "\n",
    "p_table.set_index(p_table.columns[0], inplace=True)\n",
    "\n",
    "p_table['P>|t|'] = p_table['P>|t|'].astype(float)\n",
    "\n",
    "new_x_cols = list(p_table[p_table['P>|t|']<0.05].index)\n",
    "\n",
    "new_x_cols"
   ]
  },
  {
   "cell_type": "code",
   "execution_count": 73,
   "metadata": {},
   "outputs": [],
   "source": [
    "new_x_cols.remove('const')"
   ]
  },
  {
   "cell_type": "code",
   "execution_count": 74,
   "metadata": {
    "scrolled": true
   },
   "outputs": [
    {
     "name": "stdout",
     "output_type": "stream",
     "text": [
      "29 28\n"
     ]
    }
   ],
   "source": [
    "print(len(X.columns), len(new_x_cols))"
   ]
  },
  {
   "cell_type": "code",
   "execution_count": 75,
   "metadata": {
    "scrolled": false
   },
   "outputs": [
    {
     "data": {
      "text/html": [
       "<table class=\"simpletable\">\n",
       "<caption>OLS Regression Results</caption>\n",
       "<tr>\n",
       "  <th>Dep. Variable:</th>          <td>price</td>      <th>  R-squared:         </th>  <td>   0.706</td> \n",
       "</tr>\n",
       "<tr>\n",
       "  <th>Model:</th>                   <td>OLS</td>       <th>  Adj. R-squared:    </th>  <td>   0.705</td> \n",
       "</tr>\n",
       "<tr>\n",
       "  <th>Method:</th>             <td>Least Squares</td>  <th>  F-statistic:       </th>  <td>   1430.</td> \n",
       "</tr>\n",
       "<tr>\n",
       "  <th>Date:</th>             <td>Wed, 06 Jan 2021</td> <th>  Prob (F-statistic):</th>   <td>  0.00</td>  \n",
       "</tr>\n",
       "<tr>\n",
       "  <th>Time:</th>                 <td>18:27:30</td>     <th>  Log-Likelihood:    </th>  <td>  58007.</td> \n",
       "</tr>\n",
       "<tr>\n",
       "  <th>No. Observations:</th>      <td> 16707</td>      <th>  AIC:               </th> <td>-1.160e+05</td>\n",
       "</tr>\n",
       "<tr>\n",
       "  <th>Df Residuals:</th>          <td> 16678</td>      <th>  BIC:               </th> <td>-1.157e+05</td>\n",
       "</tr>\n",
       "<tr>\n",
       "  <th>Df Model:</th>              <td>    28</td>      <th>                     </th>      <td> </td>    \n",
       "</tr>\n",
       "<tr>\n",
       "  <th>Covariance Type:</th>      <td>nonrobust</td>    <th>                     </th>      <td> </td>    \n",
       "</tr>\n",
       "</table>\n",
       "<table class=\"simpletable\">\n",
       "<tr>\n",
       "            <td></td>              <th>coef</th>     <th>std err</th>      <th>t</th>      <th>P>|t|</th>  <th>[0.025</th>    <th>0.975]</th>  \n",
       "</tr>\n",
       "<tr>\n",
       "  <th>const</th>                <td>   -0.9924</td> <td>    0.024</td> <td>  -42.081</td> <td> 0.000</td> <td>   -1.039</td> <td>   -0.946</td>\n",
       "</tr>\n",
       "<tr>\n",
       "  <th>sqft_lot</th>             <td> 1.498e-08</td> <td> 1.49e-09</td> <td>   10.085</td> <td> 0.000</td> <td> 1.21e-08</td> <td> 1.79e-08</td>\n",
       "</tr>\n",
       "<tr>\n",
       "  <th>sqft_above</th>           <td> 6.524e-06</td> <td> 1.51e-07</td> <td>   43.105</td> <td> 0.000</td> <td> 6.23e-06</td> <td> 6.82e-06</td>\n",
       "</tr>\n",
       "<tr>\n",
       "  <th>sqft_basement</th>        <td> 4.787e-06</td> <td> 1.84e-07</td> <td>   26.040</td> <td> 0.000</td> <td> 4.43e-06</td> <td> 5.15e-06</td>\n",
       "</tr>\n",
       "<tr>\n",
       "  <th>yr_built</th>             <td>-4.227e-05</td> <td> 3.45e-06</td> <td>  -12.256</td> <td> 0.000</td> <td> -4.9e-05</td> <td>-3.55e-05</td>\n",
       "</tr>\n",
       "<tr>\n",
       "  <th>yr_renovated</th>         <td> 1.481e-06</td> <td> 1.75e-07</td> <td>    8.480</td> <td> 0.000</td> <td> 1.14e-06</td> <td> 1.82e-06</td>\n",
       "</tr>\n",
       "<tr>\n",
       "  <th>lat</th>                  <td>    0.0417</td> <td>    0.000</td> <td>   89.733</td> <td> 0.000</td> <td>    0.041</td> <td>    0.043</td>\n",
       "</tr>\n",
       "<tr>\n",
       "  <th>sqft_living15</th>        <td> 5.757e-06</td> <td> 1.51e-07</td> <td>   38.179</td> <td> 0.000</td> <td> 5.46e-06</td> <td> 6.05e-06</td>\n",
       "</tr>\n",
       "<tr>\n",
       "  <th>bedro_2</th>              <td>    0.0010</td> <td>    0.000</td> <td>    5.088</td> <td> 0.000</td> <td>    0.001</td> <td>    0.001</td>\n",
       "</tr>\n",
       "<tr>\n",
       "  <th>bathr_1_to_2</th>         <td>    0.0035</td> <td>    0.000</td> <td>   17.844</td> <td> 0.000</td> <td>    0.003</td> <td>    0.004</td>\n",
       "</tr>\n",
       "<tr>\n",
       "  <th>bathr_2_to_3</th>         <td>    0.0052</td> <td>    0.000</td> <td>   20.695</td> <td> 0.000</td> <td>    0.005</td> <td>    0.006</td>\n",
       "</tr>\n",
       "<tr>\n",
       "  <th>bathr_3_to_4</th>         <td>    0.0066</td> <td>    0.000</td> <td>   17.192</td> <td> 0.000</td> <td>    0.006</td> <td>    0.007</td>\n",
       "</tr>\n",
       "<tr>\n",
       "  <th>bathr_4_to_5</th>         <td>    0.0031</td> <td>    0.001</td> <td>    3.668</td> <td> 0.000</td> <td>    0.001</td> <td>    0.005</td>\n",
       "</tr>\n",
       "<tr>\n",
       "  <th>floor_15</th>             <td>    0.0013</td> <td>    0.000</td> <td>    5.642</td> <td> 0.000</td> <td>    0.001</td> <td>    0.002</td>\n",
       "</tr>\n",
       "<tr>\n",
       "  <th>floor_20</th>             <td>    0.0012</td> <td>    0.000</td> <td>    5.872</td> <td> 0.000</td> <td>    0.001</td> <td>    0.002</td>\n",
       "</tr>\n",
       "<tr>\n",
       "  <th>floor_25</th>             <td>    0.0048</td> <td>    0.001</td> <td>    6.066</td> <td> 0.000</td> <td>    0.003</td> <td>    0.006</td>\n",
       "</tr>\n",
       "<tr>\n",
       "  <th>floor_30</th>             <td>    0.0026</td> <td>    0.000</td> <td>    6.020</td> <td> 0.000</td> <td>    0.002</td> <td>    0.003</td>\n",
       "</tr>\n",
       "<tr>\n",
       "  <th>water_10</th>             <td>    0.0119</td> <td>    0.001</td> <td>   10.529</td> <td> 0.000</td> <td>    0.010</td> <td>    0.014</td>\n",
       "</tr>\n",
       "<tr>\n",
       "  <th>view_10</th>              <td>    0.0052</td> <td>    0.000</td> <td>   10.503</td> <td> 0.000</td> <td>    0.004</td> <td>    0.006</td>\n",
       "</tr>\n",
       "<tr>\n",
       "  <th>view_20</th>              <td>    0.0045</td> <td>    0.000</td> <td>   14.993</td> <td> 0.000</td> <td>    0.004</td> <td>    0.005</td>\n",
       "</tr>\n",
       "<tr>\n",
       "  <th>view_30</th>              <td>    0.0062</td> <td>    0.000</td> <td>   14.434</td> <td> 0.000</td> <td>    0.005</td> <td>    0.007</td>\n",
       "</tr>\n",
       "<tr>\n",
       "  <th>view_40</th>              <td>    0.0065</td> <td>    0.001</td> <td>    9.396</td> <td> 0.000</td> <td>    0.005</td> <td>    0.008</td>\n",
       "</tr>\n",
       "<tr>\n",
       "  <th>condi_3</th>              <td>    0.0047</td> <td>    0.001</td> <td>    7.649</td> <td> 0.000</td> <td>    0.004</td> <td>    0.006</td>\n",
       "</tr>\n",
       "<tr>\n",
       "  <th>condi_4</th>              <td>    0.0068</td> <td>    0.001</td> <td>   10.857</td> <td> 0.000</td> <td>    0.006</td> <td>    0.008</td>\n",
       "</tr>\n",
       "<tr>\n",
       "  <th>condi_5</th>              <td>    0.0084</td> <td>    0.001</td> <td>   13.016</td> <td> 0.000</td> <td>    0.007</td> <td>    0.010</td>\n",
       "</tr>\n",
       "<tr>\n",
       "  <th>grade_4</th>              <td>   -0.0053</td> <td>    0.002</td> <td>   -3.043</td> <td> 0.002</td> <td>   -0.009</td> <td>   -0.002</td>\n",
       "</tr>\n",
       "<tr>\n",
       "  <th>zipco_98051_to_98100</th> <td>   -0.0012</td> <td>    0.000</td> <td>   -7.546</td> <td> 0.000</td> <td>   -0.002</td> <td>   -0.001</td>\n",
       "</tr>\n",
       "<tr>\n",
       "  <th>zipco_98101_to_98150</th> <td>    0.0039</td> <td>    0.000</td> <td>   20.633</td> <td> 0.000</td> <td>    0.004</td> <td>    0.004</td>\n",
       "</tr>\n",
       "<tr>\n",
       "  <th>zipco_98150_to_98200</th> <td>   -0.0033</td> <td>    0.000</td> <td>  -14.887</td> <td> 0.000</td> <td>   -0.004</td> <td>   -0.003</td>\n",
       "</tr>\n",
       "</table>\n",
       "<table class=\"simpletable\">\n",
       "<tr>\n",
       "  <th>Omnibus:</th>       <td>249.960</td> <th>  Durbin-Watson:     </th> <td>   2.015</td>\n",
       "</tr>\n",
       "<tr>\n",
       "  <th>Prob(Omnibus):</th> <td> 0.000</td>  <th>  Jarque-Bera (JB):  </th> <td> 408.391</td>\n",
       "</tr>\n",
       "<tr>\n",
       "  <th>Skew:</th>          <td>-0.134</td>  <th>  Prob(JB):          </th> <td>2.08e-89</td>\n",
       "</tr>\n",
       "<tr>\n",
       "  <th>Kurtosis:</th>      <td> 3.717</td>  <th>  Cond. No.          </th> <td>1.76e+07</td>\n",
       "</tr>\n",
       "</table><br/><br/>Notes:<br/>[1] Standard Errors assume that the covariance matrix of the errors is correctly specified.<br/>[2] The condition number is large, 1.76e+07. This might indicate that there are<br/>strong multicollinearity or other numerical problems."
      ],
      "text/plain": [
       "<class 'statsmodels.iolib.summary.Summary'>\n",
       "\"\"\"\n",
       "                            OLS Regression Results                            \n",
       "==============================================================================\n",
       "Dep. Variable:                  price   R-squared:                       0.706\n",
       "Model:                            OLS   Adj. R-squared:                  0.705\n",
       "Method:                 Least Squares   F-statistic:                     1430.\n",
       "Date:                Wed, 06 Jan 2021   Prob (F-statistic):               0.00\n",
       "Time:                        18:27:30   Log-Likelihood:                 58007.\n",
       "No. Observations:               16707   AIC:                        -1.160e+05\n",
       "Df Residuals:                   16678   BIC:                        -1.157e+05\n",
       "Df Model:                          28                                         \n",
       "Covariance Type:            nonrobust                                         \n",
       "========================================================================================\n",
       "                           coef    std err          t      P>|t|      [0.025      0.975]\n",
       "----------------------------------------------------------------------------------------\n",
       "const                   -0.9924      0.024    -42.081      0.000      -1.039      -0.946\n",
       "sqft_lot              1.498e-08   1.49e-09     10.085      0.000    1.21e-08    1.79e-08\n",
       "sqft_above            6.524e-06   1.51e-07     43.105      0.000    6.23e-06    6.82e-06\n",
       "sqft_basement         4.787e-06   1.84e-07     26.040      0.000    4.43e-06    5.15e-06\n",
       "yr_built             -4.227e-05   3.45e-06    -12.256      0.000    -4.9e-05   -3.55e-05\n",
       "yr_renovated          1.481e-06   1.75e-07      8.480      0.000    1.14e-06    1.82e-06\n",
       "lat                      0.0417      0.000     89.733      0.000       0.041       0.043\n",
       "sqft_living15         5.757e-06   1.51e-07     38.179      0.000    5.46e-06    6.05e-06\n",
       "bedro_2                  0.0010      0.000      5.088      0.000       0.001       0.001\n",
       "bathr_1_to_2             0.0035      0.000     17.844      0.000       0.003       0.004\n",
       "bathr_2_to_3             0.0052      0.000     20.695      0.000       0.005       0.006\n",
       "bathr_3_to_4             0.0066      0.000     17.192      0.000       0.006       0.007\n",
       "bathr_4_to_5             0.0031      0.001      3.668      0.000       0.001       0.005\n",
       "floor_15                 0.0013      0.000      5.642      0.000       0.001       0.002\n",
       "floor_20                 0.0012      0.000      5.872      0.000       0.001       0.002\n",
       "floor_25                 0.0048      0.001      6.066      0.000       0.003       0.006\n",
       "floor_30                 0.0026      0.000      6.020      0.000       0.002       0.003\n",
       "water_10                 0.0119      0.001     10.529      0.000       0.010       0.014\n",
       "view_10                  0.0052      0.000     10.503      0.000       0.004       0.006\n",
       "view_20                  0.0045      0.000     14.993      0.000       0.004       0.005\n",
       "view_30                  0.0062      0.000     14.434      0.000       0.005       0.007\n",
       "view_40                  0.0065      0.001      9.396      0.000       0.005       0.008\n",
       "condi_3                  0.0047      0.001      7.649      0.000       0.004       0.006\n",
       "condi_4                  0.0068      0.001     10.857      0.000       0.006       0.008\n",
       "condi_5                  0.0084      0.001     13.016      0.000       0.007       0.010\n",
       "grade_4                 -0.0053      0.002     -3.043      0.002      -0.009      -0.002\n",
       "zipco_98051_to_98100    -0.0012      0.000     -7.546      0.000      -0.002      -0.001\n",
       "zipco_98101_to_98150     0.0039      0.000     20.633      0.000       0.004       0.004\n",
       "zipco_98150_to_98200    -0.0033      0.000    -14.887      0.000      -0.004      -0.003\n",
       "==============================================================================\n",
       "Omnibus:                      249.960   Durbin-Watson:                   2.015\n",
       "Prob(Omnibus):                  0.000   Jarque-Bera (JB):              408.391\n",
       "Skew:                          -0.134   Prob(JB):                     2.08e-89\n",
       "Kurtosis:                       3.717   Cond. No.                     1.76e+07\n",
       "==============================================================================\n",
       "\n",
       "Notes:\n",
       "[1] Standard Errors assume that the covariance matrix of the errors is correctly specified.\n",
       "[2] The condition number is large, 1.76e+07. This might indicate that there are\n",
       "strong multicollinearity or other numerical problems.\n",
       "\"\"\""
      ]
     },
     "execution_count": 75,
     "metadata": {},
     "output_type": "execute_result"
    }
   ],
   "source": [
    "X = data[new_x_cols]\n",
    "X_train, X_test, y_train, y_test = train_test_split(X, y, test_size=0.2, random_state=51)\n",
    "X_int = sm.add_constant(X_train)\n",
    "model_5 = sm.OLS(y_train, X_int).fit()\n",
    "model_5.summary()"
   ]
  },
  {
   "cell_type": "code",
   "execution_count": null,
   "metadata": {},
   "outputs": [],
   "source": []
  },
  {
   "cell_type": "code",
   "execution_count": 76,
   "metadata": {
    "scrolled": false
   },
   "outputs": [
    {
     "data": {
      "image/png": "[encoded data removed]",
      "text/plain": [
       "<Figure size 432x288 with 1 Axes>"
      ]
     },
     "metadata": {
      "needs_background": "light"
     },
     "output_type": "display_data"
    }
   ],
   "source": [
    "fig = sm.graphics.qqplot(model_5.resid, dist=stats.norm, line='45', fit=True)"
   ]
  },
  {
   "cell_type": "markdown",
   "metadata": {},
   "source": [
    "### Check Homoscedasticity Assumption"
   ]
  },
  {
   "cell_type": "code",
   "execution_count": 77,
   "metadata": {
    "scrolled": true
   },
   "outputs": [
    {
     "data": {
      "text/plain": [
       "[<matplotlib.lines.Line2D at 0x258b56910d0>]"
      ]
     },
     "execution_count": 77,
     "metadata": {},
     "output_type": "execute_result"
    },
    {
     "data": {
      "image/png": "[encoded data removed]",
      "text/plain": [
       "<Figure size 432x288 with 1 Axes>"
      ]
     },
     "metadata": {
      "needs_background": "light"
     },
     "output_type": "display_data"
    }
   ],
   "source": [
    "plt.scatter(model_5.predict(X_int), model_5.resid)\n",
    "plt.plot(model_5.predict(X_int), [0 for i in range(len(X_int))])"
   ]
  },
  {
   "cell_type": "code",
   "execution_count": null,
   "metadata": {},
   "outputs": [],
   "source": []
  },
  {
   "cell_type": "code",
   "execution_count": null,
   "metadata": {},
   "outputs": [],
   "source": []
  },
  {
   "cell_type": "markdown",
   "metadata": {},
   "source": [
    "further remove p-values **"
   ]
  },
  {
   "cell_type": "markdown",
   "metadata": {},
   "source": [
    "test assumptions again **"
   ]
  },
  {
   "cell_type": "markdown",
   "metadata": {},
   "source": [
    "### Investigate multicollinearity"
   ]
  },
  {
   "cell_type": "code",
   "execution_count": 78,
   "metadata": {},
   "outputs": [
    {
     "data": {
      "text/plain": [
       "[('sqft_lot', 1.2241689359674617),\n",
       " ('sqft_above', 24.24279565058057),\n",
       " ('sqft_basement', 2.4604025811694883),\n",
       " ('yr_built', 11844.512276305712),\n",
       " ('yr_renovated', 1.143805228269801),\n",
       " ('lat', 11843.504405132811),\n",
       " ('sqft_living15', 27.840514853063873),\n",
       " ('bedro_2', 1.497689093419075),\n",
       " ('bathr_1_to_2', 3.4097702144630135),\n",
       " ('bathr_2_to_3', 7.9155854087063195),\n",
       " ('bathr_3_to_4', 2.714042153275322),\n",
       " ('bathr_4_to_5', 1.2276819751688293),\n",
       " ('floor_15', 1.4267466029456146),\n",
       " ('floor_20', 4.335818161565248),\n",
       " ('floor_25', 1.0606458291009986),\n",
       " ('floor_30', 1.4523403788949316),\n",
       " ('water_10', 1.3070134632798556),\n",
       " ('view_10', 1.041185603921997),\n",
       " ('view_20', 1.1065065900669564),\n",
       " ('view_30', 1.0769865531440788),\n",
       " ('view_40', 1.3402904408136989),\n",
       " ('condi_3', 76.87645934497779),\n",
       " ('condi_4', 31.520149648746052),\n",
       " ('condi_5', 9.97545078467398),\n",
       " ('grade_4', 1.0108499645734441),\n",
       " ('zipco_98051_to_98100', 1.6758879842603804),\n",
       " ('zipco_98101_to_98150', 3.2491197928452187),\n",
       " ('zipco_98150_to_98200', 1.4763176921481302)]"
      ]
     },
     "execution_count": 78,
     "metadata": {},
     "output_type": "execute_result"
    }
   ],
   "source": [
    "X = data[new_x_cols]\n",
    "vif = [variance_inflation_factor(X.values, i) for i in range(X.shape[1])]\n",
    "list(zip(new_x_cols, vif))"
   ]
  },
  {
   "cell_type": "code",
   "execution_count": 81,
   "metadata": {
    "scrolled": true
   },
   "outputs": [
    {
     "name": "stdout",
     "output_type": "stream",
     "text": [
      "28 23\n"
     ]
    }
   ],
   "source": [
    "vif_scores = list(zip(new_x_cols, vif))\n",
    "x_cols_3 = [x for x,vif in vif_scores if vif < 25]\n",
    "print(len(vif_scores), len(x_cols_3))"
   ]
  },
  {
   "cell_type": "code",
   "execution_count": 82,
   "metadata": {
    "scrolled": true
   },
   "outputs": [
    {
     "data": {
      "text/html": [
       "<table class=\"simpletable\">\n",
       "<caption>OLS Regression Results</caption>\n",
       "<tr>\n",
       "  <th>Dep. Variable:</th>          <td>price</td>      <th>  R-squared:         </th>  <td>   0.506</td> \n",
       "</tr>\n",
       "<tr>\n",
       "  <th>Model:</th>                   <td>OLS</td>       <th>  Adj. R-squared:    </th>  <td>   0.505</td> \n",
       "</tr>\n",
       "<tr>\n",
       "  <th>Method:</th>             <td>Least Squares</td>  <th>  F-statistic:       </th>  <td>   742.1</td> \n",
       "</tr>\n",
       "<tr>\n",
       "  <th>Date:</th>             <td>Wed, 06 Jan 2021</td> <th>  Prob (F-statistic):</th>   <td>  0.00</td>  \n",
       "</tr>\n",
       "<tr>\n",
       "  <th>Time:</th>                 <td>18:29:03</td>     <th>  Log-Likelihood:    </th>  <td>  53626.</td> \n",
       "</tr>\n",
       "<tr>\n",
       "  <th>No. Observations:</th>      <td> 16707</td>      <th>  AIC:               </th> <td>-1.072e+05</td>\n",
       "</tr>\n",
       "<tr>\n",
       "  <th>Df Residuals:</th>          <td> 16683</td>      <th>  BIC:               </th> <td>-1.070e+05</td>\n",
       "</tr>\n",
       "<tr>\n",
       "  <th>Df Model:</th>              <td>    23</td>      <th>                     </th>      <td> </td>    \n",
       "</tr>\n",
       "<tr>\n",
       "  <th>Covariance Type:</th>      <td>nonrobust</td>    <th>                     </th>      <td> </td>    \n",
       "</tr>\n",
       "</table>\n",
       "<table class=\"simpletable\">\n",
       "<tr>\n",
       "            <td></td>              <th>coef</th>     <th>std err</th>      <th>t</th>      <th>P>|t|</th>  <th>[0.025</th>    <th>0.975]</th>  \n",
       "</tr>\n",
       "<tr>\n",
       "  <th>const</th>                <td>    0.9127</td> <td>    0.000</td> <td> 2891.590</td> <td> 0.000</td> <td>    0.912</td> <td>    0.913</td>\n",
       "</tr>\n",
       "<tr>\n",
       "  <th>sqft_lot</th>             <td> 7.575e-09</td> <td> 2.05e-09</td> <td>    3.699</td> <td> 0.000</td> <td> 3.56e-09</td> <td> 1.16e-08</td>\n",
       "</tr>\n",
       "<tr>\n",
       "  <th>sqft_above</th>           <td> 1.096e-05</td> <td> 1.62e-07</td> <td>   67.821</td> <td> 0.000</td> <td> 1.06e-05</td> <td> 1.13e-05</td>\n",
       "</tr>\n",
       "<tr>\n",
       "  <th>sqft_basement</th>        <td> 8.415e-06</td> <td> 2.27e-07</td> <td>   37.089</td> <td> 0.000</td> <td> 7.97e-06</td> <td> 8.86e-06</td>\n",
       "</tr>\n",
       "<tr>\n",
       "  <th>yr_renovated</th>         <td> 1.505e-06</td> <td> 2.14e-07</td> <td>    7.022</td> <td> 0.000</td> <td> 1.08e-06</td> <td> 1.92e-06</td>\n",
       "</tr>\n",
       "<tr>\n",
       "  <th>bedro_2</th>              <td>    0.0019</td> <td>    0.000</td> <td>    7.485</td> <td> 0.000</td> <td>    0.001</td> <td>    0.002</td>\n",
       "</tr>\n",
       "<tr>\n",
       "  <th>bathr_1_to_2</th>         <td>    0.0035</td> <td>    0.000</td> <td>   14.021</td> <td> 0.000</td> <td>    0.003</td> <td>    0.004</td>\n",
       "</tr>\n",
       "<tr>\n",
       "  <th>bathr_2_to_3</th>         <td>    0.0052</td> <td>    0.000</td> <td>   16.765</td> <td> 0.000</td> <td>    0.005</td> <td>    0.006</td>\n",
       "</tr>\n",
       "<tr>\n",
       "  <th>bathr_3_to_4</th>         <td>    0.0062</td> <td>    0.000</td> <td>   13.007</td> <td> 0.000</td> <td>    0.005</td> <td>    0.007</td>\n",
       "</tr>\n",
       "<tr>\n",
       "  <th>bathr_4_to_5</th>         <td>    0.0018</td> <td>    0.001</td> <td>    1.576</td> <td> 0.115</td> <td>   -0.000</td> <td>    0.004</td>\n",
       "</tr>\n",
       "<tr>\n",
       "  <th>floor_15</th>             <td>    0.0018</td> <td>    0.000</td> <td>    6.041</td> <td> 0.000</td> <td>    0.001</td> <td>    0.002</td>\n",
       "</tr>\n",
       "<tr>\n",
       "  <th>floor_20</th>             <td>   -0.0009</td> <td>    0.000</td> <td>   -3.709</td> <td> 0.000</td> <td>   -0.001</td> <td>   -0.000</td>\n",
       "</tr>\n",
       "<tr>\n",
       "  <th>floor_25</th>             <td>    0.0023</td> <td>    0.001</td> <td>    2.254</td> <td> 0.024</td> <td>    0.000</td> <td>    0.004</td>\n",
       "</tr>\n",
       "<tr>\n",
       "  <th>floor_30</th>             <td>    0.0005</td> <td>    0.001</td> <td>    0.997</td> <td> 0.319</td> <td>   -0.000</td> <td>    0.002</td>\n",
       "</tr>\n",
       "<tr>\n",
       "  <th>water_10</th>             <td>    0.0075</td> <td>    0.001</td> <td>    5.010</td> <td> 0.000</td> <td>    0.005</td> <td>    0.010</td>\n",
       "</tr>\n",
       "<tr>\n",
       "  <th>view_10</th>              <td>    0.0067</td> <td>    0.001</td> <td>   10.210</td> <td> 0.000</td> <td>    0.005</td> <td>    0.008</td>\n",
       "</tr>\n",
       "<tr>\n",
       "  <th>view_20</th>              <td>    0.0048</td> <td>    0.000</td> <td>   12.620</td> <td> 0.000</td> <td>    0.004</td> <td>    0.006</td>\n",
       "</tr>\n",
       "<tr>\n",
       "  <th>view_30</th>              <td>    0.0059</td> <td>    0.001</td> <td>   10.680</td> <td> 0.000</td> <td>    0.005</td> <td>    0.007</td>\n",
       "</tr>\n",
       "<tr>\n",
       "  <th>view_40</th>              <td>    0.0079</td> <td>    0.001</td> <td>    8.781</td> <td> 0.000</td> <td>    0.006</td> <td>    0.010</td>\n",
       "</tr>\n",
       "<tr>\n",
       "  <th>condi_5</th>              <td>    0.0033</td> <td>    0.000</td> <td>   11.493</td> <td> 0.000</td> <td>    0.003</td> <td>    0.004</td>\n",
       "</tr>\n",
       "<tr>\n",
       "  <th>grade_4</th>              <td>   -0.0059</td> <td>    0.002</td> <td>   -2.698</td> <td> 0.007</td> <td>   -0.010</td> <td>   -0.002</td>\n",
       "</tr>\n",
       "<tr>\n",
       "  <th>zipco_98051_to_98100</th> <td>    0.0016</td> <td>    0.000</td> <td>    7.509</td> <td> 0.000</td> <td>    0.001</td> <td>    0.002</td>\n",
       "</tr>\n",
       "<tr>\n",
       "  <th>zipco_98101_to_98150</th> <td>    0.0089</td> <td>    0.000</td> <td>   41.561</td> <td> 0.000</td> <td>    0.008</td> <td>    0.009</td>\n",
       "</tr>\n",
       "<tr>\n",
       "  <th>zipco_98150_to_98200</th> <td>   -0.0005</td> <td>    0.000</td> <td>   -1.820</td> <td> 0.069</td> <td>   -0.001</td> <td> 3.91e-05</td>\n",
       "</tr>\n",
       "</table>\n",
       "<table class=\"simpletable\">\n",
       "<tr>\n",
       "  <th>Omnibus:</th>       <td> 3.203</td> <th>  Durbin-Watson:     </th> <td>   1.987</td>\n",
       "</tr>\n",
       "<tr>\n",
       "  <th>Prob(Omnibus):</th> <td> 0.202</td> <th>  Jarque-Bera (JB):  </th> <td>   3.227</td>\n",
       "</tr>\n",
       "<tr>\n",
       "  <th>Skew:</th>          <td>-0.031</td> <th>  Prob(JB):          </th> <td>   0.199</td>\n",
       "</tr>\n",
       "<tr>\n",
       "  <th>Kurtosis:</th>      <td> 2.971</td> <th>  Cond. No.          </th> <td>1.19e+06</td>\n",
       "</tr>\n",
       "</table><br/><br/>Notes:<br/>[1] Standard Errors assume that the covariance matrix of the errors is correctly specified.<br/>[2] The condition number is large, 1.19e+06. This might indicate that there are<br/>strong multicollinearity or other numerical problems."
      ],
      "text/plain": [
       "<class 'statsmodels.iolib.summary.Summary'>\n",
       "\"\"\"\n",
       "                            OLS Regression Results                            \n",
       "==============================================================================\n",
       "Dep. Variable:                  price   R-squared:                       0.506\n",
       "Model:                            OLS   Adj. R-squared:                  0.505\n",
       "Method:                 Least Squares   F-statistic:                     742.1\n",
       "Date:                Wed, 06 Jan 2021   Prob (F-statistic):               0.00\n",
       "Time:                        18:29:03   Log-Likelihood:                 53626.\n",
       "No. Observations:               16707   AIC:                        -1.072e+05\n",
       "Df Residuals:                   16683   BIC:                        -1.070e+05\n",
       "Df Model:                          23                                         \n",
       "Covariance Type:            nonrobust                                         \n",
       "========================================================================================\n",
       "                           coef    std err          t      P>|t|      [0.025      0.975]\n",
       "----------------------------------------------------------------------------------------\n",
       "const                    0.9127      0.000   2891.590      0.000       0.912       0.913\n",
       "sqft_lot              7.575e-09   2.05e-09      3.699      0.000    3.56e-09    1.16e-08\n",
       "sqft_above            1.096e-05   1.62e-07     67.821      0.000    1.06e-05    1.13e-05\n",
       "sqft_basement         8.415e-06   2.27e-07     37.089      0.000    7.97e-06    8.86e-06\n",
       "yr_renovated          1.505e-06   2.14e-07      7.022      0.000    1.08e-06    1.92e-06\n",
       "bedro_2                  0.0019      0.000      7.485      0.000       0.001       0.002\n",
       "bathr_1_to_2             0.0035      0.000     14.021      0.000       0.003       0.004\n",
       "bathr_2_to_3             0.0052      0.000     16.765      0.000       0.005       0.006\n",
       "bathr_3_to_4             0.0062      0.000     13.007      0.000       0.005       0.007\n",
       "bathr_4_to_5             0.0018      0.001      1.576      0.115      -0.000       0.004\n",
       "floor_15                 0.0018      0.000      6.041      0.000       0.001       0.002\n",
       "floor_20                -0.0009      0.000     -3.709      0.000      -0.001      -0.000\n",
       "floor_25                 0.0023      0.001      2.254      0.024       0.000       0.004\n",
       "floor_30                 0.0005      0.001      0.997      0.319      -0.000       0.002\n",
       "water_10                 0.0075      0.001      5.010      0.000       0.005       0.010\n",
       "view_10                  0.0067      0.001     10.210      0.000       0.005       0.008\n",
       "view_20                  0.0048      0.000     12.620      0.000       0.004       0.006\n",
       "view_30                  0.0059      0.001     10.680      0.000       0.005       0.007\n",
       "view_40                  0.0079      0.001      8.781      0.000       0.006       0.010\n",
       "condi_5                  0.0033      0.000     11.493      0.000       0.003       0.004\n",
       "grade_4                 -0.0059      0.002     -2.698      0.007      -0.010      -0.002\n",
       "zipco_98051_to_98100     0.0016      0.000      7.509      0.000       0.001       0.002\n",
       "zipco_98101_to_98150     0.0089      0.000     41.561      0.000       0.008       0.009\n",
       "zipco_98150_to_98200    -0.0005      0.000     -1.820      0.069      -0.001    3.91e-05\n",
       "==============================================================================\n",
       "Omnibus:                        3.203   Durbin-Watson:                   1.987\n",
       "Prob(Omnibus):                  0.202   Jarque-Bera (JB):                3.227\n",
       "Skew:                          -0.031   Prob(JB):                        0.199\n",
       "Kurtosis:                       2.971   Cond. No.                     1.19e+06\n",
       "==============================================================================\n",
       "\n",
       "Notes:\n",
       "[1] Standard Errors assume that the covariance matrix of the errors is correctly specified.\n",
       "[2] The condition number is large, 1.19e+06. This might indicate that there are\n",
       "strong multicollinearity or other numerical problems.\n",
       "\"\"\""
      ]
     },
     "execution_count": 82,
     "metadata": {},
     "output_type": "execute_result"
    }
   ],
   "source": [
    "X = data[x_cols_3]\n",
    "X_train, X_test, y_train, y_test = train_test_split(X, y, test_size=0.2, random_state=21)\n",
    "X_int = sm.add_constant(X_train)\n",
    "model_3 = sm.OLS(y_train, X_int).fit()\n",
    "model_3.summary()"
   ]
  },
  {
   "cell_type": "code",
   "execution_count": 67,
   "metadata": {},
   "outputs": [],
   "source": [
    "# save absolute value of correlation matrix as a data frame\n",
    "# converts all values to absolute value\n",
    "# stacks the row:column pairs into a multindex\n",
    "# reset the index to set the multindex to seperate columns\n",
    "# sort values. 0 is the column automatically generated by the stacking\n",
    "\n",
    "df_pairs=data.corr().abs().stack().reset_index().sort_values(0, ascending=False)\n",
    "\n",
    "# zip the variable name columns (Which were only named level_0 and level_1 by default) in a new column named \"pairs\"\n",
    "df_pairs['pairs'] = list(zip(df_pairs.level_0, df_pairs.level_1))\n",
    "\n",
    "# set index to pairs\n",
    "df_pairs.set_index(['pairs'], inplace = True)\n",
    "\n",
    "#d rop level columns\n",
    "df_pairs.drop(columns=['level_1', 'level_0'], inplace = True)\n",
    "\n",
    "# rename correlation column as cc rather than 0\n",
    "df_pairs.columns = ['cc']\n",
    "\n",
    "# drop duplicates. This could be dangerous if you have variables perfectly correlated with variables other than themselves.\n",
    "# for the sake of exercise, kept it in.\n",
    "df_pairs.drop_duplicates(inplace=True)"
   ]
  },
  {
   "cell_type": "code",
   "execution_count": 68,
   "metadata": {
    "scrolled": true
   },
   "outputs": [
    {
     "data": {
      "text/html": [
       "<div>\n",
       "<style scoped>\n",
       "    .dataframe tbody tr th:only-of-type {\n",
       "        vertical-align: middle;\n",
       "    }\n",
       "\n",
       "    .dataframe tbody tr th {\n",
       "        vertical-align: top;\n",
       "    }\n",
       "\n",
       "    .dataframe thead th {\n",
       "        text-align: right;\n",
       "    }\n",
       "</style>\n",
       "<table border=\"1\" class=\"dataframe\">\n",
       "  <thead>\n",
       "    <tr style=\"text-align: right;\">\n",
       "      <th></th>\n",
       "      <th>cc</th>\n",
       "    </tr>\n",
       "    <tr>\n",
       "      <th>pairs</th>\n",
       "      <th></th>\n",
       "    </tr>\n",
       "  </thead>\n",
       "  <tbody>\n",
       "    <tr>\n",
       "      <th>(condi_3, condi_4)</th>\n",
       "      <td>0.816021</td>\n",
       "    </tr>\n",
       "  </tbody>\n",
       "</table>\n",
       "</div>"
      ],
      "text/plain": [
       "                          cc\n",
       "pairs                       \n",
       "(condi_3, condi_4)  0.816021"
      ]
     },
     "execution_count": 68,
     "metadata": {},
     "output_type": "execute_result"
    }
   ],
   "source": [
    "df_pairs[(df_pairs.cc>.75) & (df_pairs.cc <1)]"
   ]
  },
  {
   "cell_type": "markdown",
   "metadata": {},
   "source": [
    "This is a decent model with R-squared of 0.721. However, it looks like many of our predictors have a p-value greater than 0.05. Let's use a stepwise selection to start with an empty model, and only adds variables with an estimated p-value less than 0.05."
   ]
  },
  {
   "cell_type": "code",
   "execution_count": 69,
   "metadata": {},
   "outputs": [],
   "source": [
    "def stepwise_selection(X, y, \n",
    "                       initial_list=[], \n",
    "                       threshold_in=0.01, \n",
    "                       threshold_out = 0.05, \n",
    "                       verbose=True):\n",
    "    \"\"\" Perform a forward-backward feature selection \n",
    "    based on p-value from statsmodels.api.OLS\n",
    "    Arguments:\n",
    "        X - pandas.DataFrame with candidate features\n",
    "        y - list-like with the target\n",
    "        initial_list - list of features to start with (column names of X)\n",
    "        threshold_in - include a feature if its p-value < threshold_in\n",
    "        threshold_out - exclude a feature if its p-value > threshold_out\n",
    "        verbose - whether to print the sequence of inclusions and exclusions\n",
    "    Returns: list of selected features \n",
    "    Always set threshold_in < threshold_out to avoid infinite looping.\n",
    "    See https://en.wikipedia.org/wiki/Stepwise_regression for the details\n",
    "    \"\"\"\n",
    "    included = list(initial_list)\n",
    "    while True:\n",
    "        changed=False\n",
    "        # forward step\n",
    "        excluded = list(set(X.columns)-set(included))\n",
    "        new_pval = pd.Series(index=excluded)\n",
    "        for new_column in excluded:\n",
    "            model = sm.OLS(y, sm.add_constant(pd.DataFrame(X[included+[new_column]]))).fit()\n",
    "            new_pval[new_column] = model.pvalues[new_column]\n",
    "        best_pval = new_pval.min()\n",
    "        if best_pval < threshold_in:\n",
    "            best_feature = new_pval.idxmin()\n",
    "            included.append(best_feature)\n",
    "            changed=True\n",
    "            if verbose:\n",
    "                print('Add  {:30} with p-value {:.6}'.format(best_feature, best_pval))\n",
    "\n",
    "        # backward step\n",
    "        model = sm.OLS(y, sm.add_constant(pd.DataFrame(X[included]))).fit()\n",
    "        # use all coefs except intercept\n",
    "        pvalues = model.pvalues.iloc[1:]\n",
    "        worst_pval = pvalues.max() # null if pvalues is empty\n",
    "        if worst_pval > threshold_out:\n",
    "            changed=True\n",
    "            worst_feature = pvalues.idxmax()\n",
    "            included.remove(worst_feature)\n",
    "            if verbose:\n",
    "                print('Drop {:30} with p-value {:.6}'.format(worst_feature, worst_pval))\n",
    "        if not changed:\n",
    "            break\n",
    "    return included"
   ]
  },
  {
   "cell_type": "code",
   "execution_count": 70,
   "metadata": {},
   "outputs": [
    {
     "name": "stderr",
     "output_type": "stream",
     "text": [
      "<ipython-input-69-3a06d07146b7>:24: DeprecationWarning: The default dtype for empty Series will be 'object' instead of 'float64' in a future version. Specify a dtype explicitly to silence this warning.\n",
      "  new_pval = pd.Series(index=excluded)\n"
     ]
    },
    {
     "name": "stdout",
     "output_type": "stream",
     "text": [
      "Add  floor_20                       with p-value 0.0\n"
     ]
    },
    {
     "name": "stderr",
     "output_type": "stream",
     "text": [
      "<ipython-input-69-3a06d07146b7>:24: DeprecationWarning: The default dtype for empty Series will be 'object' instead of 'float64' in a future version. Specify a dtype explicitly to silence this warning.\n",
      "  new_pval = pd.Series(index=excluded)\n"
     ]
    },
    {
     "name": "stdout",
     "output_type": "stream",
     "text": [
      "Add  sqft_above                     with p-value 0.0\n"
     ]
    },
    {
     "name": "stderr",
     "output_type": "stream",
     "text": [
      "<ipython-input-69-3a06d07146b7>:24: DeprecationWarning: The default dtype for empty Series will be 'object' instead of 'float64' in a future version. Specify a dtype explicitly to silence this warning.\n",
      "  new_pval = pd.Series(index=excluded)\n"
     ]
    },
    {
     "name": "stdout",
     "output_type": "stream",
     "text": [
      "Add  zipco_98101_to_98150           with p-value 0.0\n"
     ]
    },
    {
     "name": "stderr",
     "output_type": "stream",
     "text": [
      "<ipython-input-69-3a06d07146b7>:24: DeprecationWarning: The default dtype for empty Series will be 'object' instead of 'float64' in a future version. Specify a dtype explicitly to silence this warning.\n",
      "  new_pval = pd.Series(index=excluded)\n"
     ]
    },
    {
     "name": "stdout",
     "output_type": "stream",
     "text": [
      "Add  sqft_living15                  with p-value 0.0\n"
     ]
    },
    {
     "name": "stderr",
     "output_type": "stream",
     "text": [
      "<ipython-input-69-3a06d07146b7>:24: DeprecationWarning: The default dtype for empty Series will be 'object' instead of 'float64' in a future version. Specify a dtype explicitly to silence this warning.\n",
      "  new_pval = pd.Series(index=excluded)\n"
     ]
    },
    {
     "name": "stdout",
     "output_type": "stream",
     "text": [
      "Add  sqft_basement                  with p-value 0.0\n"
     ]
    },
    {
     "name": "stderr",
     "output_type": "stream",
     "text": [
      "<ipython-input-69-3a06d07146b7>:24: DeprecationWarning: The default dtype for empty Series will be 'object' instead of 'float64' in a future version. Specify a dtype explicitly to silence this warning.\n",
      "  new_pval = pd.Series(index=excluded)\n"
     ]
    },
    {
     "name": "stdout",
     "output_type": "stream",
     "text": [
      "Add  condi_5                        with p-value 1.19227e-47\n",
      "Drop floor_20                       with p-value 0.151635\n"
     ]
    },
    {
     "name": "stderr",
     "output_type": "stream",
     "text": [
      "<ipython-input-69-3a06d07146b7>:24: DeprecationWarning: The default dtype for empty Series will be 'object' instead of 'float64' in a future version. Specify a dtype explicitly to silence this warning.\n",
      "  new_pval = pd.Series(index=excluded)\n"
     ]
    },
    {
     "name": "stdout",
     "output_type": "stream",
     "text": [
      "Add  water_10                       with p-value 3.06567e-40\n"
     ]
    },
    {
     "name": "stderr",
     "output_type": "stream",
     "text": [
      "<ipython-input-69-3a06d07146b7>:24: DeprecationWarning: The default dtype for empty Series will be 'object' instead of 'float64' in a future version. Specify a dtype explicitly to silence this warning.\n",
      "  new_pval = pd.Series(index=excluded)\n"
     ]
    },
    {
     "name": "stdout",
     "output_type": "stream",
     "text": [
      "Add  condi_4                        with p-value 3.93172e-35\n"
     ]
    },
    {
     "name": "stderr",
     "output_type": "stream",
     "text": [
      "<ipython-input-69-3a06d07146b7>:24: DeprecationWarning: The default dtype for empty Series will be 'object' instead of 'float64' in a future version. Specify a dtype explicitly to silence this warning.\n",
      "  new_pval = pd.Series(index=excluded)\n"
     ]
    },
    {
     "name": "stdout",
     "output_type": "stream",
     "text": [
      "Add  yr_renovated                   with p-value 5.70476e-32\n"
     ]
    },
    {
     "name": "stderr",
     "output_type": "stream",
     "text": [
      "<ipython-input-69-3a06d07146b7>:24: DeprecationWarning: The default dtype for empty Series will be 'object' instead of 'float64' in a future version. Specify a dtype explicitly to silence this warning.\n",
      "  new_pval = pd.Series(index=excluded)\n"
     ]
    },
    {
     "name": "stdout",
     "output_type": "stream",
     "text": [
      "Add  floor_30                       with p-value 8.04333e-23\n"
     ]
    },
    {
     "name": "stderr",
     "output_type": "stream",
     "text": [
      "<ipython-input-69-3a06d07146b7>:24: DeprecationWarning: The default dtype for empty Series will be 'object' instead of 'float64' in a future version. Specify a dtype explicitly to silence this warning.\n",
      "  new_pval = pd.Series(index=excluded)\n"
     ]
    },
    {
     "name": "stdout",
     "output_type": "stream",
     "text": [
      "Add  view_20                        with p-value 1.85909e-14\n"
     ]
    },
    {
     "name": "stderr",
     "output_type": "stream",
     "text": [
      "<ipython-input-69-3a06d07146b7>:24: DeprecationWarning: The default dtype for empty Series will be 'object' instead of 'float64' in a future version. Specify a dtype explicitly to silence this warning.\n",
      "  new_pval = pd.Series(index=excluded)\n"
     ]
    },
    {
     "name": "stdout",
     "output_type": "stream",
     "text": [
      "Add  bathr_2_to_3                   with p-value 3.72877e-12\n"
     ]
    },
    {
     "name": "stderr",
     "output_type": "stream",
     "text": [
      "<ipython-input-69-3a06d07146b7>:24: DeprecationWarning: The default dtype for empty Series will be 'object' instead of 'float64' in a future version. Specify a dtype explicitly to silence this warning.\n",
      "  new_pval = pd.Series(index=excluded)\n"
     ]
    },
    {
     "name": "stdout",
     "output_type": "stream",
     "text": [
      "Add  bathr_1_to_2                   with p-value 1.33017e-17\n"
     ]
    },
    {
     "name": "stderr",
     "output_type": "stream",
     "text": [
      "<ipython-input-69-3a06d07146b7>:24: DeprecationWarning: The default dtype for empty Series will be 'object' instead of 'float64' in a future version. Specify a dtype explicitly to silence this warning.\n",
      "  new_pval = pd.Series(index=excluded)\n"
     ]
    },
    {
     "name": "stdout",
     "output_type": "stream",
     "text": [
      "Add  bathr_3_to_4                   with p-value 2.1845e-36\n"
     ]
    },
    {
     "name": "stderr",
     "output_type": "stream",
     "text": [
      "<ipython-input-69-3a06d07146b7>:24: DeprecationWarning: The default dtype for empty Series will be 'object' instead of 'float64' in a future version. Specify a dtype explicitly to silence this warning.\n",
      "  new_pval = pd.Series(index=excluded)\n"
     ]
    },
    {
     "name": "stdout",
     "output_type": "stream",
     "text": [
      "Add  floor_15                       with p-value 1.30314e-14\n"
     ]
    },
    {
     "name": "stderr",
     "output_type": "stream",
     "text": [
      "<ipython-input-69-3a06d07146b7>:24: DeprecationWarning: The default dtype for empty Series will be 'object' instead of 'float64' in a future version. Specify a dtype explicitly to silence this warning.\n",
      "  new_pval = pd.Series(index=excluded)\n"
     ]
    },
    {
     "name": "stdout",
     "output_type": "stream",
     "text": [
      "Add  bedro_2                        with p-value 1.26589e-16\n"
     ]
    },
    {
     "name": "stderr",
     "output_type": "stream",
     "text": [
      "<ipython-input-69-3a06d07146b7>:24: DeprecationWarning: The default dtype for empty Series will be 'object' instead of 'float64' in a future version. Specify a dtype explicitly to silence this warning.\n",
      "  new_pval = pd.Series(index=excluded)\n"
     ]
    },
    {
     "name": "stdout",
     "output_type": "stream",
     "text": [
      "Add  view_30                        with p-value 6.66922e-11\n"
     ]
    },
    {
     "name": "stderr",
     "output_type": "stream",
     "text": [
      "<ipython-input-69-3a06d07146b7>:24: DeprecationWarning: The default dtype for empty Series will be 'object' instead of 'float64' in a future version. Specify a dtype explicitly to silence this warning.\n",
      "  new_pval = pd.Series(index=excluded)\n"
     ]
    },
    {
     "name": "stdout",
     "output_type": "stream",
     "text": [
      "Add  view_10                        with p-value 2.5211e-11\n"
     ]
    },
    {
     "name": "stderr",
     "output_type": "stream",
     "text": [
      "<ipython-input-69-3a06d07146b7>:24: DeprecationWarning: The default dtype for empty Series will be 'object' instead of 'float64' in a future version. Specify a dtype explicitly to silence this warning.\n",
      "  new_pval = pd.Series(index=excluded)\n"
     ]
    },
    {
     "name": "stdout",
     "output_type": "stream",
     "text": [
      "Add  view_40                        with p-value 3.55182e-10\n"
     ]
    },
    {
     "name": "stderr",
     "output_type": "stream",
     "text": [
      "<ipython-input-69-3a06d07146b7>:24: DeprecationWarning: The default dtype for empty Series will be 'object' instead of 'float64' in a future version. Specify a dtype explicitly to silence this warning.\n",
      "  new_pval = pd.Series(index=excluded)\n"
     ]
    },
    {
     "name": "stdout",
     "output_type": "stream",
     "text": [
      "Add  floor_25                       with p-value 3.85703e-07\n"
     ]
    },
    {
     "name": "stderr",
     "output_type": "stream",
     "text": [
      "<ipython-input-69-3a06d07146b7>:24: DeprecationWarning: The default dtype for empty Series will be 'object' instead of 'float64' in a future version. Specify a dtype explicitly to silence this warning.\n",
      "  new_pval = pd.Series(index=excluded)\n"
     ]
    },
    {
     "name": "stdout",
     "output_type": "stream",
     "text": [
      "Add  zipco_98051_to_98100           with p-value 1.37966e-06\n"
     ]
    },
    {
     "name": "stderr",
     "output_type": "stream",
     "text": [
      "<ipython-input-69-3a06d07146b7>:24: DeprecationWarning: The default dtype for empty Series will be 'object' instead of 'float64' in a future version. Specify a dtype explicitly to silence this warning.\n",
      "  new_pval = pd.Series(index=excluded)\n"
     ]
    },
    {
     "name": "stdout",
     "output_type": "stream",
     "text": [
      "Add  sqft_lot                       with p-value 1.72197e-05\n"
     ]
    },
    {
     "name": "stderr",
     "output_type": "stream",
     "text": [
      "<ipython-input-69-3a06d07146b7>:24: DeprecationWarning: The default dtype for empty Series will be 'object' instead of 'float64' in a future version. Specify a dtype explicitly to silence this warning.\n",
      "  new_pval = pd.Series(index=excluded)\n"
     ]
    },
    {
     "name": "stdout",
     "output_type": "stream",
     "text": [
      "Add  zipco_98150_to_98200           with p-value 7.71157e-05\n"
     ]
    },
    {
     "name": "stderr",
     "output_type": "stream",
     "text": [
      "<ipython-input-69-3a06d07146b7>:24: DeprecationWarning: The default dtype for empty Series will be 'object' instead of 'float64' in a future version. Specify a dtype explicitly to silence this warning.\n",
      "  new_pval = pd.Series(index=excluded)\n"
     ]
    },
    {
     "name": "stdout",
     "output_type": "stream",
     "text": [
      "Add  grade_4                        with p-value 0.00146777\n"
     ]
    },
    {
     "name": "stderr",
     "output_type": "stream",
     "text": [
      "<ipython-input-69-3a06d07146b7>:24: DeprecationWarning: The default dtype for empty Series will be 'object' instead of 'float64' in a future version. Specify a dtype explicitly to silence this warning.\n",
      "  new_pval = pd.Series(index=excluded)\n"
     ]
    },
    {
     "name": "stdout",
     "output_type": "stream",
     "text": [
      "Add  sqft_lot15                     with p-value 0.00431138\n"
     ]
    },
    {
     "name": "stderr",
     "output_type": "stream",
     "text": [
      "<ipython-input-69-3a06d07146b7>:24: DeprecationWarning: The default dtype for empty Series will be 'object' instead of 'float64' in a future version. Specify a dtype explicitly to silence this warning.\n",
      "  new_pval = pd.Series(index=excluded)\n"
     ]
    },
    {
     "name": "stdout",
     "output_type": "stream",
     "text": [
      "resulting features:\n",
      "['sqft_above', 'zipco_98101_to_98150', 'sqft_living15', 'sqft_basement', 'condi_5', 'water_10', 'condi_4', 'yr_renovated', 'floor_30', 'view_20', 'bathr_2_to_3', 'bathr_1_to_2', 'bathr_3_to_4', 'floor_15', 'bedro_2', 'view_30', 'view_10', 'view_40', 'floor_25', 'zipco_98051_to_98100', 'sqft_lot', 'zipco_98150_to_98200', 'grade_4', 'sqft_lot15']\n"
     ]
    }
   ],
   "source": [
    "result = stepwise_selection(X, y, verbose=True)\n",
    "print('resulting features:')\n",
    "print(result)"
   ]
  },
  {
   "cell_type": "code",
   "execution_count": 71,
   "metadata": {
    "scrolled": true
   },
   "outputs": [
    {
     "data": {
      "text/html": [
       "<table class=\"simpletable\">\n",
       "<caption>OLS Regression Results</caption>\n",
       "<tr>\n",
       "  <th>Dep. Variable:</th>          <td>price</td>      <th>  R-squared:         </th>  <td>   0.556</td> \n",
       "</tr>\n",
       "<tr>\n",
       "  <th>Model:</th>                   <td>OLS</td>       <th>  Adj. R-squared:    </th>  <td>   0.556</td> \n",
       "</tr>\n",
       "<tr>\n",
       "  <th>Method:</th>             <td>Least Squares</td>  <th>  F-statistic:       </th>  <td>   1089.</td> \n",
       "</tr>\n",
       "<tr>\n",
       "  <th>Date:</th>             <td>Wed, 06 Jan 2021</td> <th>  Prob (F-statistic):</th>   <td>  0.00</td>  \n",
       "</tr>\n",
       "<tr>\n",
       "  <th>Time:</th>                 <td>18:15:58</td>     <th>  Log-Likelihood:    </th>  <td>  68185.</td> \n",
       "</tr>\n",
       "<tr>\n",
       "  <th>No. Observations:</th>      <td> 20884</td>      <th>  AIC:               </th> <td>-1.363e+05</td>\n",
       "</tr>\n",
       "<tr>\n",
       "  <th>Df Residuals:</th>          <td> 20859</td>      <th>  BIC:               </th> <td>-1.361e+05</td>\n",
       "</tr>\n",
       "<tr>\n",
       "  <th>Df Model:</th>              <td>    24</td>      <th>                     </th>      <td> </td>    \n",
       "</tr>\n",
       "<tr>\n",
       "  <th>Covariance Type:</th>      <td>nonrobust</td>    <th>                     </th>      <td> </td>    \n",
       "</tr>\n",
       "</table>\n",
       "<table class=\"simpletable\">\n",
       "<tr>\n",
       "            <td></td>              <th>coef</th>     <th>std err</th>      <th>t</th>      <th>P>|t|</th>  <th>[0.025</th>    <th>0.975]</th>  \n",
       "</tr>\n",
       "<tr>\n",
       "  <th>const</th>                <td>    0.9048</td> <td>    0.000</td> <td> 2908.158</td> <td> 0.000</td> <td>    0.904</td> <td>    0.905</td>\n",
       "</tr>\n",
       "<tr>\n",
       "  <th>sqft_above</th>           <td>  6.76e-06</td> <td> 1.52e-07</td> <td>   44.509</td> <td> 0.000</td> <td> 6.46e-06</td> <td> 7.06e-06</td>\n",
       "</tr>\n",
       "<tr>\n",
       "  <th>zipco_98101_to_98150</th> <td>    0.0105</td> <td>    0.000</td> <td>   57.440</td> <td> 0.000</td> <td>    0.010</td> <td>    0.011</td>\n",
       "</tr>\n",
       "<tr>\n",
       "  <th>sqft_living15</th>        <td>  7.69e-06</td> <td> 1.64e-07</td> <td>   46.961</td> <td> 0.000</td> <td> 7.37e-06</td> <td> 8.01e-06</td>\n",
       "</tr>\n",
       "<tr>\n",
       "  <th>sqft_basement</th>        <td> 5.849e-06</td> <td> 1.86e-07</td> <td>   31.467</td> <td> 0.000</td> <td> 5.49e-06</td> <td> 6.21e-06</td>\n",
       "</tr>\n",
       "<tr>\n",
       "  <th>condi_5</th>              <td>    0.0045</td> <td>    0.000</td> <td>   17.716</td> <td> 0.000</td> <td>    0.004</td> <td>    0.005</td>\n",
       "</tr>\n",
       "<tr>\n",
       "  <th>water_10</th>             <td>    0.0093</td> <td>    0.001</td> <td>    7.352</td> <td> 0.000</td> <td>    0.007</td> <td>    0.012</td>\n",
       "</tr>\n",
       "<tr>\n",
       "  <th>condi_4</th>              <td>    0.0023</td> <td>    0.000</td> <td>   14.726</td> <td> 0.000</td> <td>    0.002</td> <td>    0.003</td>\n",
       "</tr>\n",
       "<tr>\n",
       "  <th>yr_renovated</th>         <td> 2.104e-06</td> <td> 1.85e-07</td> <td>   11.376</td> <td> 0.000</td> <td> 1.74e-06</td> <td> 2.47e-06</td>\n",
       "</tr>\n",
       "<tr>\n",
       "  <th>floor_30</th>             <td>    0.0029</td> <td>    0.000</td> <td>    7.064</td> <td> 0.000</td> <td>    0.002</td> <td>    0.004</td>\n",
       "</tr>\n",
       "<tr>\n",
       "  <th>view_20</th>              <td>    0.0029</td> <td>    0.000</td> <td>    8.830</td> <td> 0.000</td> <td>    0.002</td> <td>    0.004</td>\n",
       "</tr>\n",
       "<tr>\n",
       "  <th>bathr_2_to_3</th>         <td>    0.0042</td> <td>    0.000</td> <td>   18.943</td> <td> 0.000</td> <td>    0.004</td> <td>    0.005</td>\n",
       "</tr>\n",
       "<tr>\n",
       "  <th>bathr_1_to_2</th>         <td>    0.0031</td> <td>    0.000</td> <td>   15.414</td> <td> 0.000</td> <td>    0.003</td> <td>    0.003</td>\n",
       "</tr>\n",
       "<tr>\n",
       "  <th>bathr_3_to_4</th>         <td>    0.0053</td> <td>    0.000</td> <td>   14.409</td> <td> 0.000</td> <td>    0.005</td> <td>    0.006</td>\n",
       "</tr>\n",
       "<tr>\n",
       "  <th>floor_15</th>             <td>    0.0020</td> <td>    0.000</td> <td>    8.477</td> <td> 0.000</td> <td>    0.002</td> <td>    0.002</td>\n",
       "</tr>\n",
       "<tr>\n",
       "  <th>bedro_2</th>              <td>    0.0016</td> <td>    0.000</td> <td>    7.505</td> <td> 0.000</td> <td>    0.001</td> <td>    0.002</td>\n",
       "</tr>\n",
       "<tr>\n",
       "  <th>view_30</th>              <td>    0.0033</td> <td>    0.000</td> <td>    6.959</td> <td> 0.000</td> <td>    0.002</td> <td>    0.004</td>\n",
       "</tr>\n",
       "<tr>\n",
       "  <th>view_10</th>              <td>    0.0038</td> <td>    0.001</td> <td>    7.005</td> <td> 0.000</td> <td>    0.003</td> <td>    0.005</td>\n",
       "</tr>\n",
       "<tr>\n",
       "  <th>view_40</th>              <td>    0.0048</td> <td>    0.001</td> <td>    6.261</td> <td> 0.000</td> <td>    0.003</td> <td>    0.006</td>\n",
       "</tr>\n",
       "<tr>\n",
       "  <th>floor_25</th>             <td>    0.0043</td> <td>    0.001</td> <td>    5.207</td> <td> 0.000</td> <td>    0.003</td> <td>    0.006</td>\n",
       "</tr>\n",
       "<tr>\n",
       "  <th>zipco_98051_to_98100</th> <td>    0.0010</td> <td>    0.000</td> <td>    5.615</td> <td> 0.000</td> <td>    0.001</td> <td>    0.001</td>\n",
       "</tr>\n",
       "<tr>\n",
       "  <th>sqft_lot</th>             <td> 1.216e-08</td> <td> 2.29e-09</td> <td>    5.317</td> <td> 0.000</td> <td> 7.68e-09</td> <td> 1.66e-08</td>\n",
       "</tr>\n",
       "<tr>\n",
       "  <th>zipco_98150_to_98200</th> <td>    0.0009</td> <td>    0.000</td> <td>    3.788</td> <td> 0.000</td> <td>    0.000</td> <td>    0.001</td>\n",
       "</tr>\n",
       "<tr>\n",
       "  <th>grade_4</th>              <td>   -0.0063</td> <td>    0.002</td> <td>   -3.176</td> <td> 0.001</td> <td>   -0.010</td> <td>   -0.002</td>\n",
       "</tr>\n",
       "<tr>\n",
       "  <th>sqft_lot15</th>           <td>-9.942e-09</td> <td> 3.48e-09</td> <td>   -2.855</td> <td> 0.004</td> <td>-1.68e-08</td> <td>-3.12e-09</td>\n",
       "</tr>\n",
       "</table>\n",
       "<table class=\"simpletable\">\n",
       "<tr>\n",
       "  <th>Omnibus:</th>       <td> 7.168</td> <th>  Durbin-Watson:     </th> <td>   1.971</td>\n",
       "</tr>\n",
       "<tr>\n",
       "  <th>Prob(Omnibus):</th> <td> 0.028</td> <th>  Jarque-Bera (JB):  </th> <td>   7.192</td>\n",
       "</tr>\n",
       "<tr>\n",
       "  <th>Skew:</th>          <td>-0.044</td> <th>  Prob(JB):          </th> <td>  0.0274</td>\n",
       "</tr>\n",
       "<tr>\n",
       "  <th>Kurtosis:</th>      <td> 2.979</td> <th>  Cond. No.          </th> <td>1.51e+06</td>\n",
       "</tr>\n",
       "</table><br/><br/>Notes:<br/>[1] Standard Errors assume that the covariance matrix of the errors is correctly specified.<br/>[2] The condition number is large, 1.51e+06. This might indicate that there are<br/>strong multicollinearity or other numerical problems."
      ],
      "text/plain": [
       "<class 'statsmodels.iolib.summary.Summary'>\n",
       "\"\"\"\n",
       "                            OLS Regression Results                            \n",
       "==============================================================================\n",
       "Dep. Variable:                  price   R-squared:                       0.556\n",
       "Model:                            OLS   Adj. R-squared:                  0.556\n",
       "Method:                 Least Squares   F-statistic:                     1089.\n",
       "Date:                Wed, 06 Jan 2021   Prob (F-statistic):               0.00\n",
       "Time:                        18:15:58   Log-Likelihood:                 68185.\n",
       "No. Observations:               20884   AIC:                        -1.363e+05\n",
       "Df Residuals:                   20859   BIC:                        -1.361e+05\n",
       "Df Model:                          24                                         \n",
       "Covariance Type:            nonrobust                                         \n",
       "========================================================================================\n",
       "                           coef    std err          t      P>|t|      [0.025      0.975]\n",
       "----------------------------------------------------------------------------------------\n",
       "const                    0.9048      0.000   2908.158      0.000       0.904       0.905\n",
       "sqft_above             6.76e-06   1.52e-07     44.509      0.000    6.46e-06    7.06e-06\n",
       "zipco_98101_to_98150     0.0105      0.000     57.440      0.000       0.010       0.011\n",
       "sqft_living15          7.69e-06   1.64e-07     46.961      0.000    7.37e-06    8.01e-06\n",
       "sqft_basement         5.849e-06   1.86e-07     31.467      0.000    5.49e-06    6.21e-06\n",
       "condi_5                  0.0045      0.000     17.716      0.000       0.004       0.005\n",
       "water_10                 0.0093      0.001      7.352      0.000       0.007       0.012\n",
       "condi_4                  0.0023      0.000     14.726      0.000       0.002       0.003\n",
       "yr_renovated          2.104e-06   1.85e-07     11.376      0.000    1.74e-06    2.47e-06\n",
       "floor_30                 0.0029      0.000      7.064      0.000       0.002       0.004\n",
       "view_20                  0.0029      0.000      8.830      0.000       0.002       0.004\n",
       "bathr_2_to_3             0.0042      0.000     18.943      0.000       0.004       0.005\n",
       "bathr_1_to_2             0.0031      0.000     15.414      0.000       0.003       0.003\n",
       "bathr_3_to_4             0.0053      0.000     14.409      0.000       0.005       0.006\n",
       "floor_15                 0.0020      0.000      8.477      0.000       0.002       0.002\n",
       "bedro_2                  0.0016      0.000      7.505      0.000       0.001       0.002\n",
       "view_30                  0.0033      0.000      6.959      0.000       0.002       0.004\n",
       "view_10                  0.0038      0.001      7.005      0.000       0.003       0.005\n",
       "view_40                  0.0048      0.001      6.261      0.000       0.003       0.006\n",
       "floor_25                 0.0043      0.001      5.207      0.000       0.003       0.006\n",
       "zipco_98051_to_98100     0.0010      0.000      5.615      0.000       0.001       0.001\n",
       "sqft_lot              1.216e-08   2.29e-09      5.317      0.000    7.68e-09    1.66e-08\n",
       "zipco_98150_to_98200     0.0009      0.000      3.788      0.000       0.000       0.001\n",
       "grade_4                 -0.0063      0.002     -3.176      0.001      -0.010      -0.002\n",
       "sqft_lot15           -9.942e-09   3.48e-09     -2.855      0.004   -1.68e-08   -3.12e-09\n",
       "==============================================================================\n",
       "Omnibus:                        7.168   Durbin-Watson:                   1.971\n",
       "Prob(Omnibus):                  0.028   Jarque-Bera (JB):                7.192\n",
       "Skew:                          -0.044   Prob(JB):                       0.0274\n",
       "Kurtosis:                       2.979   Cond. No.                     1.51e+06\n",
       "==============================================================================\n",
       "\n",
       "Notes:\n",
       "[1] Standard Errors assume that the covariance matrix of the errors is correctly specified.\n",
       "[2] The condition number is large, 1.51e+06. This might indicate that there are\n",
       "strong multicollinearity or other numerical problems.\n",
       "\"\"\""
      ]
     },
     "execution_count": 71,
     "metadata": {},
     "output_type": "execute_result"
    }
   ],
   "source": [
    "X_fin = X[result]\n",
    "X_with_intercept = sm.add_constant(X_fin)\n",
    "model = sm.OLS(y,X_with_intercept).fit()\n",
    "model.summary()"
   ]
  },
  {
   "cell_type": "markdown",
   "metadata": {},
   "source": [
    "We dropped the 10 variables from our model with p-values greater than 0.05. However, our R-squared stayed the same.\n",
    "\n",
    "We still have 35 features in our model using stepwise selection. Let's try creating a simpler model using feature ranking. We will create a model with 15 features for this case."
   ]
  },
  {
   "cell_type": "code",
   "execution_count": 54,
   "metadata": {},
   "outputs": [
    {
     "data": {
      "text/plain": [
       "array([False, False, False, False, False, False, False, False,  True,\n",
       "        True,  True,  True,  True,  True, False,  True, False, False,\n",
       "        True,  True,  True,  True, False, False,  True,  True,  True,\n",
       "        True, False])"
      ]
     },
     "execution_count": 54,
     "metadata": {},
     "output_type": "execute_result"
    }
   ],
   "source": [
    "from sklearn.feature_selection import RFE\n",
    "from sklearn.linear_model import LinearRegression\n",
    "\n",
    "linreg = LinearRegression()\n",
    "selector = RFE(linreg, n_features_to_select = 15)\n",
    "selector = selector.fit(X, y.values.ravel()) # convert y to 1d np array to prevent DataConversionWarning\n",
    "selector.support_ "
   ]
  },
  {
   "cell_type": "code",
   "execution_count": 55,
   "metadata": {},
   "outputs": [
    {
     "data": {
      "text/plain": [
       "LinearRegression()"
      ]
     },
     "execution_count": 55,
     "metadata": {},
     "output_type": "execute_result"
    }
   ],
   "source": [
    "selected_columns = X.columns[selector.support_ ]\n",
    "linreg.fit(X[selected_columns],y)"
   ]
  },
  {
   "cell_type": "code",
   "execution_count": 56,
   "metadata": {},
   "outputs": [
    {
     "data": {
      "text/plain": [
       "LinearRegression()"
      ]
     },
     "execution_count": 56,
     "metadata": {},
     "output_type": "execute_result"
    }
   ],
   "source": [
    "LinearRegression(copy_X=True, fit_intercept=True, n_jobs=None, normalize=False)"
   ]
  },
  {
   "cell_type": "code",
   "execution_count": 57,
   "metadata": {},
   "outputs": [],
   "source": [
    "yhat = linreg.predict(X[selected_columns])"
   ]
  },
  {
   "cell_type": "code",
   "execution_count": 58,
   "metadata": {},
   "outputs": [],
   "source": [
    "SS_Residual = np.sum((y-yhat)**2)\n",
    "SS_Total = np.sum((y-np.mean(y))**2)\n",
    "r_squared = 1 - (float(SS_Residual))/SS_Total\n",
    "adjusted_r_squared = 1 - (1-r_squared)*(len(y)-1)/(len(y)-X[selected_columns].shape[1]-1)"
   ]
  },
  {
   "cell_type": "code",
   "execution_count": 59,
   "metadata": {},
   "outputs": [
    {
     "data": {
      "text/plain": [
       "0.3349309635044785"
      ]
     },
     "execution_count": 59,
     "metadata": {},
     "output_type": "execute_result"
    }
   ],
   "source": [
    "r_squared"
   ]
  },
  {
   "cell_type": "code",
   "execution_count": 60,
   "metadata": {},
   "outputs": [
    {
     "data": {
      "text/plain": [
       "0.3344544392366289"
      ]
     },
     "execution_count": 60,
     "metadata": {},
     "output_type": "execute_result"
    }
   ],
   "source": [
    "adjusted_r_squared"
   ]
  },
  {
   "cell_type": "markdown",
   "metadata": {},
   "source": [
    "In this case, we created a simpler model with only 15 features, but loss some accuracy with an r-sqaured value of 0.67."
   ]
  },
  {
   "cell_type": "markdown",
   "metadata": {},
   "source": [
    "# Evaluation"
   ]
  },
  {
   "cell_type": "markdown",
   "metadata": {},
   "source": [
    "The next step is to evaluate our models' ability to predict outcomes. We will do this by performing a train-test split."
   ]
  },
  {
   "cell_type": "code",
   "execution_count": 37,
   "metadata": {},
   "outputs": [],
   "source": [
    "# perform a train test split with a 30% test size.\n",
    "\n",
    "from sklearn.model_selection import train_test_split\n",
    "X_train, X_test, y_train, y_test = train_test_split(X, y, test_size=0.3, random_state=45)"
   ]
  },
  {
   "cell_type": "code",
   "execution_count": 38,
   "metadata": {},
   "outputs": [],
   "source": [
    "from sklearn.linear_model import LinearRegression\n",
    "linreg = LinearRegression()\n",
    "linreg.fit(X_train, y_train)\n",
    "\n",
    "y_hat_train = linreg.predict(X_train)\n",
    "y_hat_test = linreg.predict(X_test)"
   ]
  },
  {
   "cell_type": "code",
   "execution_count": 39,
   "metadata": {},
   "outputs": [],
   "source": [
    "train_residuals = y_hat_train - y_train\n",
    "test_residuals = y_hat_test - y_test"
   ]
  },
  {
   "cell_type": "code",
   "execution_count": 40,
   "metadata": {},
   "outputs": [
    {
     "name": "stdout",
     "output_type": "stream",
     "text": [
      "Train Mean Squared Error: 27392345410.38825\n",
      "Test Mean Squared Error: 27626057137.576557\n"
     ]
    }
   ],
   "source": [
    "mse_train = np.sum((y_train-y_hat_train)**2)/len(y_train)\n",
    "mse_test = np.sum((y_test-y_hat_test)**2)/len(y_test)\n",
    "print('Train Mean Squared Error:', mse_train)\n",
    "print('Test Mean Squared Error:', mse_test)"
   ]
  },
  {
   "cell_type": "code",
   "execution_count": 41,
   "metadata": {},
   "outputs": [
    {
     "name": "stdout",
     "output_type": "stream",
     "text": [
      "Train Mean Squared Error: 27392345410.38825\n",
      "Test Mean Squared Error: 27626057137.576557\n"
     ]
    }
   ],
   "source": [
    "from sklearn.metrics import mean_squared_error\n",
    "\n",
    "train_mse = mean_squared_error(y_train, y_hat_train)\n",
    "test_mse = mean_squared_error(y_test, y_hat_test)\n",
    "print('Train Mean Squared Error:', train_mse)\n",
    "print('Test Mean Squared Error:', test_mse)"
   ]
  },
  {
   "cell_type": "code",
   "execution_count": null,
   "metadata": {},
   "outputs": [],
   "source": []
  },
  {
   "cell_type": "code",
   "execution_count": null,
   "metadata": {},
   "outputs": [],
   "source": []
  }
 ],
 "metadata": {
  "kernelspec": {
   "display_name": "Python 3",
   "language": "python",
   "name": "python3"
  },
  "language_info": {
   "codemirror_mode": {
    "name": "ipython",
    "version": 3
   },
   "file_extension": ".py",
   "mimetype": "text/x-python",
   "name": "python",
   "nbconvert_exporter": "python",
   "pygments_lexer": "ipython3",
   "version": "3.8.5"
  },
  "toc": {
   "base_numbering": 1,
   "nav_menu": {},
   "number_sections": true,
   "sideBar": true,
   "skip_h1_title": false,
   "title_cell": "Table of Contents",
   "title_sidebar": "Contents",
   "toc_cell": false,
   "toc_position": {
    "height": "calc(100% - 180px)",
    "left": "10px",
    "top": "150px",
    "width": "384px"
   },
   "toc_section_display": true,
   "toc_window_display": true
  }
 },
 "nbformat": 4,
 "nbformat_minor": 4
}
