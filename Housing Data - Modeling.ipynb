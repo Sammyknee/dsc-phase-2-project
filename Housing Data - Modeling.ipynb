{
 "cells": [
  {
   "cell_type": "markdown",
   "metadata": {},
   "source": [
    "* Add photo header"
   ]
  },
  {
   "cell_type": "markdown",
   "metadata": {},
   "source": [
    "# Modeling"
   ]
  },
  {
   "cell_type": "markdown",
   "metadata": {},
   "source": [
    "In this notebook, we iterate through different versions of a regression model to create the most accurate model for predicting home prices."
   ]
  },
  {
   "cell_type": "code",
   "execution_count": 1,
   "metadata": {},
   "outputs": [],
   "source": [
    "# import necessary libraries\n",
    "import pandas as pd\n",
    "import numpy as np\n",
    "import seaborn as sns\n",
    "import matplotlib.pyplot as plt\n",
    "\n",
    "from statsmodels.formula.api import ols\n",
    "from statsmodels.stats.outliers_influence import variance_inflation_factor\n",
    "import statsmodels.api as sm\n",
    "import scipy.stats as stats\n",
    "from sklearn.model_selection import train_test_split\n",
    "from sklearn.linear_model import LinearRegression\n",
    "from sklearn.model_selection import cross_val_score\n",
    "from sklearn import metrics"
   ]
  },
  {
   "cell_type": "code",
   "execution_count": 2,
   "metadata": {},
   "outputs": [],
   "source": [
    "#load clean dataset\n",
    "data = pd.read_csv('data/housing_data_clean.csv')"
   ]
  },
  {
   "cell_type": "code",
   "execution_count": 3,
   "metadata": {
    "scrolled": true
   },
   "outputs": [
    {
     "name": "stdout",
     "output_type": "stream",
     "text": [
      "<class 'pandas.core.frame.DataFrame'>\n",
      "RangeIndex: 21597 entries, 0 to 21596\n",
      "Data columns (total 20 columns):\n",
      " #   Column         Non-Null Count  Dtype  \n",
      "---  ------         --------------  -----  \n",
      " 0   id             21597 non-null  int64  \n",
      " 1   date           21597 non-null  object \n",
      " 2   price          21597 non-null  float64\n",
      " 3   bedrooms       21597 non-null  int64  \n",
      " 4   bathrooms      21597 non-null  float64\n",
      " 5   sqft_lot       21597 non-null  int64  \n",
      " 6   floors         21597 non-null  float64\n",
      " 7   waterfront     21597 non-null  float64\n",
      " 8   view           21597 non-null  float64\n",
      " 9   condition      21597 non-null  int64  \n",
      " 10  grade          21597 non-null  int64  \n",
      " 11  sqft_above     21597 non-null  int64  \n",
      " 12  sqft_basement  21597 non-null  float64\n",
      " 13  yr_built       21597 non-null  int64  \n",
      " 14  yr_renovated   21597 non-null  float64\n",
      " 15  zipcode        21597 non-null  int64  \n",
      " 16  lat            21597 non-null  float64\n",
      " 17  long           21597 non-null  float64\n",
      " 18  sqft_living15  21597 non-null  int64  \n",
      " 19  sqft_lot15     21597 non-null  int64  \n",
      "dtypes: float64(9), int64(10), object(1)\n",
      "memory usage: 3.3+ MB\n"
     ]
    }
   ],
   "source": [
    "data.info()"
   ]
  },
  {
   "cell_type": "markdown",
   "metadata": {},
   "source": [
    "## Model 1: Baseline"
   ]
  },
  {
   "cell_type": "markdown",
   "metadata": {},
   "source": [
    "This model will be the baseline for which we base all other models. This model does not take into account categorical variables, outliers, or other data transformations."
   ]
  },
  {
   "cell_type": "code",
   "execution_count": 7,
   "metadata": {},
   "outputs": [],
   "source": [
    "# Define functions to be used. Create summary function to quickly show statsmodel summary output.\n",
    "\n",
    "def linreg_summary(X_train, y_train):\n",
    "    X_int = sm.add_constant(X_train)\n",
    "    model = sm.OLS(y_train, X_int).fit()\n",
    "    return model.summary()"
   ]
  },
  {
   "cell_type": "code",
   "execution_count": 8,
   "metadata": {},
   "outputs": [],
   "source": [
    "# drop non-numerical columns like id and date.\n",
    "y = data['price']\n",
    "X = data.drop(['price', 'id', 'date'], axis=1)"
   ]
  },
  {
   "cell_type": "code",
   "execution_count": 9,
   "metadata": {},
   "outputs": [],
   "source": [
    "# perform train-test split using a test size of 20%.\n",
    "X_train, X_test, y_train, y_test = train_test_split(X, y, test_size=0.2, random_state=57)"
   ]
  },
  {
   "cell_type": "code",
   "execution_count": 10,
   "metadata": {},
   "outputs": [],
   "source": [
    "# perform linear regression in scikitlearn\n",
    "linreg = LinearRegression()\n",
    "linreg.fit(X_train, y_train)\n",
    "y_hat_train = linreg.predict(X_train)\n",
    "y_hat_test = linreg.predict(X_test)"
   ]
  },
  {
   "cell_type": "code",
   "execution_count": 11,
   "metadata": {},
   "outputs": [
    {
     "data": {
      "text/plain": [
       "0.6981819631246184"
      ]
     },
     "execution_count": 11,
     "metadata": {},
     "output_type": "execute_result"
    }
   ],
   "source": [
    "metrics.r2_score(y_train, y_hat_train)"
   ]
  },
  {
   "cell_type": "code",
   "execution_count": 12,
   "metadata": {},
   "outputs": [
    {
     "data": {
      "text/html": [
       "<table class=\"simpletable\">\n",
       "<caption>OLS Regression Results</caption>\n",
       "<tr>\n",
       "  <th>Dep. Variable:</th>          <td>price</td>      <th>  R-squared:         </th>  <td>   0.698</td>  \n",
       "</tr>\n",
       "<tr>\n",
       "  <th>Model:</th>                   <td>OLS</td>       <th>  Adj. R-squared:    </th>  <td>   0.698</td>  \n",
       "</tr>\n",
       "<tr>\n",
       "  <th>Method:</th>             <td>Least Squares</td>  <th>  F-statistic:       </th>  <td>   2348.</td>  \n",
       "</tr>\n",
       "<tr>\n",
       "  <th>Date:</th>             <td>Fri, 08 Jan 2021</td> <th>  Prob (F-statistic):</th>   <td>  0.00</td>   \n",
       "</tr>\n",
       "<tr>\n",
       "  <th>Time:</th>                 <td>14:45:25</td>     <th>  Log-Likelihood:    </th> <td>-2.3574e+05</td>\n",
       "</tr>\n",
       "<tr>\n",
       "  <th>No. Observations:</th>      <td> 17277</td>      <th>  AIC:               </th>  <td>4.715e+05</td> \n",
       "</tr>\n",
       "<tr>\n",
       "  <th>Df Residuals:</th>          <td> 17259</td>      <th>  BIC:               </th>  <td>4.717e+05</td> \n",
       "</tr>\n",
       "<tr>\n",
       "  <th>Df Model:</th>              <td>    17</td>      <th>                     </th>      <td> </td>     \n",
       "</tr>\n",
       "<tr>\n",
       "  <th>Covariance Type:</th>      <td>nonrobust</td>    <th>                     </th>      <td> </td>     \n",
       "</tr>\n",
       "</table>\n",
       "<table class=\"simpletable\">\n",
       "<tr>\n",
       "        <td></td>           <th>coef</th>     <th>std err</th>      <th>t</th>      <th>P>|t|</th>  <th>[0.025</th>    <th>0.975]</th>  \n",
       "</tr>\n",
       "<tr>\n",
       "  <th>const</th>         <td> 8.012e+06</td> <td> 3.33e+06</td> <td>    2.405</td> <td> 0.016</td> <td> 1.48e+06</td> <td> 1.45e+07</td>\n",
       "</tr>\n",
       "<tr>\n",
       "  <th>bedrooms</th>      <td>-3.567e+04</td> <td> 2115.169</td> <td>  -16.866</td> <td> 0.000</td> <td>-3.98e+04</td> <td>-3.15e+04</td>\n",
       "</tr>\n",
       "<tr>\n",
       "  <th>bathrooms</th>     <td> 4.706e+04</td> <td> 3699.711</td> <td>   12.720</td> <td> 0.000</td> <td> 3.98e+04</td> <td> 5.43e+04</td>\n",
       "</tr>\n",
       "<tr>\n",
       "  <th>sqft_lot</th>      <td>    0.1376</td> <td>    0.054</td> <td>    2.549</td> <td> 0.011</td> <td>    0.032</td> <td>    0.243</td>\n",
       "</tr>\n",
       "<tr>\n",
       "  <th>floors</th>        <td> 4094.3193</td> <td> 4075.444</td> <td>    1.005</td> <td> 0.315</td> <td>-3893.964</td> <td> 1.21e+04</td>\n",
       "</tr>\n",
       "<tr>\n",
       "  <th>waterfront</th>    <td> 5.968e+05</td> <td> 2.02e+04</td> <td>   29.472</td> <td> 0.000</td> <td> 5.57e+05</td> <td> 6.36e+05</td>\n",
       "</tr>\n",
       "<tr>\n",
       "  <th>view</th>          <td>  5.16e+04</td> <td> 2400.577</td> <td>   21.493</td> <td> 0.000</td> <td> 4.69e+04</td> <td> 5.63e+04</td>\n",
       "</tr>\n",
       "<tr>\n",
       "  <th>condition</th>     <td> 2.576e+04</td> <td> 2660.539</td> <td>    9.683</td> <td> 0.000</td> <td> 2.05e+04</td> <td>  3.1e+04</td>\n",
       "</tr>\n",
       "<tr>\n",
       "  <th>grade</th>         <td> 9.662e+04</td> <td> 2449.002</td> <td>   39.453</td> <td> 0.000</td> <td> 9.18e+04</td> <td> 1.01e+05</td>\n",
       "</tr>\n",
       "<tr>\n",
       "  <th>sqft_above</th>    <td>  183.8265</td> <td>    4.140</td> <td>   44.405</td> <td> 0.000</td> <td>  175.712</td> <td>  191.941</td>\n",
       "</tr>\n",
       "<tr>\n",
       "  <th>sqft_basement</th> <td>  147.8030</td> <td>    4.934</td> <td>   29.957</td> <td> 0.000</td> <td>  138.132</td> <td>  157.474</td>\n",
       "</tr>\n",
       "<tr>\n",
       "  <th>yr_built</th>      <td>-2719.9007</td> <td>   81.770</td> <td>  -33.263</td> <td> 0.000</td> <td>-2880.177</td> <td>-2559.624</td>\n",
       "</tr>\n",
       "<tr>\n",
       "  <th>yr_renovated</th>  <td>   25.4614</td> <td>    4.545</td> <td>    5.602</td> <td> 0.000</td> <td>   16.553</td> <td>   34.370</td>\n",
       "</tr>\n",
       "<tr>\n",
       "  <th>zipcode</th>       <td> -606.9398</td> <td>   37.488</td> <td>  -16.190</td> <td> 0.000</td> <td> -680.421</td> <td> -533.459</td>\n",
       "</tr>\n",
       "<tr>\n",
       "  <th>lat</th>           <td> 6.041e+05</td> <td> 1.22e+04</td> <td>   49.514</td> <td> 0.000</td> <td>  5.8e+05</td> <td> 6.28e+05</td>\n",
       "</tr>\n",
       "<tr>\n",
       "  <th>long</th>          <td>-2.246e+05</td> <td>  1.5e+04</td> <td>  -15.004</td> <td> 0.000</td> <td>-2.54e+05</td> <td>-1.95e+05</td>\n",
       "</tr>\n",
       "<tr>\n",
       "  <th>sqft_living15</th> <td>   20.1691</td> <td>    3.933</td> <td>    5.128</td> <td> 0.000</td> <td>   12.460</td> <td>   27.878</td>\n",
       "</tr>\n",
       "<tr>\n",
       "  <th>sqft_lot15</th>    <td>   -0.4396</td> <td>    0.085</td> <td>   -5.156</td> <td> 0.000</td> <td>   -0.607</td> <td>   -0.272</td>\n",
       "</tr>\n",
       "</table>\n",
       "<table class=\"simpletable\">\n",
       "<tr>\n",
       "  <th>Omnibus:</th>       <td>15167.719</td> <th>  Durbin-Watson:     </th>  <td>   1.980</td>  \n",
       "</tr>\n",
       "<tr>\n",
       "  <th>Prob(Omnibus):</th>  <td> 0.000</td>   <th>  Jarque-Bera (JB):  </th> <td>1701011.639</td>\n",
       "</tr>\n",
       "<tr>\n",
       "  <th>Skew:</th>           <td> 3.725</td>   <th>  Prob(JB):          </th>  <td>    0.00</td>  \n",
       "</tr>\n",
       "<tr>\n",
       "  <th>Kurtosis:</th>       <td>51.036</td>   <th>  Cond. No.          </th>  <td>2.16e+08</td>  \n",
       "</tr>\n",
       "</table><br/><br/>Notes:<br/>[1] Standard Errors assume that the covariance matrix of the errors is correctly specified.<br/>[2] The condition number is large, 2.16e+08. This might indicate that there are<br/>strong multicollinearity or other numerical problems."
      ],
      "text/plain": [
       "<class 'statsmodels.iolib.summary.Summary'>\n",
       "\"\"\"\n",
       "                            OLS Regression Results                            \n",
       "==============================================================================\n",
       "Dep. Variable:                  price   R-squared:                       0.698\n",
       "Model:                            OLS   Adj. R-squared:                  0.698\n",
       "Method:                 Least Squares   F-statistic:                     2348.\n",
       "Date:                Fri, 08 Jan 2021   Prob (F-statistic):               0.00\n",
       "Time:                        14:45:25   Log-Likelihood:            -2.3574e+05\n",
       "No. Observations:               17277   AIC:                         4.715e+05\n",
       "Df Residuals:                   17259   BIC:                         4.717e+05\n",
       "Df Model:                          17                                         \n",
       "Covariance Type:            nonrobust                                         \n",
       "=================================================================================\n",
       "                    coef    std err          t      P>|t|      [0.025      0.975]\n",
       "---------------------------------------------------------------------------------\n",
       "const          8.012e+06   3.33e+06      2.405      0.016    1.48e+06    1.45e+07\n",
       "bedrooms      -3.567e+04   2115.169    -16.866      0.000   -3.98e+04   -3.15e+04\n",
       "bathrooms      4.706e+04   3699.711     12.720      0.000    3.98e+04    5.43e+04\n",
       "sqft_lot          0.1376      0.054      2.549      0.011       0.032       0.243\n",
       "floors         4094.3193   4075.444      1.005      0.315   -3893.964    1.21e+04\n",
       "waterfront     5.968e+05   2.02e+04     29.472      0.000    5.57e+05    6.36e+05\n",
       "view            5.16e+04   2400.577     21.493      0.000    4.69e+04    5.63e+04\n",
       "condition      2.576e+04   2660.539      9.683      0.000    2.05e+04     3.1e+04\n",
       "grade          9.662e+04   2449.002     39.453      0.000    9.18e+04    1.01e+05\n",
       "sqft_above      183.8265      4.140     44.405      0.000     175.712     191.941\n",
       "sqft_basement   147.8030      4.934     29.957      0.000     138.132     157.474\n",
       "yr_built      -2719.9007     81.770    -33.263      0.000   -2880.177   -2559.624\n",
       "yr_renovated     25.4614      4.545      5.602      0.000      16.553      34.370\n",
       "zipcode        -606.9398     37.488    -16.190      0.000    -680.421    -533.459\n",
       "lat            6.041e+05   1.22e+04     49.514      0.000     5.8e+05    6.28e+05\n",
       "long          -2.246e+05    1.5e+04    -15.004      0.000   -2.54e+05   -1.95e+05\n",
       "sqft_living15    20.1691      3.933      5.128      0.000      12.460      27.878\n",
       "sqft_lot15       -0.4396      0.085     -5.156      0.000      -0.607      -0.272\n",
       "==============================================================================\n",
       "Omnibus:                    15167.719   Durbin-Watson:                   1.980\n",
       "Prob(Omnibus):                  0.000   Jarque-Bera (JB):          1701011.639\n",
       "Skew:                           3.725   Prob(JB):                         0.00\n",
       "Kurtosis:                      51.036   Cond. No.                     2.16e+08\n",
       "==============================================================================\n",
       "\n",
       "Notes:\n",
       "[1] Standard Errors assume that the covariance matrix of the errors is correctly specified.\n",
       "[2] The condition number is large, 2.16e+08. This might indicate that there are\n",
       "strong multicollinearity or other numerical problems.\n",
       "\"\"\""
      ]
     },
     "execution_count": 12,
     "metadata": {},
     "output_type": "execute_result"
    }
   ],
   "source": [
    "linreg_summary(X_train,y_train)"
   ]
  },
  {
   "cell_type": "markdown",
   "metadata": {},
   "source": [
    "This initial model has an R-squared value of .698. Let's also look at the RMSE values to see how well our model works."
   ]
  },
  {
   "cell_type": "code",
   "execution_count": 13,
   "metadata": {
    "scrolled": true
   },
   "outputs": [
    {
     "name": "stdout",
     "output_type": "stream",
     "text": [
      "RMSE Train: 203995.3972029836\n",
      "RMSE Test: 190590.36138599247\n"
     ]
    }
   ],
   "source": [
    "print('RMSE Train:',np.sqrt(metrics.mean_squared_error(y_train, y_hat_train)))\n",
    "print('RMSE Test:',np.sqrt(metrics.mean_squared_error(y_test, y_hat_test)))"
   ]
  },
  {
   "cell_type": "markdown",
   "metadata": {},
   "source": [
    "The train dataset's RMSE is relatively close to the test dataset's. This model seems to be a good place to start."
   ]
  },
  {
   "cell_type": "markdown",
   "metadata": {},
   "source": [
    "## Model 2: Dealing with Categorical Variables"
   ]
  },
  {
   "cell_type": "markdown",
   "metadata": {},
   "source": [
    "Now that we have our baseline model established, let's do some additional tuning of the model to account for categorical variables to potentially increase our R-squared value."
   ]
  },
  {
   "cell_type": "markdown",
   "metadata": {},
   "source": [
    "First, let's return to the histograms for all columns and inspect the distribution of the data and whether or not the variables are continuous or categorical."
   ]
  },
  {
   "cell_type": "code",
   "execution_count": 14,
   "metadata": {
    "scrolled": true
   },
   "outputs": [
    {
     "data": {
      "image/png": "[encoded data removed]",
      "text/plain": [
       "<Figure size 1296x1080 with 20 Axes>"
      ]
     },
     "metadata": {
      "needs_background": "light"
     },
     "output_type": "display_data"
    }
   ],
   "source": [
    "data.hist(figsize=(18,15), bins = 'auto');"
   ]
  },
  {
   "cell_type": "markdown",
   "metadata": {},
   "source": [
    "Based on these histograms, the following columns appear to be categorical:\n",
    "* bedrooms\n",
    "* bathrooms\n",
    "* floors\n",
    "* waterfront\n",
    "* view\n",
    "* condition\n",
    "* grade\n",
    "\n",
    "This is because these columns have distinct, discrete values for each home. Some of these variables need to be further investigated, but let's address these clearly categorical columns for now.\n",
    "\n",
    "Let's now separate these columns into continuous and categorical variables to be handled separately."
   ]
  },
  {
   "cell_type": "code",
   "execution_count": 15,
   "metadata": {},
   "outputs": [],
   "source": [
    "conts = []\n",
    "cats = []\n",
    "for col in data.columns:\n",
    "    if data[col].nunique()<30:\n",
    "        cats.append(col)\n",
    "    else:\n",
    "        conts.append(col)"
   ]
  },
  {
   "cell_type": "code",
   "execution_count": 16,
   "metadata": {},
   "outputs": [
    {
     "data": {
      "text/plain": [
       "['id',\n",
       " 'date',\n",
       " 'price',\n",
       " 'sqft_lot',\n",
       " 'sqft_above',\n",
       " 'sqft_basement',\n",
       " 'yr_built',\n",
       " 'yr_renovated',\n",
       " 'zipcode',\n",
       " 'lat',\n",
       " 'long',\n",
       " 'sqft_living15',\n",
       " 'sqft_lot15']"
      ]
     },
     "execution_count": 16,
     "metadata": {},
     "output_type": "execute_result"
    }
   ],
   "source": [
    "conts"
   ]
  },
  {
   "cell_type": "code",
   "execution_count": 17,
   "metadata": {
    "scrolled": true
   },
   "outputs": [
    {
     "data": {
      "text/plain": [
       "['bedrooms', 'bathrooms', 'floors', 'waterfront', 'view', 'condition', 'grade']"
      ]
     },
     "execution_count": 17,
     "metadata": {},
     "output_type": "execute_result"
    }
   ],
   "source": [
    "cats"
   ]
  },
  {
   "cell_type": "markdown",
   "metadata": {},
   "source": [
    "Using a cutoff of unique values less than 30, we get the same resulting categorical columns as when we viewed the histograms for each column.\n",
    "\n",
    "However, we noticed earlier that zipcodes were included in our dataset. These shouldn't really be considered continuous, as zipcode is a discrete value. Since there are 70 zipcodes in the dataset, let's include our zipcodes as categorical and bin into groups based on number."
   ]
  },
  {
   "cell_type": "code",
   "execution_count": 18,
   "metadata": {},
   "outputs": [],
   "source": [
    "conts.remove('zipcode')\n",
    "cats.append('zipcode')"
   ]
  },
  {
   "cell_type": "code",
   "execution_count": 19,
   "metadata": {
    "scrolled": true
   },
   "outputs": [
    {
     "data": {
      "text/plain": [
       "['bedrooms',\n",
       " 'bathrooms',\n",
       " 'floors',\n",
       " 'waterfront',\n",
       " 'view',\n",
       " 'condition',\n",
       " 'grade',\n",
       " 'zipcode']"
      ]
     },
     "execution_count": 19,
     "metadata": {},
     "output_type": "execute_result"
    }
   ],
   "source": [
    "cats"
   ]
  },
  {
   "cell_type": "markdown",
   "metadata": {},
   "source": [
    "Longitude and latitude are also included in the dataset. It could be a good idea to separate these into quadrants--longitude and latitude may be a better indicator of price than zipcode, but we will leave both in our model for now."
   ]
  },
  {
   "cell_type": "code",
   "execution_count": 20,
   "metadata": {
    "scrolled": false
   },
   "outputs": [
    {
     "data": {
      "text/plain": [
       "count    21597.000000\n",
       "mean        47.560093\n",
       "std          0.138552\n",
       "min         47.155900\n",
       "25%         47.471100\n",
       "50%         47.571800\n",
       "75%         47.678000\n",
       "max         47.777600\n",
       "Name: lat, dtype: float64"
      ]
     },
     "execution_count": 20,
     "metadata": {},
     "output_type": "execute_result"
    }
   ],
   "source": [
    "# explore lat and long to decide cutoff points for the quandrants\n",
    "\n",
    "data.lat.describe()"
   ]
  },
  {
   "cell_type": "code",
   "execution_count": 21,
   "metadata": {},
   "outputs": [
    {
     "data": {
      "text/plain": [
       "count    21597.000000\n",
       "mean      -122.213982\n",
       "std          0.140724\n",
       "min       -122.519000\n",
       "25%       -122.328000\n",
       "50%       -122.231000\n",
       "75%       -122.125000\n",
       "max       -121.315000\n",
       "Name: long, dtype: float64"
      ]
     },
     "execution_count": 21,
     "metadata": {},
     "output_type": "execute_result"
    }
   ],
   "source": [
    "data.long.describe()"
   ]
  },
  {
   "cell_type": "code",
   "execution_count": 22,
   "metadata": {
    "scrolled": true
   },
   "outputs": [
    {
     "data": {
      "image/png": "[encoded data removed]",
      "text/plain": [
       "<Figure size 432x288 with 1 Axes>"
      ]
     },
     "metadata": {
      "needs_background": "light"
     },
     "output_type": "display_data"
    }
   ],
   "source": [
    "sns.scatterplot(data=data, x=\"long\", y=\"lat\", palette = \"rocket_r\");"
   ]
  },
  {
   "cell_type": "markdown",
   "metadata": {},
   "source": [
    "Let's use 47.5 as our cutoff for latitude and -122.2 for longitude."
   ]
  },
  {
   "cell_type": "code",
   "execution_count": 23,
   "metadata": {},
   "outputs": [],
   "source": [
    "# create a formula for determining which quadrant the data falls in.\n",
    "\n",
    "def quadrant(lat, long):\n",
    "    if (lat >= 47.5) & (long <=-122.2):\n",
    "        return 1\n",
    "    elif (lat >= 47.5) & (long >-122.2):\n",
    "        return 2\n",
    "    elif (lat < 47.5) & (long <=-122.2):\n",
    "        return 3\n",
    "    else:\n",
    "        return 4"
   ]
  },
  {
   "cell_type": "code",
   "execution_count": 24,
   "metadata": {},
   "outputs": [],
   "source": [
    "data['coordinates'] = data.apply(lambda x: list([x['lat'], x['long']]), axis=1)"
   ]
  },
  {
   "cell_type": "code",
   "execution_count": 25,
   "metadata": {
    "scrolled": true
   },
   "outputs": [],
   "source": [
    "# create a new column called quadrant that categorizes the location\n",
    "\n",
    "data['quadrant']= data['coordinates'].apply(lambda x: quadrant(x[0],x[1]))"
   ]
  },
  {
   "cell_type": "code",
   "execution_count": 26,
   "metadata": {
    "scrolled": true
   },
   "outputs": [
    {
     "data": {
      "text/plain": [
       "1    9221\n",
       "2    5775\n",
       "4    3503\n",
       "3    3098\n",
       "Name: quadrant, dtype: int64"
      ]
     },
     "execution_count": 26,
     "metadata": {},
     "output_type": "execute_result"
    }
   ],
   "source": [
    "data.quadrant.value_counts()"
   ]
  },
  {
   "cell_type": "code",
   "execution_count": 27,
   "metadata": {},
   "outputs": [],
   "source": [
    "# add quadrant to our categorical variable list\n",
    "\n",
    "cats.append('quadrant')\n"
   ]
  },
  {
   "cell_type": "code",
   "execution_count": 28,
   "metadata": {},
   "outputs": [],
   "source": [
    "data.drop('coordinates', inplace=True, axis=1)"
   ]
  },
  {
   "cell_type": "markdown",
   "metadata": {},
   "source": [
    "### One Hot Encoding Categorical Variables"
   ]
  },
  {
   "cell_type": "code",
   "execution_count": 29,
   "metadata": {},
   "outputs": [],
   "source": [
    "df_cat = data.loc[:,cats]"
   ]
  },
  {
   "cell_type": "code",
   "execution_count": 30,
   "metadata": {
    "scrolled": true
   },
   "outputs": [
    {
     "data": {
      "text/html": [
       "<div>\n",
       "<style scoped>\n",
       "    .dataframe tbody tr th:only-of-type {\n",
       "        vertical-align: middle;\n",
       "    }\n",
       "\n",
       "    .dataframe tbody tr th {\n",
       "        vertical-align: top;\n",
       "    }\n",
       "\n",
       "    .dataframe thead th {\n",
       "        text-align: right;\n",
       "    }\n",
       "</style>\n",
       "<table border=\"1\" class=\"dataframe\">\n",
       "  <thead>\n",
       "    <tr style=\"text-align: right;\">\n",
       "      <th></th>\n",
       "      <th>bedrooms</th>\n",
       "      <th>bathrooms</th>\n",
       "      <th>floors</th>\n",
       "      <th>waterfront</th>\n",
       "      <th>view</th>\n",
       "      <th>condition</th>\n",
       "      <th>grade</th>\n",
       "      <th>zipcode</th>\n",
       "      <th>quadrant</th>\n",
       "    </tr>\n",
       "  </thead>\n",
       "  <tbody>\n",
       "    <tr>\n",
       "      <th>0</th>\n",
       "      <td>3</td>\n",
       "      <td>1.00</td>\n",
       "      <td>1.0</td>\n",
       "      <td>0.0</td>\n",
       "      <td>0.0</td>\n",
       "      <td>3</td>\n",
       "      <td>7</td>\n",
       "      <td>98178</td>\n",
       "      <td>1</td>\n",
       "    </tr>\n",
       "    <tr>\n",
       "      <th>1</th>\n",
       "      <td>3</td>\n",
       "      <td>2.25</td>\n",
       "      <td>2.0</td>\n",
       "      <td>0.0</td>\n",
       "      <td>0.0</td>\n",
       "      <td>3</td>\n",
       "      <td>7</td>\n",
       "      <td>98125</td>\n",
       "      <td>1</td>\n",
       "    </tr>\n",
       "    <tr>\n",
       "      <th>2</th>\n",
       "      <td>2</td>\n",
       "      <td>1.00</td>\n",
       "      <td>1.0</td>\n",
       "      <td>0.0</td>\n",
       "      <td>0.0</td>\n",
       "      <td>3</td>\n",
       "      <td>6</td>\n",
       "      <td>98028</td>\n",
       "      <td>1</td>\n",
       "    </tr>\n",
       "    <tr>\n",
       "      <th>3</th>\n",
       "      <td>4</td>\n",
       "      <td>3.00</td>\n",
       "      <td>1.0</td>\n",
       "      <td>0.0</td>\n",
       "      <td>0.0</td>\n",
       "      <td>5</td>\n",
       "      <td>7</td>\n",
       "      <td>98136</td>\n",
       "      <td>1</td>\n",
       "    </tr>\n",
       "    <tr>\n",
       "      <th>4</th>\n",
       "      <td>3</td>\n",
       "      <td>2.00</td>\n",
       "      <td>1.0</td>\n",
       "      <td>0.0</td>\n",
       "      <td>0.0</td>\n",
       "      <td>3</td>\n",
       "      <td>8</td>\n",
       "      <td>98074</td>\n",
       "      <td>2</td>\n",
       "    </tr>\n",
       "    <tr>\n",
       "      <th>...</th>\n",
       "      <td>...</td>\n",
       "      <td>...</td>\n",
       "      <td>...</td>\n",
       "      <td>...</td>\n",
       "      <td>...</td>\n",
       "      <td>...</td>\n",
       "      <td>...</td>\n",
       "      <td>...</td>\n",
       "      <td>...</td>\n",
       "    </tr>\n",
       "    <tr>\n",
       "      <th>21592</th>\n",
       "      <td>3</td>\n",
       "      <td>2.50</td>\n",
       "      <td>3.0</td>\n",
       "      <td>0.0</td>\n",
       "      <td>0.0</td>\n",
       "      <td>3</td>\n",
       "      <td>8</td>\n",
       "      <td>98103</td>\n",
       "      <td>1</td>\n",
       "    </tr>\n",
       "    <tr>\n",
       "      <th>21593</th>\n",
       "      <td>4</td>\n",
       "      <td>2.50</td>\n",
       "      <td>2.0</td>\n",
       "      <td>0.0</td>\n",
       "      <td>0.0</td>\n",
       "      <td>3</td>\n",
       "      <td>8</td>\n",
       "      <td>98146</td>\n",
       "      <td>1</td>\n",
       "    </tr>\n",
       "    <tr>\n",
       "      <th>21594</th>\n",
       "      <td>2</td>\n",
       "      <td>0.75</td>\n",
       "      <td>2.0</td>\n",
       "      <td>0.0</td>\n",
       "      <td>0.0</td>\n",
       "      <td>3</td>\n",
       "      <td>7</td>\n",
       "      <td>98144</td>\n",
       "      <td>1</td>\n",
       "    </tr>\n",
       "    <tr>\n",
       "      <th>21595</th>\n",
       "      <td>3</td>\n",
       "      <td>2.50</td>\n",
       "      <td>2.0</td>\n",
       "      <td>0.0</td>\n",
       "      <td>0.0</td>\n",
       "      <td>3</td>\n",
       "      <td>8</td>\n",
       "      <td>98027</td>\n",
       "      <td>2</td>\n",
       "    </tr>\n",
       "    <tr>\n",
       "      <th>21596</th>\n",
       "      <td>2</td>\n",
       "      <td>0.75</td>\n",
       "      <td>2.0</td>\n",
       "      <td>0.0</td>\n",
       "      <td>0.0</td>\n",
       "      <td>3</td>\n",
       "      <td>7</td>\n",
       "      <td>98144</td>\n",
       "      <td>1</td>\n",
       "    </tr>\n",
       "  </tbody>\n",
       "</table>\n",
       "<p>21597 rows × 9 columns</p>\n",
       "</div>"
      ],
      "text/plain": [
       "       bedrooms  bathrooms  floors  waterfront  view  condition  grade  \\\n",
       "0             3       1.00     1.0         0.0   0.0          3      7   \n",
       "1             3       2.25     2.0         0.0   0.0          3      7   \n",
       "2             2       1.00     1.0         0.0   0.0          3      6   \n",
       "3             4       3.00     1.0         0.0   0.0          5      7   \n",
       "4             3       2.00     1.0         0.0   0.0          3      8   \n",
       "...         ...        ...     ...         ...   ...        ...    ...   \n",
       "21592         3       2.50     3.0         0.0   0.0          3      8   \n",
       "21593         4       2.50     2.0         0.0   0.0          3      8   \n",
       "21594         2       0.75     2.0         0.0   0.0          3      7   \n",
       "21595         3       2.50     2.0         0.0   0.0          3      8   \n",
       "21596         2       0.75     2.0         0.0   0.0          3      7   \n",
       "\n",
       "       zipcode  quadrant  \n",
       "0        98178         1  \n",
       "1        98125         1  \n",
       "2        98028         1  \n",
       "3        98136         1  \n",
       "4        98074         2  \n",
       "...        ...       ...  \n",
       "21592    98103         1  \n",
       "21593    98146         1  \n",
       "21594    98144         1  \n",
       "21595    98027         2  \n",
       "21596    98144         1  \n",
       "\n",
       "[21597 rows x 9 columns]"
      ]
     },
     "execution_count": 30,
     "metadata": {},
     "output_type": "execute_result"
    }
   ],
   "source": [
    "df_cat"
   ]
  },
  {
   "cell_type": "code",
   "execution_count": 31,
   "metadata": {
    "scrolled": true
   },
   "outputs": [
    {
     "data": {
      "text/plain": [
       "bedrooms      12\n",
       "bathrooms     29\n",
       "floors         6\n",
       "waterfront     2\n",
       "view           5\n",
       "condition      5\n",
       "grade         11\n",
       "zipcode       70\n",
       "quadrant       4\n",
       "dtype: int64"
      ]
     },
     "execution_count": 31,
     "metadata": {},
     "output_type": "execute_result"
    }
   ],
   "source": [
    "df_cat.nunique()"
   ]
  },
  {
   "cell_type": "code",
   "execution_count": 32,
   "metadata": {},
   "outputs": [
    {
     "data": {
      "text/plain": [
       "2.50    5377\n",
       "1.00    3851\n",
       "1.75    3048\n",
       "2.25    2047\n",
       "2.00    1930\n",
       "1.50    1445\n",
       "2.75    1185\n",
       "3.00     753\n",
       "3.50     731\n",
       "3.25     589\n",
       "3.75     155\n",
       "4.00     136\n",
       "4.50     100\n",
       "4.25      79\n",
       "0.75      71\n",
       "4.75      23\n",
       "5.00      21\n",
       "5.25      13\n",
       "5.50      10\n",
       "1.25       9\n",
       "6.00       6\n",
       "5.75       4\n",
       "0.50       4\n",
       "8.00       2\n",
       "6.25       2\n",
       "6.75       2\n",
       "6.50       2\n",
       "7.50       1\n",
       "7.75       1\n",
       "Name: bathrooms, dtype: int64"
      ]
     },
     "execution_count": 32,
     "metadata": {},
     "output_type": "execute_result"
    }
   ],
   "source": [
    "# Check the range of values for bathrooms to see if binning is appropriate.\n",
    "df_cat.bathrooms.value_counts()"
   ]
  },
  {
   "cell_type": "markdown",
   "metadata": {},
   "source": [
    "Since bathrooms has a large number of categories (20+) let's categorize this bathroom data into bins."
   ]
  },
  {
   "cell_type": "code",
   "execution_count": 33,
   "metadata": {},
   "outputs": [],
   "source": [
    "# use cut function to put bathroom data into bins\n",
    "\n",
    "df_cat['bathrooms'] = pd.cut(df_cat.bathrooms, [0, 1, 2, 3, 4, 5, 6, 8], \n",
    "                             labels = ['0_to_1', '1_to_2', '2_to_3', '3_to_4', '4_to_5', '5_to_6', '6_plus'])"
   ]
  },
  {
   "cell_type": "markdown",
   "metadata": {},
   "source": [
    "Bedrooms may also be helpful to bin, since there are 12 categories."
   ]
  },
  {
   "cell_type": "code",
   "execution_count": 34,
   "metadata": {},
   "outputs": [
    {
     "data": {
      "text/plain": [
       "3     9824\n",
       "4     6882\n",
       "2     2760\n",
       "5     1601\n",
       "6      272\n",
       "1      196\n",
       "7       38\n",
       "8       13\n",
       "9        6\n",
       "10       3\n",
       "11       1\n",
       "33       1\n",
       "Name: bedrooms, dtype: int64"
      ]
     },
     "execution_count": 34,
     "metadata": {},
     "output_type": "execute_result"
    }
   ],
   "source": [
    "df_cat['bedrooms'].value_counts()"
   ]
  },
  {
   "cell_type": "code",
   "execution_count": 35,
   "metadata": {},
   "outputs": [],
   "source": [
    "df_cat['bedrooms'] = pd.cut(df_cat.bedrooms, [0,1,2,3,4,5,33],\n",
    "                           labels = ['1','2','3','4','5','6_plus'])"
   ]
  },
  {
   "cell_type": "code",
   "execution_count": null,
   "metadata": {},
   "outputs": [],
   "source": []
  },
  {
   "cell_type": "markdown",
   "metadata": {},
   "source": [
    "Let's also categorize the zipcode data as we mentioned earlier.\n"
   ]
  },
  {
   "cell_type": "code",
   "execution_count": 36,
   "metadata": {
    "scrolled": true
   },
   "outputs": [
    {
     "data": {
      "text/html": [
       "<div>\n",
       "<style scoped>\n",
       "    .dataframe tbody tr th:only-of-type {\n",
       "        vertical-align: middle;\n",
       "    }\n",
       "\n",
       "    .dataframe tbody tr th {\n",
       "        vertical-align: top;\n",
       "    }\n",
       "\n",
       "    .dataframe thead th {\n",
       "        text-align: right;\n",
       "    }\n",
       "</style>\n",
       "<table border=\"1\" class=\"dataframe\">\n",
       "  <thead>\n",
       "    <tr style=\"text-align: right;\">\n",
       "      <th></th>\n",
       "      <th>bedrooms</th>\n",
       "      <th>bathrooms</th>\n",
       "      <th>floors</th>\n",
       "      <th>waterfront</th>\n",
       "      <th>view</th>\n",
       "      <th>condition</th>\n",
       "      <th>grade</th>\n",
       "      <th>quadrant</th>\n",
       "    </tr>\n",
       "    <tr>\n",
       "      <th>zipcode</th>\n",
       "      <th></th>\n",
       "      <th></th>\n",
       "      <th></th>\n",
       "      <th></th>\n",
       "      <th></th>\n",
       "      <th></th>\n",
       "      <th></th>\n",
       "      <th></th>\n",
       "    </tr>\n",
       "  </thead>\n",
       "  <tbody>\n",
       "    <tr>\n",
       "      <th>98001</th>\n",
       "      <td>361</td>\n",
       "      <td>361</td>\n",
       "      <td>361</td>\n",
       "      <td>361</td>\n",
       "      <td>361</td>\n",
       "      <td>361</td>\n",
       "      <td>361</td>\n",
       "      <td>361</td>\n",
       "    </tr>\n",
       "    <tr>\n",
       "      <th>98002</th>\n",
       "      <td>199</td>\n",
       "      <td>199</td>\n",
       "      <td>199</td>\n",
       "      <td>199</td>\n",
       "      <td>199</td>\n",
       "      <td>199</td>\n",
       "      <td>199</td>\n",
       "      <td>199</td>\n",
       "    </tr>\n",
       "    <tr>\n",
       "      <th>98003</th>\n",
       "      <td>280</td>\n",
       "      <td>280</td>\n",
       "      <td>280</td>\n",
       "      <td>280</td>\n",
       "      <td>280</td>\n",
       "      <td>280</td>\n",
       "      <td>280</td>\n",
       "      <td>280</td>\n",
       "    </tr>\n",
       "    <tr>\n",
       "      <th>98004</th>\n",
       "      <td>317</td>\n",
       "      <td>317</td>\n",
       "      <td>317</td>\n",
       "      <td>317</td>\n",
       "      <td>317</td>\n",
       "      <td>317</td>\n",
       "      <td>317</td>\n",
       "      <td>317</td>\n",
       "    </tr>\n",
       "    <tr>\n",
       "      <th>98005</th>\n",
       "      <td>168</td>\n",
       "      <td>168</td>\n",
       "      <td>168</td>\n",
       "      <td>168</td>\n",
       "      <td>168</td>\n",
       "      <td>168</td>\n",
       "      <td>168</td>\n",
       "      <td>168</td>\n",
       "    </tr>\n",
       "    <tr>\n",
       "      <th>...</th>\n",
       "      <td>...</td>\n",
       "      <td>...</td>\n",
       "      <td>...</td>\n",
       "      <td>...</td>\n",
       "      <td>...</td>\n",
       "      <td>...</td>\n",
       "      <td>...</td>\n",
       "      <td>...</td>\n",
       "    </tr>\n",
       "    <tr>\n",
       "      <th>98177</th>\n",
       "      <td>255</td>\n",
       "      <td>255</td>\n",
       "      <td>255</td>\n",
       "      <td>255</td>\n",
       "      <td>255</td>\n",
       "      <td>255</td>\n",
       "      <td>255</td>\n",
       "      <td>255</td>\n",
       "    </tr>\n",
       "    <tr>\n",
       "      <th>98178</th>\n",
       "      <td>262</td>\n",
       "      <td>262</td>\n",
       "      <td>262</td>\n",
       "      <td>262</td>\n",
       "      <td>262</td>\n",
       "      <td>262</td>\n",
       "      <td>262</td>\n",
       "      <td>262</td>\n",
       "    </tr>\n",
       "    <tr>\n",
       "      <th>98188</th>\n",
       "      <td>136</td>\n",
       "      <td>136</td>\n",
       "      <td>136</td>\n",
       "      <td>136</td>\n",
       "      <td>136</td>\n",
       "      <td>136</td>\n",
       "      <td>136</td>\n",
       "      <td>136</td>\n",
       "    </tr>\n",
       "    <tr>\n",
       "      <th>98198</th>\n",
       "      <td>280</td>\n",
       "      <td>280</td>\n",
       "      <td>280</td>\n",
       "      <td>280</td>\n",
       "      <td>280</td>\n",
       "      <td>280</td>\n",
       "      <td>280</td>\n",
       "      <td>280</td>\n",
       "    </tr>\n",
       "    <tr>\n",
       "      <th>98199</th>\n",
       "      <td>317</td>\n",
       "      <td>317</td>\n",
       "      <td>317</td>\n",
       "      <td>317</td>\n",
       "      <td>317</td>\n",
       "      <td>317</td>\n",
       "      <td>317</td>\n",
       "      <td>317</td>\n",
       "    </tr>\n",
       "  </tbody>\n",
       "</table>\n",
       "<p>70 rows × 8 columns</p>\n",
       "</div>"
      ],
      "text/plain": [
       "         bedrooms  bathrooms  floors  waterfront  view  condition  grade  \\\n",
       "zipcode                                                                    \n",
       "98001         361        361     361         361   361        361    361   \n",
       "98002         199        199     199         199   199        199    199   \n",
       "98003         280        280     280         280   280        280    280   \n",
       "98004         317        317     317         317   317        317    317   \n",
       "98005         168        168     168         168   168        168    168   \n",
       "...           ...        ...     ...         ...   ...        ...    ...   \n",
       "98177         255        255     255         255   255        255    255   \n",
       "98178         262        262     262         262   262        262    262   \n",
       "98188         136        136     136         136   136        136    136   \n",
       "98198         280        280     280         280   280        280    280   \n",
       "98199         317        317     317         317   317        317    317   \n",
       "\n",
       "         quadrant  \n",
       "zipcode            \n",
       "98001         361  \n",
       "98002         199  \n",
       "98003         280  \n",
       "98004         317  \n",
       "98005         168  \n",
       "...           ...  \n",
       "98177         255  \n",
       "98178         262  \n",
       "98188         136  \n",
       "98198         280  \n",
       "98199         317  \n",
       "\n",
       "[70 rows x 8 columns]"
      ]
     },
     "execution_count": 36,
     "metadata": {},
     "output_type": "execute_result"
    }
   ],
   "source": [
    "# check the range of values for zipcodes to see the best way to properly bin.\n",
    "df_cat.groupby(by='zipcode').count()"
   ]
  },
  {
   "cell_type": "markdown",
   "metadata": {},
   "source": [
    "There are about 200 zipcodes between the first and last zipcodes, so let's separate into 4 groups."
   ]
  },
  {
   "cell_type": "code",
   "execution_count": 37,
   "metadata": {},
   "outputs": [],
   "source": [
    "df_cat['zipcode'] = pd.cut(df_cat.zipcode, [98000, 98050, 98100, 98150, 98200],\n",
    "                                labels = ['98001_to_98050','98051_to_98100', '98101_to_98150', '98150_to_98200'])"
   ]
  },
  {
   "cell_type": "code",
   "execution_count": 38,
   "metadata": {},
   "outputs": [
    {
     "data": {
      "text/html": [
       "<div>\n",
       "<style scoped>\n",
       "    .dataframe tbody tr th:only-of-type {\n",
       "        vertical-align: middle;\n",
       "    }\n",
       "\n",
       "    .dataframe tbody tr th {\n",
       "        vertical-align: top;\n",
       "    }\n",
       "\n",
       "    .dataframe thead th {\n",
       "        text-align: right;\n",
       "    }\n",
       "</style>\n",
       "<table border=\"1\" class=\"dataframe\">\n",
       "  <thead>\n",
       "    <tr style=\"text-align: right;\">\n",
       "      <th></th>\n",
       "      <th>bedro_2</th>\n",
       "      <th>bedro_3</th>\n",
       "      <th>bedro_4</th>\n",
       "      <th>bedro_5</th>\n",
       "      <th>bedro_6_plus</th>\n",
       "      <th>bathr_1_to_2</th>\n",
       "      <th>bathr_2_to_3</th>\n",
       "      <th>bathr_3_to_4</th>\n",
       "      <th>bathr_4_to_5</th>\n",
       "      <th>bathr_5_to_6</th>\n",
       "      <th>...</th>\n",
       "      <th>grade_10</th>\n",
       "      <th>grade_11</th>\n",
       "      <th>grade_12</th>\n",
       "      <th>grade_13</th>\n",
       "      <th>zipco_98051_to_98100</th>\n",
       "      <th>zipco_98101_to_98150</th>\n",
       "      <th>zipco_98150_to_98200</th>\n",
       "      <th>quadr_2</th>\n",
       "      <th>quadr_3</th>\n",
       "      <th>quadr_4</th>\n",
       "    </tr>\n",
       "  </thead>\n",
       "  <tbody>\n",
       "    <tr>\n",
       "      <th>0</th>\n",
       "      <td>0</td>\n",
       "      <td>1</td>\n",
       "      <td>0</td>\n",
       "      <td>0</td>\n",
       "      <td>0</td>\n",
       "      <td>0</td>\n",
       "      <td>0</td>\n",
       "      <td>0</td>\n",
       "      <td>0</td>\n",
       "      <td>0</td>\n",
       "      <td>...</td>\n",
       "      <td>0</td>\n",
       "      <td>0</td>\n",
       "      <td>0</td>\n",
       "      <td>0</td>\n",
       "      <td>0</td>\n",
       "      <td>0</td>\n",
       "      <td>1</td>\n",
       "      <td>0</td>\n",
       "      <td>0</td>\n",
       "      <td>0</td>\n",
       "    </tr>\n",
       "    <tr>\n",
       "      <th>1</th>\n",
       "      <td>0</td>\n",
       "      <td>1</td>\n",
       "      <td>0</td>\n",
       "      <td>0</td>\n",
       "      <td>0</td>\n",
       "      <td>0</td>\n",
       "      <td>1</td>\n",
       "      <td>0</td>\n",
       "      <td>0</td>\n",
       "      <td>0</td>\n",
       "      <td>...</td>\n",
       "      <td>0</td>\n",
       "      <td>0</td>\n",
       "      <td>0</td>\n",
       "      <td>0</td>\n",
       "      <td>0</td>\n",
       "      <td>1</td>\n",
       "      <td>0</td>\n",
       "      <td>0</td>\n",
       "      <td>0</td>\n",
       "      <td>0</td>\n",
       "    </tr>\n",
       "    <tr>\n",
       "      <th>2</th>\n",
       "      <td>1</td>\n",
       "      <td>0</td>\n",
       "      <td>0</td>\n",
       "      <td>0</td>\n",
       "      <td>0</td>\n",
       "      <td>0</td>\n",
       "      <td>0</td>\n",
       "      <td>0</td>\n",
       "      <td>0</td>\n",
       "      <td>0</td>\n",
       "      <td>...</td>\n",
       "      <td>0</td>\n",
       "      <td>0</td>\n",
       "      <td>0</td>\n",
       "      <td>0</td>\n",
       "      <td>0</td>\n",
       "      <td>0</td>\n",
       "      <td>0</td>\n",
       "      <td>0</td>\n",
       "      <td>0</td>\n",
       "      <td>0</td>\n",
       "    </tr>\n",
       "    <tr>\n",
       "      <th>3</th>\n",
       "      <td>0</td>\n",
       "      <td>0</td>\n",
       "      <td>1</td>\n",
       "      <td>0</td>\n",
       "      <td>0</td>\n",
       "      <td>0</td>\n",
       "      <td>1</td>\n",
       "      <td>0</td>\n",
       "      <td>0</td>\n",
       "      <td>0</td>\n",
       "      <td>...</td>\n",
       "      <td>0</td>\n",
       "      <td>0</td>\n",
       "      <td>0</td>\n",
       "      <td>0</td>\n",
       "      <td>0</td>\n",
       "      <td>1</td>\n",
       "      <td>0</td>\n",
       "      <td>0</td>\n",
       "      <td>0</td>\n",
       "      <td>0</td>\n",
       "    </tr>\n",
       "    <tr>\n",
       "      <th>4</th>\n",
       "      <td>0</td>\n",
       "      <td>1</td>\n",
       "      <td>0</td>\n",
       "      <td>0</td>\n",
       "      <td>0</td>\n",
       "      <td>1</td>\n",
       "      <td>0</td>\n",
       "      <td>0</td>\n",
       "      <td>0</td>\n",
       "      <td>0</td>\n",
       "      <td>...</td>\n",
       "      <td>0</td>\n",
       "      <td>0</td>\n",
       "      <td>0</td>\n",
       "      <td>0</td>\n",
       "      <td>1</td>\n",
       "      <td>0</td>\n",
       "      <td>0</td>\n",
       "      <td>1</td>\n",
       "      <td>0</td>\n",
       "      <td>0</td>\n",
       "    </tr>\n",
       "    <tr>\n",
       "      <th>...</th>\n",
       "      <td>...</td>\n",
       "      <td>...</td>\n",
       "      <td>...</td>\n",
       "      <td>...</td>\n",
       "      <td>...</td>\n",
       "      <td>...</td>\n",
       "      <td>...</td>\n",
       "      <td>...</td>\n",
       "      <td>...</td>\n",
       "      <td>...</td>\n",
       "      <td>...</td>\n",
       "      <td>...</td>\n",
       "      <td>...</td>\n",
       "      <td>...</td>\n",
       "      <td>...</td>\n",
       "      <td>...</td>\n",
       "      <td>...</td>\n",
       "      <td>...</td>\n",
       "      <td>...</td>\n",
       "      <td>...</td>\n",
       "      <td>...</td>\n",
       "    </tr>\n",
       "    <tr>\n",
       "      <th>21592</th>\n",
       "      <td>0</td>\n",
       "      <td>1</td>\n",
       "      <td>0</td>\n",
       "      <td>0</td>\n",
       "      <td>0</td>\n",
       "      <td>0</td>\n",
       "      <td>1</td>\n",
       "      <td>0</td>\n",
       "      <td>0</td>\n",
       "      <td>0</td>\n",
       "      <td>...</td>\n",
       "      <td>0</td>\n",
       "      <td>0</td>\n",
       "      <td>0</td>\n",
       "      <td>0</td>\n",
       "      <td>0</td>\n",
       "      <td>1</td>\n",
       "      <td>0</td>\n",
       "      <td>0</td>\n",
       "      <td>0</td>\n",
       "      <td>0</td>\n",
       "    </tr>\n",
       "    <tr>\n",
       "      <th>21593</th>\n",
       "      <td>0</td>\n",
       "      <td>0</td>\n",
       "      <td>1</td>\n",
       "      <td>0</td>\n",
       "      <td>0</td>\n",
       "      <td>0</td>\n",
       "      <td>1</td>\n",
       "      <td>0</td>\n",
       "      <td>0</td>\n",
       "      <td>0</td>\n",
       "      <td>...</td>\n",
       "      <td>0</td>\n",
       "      <td>0</td>\n",
       "      <td>0</td>\n",
       "      <td>0</td>\n",
       "      <td>0</td>\n",
       "      <td>1</td>\n",
       "      <td>0</td>\n",
       "      <td>0</td>\n",
       "      <td>0</td>\n",
       "      <td>0</td>\n",
       "    </tr>\n",
       "    <tr>\n",
       "      <th>21594</th>\n",
       "      <td>1</td>\n",
       "      <td>0</td>\n",
       "      <td>0</td>\n",
       "      <td>0</td>\n",
       "      <td>0</td>\n",
       "      <td>0</td>\n",
       "      <td>0</td>\n",
       "      <td>0</td>\n",
       "      <td>0</td>\n",
       "      <td>0</td>\n",
       "      <td>...</td>\n",
       "      <td>0</td>\n",
       "      <td>0</td>\n",
       "      <td>0</td>\n",
       "      <td>0</td>\n",
       "      <td>0</td>\n",
       "      <td>1</td>\n",
       "      <td>0</td>\n",
       "      <td>0</td>\n",
       "      <td>0</td>\n",
       "      <td>0</td>\n",
       "    </tr>\n",
       "    <tr>\n",
       "      <th>21595</th>\n",
       "      <td>0</td>\n",
       "      <td>1</td>\n",
       "      <td>0</td>\n",
       "      <td>0</td>\n",
       "      <td>0</td>\n",
       "      <td>0</td>\n",
       "      <td>1</td>\n",
       "      <td>0</td>\n",
       "      <td>0</td>\n",
       "      <td>0</td>\n",
       "      <td>...</td>\n",
       "      <td>0</td>\n",
       "      <td>0</td>\n",
       "      <td>0</td>\n",
       "      <td>0</td>\n",
       "      <td>0</td>\n",
       "      <td>0</td>\n",
       "      <td>0</td>\n",
       "      <td>1</td>\n",
       "      <td>0</td>\n",
       "      <td>0</td>\n",
       "    </tr>\n",
       "    <tr>\n",
       "      <th>21596</th>\n",
       "      <td>1</td>\n",
       "      <td>0</td>\n",
       "      <td>0</td>\n",
       "      <td>0</td>\n",
       "      <td>0</td>\n",
       "      <td>0</td>\n",
       "      <td>0</td>\n",
       "      <td>0</td>\n",
       "      <td>0</td>\n",
       "      <td>0</td>\n",
       "      <td>...</td>\n",
       "      <td>0</td>\n",
       "      <td>0</td>\n",
       "      <td>0</td>\n",
       "      <td>0</td>\n",
       "      <td>0</td>\n",
       "      <td>1</td>\n",
       "      <td>0</td>\n",
       "      <td>0</td>\n",
       "      <td>0</td>\n",
       "      <td>0</td>\n",
       "    </tr>\n",
       "  </tbody>\n",
       "</table>\n",
       "<p>21597 rows × 41 columns</p>\n",
       "</div>"
      ],
      "text/plain": [
       "       bedro_2  bedro_3  bedro_4  bedro_5  bedro_6_plus  bathr_1_to_2  \\\n",
       "0            0        1        0        0             0             0   \n",
       "1            0        1        0        0             0             0   \n",
       "2            1        0        0        0             0             0   \n",
       "3            0        0        1        0             0             0   \n",
       "4            0        1        0        0             0             1   \n",
       "...        ...      ...      ...      ...           ...           ...   \n",
       "21592        0        1        0        0             0             0   \n",
       "21593        0        0        1        0             0             0   \n",
       "21594        1        0        0        0             0             0   \n",
       "21595        0        1        0        0             0             0   \n",
       "21596        1        0        0        0             0             0   \n",
       "\n",
       "       bathr_2_to_3  bathr_3_to_4  bathr_4_to_5  bathr_5_to_6  ...  grade_10  \\\n",
       "0                 0             0             0             0  ...         0   \n",
       "1                 1             0             0             0  ...         0   \n",
       "2                 0             0             0             0  ...         0   \n",
       "3                 1             0             0             0  ...         0   \n",
       "4                 0             0             0             0  ...         0   \n",
       "...             ...           ...           ...           ...  ...       ...   \n",
       "21592             1             0             0             0  ...         0   \n",
       "21593             1             0             0             0  ...         0   \n",
       "21594             0             0             0             0  ...         0   \n",
       "21595             1             0             0             0  ...         0   \n",
       "21596             0             0             0             0  ...         0   \n",
       "\n",
       "       grade_11  grade_12  grade_13  zipco_98051_to_98100  \\\n",
       "0             0         0         0                     0   \n",
       "1             0         0         0                     0   \n",
       "2             0         0         0                     0   \n",
       "3             0         0         0                     0   \n",
       "4             0         0         0                     1   \n",
       "...         ...       ...       ...                   ...   \n",
       "21592         0         0         0                     0   \n",
       "21593         0         0         0                     0   \n",
       "21594         0         0         0                     0   \n",
       "21595         0         0         0                     0   \n",
       "21596         0         0         0                     0   \n",
       "\n",
       "       zipco_98101_to_98150  zipco_98150_to_98200  quadr_2  quadr_3  quadr_4  \n",
       "0                         0                     1        0        0        0  \n",
       "1                         1                     0        0        0        0  \n",
       "2                         0                     0        0        0        0  \n",
       "3                         1                     0        0        0        0  \n",
       "4                         0                     0        1        0        0  \n",
       "...                     ...                   ...      ...      ...      ...  \n",
       "21592                     1                     0        0        0        0  \n",
       "21593                     1                     0        0        0        0  \n",
       "21594                     1                     0        0        0        0  \n",
       "21595                     0                     0        1        0        0  \n",
       "21596                     1                     0        0        0        0  \n",
       "\n",
       "[21597 rows x 41 columns]"
      ]
     },
     "execution_count": 38,
     "metadata": {},
     "output_type": "execute_result"
    }
   ],
   "source": [
    "# Use a for loop to create a new dataframe of dummy variables\n",
    "dataset = pd.DataFrame()\n",
    "for col in df_cat.columns:\n",
    "    col_dummies = pd.get_dummies(df_cat[col], prefix = str(col)[:5], drop_first=True)\n",
    "    dataset = pd.concat([dataset, col_dummies], axis=1)\n",
    "\n",
    "dataset"
   ]
  },
  {
   "cell_type": "code",
   "execution_count": 39,
   "metadata": {
    "scrolled": true
   },
   "outputs": [],
   "source": [
    "data_model_2 = pd.concat([data, dataset], axis=1)\n",
    "\n",
    "data_model_2.drop(columns=cats, inplace=True)"
   ]
  },
  {
   "cell_type": "code",
   "execution_count": 40,
   "metadata": {
    "scrolled": true
   },
   "outputs": [
    {
     "data": {
      "text/plain": [
       "Index(['id', 'date', 'price', 'sqft_lot', 'sqft_above', 'sqft_basement',\n",
       "       'yr_built', 'yr_renovated', 'lat', 'long', 'sqft_living15',\n",
       "       'sqft_lot15', 'bedro_2', 'bedro_3', 'bedro_4', 'bedro_5',\n",
       "       'bedro_6_plus', 'bathr_1_to_2', 'bathr_2_to_3', 'bathr_3_to_4',\n",
       "       'bathr_4_to_5', 'bathr_5_to_6', 'bathr_6_plus', 'floor_1.5',\n",
       "       'floor_2.0', 'floor_2.5', 'floor_3.0', 'floor_3.5', 'water_1.0',\n",
       "       'view_1.0', 'view_2.0', 'view_3.0', 'view_4.0', 'condi_2', 'condi_3',\n",
       "       'condi_4', 'condi_5', 'grade_4', 'grade_5', 'grade_6', 'grade_7',\n",
       "       'grade_8', 'grade_9', 'grade_10', 'grade_11', 'grade_12', 'grade_13',\n",
       "       'zipco_98051_to_98100', 'zipco_98101_to_98150', 'zipco_98150_to_98200',\n",
       "       'quadr_2', 'quadr_3', 'quadr_4'],\n",
       "      dtype='object')"
      ]
     },
     "execution_count": 40,
     "metadata": {},
     "output_type": "execute_result"
    }
   ],
   "source": [
    "data_model_2.columns"
   ]
  },
  {
   "cell_type": "code",
   "execution_count": 41,
   "metadata": {},
   "outputs": [],
   "source": [
    "data_model_2.drop(columns=['lat', 'long'], inplace=True)"
   ]
  },
  {
   "cell_type": "markdown",
   "metadata": {},
   "source": [
    "### Run New Model"
   ]
  },
  {
   "cell_type": "code",
   "execution_count": 42,
   "metadata": {
    "scrolled": true
   },
   "outputs": [],
   "source": [
    "y = data_model_2['price']\n",
    "X = data_model_2.drop(['price', 'id', 'date'], axis=1)\n",
    "X_train, X_test, y_train, y_test = train_test_split(X, y, test_size=0.2, random_state=45)\n"
   ]
  },
  {
   "cell_type": "code",
   "execution_count": 43,
   "metadata": {},
   "outputs": [],
   "source": [
    "model_2 = LinearRegression()\n",
    "model_2.fit(X_train, y_train)\n",
    "y_hat_train = model_2.predict(X_train)\n",
    "y_hat_test = model_2.predict(X_test)"
   ]
  },
  {
   "cell_type": "code",
   "execution_count": 44,
   "metadata": {},
   "outputs": [
    {
     "data": {
      "text/plain": [
       "0.751766252959812"
      ]
     },
     "execution_count": 44,
     "metadata": {},
     "output_type": "execute_result"
    }
   ],
   "source": [
    "metrics.r2_score(y_train, y_hat_train)"
   ]
  },
  {
   "cell_type": "markdown",
   "metadata": {},
   "source": [
    "Our R-squared score has improved from .7 to .75. Let's also look at the model summary and see if any insights can be gained to further improve the model and check the RMSE."
   ]
  },
  {
   "cell_type": "code",
   "execution_count": 45,
   "metadata": {},
   "outputs": [
    {
     "data": {
      "text/html": [
       "<table class=\"simpletable\">\n",
       "<caption>OLS Regression Results</caption>\n",
       "<tr>\n",
       "  <th>Dep. Variable:</th>          <td>price</td>      <th>  R-squared:         </th>  <td>   0.752</td>  \n",
       "</tr>\n",
       "<tr>\n",
       "  <th>Model:</th>                   <td>OLS</td>       <th>  Adj. R-squared:    </th>  <td>   0.751</td>  \n",
       "</tr>\n",
       "<tr>\n",
       "  <th>Method:</th>             <td>Least Squares</td>  <th>  F-statistic:       </th>  <td>   1087.</td>  \n",
       "</tr>\n",
       "<tr>\n",
       "  <th>Date:</th>             <td>Fri, 08 Jan 2021</td> <th>  Prob (F-statistic):</th>   <td>  0.00</td>   \n",
       "</tr>\n",
       "<tr>\n",
       "  <th>Time:</th>                 <td>14:45:59</td>     <th>  Log-Likelihood:    </th> <td>-2.3398e+05</td>\n",
       "</tr>\n",
       "<tr>\n",
       "  <th>No. Observations:</th>      <td> 17277</td>      <th>  AIC:               </th>  <td>4.681e+05</td> \n",
       "</tr>\n",
       "<tr>\n",
       "  <th>Df Residuals:</th>          <td> 17228</td>      <th>  BIC:               </th>  <td>4.684e+05</td> \n",
       "</tr>\n",
       "<tr>\n",
       "  <th>Df Model:</th>              <td>    48</td>      <th>                     </th>      <td> </td>     \n",
       "</tr>\n",
       "<tr>\n",
       "  <th>Covariance Type:</th>      <td>nonrobust</td>    <th>                     </th>      <td> </td>     \n",
       "</tr>\n",
       "</table>\n",
       "<table class=\"simpletable\">\n",
       "<tr>\n",
       "            <td></td>              <th>coef</th>     <th>std err</th>      <th>t</th>      <th>P>|t|</th>  <th>[0.025</th>    <th>0.975]</th>  \n",
       "</tr>\n",
       "<tr>\n",
       "  <th>const</th>                <td> 3.237e+06</td> <td>  2.5e+05</td> <td>   12.930</td> <td> 0.000</td> <td> 2.75e+06</td> <td> 3.73e+06</td>\n",
       "</tr>\n",
       "<tr>\n",
       "  <th>sqft_lot</th>             <td>    0.1157</td> <td>    0.050</td> <td>    2.292</td> <td> 0.022</td> <td>    0.017</td> <td>    0.215</td>\n",
       "</tr>\n",
       "<tr>\n",
       "  <th>sqft_above</th>           <td>  144.8937</td> <td>    4.023</td> <td>   36.016</td> <td> 0.000</td> <td>  137.008</td> <td>  152.779</td>\n",
       "</tr>\n",
       "<tr>\n",
       "  <th>sqft_basement</th>        <td>  119.4943</td> <td>    4.522</td> <td>   26.426</td> <td> 0.000</td> <td>  110.631</td> <td>  128.357</td>\n",
       "</tr>\n",
       "<tr>\n",
       "  <th>yr_built</th>             <td>-1544.2010</td> <td>   85.151</td> <td>  -18.135</td> <td> 0.000</td> <td>-1711.105</td> <td>-1377.297</td>\n",
       "</tr>\n",
       "<tr>\n",
       "  <th>yr_renovated</th>         <td>   39.4186</td> <td>    4.119</td> <td>    9.569</td> <td> 0.000</td> <td>   31.344</td> <td>   47.493</td>\n",
       "</tr>\n",
       "<tr>\n",
       "  <th>sqft_living15</th>        <td>   42.3973</td> <td>    3.692</td> <td>   11.484</td> <td> 0.000</td> <td>   35.161</td> <td>   49.634</td>\n",
       "</tr>\n",
       "<tr>\n",
       "  <th>sqft_lot15</th>           <td>   -0.3657</td> <td>    0.078</td> <td>   -4.682</td> <td> 0.000</td> <td>   -0.519</td> <td>   -0.213</td>\n",
       "</tr>\n",
       "<tr>\n",
       "  <th>bedro_2</th>              <td> 2.641e+04</td> <td> 1.56e+04</td> <td>    1.693</td> <td> 0.090</td> <td>-4165.561</td> <td>  5.7e+04</td>\n",
       "</tr>\n",
       "<tr>\n",
       "  <th>bedro_3</th>              <td> 1.667e+04</td> <td> 1.57e+04</td> <td>    1.065</td> <td> 0.287</td> <td> -1.4e+04</td> <td> 4.73e+04</td>\n",
       "</tr>\n",
       "<tr>\n",
       "  <th>bedro_4</th>              <td>-8292.3671</td> <td>  1.6e+04</td> <td>   -0.518</td> <td> 0.604</td> <td>-3.96e+04</td> <td> 2.31e+04</td>\n",
       "</tr>\n",
       "<tr>\n",
       "  <th>bedro_5</th>              <td>-1.025e+04</td> <td> 1.68e+04</td> <td>   -0.608</td> <td> 0.543</td> <td>-4.33e+04</td> <td> 2.28e+04</td>\n",
       "</tr>\n",
       "<tr>\n",
       "  <th>bedro_6_plus</th>         <td>-4.844e+04</td> <td> 1.98e+04</td> <td>   -2.441</td> <td> 0.015</td> <td>-8.73e+04</td> <td>-9550.704</td>\n",
       "</tr>\n",
       "<tr>\n",
       "  <th>bathr_1_to_2</th>         <td> 8522.1910</td> <td> 4986.566</td> <td>    1.709</td> <td> 0.087</td> <td>-1251.986</td> <td> 1.83e+04</td>\n",
       "</tr>\n",
       "<tr>\n",
       "  <th>bathr_2_to_3</th>         <td> 1.988e+04</td> <td> 6376.568</td> <td>    3.117</td> <td> 0.002</td> <td> 7379.602</td> <td> 3.24e+04</td>\n",
       "</tr>\n",
       "<tr>\n",
       "  <th>bathr_3_to_4</th>         <td> 7.815e+04</td> <td> 9361.461</td> <td>    8.348</td> <td> 0.000</td> <td> 5.98e+04</td> <td> 9.65e+04</td>\n",
       "</tr>\n",
       "<tr>\n",
       "  <th>bathr_4_to_5</th>         <td> 2.356e+05</td> <td>  1.7e+04</td> <td>   13.893</td> <td> 0.000</td> <td> 2.02e+05</td> <td> 2.69e+05</td>\n",
       "</tr>\n",
       "<tr>\n",
       "  <th>bathr_5_to_6</th>         <td> 5.661e+05</td> <td> 3.97e+04</td> <td>   14.271</td> <td> 0.000</td> <td> 4.88e+05</td> <td> 6.44e+05</td>\n",
       "</tr>\n",
       "<tr>\n",
       "  <th>bathr_6_plus</th>         <td> 3.901e+05</td> <td> 6.66e+04</td> <td>    5.859</td> <td> 0.000</td> <td>  2.6e+05</td> <td> 5.21e+05</td>\n",
       "</tr>\n",
       "<tr>\n",
       "  <th>floor_1.5</th>            <td>-1285.5365</td> <td> 5643.883</td> <td>   -0.228</td> <td> 0.820</td> <td>-1.23e+04</td> <td> 9777.048</td>\n",
       "</tr>\n",
       "<tr>\n",
       "  <th>floor_2.0</th>            <td>-7381.5756</td> <td> 4777.735</td> <td>   -1.545</td> <td> 0.122</td> <td>-1.67e+04</td> <td> 1983.270</td>\n",
       "</tr>\n",
       "<tr>\n",
       "  <th>floor_2.5</th>            <td> 1.133e+05</td> <td> 1.72e+04</td> <td>    6.596</td> <td> 0.000</td> <td> 7.96e+04</td> <td> 1.47e+05</td>\n",
       "</tr>\n",
       "<tr>\n",
       "  <th>floor_3.0</th>            <td> 2.286e+04</td> <td> 1.03e+04</td> <td>    2.219</td> <td> 0.027</td> <td> 2664.797</td> <td> 4.31e+04</td>\n",
       "</tr>\n",
       "<tr>\n",
       "  <th>floor_3.5</th>            <td> 1.492e+05</td> <td> 7.57e+04</td> <td>    1.971</td> <td> 0.049</td> <td>  810.322</td> <td> 2.98e+05</td>\n",
       "</tr>\n",
       "<tr>\n",
       "  <th>water_1.0</th>            <td> 5.895e+05</td> <td> 2.06e+04</td> <td>   28.554</td> <td> 0.000</td> <td> 5.49e+05</td> <td>  6.3e+05</td>\n",
       "</tr>\n",
       "<tr>\n",
       "  <th>view_1.0</th>             <td> 9.374e+04</td> <td> 1.18e+04</td> <td>    7.947</td> <td> 0.000</td> <td> 7.06e+04</td> <td> 1.17e+05</td>\n",
       "</tr>\n",
       "<tr>\n",
       "  <th>view_2.0</th>             <td> 5.424e+04</td> <td> 7050.377</td> <td>    7.694</td> <td> 0.000</td> <td> 4.04e+04</td> <td> 6.81e+04</td>\n",
       "</tr>\n",
       "<tr>\n",
       "  <th>view_3.0</th>             <td> 1.078e+05</td> <td> 9705.214</td> <td>   11.110</td> <td> 0.000</td> <td> 8.88e+04</td> <td> 1.27e+05</td>\n",
       "</tr>\n",
       "<tr>\n",
       "  <th>view_4.0</th>             <td>  2.11e+05</td> <td> 1.46e+04</td> <td>   14.446</td> <td> 0.000</td> <td> 1.82e+05</td> <td>  2.4e+05</td>\n",
       "</tr>\n",
       "<tr>\n",
       "  <th>condi_2</th>              <td> 3.205e+04</td> <td> 4.43e+04</td> <td>    0.723</td> <td> 0.470</td> <td>-5.48e+04</td> <td> 1.19e+05</td>\n",
       "</tr>\n",
       "<tr>\n",
       "  <th>condi_3</th>              <td> 3.329e+04</td> <td> 4.17e+04</td> <td>    0.798</td> <td> 0.425</td> <td>-4.85e+04</td> <td> 1.15e+05</td>\n",
       "</tr>\n",
       "<tr>\n",
       "  <th>condi_4</th>              <td> 7.284e+04</td> <td> 4.17e+04</td> <td>    1.745</td> <td> 0.081</td> <td>-8957.570</td> <td> 1.55e+05</td>\n",
       "</tr>\n",
       "<tr>\n",
       "  <th>condi_5</th>              <td> 1.115e+05</td> <td>  4.2e+04</td> <td>    2.657</td> <td> 0.008</td> <td> 2.93e+04</td> <td> 1.94e+05</td>\n",
       "</tr>\n",
       "<tr>\n",
       "  <th>grade_4</th>              <td>-8.554e+04</td> <td>  1.9e+05</td> <td>   -0.450</td> <td> 0.653</td> <td>-4.58e+05</td> <td> 2.87e+05</td>\n",
       "</tr>\n",
       "<tr>\n",
       "  <th>grade_5</th>              <td>-9.668e+04</td> <td> 1.86e+05</td> <td>   -0.521</td> <td> 0.602</td> <td> -4.6e+05</td> <td> 2.67e+05</td>\n",
       "</tr>\n",
       "<tr>\n",
       "  <th>grade_6</th>              <td>-9.398e+04</td> <td> 1.85e+05</td> <td>   -0.507</td> <td> 0.612</td> <td>-4.57e+05</td> <td> 2.69e+05</td>\n",
       "</tr>\n",
       "<tr>\n",
       "  <th>grade_7</th>              <td>-4.198e+04</td> <td> 1.85e+05</td> <td>   -0.227</td> <td> 0.821</td> <td>-4.05e+05</td> <td> 3.21e+05</td>\n",
       "</tr>\n",
       "<tr>\n",
       "  <th>grade_8</th>              <td> 2.312e+04</td> <td> 1.85e+05</td> <td>    0.125</td> <td> 0.901</td> <td> -3.4e+05</td> <td> 3.86e+05</td>\n",
       "</tr>\n",
       "<tr>\n",
       "  <th>grade_9</th>              <td> 1.265e+05</td> <td> 1.85e+05</td> <td>    0.682</td> <td> 0.495</td> <td>-2.37e+05</td> <td>  4.9e+05</td>\n",
       "</tr>\n",
       "<tr>\n",
       "  <th>grade_10</th>             <td> 2.734e+05</td> <td> 1.86e+05</td> <td>    1.473</td> <td> 0.141</td> <td>-9.04e+04</td> <td> 6.37e+05</td>\n",
       "</tr>\n",
       "<tr>\n",
       "  <th>grade_11</th>             <td> 4.719e+05</td> <td> 1.86e+05</td> <td>    2.538</td> <td> 0.011</td> <td> 1.07e+05</td> <td> 8.36e+05</td>\n",
       "</tr>\n",
       "<tr>\n",
       "  <th>grade_12</th>             <td>  8.82e+05</td> <td> 1.87e+05</td> <td>    4.714</td> <td> 0.000</td> <td> 5.15e+05</td> <td> 1.25e+06</td>\n",
       "</tr>\n",
       "<tr>\n",
       "  <th>grade_13</th>             <td> 1.961e+06</td> <td> 1.97e+05</td> <td>    9.968</td> <td> 0.000</td> <td> 1.58e+06</td> <td> 2.35e+06</td>\n",
       "</tr>\n",
       "<tr>\n",
       "  <th>zipco_98051_to_98100</th> <td>-4.211e+04</td> <td> 4115.467</td> <td>  -10.233</td> <td> 0.000</td> <td>-5.02e+04</td> <td> -3.4e+04</td>\n",
       "</tr>\n",
       "<tr>\n",
       "  <th>zipco_98101_to_98150</th> <td>-5.429e+04</td> <td> 5814.158</td> <td>   -9.338</td> <td> 0.000</td> <td>-6.57e+04</td> <td>-4.29e+04</td>\n",
       "</tr>\n",
       "<tr>\n",
       "  <th>zipco_98150_to_98200</th> <td>-7.054e+04</td> <td> 5891.797</td> <td>  -11.973</td> <td> 0.000</td> <td>-8.21e+04</td> <td> -5.9e+04</td>\n",
       "</tr>\n",
       "<tr>\n",
       "  <th>quadr_2</th>              <td>-1.115e+05</td> <td> 5771.004</td> <td>  -19.317</td> <td> 0.000</td> <td>-1.23e+05</td> <td>   -1e+05</td>\n",
       "</tr>\n",
       "<tr>\n",
       "  <th>quadr_3</th>              <td> -2.67e+05</td> <td> 5458.240</td> <td>  -48.913</td> <td> 0.000</td> <td>-2.78e+05</td> <td>-2.56e+05</td>\n",
       "</tr>\n",
       "<tr>\n",
       "  <th>quadr_4</th>              <td>-2.509e+05</td> <td> 6266.803</td> <td>  -40.039</td> <td> 0.000</td> <td>-2.63e+05</td> <td>-2.39e+05</td>\n",
       "</tr>\n",
       "</table>\n",
       "<table class=\"simpletable\">\n",
       "<tr>\n",
       "  <th>Omnibus:</th>       <td>11257.286</td> <th>  Durbin-Watson:     </th>  <td>   1.995</td> \n",
       "</tr>\n",
       "<tr>\n",
       "  <th>Prob(Omnibus):</th>  <td> 0.000</td>   <th>  Jarque-Bera (JB):  </th> <td>676684.661</td>\n",
       "</tr>\n",
       "<tr>\n",
       "  <th>Skew:</th>           <td> 2.444</td>   <th>  Prob(JB):          </th>  <td>    0.00</td> \n",
       "</tr>\n",
       "<tr>\n",
       "  <th>Kurtosis:</th>       <td>33.267</td>   <th>  Cond. No.          </th>  <td>2.17e+07</td> \n",
       "</tr>\n",
       "</table><br/><br/>Notes:<br/>[1] Standard Errors assume that the covariance matrix of the errors is correctly specified.<br/>[2] The condition number is large, 2.17e+07. This might indicate that there are<br/>strong multicollinearity or other numerical problems."
      ],
      "text/plain": [
       "<class 'statsmodels.iolib.summary.Summary'>\n",
       "\"\"\"\n",
       "                            OLS Regression Results                            \n",
       "==============================================================================\n",
       "Dep. Variable:                  price   R-squared:                       0.752\n",
       "Model:                            OLS   Adj. R-squared:                  0.751\n",
       "Method:                 Least Squares   F-statistic:                     1087.\n",
       "Date:                Fri, 08 Jan 2021   Prob (F-statistic):               0.00\n",
       "Time:                        14:45:59   Log-Likelihood:            -2.3398e+05\n",
       "No. Observations:               17277   AIC:                         4.681e+05\n",
       "Df Residuals:                   17228   BIC:                         4.684e+05\n",
       "Df Model:                          48                                         \n",
       "Covariance Type:            nonrobust                                         \n",
       "========================================================================================\n",
       "                           coef    std err          t      P>|t|      [0.025      0.975]\n",
       "----------------------------------------------------------------------------------------\n",
       "const                 3.237e+06    2.5e+05     12.930      0.000    2.75e+06    3.73e+06\n",
       "sqft_lot                 0.1157      0.050      2.292      0.022       0.017       0.215\n",
       "sqft_above             144.8937      4.023     36.016      0.000     137.008     152.779\n",
       "sqft_basement          119.4943      4.522     26.426      0.000     110.631     128.357\n",
       "yr_built             -1544.2010     85.151    -18.135      0.000   -1711.105   -1377.297\n",
       "yr_renovated            39.4186      4.119      9.569      0.000      31.344      47.493\n",
       "sqft_living15           42.3973      3.692     11.484      0.000      35.161      49.634\n",
       "sqft_lot15              -0.3657      0.078     -4.682      0.000      -0.519      -0.213\n",
       "bedro_2               2.641e+04   1.56e+04      1.693      0.090   -4165.561     5.7e+04\n",
       "bedro_3               1.667e+04   1.57e+04      1.065      0.287    -1.4e+04    4.73e+04\n",
       "bedro_4              -8292.3671    1.6e+04     -0.518      0.604   -3.96e+04    2.31e+04\n",
       "bedro_5              -1.025e+04   1.68e+04     -0.608      0.543   -4.33e+04    2.28e+04\n",
       "bedro_6_plus         -4.844e+04   1.98e+04     -2.441      0.015   -8.73e+04   -9550.704\n",
       "bathr_1_to_2          8522.1910   4986.566      1.709      0.087   -1251.986    1.83e+04\n",
       "bathr_2_to_3          1.988e+04   6376.568      3.117      0.002    7379.602    3.24e+04\n",
       "bathr_3_to_4          7.815e+04   9361.461      8.348      0.000    5.98e+04    9.65e+04\n",
       "bathr_4_to_5          2.356e+05    1.7e+04     13.893      0.000    2.02e+05    2.69e+05\n",
       "bathr_5_to_6          5.661e+05   3.97e+04     14.271      0.000    4.88e+05    6.44e+05\n",
       "bathr_6_plus          3.901e+05   6.66e+04      5.859      0.000     2.6e+05    5.21e+05\n",
       "floor_1.5            -1285.5365   5643.883     -0.228      0.820   -1.23e+04    9777.048\n",
       "floor_2.0            -7381.5756   4777.735     -1.545      0.122   -1.67e+04    1983.270\n",
       "floor_2.5             1.133e+05   1.72e+04      6.596      0.000    7.96e+04    1.47e+05\n",
       "floor_3.0             2.286e+04   1.03e+04      2.219      0.027    2664.797    4.31e+04\n",
       "floor_3.5             1.492e+05   7.57e+04      1.971      0.049     810.322    2.98e+05\n",
       "water_1.0             5.895e+05   2.06e+04     28.554      0.000    5.49e+05     6.3e+05\n",
       "view_1.0              9.374e+04   1.18e+04      7.947      0.000    7.06e+04    1.17e+05\n",
       "view_2.0              5.424e+04   7050.377      7.694      0.000    4.04e+04    6.81e+04\n",
       "view_3.0              1.078e+05   9705.214     11.110      0.000    8.88e+04    1.27e+05\n",
       "view_4.0               2.11e+05   1.46e+04     14.446      0.000    1.82e+05     2.4e+05\n",
       "condi_2               3.205e+04   4.43e+04      0.723      0.470   -5.48e+04    1.19e+05\n",
       "condi_3               3.329e+04   4.17e+04      0.798      0.425   -4.85e+04    1.15e+05\n",
       "condi_4               7.284e+04   4.17e+04      1.745      0.081   -8957.570    1.55e+05\n",
       "condi_5               1.115e+05    4.2e+04      2.657      0.008    2.93e+04    1.94e+05\n",
       "grade_4              -8.554e+04    1.9e+05     -0.450      0.653   -4.58e+05    2.87e+05\n",
       "grade_5              -9.668e+04   1.86e+05     -0.521      0.602    -4.6e+05    2.67e+05\n",
       "grade_6              -9.398e+04   1.85e+05     -0.507      0.612   -4.57e+05    2.69e+05\n",
       "grade_7              -4.198e+04   1.85e+05     -0.227      0.821   -4.05e+05    3.21e+05\n",
       "grade_8               2.312e+04   1.85e+05      0.125      0.901    -3.4e+05    3.86e+05\n",
       "grade_9               1.265e+05   1.85e+05      0.682      0.495   -2.37e+05     4.9e+05\n",
       "grade_10              2.734e+05   1.86e+05      1.473      0.141   -9.04e+04    6.37e+05\n",
       "grade_11              4.719e+05   1.86e+05      2.538      0.011    1.07e+05    8.36e+05\n",
       "grade_12               8.82e+05   1.87e+05      4.714      0.000    5.15e+05    1.25e+06\n",
       "grade_13              1.961e+06   1.97e+05      9.968      0.000    1.58e+06    2.35e+06\n",
       "zipco_98051_to_98100 -4.211e+04   4115.467    -10.233      0.000   -5.02e+04    -3.4e+04\n",
       "zipco_98101_to_98150 -5.429e+04   5814.158     -9.338      0.000   -6.57e+04   -4.29e+04\n",
       "zipco_98150_to_98200 -7.054e+04   5891.797    -11.973      0.000   -8.21e+04    -5.9e+04\n",
       "quadr_2              -1.115e+05   5771.004    -19.317      0.000   -1.23e+05      -1e+05\n",
       "quadr_3               -2.67e+05   5458.240    -48.913      0.000   -2.78e+05   -2.56e+05\n",
       "quadr_4              -2.509e+05   6266.803    -40.039      0.000   -2.63e+05   -2.39e+05\n",
       "==============================================================================\n",
       "Omnibus:                    11257.286   Durbin-Watson:                   1.995\n",
       "Prob(Omnibus):                  0.000   Jarque-Bera (JB):           676684.661\n",
       "Skew:                           2.444   Prob(JB):                         0.00\n",
       "Kurtosis:                      33.267   Cond. No.                     2.17e+07\n",
       "==============================================================================\n",
       "\n",
       "Notes:\n",
       "[1] Standard Errors assume that the covariance matrix of the errors is correctly specified.\n",
       "[2] The condition number is large, 2.17e+07. This might indicate that there are\n",
       "strong multicollinearity or other numerical problems.\n",
       "\"\"\""
      ]
     },
     "execution_count": 45,
     "metadata": {},
     "output_type": "execute_result"
    }
   ],
   "source": [
    "X_int = sm.add_constant(X_train)\n",
    "model_2 = sm.OLS(y_train, X_int).fit()\n",
    "model_2.summary()"
   ]
  },
  {
   "cell_type": "code",
   "execution_count": 46,
   "metadata": {
    "scrolled": true
   },
   "outputs": [
    {
     "name": "stdout",
     "output_type": "stream",
     "text": [
      "RMSE Train: 184224.76689817134\n",
      "RMSE Test: 179236.18978231683\n"
     ]
    }
   ],
   "source": [
    "print('RMSE Train:',np.sqrt(metrics.mean_squared_error(y_train, y_hat_train)))\n",
    "print('RMSE Test:',np.sqrt(metrics.mean_squared_error(y_test, y_hat_test)))"
   ]
  },
  {
   "cell_type": "markdown",
   "metadata": {},
   "source": [
    "Our RMSE has also slightly improved.\n",
    "\n",
    "Looking at p-values in the table, it looks like not all of our features are statistically significant using a p-value cut off of 0.05. It's interesting to note number of bedrooms does not seem to have a significant relationship with price, while bathrooms do seem to have a significant relationship. The location of the home also seems to be important.\n",
    "\n",
    "Let's remove some of these features with p-values above 0.05 to simplify our model."
   ]
  },
  {
   "cell_type": "markdown",
   "metadata": {},
   "source": [
    "## Model 3: Remove Statistically Insignificant Features"
   ]
  },
  {
   "cell_type": "markdown",
   "metadata": {},
   "source": [
    "### Drop Columns with p-values > 0.05"
   ]
  },
  {
   "cell_type": "markdown",
   "metadata": {},
   "source": [
    "To improve our model, let's remove all features with p-values greater than 0.05."
   ]
  },
  {
   "cell_type": "code",
   "execution_count": 47,
   "metadata": {},
   "outputs": [],
   "source": [
    "summary = model_2.summary()\n",
    "p_table = summary.tables[1]\n",
    "p_table = pd.DataFrame(p_table.data)"
   ]
  },
  {
   "cell_type": "code",
   "execution_count": 48,
   "metadata": {},
   "outputs": [],
   "source": [
    "p_table.columns = p_table.iloc[0]"
   ]
  },
  {
   "cell_type": "code",
   "execution_count": 49,
   "metadata": {},
   "outputs": [],
   "source": [
    "p_table.drop(0, inplace=True)"
   ]
  },
  {
   "cell_type": "code",
   "execution_count": 50,
   "metadata": {},
   "outputs": [],
   "source": [
    "p_table.set_index(p_table.columns[0], inplace=True)"
   ]
  },
  {
   "cell_type": "code",
   "execution_count": 51,
   "metadata": {},
   "outputs": [
    {
     "data": {
      "text/html": [
       "<div>\n",
       "<style scoped>\n",
       "    .dataframe tbody tr th:only-of-type {\n",
       "        vertical-align: middle;\n",
       "    }\n",
       "\n",
       "    .dataframe tbody tr th {\n",
       "        vertical-align: top;\n",
       "    }\n",
       "\n",
       "    .dataframe thead th {\n",
       "        text-align: right;\n",
       "    }\n",
       "</style>\n",
       "<table border=\"1\" class=\"dataframe\">\n",
       "  <thead>\n",
       "    <tr style=\"text-align: right;\">\n",
       "      <th></th>\n",
       "      <th>coef</th>\n",
       "      <th>std err</th>\n",
       "      <th>t</th>\n",
       "      <th>P&gt;|t|</th>\n",
       "      <th>[0.025</th>\n",
       "      <th>0.975]</th>\n",
       "    </tr>\n",
       "    <tr>\n",
       "      <th></th>\n",
       "      <th></th>\n",
       "      <th></th>\n",
       "      <th></th>\n",
       "      <th></th>\n",
       "      <th></th>\n",
       "      <th></th>\n",
       "    </tr>\n",
       "  </thead>\n",
       "  <tbody>\n",
       "    <tr>\n",
       "      <th>const</th>\n",
       "      <td>3.237e+06</td>\n",
       "      <td>2.5e+05</td>\n",
       "      <td>12.930</td>\n",
       "      <td>0.000</td>\n",
       "      <td>2.75e+06</td>\n",
       "      <td>3.73e+06</td>\n",
       "    </tr>\n",
       "    <tr>\n",
       "      <th>sqft_lot</th>\n",
       "      <td>0.1157</td>\n",
       "      <td>0.050</td>\n",
       "      <td>2.292</td>\n",
       "      <td>0.022</td>\n",
       "      <td>0.017</td>\n",
       "      <td>0.215</td>\n",
       "    </tr>\n",
       "    <tr>\n",
       "      <th>sqft_above</th>\n",
       "      <td>144.8937</td>\n",
       "      <td>4.023</td>\n",
       "      <td>36.016</td>\n",
       "      <td>0.000</td>\n",
       "      <td>137.008</td>\n",
       "      <td>152.779</td>\n",
       "    </tr>\n",
       "    <tr>\n",
       "      <th>sqft_basement</th>\n",
       "      <td>119.4943</td>\n",
       "      <td>4.522</td>\n",
       "      <td>26.426</td>\n",
       "      <td>0.000</td>\n",
       "      <td>110.631</td>\n",
       "      <td>128.357</td>\n",
       "    </tr>\n",
       "    <tr>\n",
       "      <th>yr_built</th>\n",
       "      <td>-1544.2010</td>\n",
       "      <td>85.151</td>\n",
       "      <td>-18.135</td>\n",
       "      <td>0.000</td>\n",
       "      <td>-1711.105</td>\n",
       "      <td>-1377.297</td>\n",
       "    </tr>\n",
       "    <tr>\n",
       "      <th>yr_renovated</th>\n",
       "      <td>39.4186</td>\n",
       "      <td>4.119</td>\n",
       "      <td>9.569</td>\n",
       "      <td>0.000</td>\n",
       "      <td>31.344</td>\n",
       "      <td>47.493</td>\n",
       "    </tr>\n",
       "    <tr>\n",
       "      <th>sqft_living15</th>\n",
       "      <td>42.3973</td>\n",
       "      <td>3.692</td>\n",
       "      <td>11.484</td>\n",
       "      <td>0.000</td>\n",
       "      <td>35.161</td>\n",
       "      <td>49.634</td>\n",
       "    </tr>\n",
       "    <tr>\n",
       "      <th>sqft_lot15</th>\n",
       "      <td>-0.3657</td>\n",
       "      <td>0.078</td>\n",
       "      <td>-4.682</td>\n",
       "      <td>0.000</td>\n",
       "      <td>-0.519</td>\n",
       "      <td>-0.213</td>\n",
       "    </tr>\n",
       "    <tr>\n",
       "      <th>bedro_2</th>\n",
       "      <td>2.641e+04</td>\n",
       "      <td>1.56e+04</td>\n",
       "      <td>1.693</td>\n",
       "      <td>0.090</td>\n",
       "      <td>-4165.561</td>\n",
       "      <td>5.7e+04</td>\n",
       "    </tr>\n",
       "    <tr>\n",
       "      <th>bedro_3</th>\n",
       "      <td>1.667e+04</td>\n",
       "      <td>1.57e+04</td>\n",
       "      <td>1.065</td>\n",
       "      <td>0.287</td>\n",
       "      <td>-1.4e+04</td>\n",
       "      <td>4.73e+04</td>\n",
       "    </tr>\n",
       "    <tr>\n",
       "      <th>bedro_4</th>\n",
       "      <td>-8292.3671</td>\n",
       "      <td>1.6e+04</td>\n",
       "      <td>-0.518</td>\n",
       "      <td>0.604</td>\n",
       "      <td>-3.96e+04</td>\n",
       "      <td>2.31e+04</td>\n",
       "    </tr>\n",
       "    <tr>\n",
       "      <th>bedro_5</th>\n",
       "      <td>-1.025e+04</td>\n",
       "      <td>1.68e+04</td>\n",
       "      <td>-0.608</td>\n",
       "      <td>0.543</td>\n",
       "      <td>-4.33e+04</td>\n",
       "      <td>2.28e+04</td>\n",
       "    </tr>\n",
       "    <tr>\n",
       "      <th>bedro_6_plus</th>\n",
       "      <td>-4.844e+04</td>\n",
       "      <td>1.98e+04</td>\n",
       "      <td>-2.441</td>\n",
       "      <td>0.015</td>\n",
       "      <td>-8.73e+04</td>\n",
       "      <td>-9550.704</td>\n",
       "    </tr>\n",
       "    <tr>\n",
       "      <th>bathr_1_to_2</th>\n",
       "      <td>8522.1910</td>\n",
       "      <td>4986.566</td>\n",
       "      <td>1.709</td>\n",
       "      <td>0.087</td>\n",
       "      <td>-1251.986</td>\n",
       "      <td>1.83e+04</td>\n",
       "    </tr>\n",
       "    <tr>\n",
       "      <th>bathr_2_to_3</th>\n",
       "      <td>1.988e+04</td>\n",
       "      <td>6376.568</td>\n",
       "      <td>3.117</td>\n",
       "      <td>0.002</td>\n",
       "      <td>7379.602</td>\n",
       "      <td>3.24e+04</td>\n",
       "    </tr>\n",
       "    <tr>\n",
       "      <th>bathr_3_to_4</th>\n",
       "      <td>7.815e+04</td>\n",
       "      <td>9361.461</td>\n",
       "      <td>8.348</td>\n",
       "      <td>0.000</td>\n",
       "      <td>5.98e+04</td>\n",
       "      <td>9.65e+04</td>\n",
       "    </tr>\n",
       "    <tr>\n",
       "      <th>bathr_4_to_5</th>\n",
       "      <td>2.356e+05</td>\n",
       "      <td>1.7e+04</td>\n",
       "      <td>13.893</td>\n",
       "      <td>0.000</td>\n",
       "      <td>2.02e+05</td>\n",
       "      <td>2.69e+05</td>\n",
       "    </tr>\n",
       "    <tr>\n",
       "      <th>bathr_5_to_6</th>\n",
       "      <td>5.661e+05</td>\n",
       "      <td>3.97e+04</td>\n",
       "      <td>14.271</td>\n",
       "      <td>0.000</td>\n",
       "      <td>4.88e+05</td>\n",
       "      <td>6.44e+05</td>\n",
       "    </tr>\n",
       "    <tr>\n",
       "      <th>bathr_6_plus</th>\n",
       "      <td>3.901e+05</td>\n",
       "      <td>6.66e+04</td>\n",
       "      <td>5.859</td>\n",
       "      <td>0.000</td>\n",
       "      <td>2.6e+05</td>\n",
       "      <td>5.21e+05</td>\n",
       "    </tr>\n",
       "    <tr>\n",
       "      <th>floor_1.5</th>\n",
       "      <td>-1285.5365</td>\n",
       "      <td>5643.883</td>\n",
       "      <td>-0.228</td>\n",
       "      <td>0.820</td>\n",
       "      <td>-1.23e+04</td>\n",
       "      <td>9777.048</td>\n",
       "    </tr>\n",
       "    <tr>\n",
       "      <th>floor_2.0</th>\n",
       "      <td>-7381.5756</td>\n",
       "      <td>4777.735</td>\n",
       "      <td>-1.545</td>\n",
       "      <td>0.122</td>\n",
       "      <td>-1.67e+04</td>\n",
       "      <td>1983.270</td>\n",
       "    </tr>\n",
       "    <tr>\n",
       "      <th>floor_2.5</th>\n",
       "      <td>1.133e+05</td>\n",
       "      <td>1.72e+04</td>\n",
       "      <td>6.596</td>\n",
       "      <td>0.000</td>\n",
       "      <td>7.96e+04</td>\n",
       "      <td>1.47e+05</td>\n",
       "    </tr>\n",
       "    <tr>\n",
       "      <th>floor_3.0</th>\n",
       "      <td>2.286e+04</td>\n",
       "      <td>1.03e+04</td>\n",
       "      <td>2.219</td>\n",
       "      <td>0.027</td>\n",
       "      <td>2664.797</td>\n",
       "      <td>4.31e+04</td>\n",
       "    </tr>\n",
       "    <tr>\n",
       "      <th>floor_3.5</th>\n",
       "      <td>1.492e+05</td>\n",
       "      <td>7.57e+04</td>\n",
       "      <td>1.971</td>\n",
       "      <td>0.049</td>\n",
       "      <td>810.322</td>\n",
       "      <td>2.98e+05</td>\n",
       "    </tr>\n",
       "    <tr>\n",
       "      <th>water_1.0</th>\n",
       "      <td>5.895e+05</td>\n",
       "      <td>2.06e+04</td>\n",
       "      <td>28.554</td>\n",
       "      <td>0.000</td>\n",
       "      <td>5.49e+05</td>\n",
       "      <td>6.3e+05</td>\n",
       "    </tr>\n",
       "    <tr>\n",
       "      <th>view_1.0</th>\n",
       "      <td>9.374e+04</td>\n",
       "      <td>1.18e+04</td>\n",
       "      <td>7.947</td>\n",
       "      <td>0.000</td>\n",
       "      <td>7.06e+04</td>\n",
       "      <td>1.17e+05</td>\n",
       "    </tr>\n",
       "    <tr>\n",
       "      <th>view_2.0</th>\n",
       "      <td>5.424e+04</td>\n",
       "      <td>7050.377</td>\n",
       "      <td>7.694</td>\n",
       "      <td>0.000</td>\n",
       "      <td>4.04e+04</td>\n",
       "      <td>6.81e+04</td>\n",
       "    </tr>\n",
       "    <tr>\n",
       "      <th>view_3.0</th>\n",
       "      <td>1.078e+05</td>\n",
       "      <td>9705.214</td>\n",
       "      <td>11.110</td>\n",
       "      <td>0.000</td>\n",
       "      <td>8.88e+04</td>\n",
       "      <td>1.27e+05</td>\n",
       "    </tr>\n",
       "    <tr>\n",
       "      <th>view_4.0</th>\n",
       "      <td>2.11e+05</td>\n",
       "      <td>1.46e+04</td>\n",
       "      <td>14.446</td>\n",
       "      <td>0.000</td>\n",
       "      <td>1.82e+05</td>\n",
       "      <td>2.4e+05</td>\n",
       "    </tr>\n",
       "    <tr>\n",
       "      <th>condi_2</th>\n",
       "      <td>3.205e+04</td>\n",
       "      <td>4.43e+04</td>\n",
       "      <td>0.723</td>\n",
       "      <td>0.470</td>\n",
       "      <td>-5.48e+04</td>\n",
       "      <td>1.19e+05</td>\n",
       "    </tr>\n",
       "    <tr>\n",
       "      <th>condi_3</th>\n",
       "      <td>3.329e+04</td>\n",
       "      <td>4.17e+04</td>\n",
       "      <td>0.798</td>\n",
       "      <td>0.425</td>\n",
       "      <td>-4.85e+04</td>\n",
       "      <td>1.15e+05</td>\n",
       "    </tr>\n",
       "    <tr>\n",
       "      <th>condi_4</th>\n",
       "      <td>7.284e+04</td>\n",
       "      <td>4.17e+04</td>\n",
       "      <td>1.745</td>\n",
       "      <td>0.081</td>\n",
       "      <td>-8957.570</td>\n",
       "      <td>1.55e+05</td>\n",
       "    </tr>\n",
       "    <tr>\n",
       "      <th>condi_5</th>\n",
       "      <td>1.115e+05</td>\n",
       "      <td>4.2e+04</td>\n",
       "      <td>2.657</td>\n",
       "      <td>0.008</td>\n",
       "      <td>2.93e+04</td>\n",
       "      <td>1.94e+05</td>\n",
       "    </tr>\n",
       "    <tr>\n",
       "      <th>grade_4</th>\n",
       "      <td>-8.554e+04</td>\n",
       "      <td>1.9e+05</td>\n",
       "      <td>-0.450</td>\n",
       "      <td>0.653</td>\n",
       "      <td>-4.58e+05</td>\n",
       "      <td>2.87e+05</td>\n",
       "    </tr>\n",
       "    <tr>\n",
       "      <th>grade_5</th>\n",
       "      <td>-9.668e+04</td>\n",
       "      <td>1.86e+05</td>\n",
       "      <td>-0.521</td>\n",
       "      <td>0.602</td>\n",
       "      <td>-4.6e+05</td>\n",
       "      <td>2.67e+05</td>\n",
       "    </tr>\n",
       "    <tr>\n",
       "      <th>grade_6</th>\n",
       "      <td>-9.398e+04</td>\n",
       "      <td>1.85e+05</td>\n",
       "      <td>-0.507</td>\n",
       "      <td>0.612</td>\n",
       "      <td>-4.57e+05</td>\n",
       "      <td>2.69e+05</td>\n",
       "    </tr>\n",
       "    <tr>\n",
       "      <th>grade_7</th>\n",
       "      <td>-4.198e+04</td>\n",
       "      <td>1.85e+05</td>\n",
       "      <td>-0.227</td>\n",
       "      <td>0.821</td>\n",
       "      <td>-4.05e+05</td>\n",
       "      <td>3.21e+05</td>\n",
       "    </tr>\n",
       "    <tr>\n",
       "      <th>grade_8</th>\n",
       "      <td>2.312e+04</td>\n",
       "      <td>1.85e+05</td>\n",
       "      <td>0.125</td>\n",
       "      <td>0.901</td>\n",
       "      <td>-3.4e+05</td>\n",
       "      <td>3.86e+05</td>\n",
       "    </tr>\n",
       "    <tr>\n",
       "      <th>grade_9</th>\n",
       "      <td>1.265e+05</td>\n",
       "      <td>1.85e+05</td>\n",
       "      <td>0.682</td>\n",
       "      <td>0.495</td>\n",
       "      <td>-2.37e+05</td>\n",
       "      <td>4.9e+05</td>\n",
       "    </tr>\n",
       "    <tr>\n",
       "      <th>grade_10</th>\n",
       "      <td>2.734e+05</td>\n",
       "      <td>1.86e+05</td>\n",
       "      <td>1.473</td>\n",
       "      <td>0.141</td>\n",
       "      <td>-9.04e+04</td>\n",
       "      <td>6.37e+05</td>\n",
       "    </tr>\n",
       "    <tr>\n",
       "      <th>grade_11</th>\n",
       "      <td>4.719e+05</td>\n",
       "      <td>1.86e+05</td>\n",
       "      <td>2.538</td>\n",
       "      <td>0.011</td>\n",
       "      <td>1.07e+05</td>\n",
       "      <td>8.36e+05</td>\n",
       "    </tr>\n",
       "    <tr>\n",
       "      <th>grade_12</th>\n",
       "      <td>8.82e+05</td>\n",
       "      <td>1.87e+05</td>\n",
       "      <td>4.714</td>\n",
       "      <td>0.000</td>\n",
       "      <td>5.15e+05</td>\n",
       "      <td>1.25e+06</td>\n",
       "    </tr>\n",
       "    <tr>\n",
       "      <th>grade_13</th>\n",
       "      <td>1.961e+06</td>\n",
       "      <td>1.97e+05</td>\n",
       "      <td>9.968</td>\n",
       "      <td>0.000</td>\n",
       "      <td>1.58e+06</td>\n",
       "      <td>2.35e+06</td>\n",
       "    </tr>\n",
       "    <tr>\n",
       "      <th>zipco_98051_to_98100</th>\n",
       "      <td>-4.211e+04</td>\n",
       "      <td>4115.467</td>\n",
       "      <td>-10.233</td>\n",
       "      <td>0.000</td>\n",
       "      <td>-5.02e+04</td>\n",
       "      <td>-3.4e+04</td>\n",
       "    </tr>\n",
       "    <tr>\n",
       "      <th>zipco_98101_to_98150</th>\n",
       "      <td>-5.429e+04</td>\n",
       "      <td>5814.158</td>\n",
       "      <td>-9.338</td>\n",
       "      <td>0.000</td>\n",
       "      <td>-6.57e+04</td>\n",
       "      <td>-4.29e+04</td>\n",
       "    </tr>\n",
       "    <tr>\n",
       "      <th>zipco_98150_to_98200</th>\n",
       "      <td>-7.054e+04</td>\n",
       "      <td>5891.797</td>\n",
       "      <td>-11.973</td>\n",
       "      <td>0.000</td>\n",
       "      <td>-8.21e+04</td>\n",
       "      <td>-5.9e+04</td>\n",
       "    </tr>\n",
       "    <tr>\n",
       "      <th>quadr_2</th>\n",
       "      <td>-1.115e+05</td>\n",
       "      <td>5771.004</td>\n",
       "      <td>-19.317</td>\n",
       "      <td>0.000</td>\n",
       "      <td>-1.23e+05</td>\n",
       "      <td>-1e+05</td>\n",
       "    </tr>\n",
       "    <tr>\n",
       "      <th>quadr_3</th>\n",
       "      <td>-2.67e+05</td>\n",
       "      <td>5458.240</td>\n",
       "      <td>-48.913</td>\n",
       "      <td>0.000</td>\n",
       "      <td>-2.78e+05</td>\n",
       "      <td>-2.56e+05</td>\n",
       "    </tr>\n",
       "    <tr>\n",
       "      <th>quadr_4</th>\n",
       "      <td>-2.509e+05</td>\n",
       "      <td>6266.803</td>\n",
       "      <td>-40.039</td>\n",
       "      <td>0.000</td>\n",
       "      <td>-2.63e+05</td>\n",
       "      <td>-2.39e+05</td>\n",
       "    </tr>\n",
       "  </tbody>\n",
       "</table>\n",
       "</div>"
      ],
      "text/plain": [
       "0                           coef    std err          t   P>|t|     [0.025  \\\n",
       "                                                                            \n",
       "const                  3.237e+06    2.5e+05     12.930   0.000   2.75e+06   \n",
       "sqft_lot                  0.1157      0.050      2.292   0.022      0.017   \n",
       "sqft_above              144.8937      4.023     36.016   0.000    137.008   \n",
       "sqft_basement           119.4943      4.522     26.426   0.000    110.631   \n",
       "yr_built              -1544.2010     85.151    -18.135   0.000  -1711.105   \n",
       "yr_renovated             39.4186      4.119      9.569   0.000     31.344   \n",
       "sqft_living15            42.3973      3.692     11.484   0.000     35.161   \n",
       "sqft_lot15               -0.3657      0.078     -4.682   0.000     -0.519   \n",
       "bedro_2                2.641e+04   1.56e+04      1.693   0.090  -4165.561   \n",
       "bedro_3                1.667e+04   1.57e+04      1.065   0.287   -1.4e+04   \n",
       "bedro_4               -8292.3671    1.6e+04     -0.518   0.604  -3.96e+04   \n",
       "bedro_5               -1.025e+04   1.68e+04     -0.608   0.543  -4.33e+04   \n",
       "bedro_6_plus          -4.844e+04   1.98e+04     -2.441   0.015  -8.73e+04   \n",
       "bathr_1_to_2           8522.1910   4986.566      1.709   0.087  -1251.986   \n",
       "bathr_2_to_3           1.988e+04   6376.568      3.117   0.002   7379.602   \n",
       "bathr_3_to_4           7.815e+04   9361.461      8.348   0.000   5.98e+04   \n",
       "bathr_4_to_5           2.356e+05    1.7e+04     13.893   0.000   2.02e+05   \n",
       "bathr_5_to_6           5.661e+05   3.97e+04     14.271   0.000   4.88e+05   \n",
       "bathr_6_plus           3.901e+05   6.66e+04      5.859   0.000    2.6e+05   \n",
       "floor_1.5             -1285.5365   5643.883     -0.228   0.820  -1.23e+04   \n",
       "floor_2.0             -7381.5756   4777.735     -1.545   0.122  -1.67e+04   \n",
       "floor_2.5              1.133e+05   1.72e+04      6.596   0.000   7.96e+04   \n",
       "floor_3.0              2.286e+04   1.03e+04      2.219   0.027   2664.797   \n",
       "floor_3.5              1.492e+05   7.57e+04      1.971   0.049    810.322   \n",
       "water_1.0              5.895e+05   2.06e+04     28.554   0.000   5.49e+05   \n",
       "view_1.0               9.374e+04   1.18e+04      7.947   0.000   7.06e+04   \n",
       "view_2.0               5.424e+04   7050.377      7.694   0.000   4.04e+04   \n",
       "view_3.0               1.078e+05   9705.214     11.110   0.000   8.88e+04   \n",
       "view_4.0                2.11e+05   1.46e+04     14.446   0.000   1.82e+05   \n",
       "condi_2                3.205e+04   4.43e+04      0.723   0.470  -5.48e+04   \n",
       "condi_3                3.329e+04   4.17e+04      0.798   0.425  -4.85e+04   \n",
       "condi_4                7.284e+04   4.17e+04      1.745   0.081  -8957.570   \n",
       "condi_5                1.115e+05    4.2e+04      2.657   0.008   2.93e+04   \n",
       "grade_4               -8.554e+04    1.9e+05     -0.450   0.653  -4.58e+05   \n",
       "grade_5               -9.668e+04   1.86e+05     -0.521   0.602   -4.6e+05   \n",
       "grade_6               -9.398e+04   1.85e+05     -0.507   0.612  -4.57e+05   \n",
       "grade_7               -4.198e+04   1.85e+05     -0.227   0.821  -4.05e+05   \n",
       "grade_8                2.312e+04   1.85e+05      0.125   0.901   -3.4e+05   \n",
       "grade_9                1.265e+05   1.85e+05      0.682   0.495  -2.37e+05   \n",
       "grade_10               2.734e+05   1.86e+05      1.473   0.141  -9.04e+04   \n",
       "grade_11               4.719e+05   1.86e+05      2.538   0.011   1.07e+05   \n",
       "grade_12                8.82e+05   1.87e+05      4.714   0.000   5.15e+05   \n",
       "grade_13               1.961e+06   1.97e+05      9.968   0.000   1.58e+06   \n",
       "zipco_98051_to_98100  -4.211e+04   4115.467    -10.233   0.000  -5.02e+04   \n",
       "zipco_98101_to_98150  -5.429e+04   5814.158     -9.338   0.000  -6.57e+04   \n",
       "zipco_98150_to_98200  -7.054e+04   5891.797    -11.973   0.000  -8.21e+04   \n",
       "quadr_2               -1.115e+05   5771.004    -19.317   0.000  -1.23e+05   \n",
       "quadr_3                -2.67e+05   5458.240    -48.913   0.000  -2.78e+05   \n",
       "quadr_4               -2.509e+05   6266.803    -40.039   0.000  -2.63e+05   \n",
       "\n",
       "0                        0.975]  \n",
       "                                 \n",
       "const                  3.73e+06  \n",
       "sqft_lot                  0.215  \n",
       "sqft_above              152.779  \n",
       "sqft_basement           128.357  \n",
       "yr_built              -1377.297  \n",
       "yr_renovated             47.493  \n",
       "sqft_living15            49.634  \n",
       "sqft_lot15               -0.213  \n",
       "bedro_2                 5.7e+04  \n",
       "bedro_3                4.73e+04  \n",
       "bedro_4                2.31e+04  \n",
       "bedro_5                2.28e+04  \n",
       "bedro_6_plus          -9550.704  \n",
       "bathr_1_to_2           1.83e+04  \n",
       "bathr_2_to_3           3.24e+04  \n",
       "bathr_3_to_4           9.65e+04  \n",
       "bathr_4_to_5           2.69e+05  \n",
       "bathr_5_to_6           6.44e+05  \n",
       "bathr_6_plus           5.21e+05  \n",
       "floor_1.5              9777.048  \n",
       "floor_2.0              1983.270  \n",
       "floor_2.5              1.47e+05  \n",
       "floor_3.0              4.31e+04  \n",
       "floor_3.5              2.98e+05  \n",
       "water_1.0               6.3e+05  \n",
       "view_1.0               1.17e+05  \n",
       "view_2.0               6.81e+04  \n",
       "view_3.0               1.27e+05  \n",
       "view_4.0                2.4e+05  \n",
       "condi_2                1.19e+05  \n",
       "condi_3                1.15e+05  \n",
       "condi_4                1.55e+05  \n",
       "condi_5                1.94e+05  \n",
       "grade_4                2.87e+05  \n",
       "grade_5                2.67e+05  \n",
       "grade_6                2.69e+05  \n",
       "grade_7                3.21e+05  \n",
       "grade_8                3.86e+05  \n",
       "grade_9                 4.9e+05  \n",
       "grade_10               6.37e+05  \n",
       "grade_11               8.36e+05  \n",
       "grade_12               1.25e+06  \n",
       "grade_13               2.35e+06  \n",
       "zipco_98051_to_98100   -3.4e+04  \n",
       "zipco_98101_to_98150  -4.29e+04  \n",
       "zipco_98150_to_98200   -5.9e+04  \n",
       "quadr_2                  -1e+05  \n",
       "quadr_3               -2.56e+05  \n",
       "quadr_4               -2.39e+05  "
      ]
     },
     "execution_count": 51,
     "metadata": {},
     "output_type": "execute_result"
    }
   ],
   "source": [
    "p_table"
   ]
  },
  {
   "cell_type": "code",
   "execution_count": 52,
   "metadata": {},
   "outputs": [
    {
     "name": "stdout",
     "output_type": "stream",
     "text": [
      "<class 'pandas.core.frame.DataFrame'>\n",
      "Index: 49 entries, const to quadr_4\n",
      "Data columns (total 6 columns):\n",
      " #   Column   Non-Null Count  Dtype \n",
      "---  ------   --------------  ----- \n",
      " 0   coef     49 non-null     object\n",
      " 1   std err  49 non-null     object\n",
      " 2   t        49 non-null     object\n",
      " 3   P>|t|    49 non-null     object\n",
      " 4   [0.025   49 non-null     object\n",
      " 5   0.975]   49 non-null     object\n",
      "dtypes: object(6)\n",
      "memory usage: 2.7+ KB\n"
     ]
    }
   ],
   "source": [
    "p_table.info()"
   ]
  },
  {
   "cell_type": "code",
   "execution_count": 53,
   "metadata": {},
   "outputs": [],
   "source": [
    "p_table['P>|t|'] = p_table['P>|t|'].astype(float)"
   ]
  },
  {
   "cell_type": "code",
   "execution_count": 54,
   "metadata": {
    "scrolled": true
   },
   "outputs": [
    {
     "data": {
      "text/plain": [
       "['const',\n",
       " 'sqft_lot',\n",
       " 'sqft_above',\n",
       " 'sqft_basement',\n",
       " 'yr_built',\n",
       " 'yr_renovated',\n",
       " 'sqft_living15',\n",
       " 'sqft_lot15',\n",
       " 'bedro_6_plus',\n",
       " 'bathr_2_to_3',\n",
       " 'bathr_3_to_4',\n",
       " 'bathr_4_to_5',\n",
       " 'bathr_5_to_6',\n",
       " 'bathr_6_plus',\n",
       " 'floor_2.5',\n",
       " 'floor_3.0',\n",
       " 'floor_3.5',\n",
       " 'water_1.0',\n",
       " 'view_1.0',\n",
       " 'view_2.0',\n",
       " 'view_3.0',\n",
       " 'view_4.0',\n",
       " 'condi_5',\n",
       " 'grade_11',\n",
       " 'grade_12',\n",
       " 'grade_13',\n",
       " 'zipco_98051_to_98100',\n",
       " 'zipco_98101_to_98150',\n",
       " 'zipco_98150_to_98200',\n",
       " 'quadr_2',\n",
       " 'quadr_3',\n",
       " 'quadr_4']"
      ]
     },
     "execution_count": 54,
     "metadata": {},
     "output_type": "execute_result"
    }
   ],
   "source": [
    "new_x_cols = list(p_table[p_table['P>|t|']<0.05].index)\n",
    "new_x_cols"
   ]
  },
  {
   "cell_type": "code",
   "execution_count": 55,
   "metadata": {},
   "outputs": [
    {
     "data": {
      "text/plain": [
       "['bedro_2',\n",
       " 'bedro_3',\n",
       " 'bedro_4',\n",
       " 'bedro_5',\n",
       " 'bathr_1_to_2',\n",
       " 'floor_1.5',\n",
       " 'floor_2.0',\n",
       " 'condi_2',\n",
       " 'condi_3',\n",
       " 'condi_4',\n",
       " 'grade_4',\n",
       " 'grade_5',\n",
       " 'grade_6',\n",
       " 'grade_7',\n",
       " 'grade_8',\n",
       " 'grade_9',\n",
       " 'grade_10']"
      ]
     },
     "execution_count": 55,
     "metadata": {},
     "output_type": "execute_result"
    }
   ],
   "source": [
    "# drop x cols above 0.05\n",
    "del_x_cols = list(p_table[p_table['P>|t|']>0.05].index)\n",
    "del_x_cols"
   ]
  },
  {
   "cell_type": "code",
   "execution_count": 56,
   "metadata": {},
   "outputs": [],
   "source": [
    "new_x_cols.remove('const')"
   ]
  },
  {
   "cell_type": "code",
   "execution_count": 57,
   "metadata": {
    "scrolled": true
   },
   "outputs": [
    {
     "name": "stdout",
     "output_type": "stream",
     "text": [
      "48 31\n"
     ]
    }
   ],
   "source": [
    "print(len(X.columns), len(new_x_cols))"
   ]
  },
  {
   "cell_type": "code",
   "execution_count": 58,
   "metadata": {
    "scrolled": true
   },
   "outputs": [
    {
     "data": {
      "text/html": [
       "<div>\n",
       "<style scoped>\n",
       "    .dataframe tbody tr th:only-of-type {\n",
       "        vertical-align: middle;\n",
       "    }\n",
       "\n",
       "    .dataframe tbody tr th {\n",
       "        vertical-align: top;\n",
       "    }\n",
       "\n",
       "    .dataframe thead th {\n",
       "        text-align: right;\n",
       "    }\n",
       "</style>\n",
       "<table border=\"1\" class=\"dataframe\">\n",
       "  <thead>\n",
       "    <tr style=\"text-align: right;\">\n",
       "      <th></th>\n",
       "      <th>id</th>\n",
       "      <th>date</th>\n",
       "      <th>price</th>\n",
       "      <th>sqft_lot</th>\n",
       "      <th>sqft_above</th>\n",
       "      <th>sqft_basement</th>\n",
       "      <th>yr_built</th>\n",
       "      <th>yr_renovated</th>\n",
       "      <th>sqft_living15</th>\n",
       "      <th>sqft_lot15</th>\n",
       "      <th>...</th>\n",
       "      <th>condi_5</th>\n",
       "      <th>grade_11</th>\n",
       "      <th>grade_12</th>\n",
       "      <th>grade_13</th>\n",
       "      <th>zipco_98051_to_98100</th>\n",
       "      <th>zipco_98101_to_98150</th>\n",
       "      <th>zipco_98150_to_98200</th>\n",
       "      <th>quadr_2</th>\n",
       "      <th>quadr_3</th>\n",
       "      <th>quadr_4</th>\n",
       "    </tr>\n",
       "  </thead>\n",
       "  <tbody>\n",
       "    <tr>\n",
       "      <th>0</th>\n",
       "      <td>7129300520</td>\n",
       "      <td>2014-10-13</td>\n",
       "      <td>221900.0</td>\n",
       "      <td>5650</td>\n",
       "      <td>1180</td>\n",
       "      <td>0.0</td>\n",
       "      <td>1955</td>\n",
       "      <td>0.0</td>\n",
       "      <td>1340</td>\n",
       "      <td>5650</td>\n",
       "      <td>...</td>\n",
       "      <td>0</td>\n",
       "      <td>0</td>\n",
       "      <td>0</td>\n",
       "      <td>0</td>\n",
       "      <td>0</td>\n",
       "      <td>0</td>\n",
       "      <td>1</td>\n",
       "      <td>0</td>\n",
       "      <td>0</td>\n",
       "      <td>0</td>\n",
       "    </tr>\n",
       "    <tr>\n",
       "      <th>1</th>\n",
       "      <td>6414100192</td>\n",
       "      <td>2014-12-09</td>\n",
       "      <td>538000.0</td>\n",
       "      <td>7242</td>\n",
       "      <td>2170</td>\n",
       "      <td>400.0</td>\n",
       "      <td>1951</td>\n",
       "      <td>1991.0</td>\n",
       "      <td>1690</td>\n",
       "      <td>7639</td>\n",
       "      <td>...</td>\n",
       "      <td>0</td>\n",
       "      <td>0</td>\n",
       "      <td>0</td>\n",
       "      <td>0</td>\n",
       "      <td>0</td>\n",
       "      <td>1</td>\n",
       "      <td>0</td>\n",
       "      <td>0</td>\n",
       "      <td>0</td>\n",
       "      <td>0</td>\n",
       "    </tr>\n",
       "    <tr>\n",
       "      <th>2</th>\n",
       "      <td>5631500400</td>\n",
       "      <td>2015-02-25</td>\n",
       "      <td>180000.0</td>\n",
       "      <td>10000</td>\n",
       "      <td>770</td>\n",
       "      <td>0.0</td>\n",
       "      <td>1933</td>\n",
       "      <td>0.0</td>\n",
       "      <td>2720</td>\n",
       "      <td>8062</td>\n",
       "      <td>...</td>\n",
       "      <td>0</td>\n",
       "      <td>0</td>\n",
       "      <td>0</td>\n",
       "      <td>0</td>\n",
       "      <td>0</td>\n",
       "      <td>0</td>\n",
       "      <td>0</td>\n",
       "      <td>0</td>\n",
       "      <td>0</td>\n",
       "      <td>0</td>\n",
       "    </tr>\n",
       "    <tr>\n",
       "      <th>3</th>\n",
       "      <td>2487200875</td>\n",
       "      <td>2014-12-09</td>\n",
       "      <td>604000.0</td>\n",
       "      <td>5000</td>\n",
       "      <td>1050</td>\n",
       "      <td>910.0</td>\n",
       "      <td>1965</td>\n",
       "      <td>0.0</td>\n",
       "      <td>1360</td>\n",
       "      <td>5000</td>\n",
       "      <td>...</td>\n",
       "      <td>1</td>\n",
       "      <td>0</td>\n",
       "      <td>0</td>\n",
       "      <td>0</td>\n",
       "      <td>0</td>\n",
       "      <td>1</td>\n",
       "      <td>0</td>\n",
       "      <td>0</td>\n",
       "      <td>0</td>\n",
       "      <td>0</td>\n",
       "    </tr>\n",
       "    <tr>\n",
       "      <th>4</th>\n",
       "      <td>1954400510</td>\n",
       "      <td>2015-02-18</td>\n",
       "      <td>510000.0</td>\n",
       "      <td>8080</td>\n",
       "      <td>1680</td>\n",
       "      <td>0.0</td>\n",
       "      <td>1987</td>\n",
       "      <td>0.0</td>\n",
       "      <td>1800</td>\n",
       "      <td>7503</td>\n",
       "      <td>...</td>\n",
       "      <td>0</td>\n",
       "      <td>0</td>\n",
       "      <td>0</td>\n",
       "      <td>0</td>\n",
       "      <td>1</td>\n",
       "      <td>0</td>\n",
       "      <td>0</td>\n",
       "      <td>1</td>\n",
       "      <td>0</td>\n",
       "      <td>0</td>\n",
       "    </tr>\n",
       "  </tbody>\n",
       "</table>\n",
       "<p>5 rows × 34 columns</p>\n",
       "</div>"
      ],
      "text/plain": [
       "           id        date     price  sqft_lot  sqft_above  sqft_basement  \\\n",
       "0  7129300520  2014-10-13  221900.0      5650        1180            0.0   \n",
       "1  6414100192  2014-12-09  538000.0      7242        2170          400.0   \n",
       "2  5631500400  2015-02-25  180000.0     10000         770            0.0   \n",
       "3  2487200875  2014-12-09  604000.0      5000        1050          910.0   \n",
       "4  1954400510  2015-02-18  510000.0      8080        1680            0.0   \n",
       "\n",
       "   yr_built  yr_renovated  sqft_living15  sqft_lot15  ...  condi_5  grade_11  \\\n",
       "0      1955           0.0           1340        5650  ...        0         0   \n",
       "1      1951        1991.0           1690        7639  ...        0         0   \n",
       "2      1933           0.0           2720        8062  ...        0         0   \n",
       "3      1965           0.0           1360        5000  ...        1         0   \n",
       "4      1987           0.0           1800        7503  ...        0         0   \n",
       "\n",
       "   grade_12  grade_13  zipco_98051_to_98100  zipco_98101_to_98150  \\\n",
       "0         0         0                     0                     0   \n",
       "1         0         0                     0                     1   \n",
       "2         0         0                     0                     0   \n",
       "3         0         0                     0                     1   \n",
       "4         0         0                     1                     0   \n",
       "\n",
       "   zipco_98150_to_98200  quadr_2  quadr_3  quadr_4  \n",
       "0                     1        0        0        0  \n",
       "1                     0        0        0        0  \n",
       "2                     0        0        0        0  \n",
       "3                     0        0        0        0  \n",
       "4                     0        1        0        0  \n",
       "\n",
       "[5 rows x 34 columns]"
      ]
     },
     "execution_count": 58,
     "metadata": {},
     "output_type": "execute_result"
    }
   ],
   "source": [
    "data_model_3 = data_model_2.drop(del_x_cols, axis=1)\n",
    "data_model_3.head()"
   ]
  },
  {
   "cell_type": "markdown",
   "metadata": {},
   "source": [
    "### Run New Model"
   ]
  },
  {
   "cell_type": "code",
   "execution_count": 59,
   "metadata": {
    "scrolled": true
   },
   "outputs": [],
   "source": [
    "y = data_model_3['price']\n",
    "X = data_model_3.drop(['price', 'id', 'date'], axis=1)"
   ]
  },
  {
   "cell_type": "code",
   "execution_count": 60,
   "metadata": {},
   "outputs": [
    {
     "data": {
      "text/plain": [
       "0.7273119333204522"
      ]
     },
     "execution_count": 60,
     "metadata": {},
     "output_type": "execute_result"
    }
   ],
   "source": [
    "X_train, X_test, y_train, y_test = train_test_split(X, y, test_size=0.2, random_state=45)\n",
    "model_3 = LinearRegression()\n",
    "model_3.fit(X_train, y_train)\n",
    "y_hat_train = model_3.predict(X_train)\n",
    "y_hat_test = model_3.predict(X_test)\n",
    "metrics.r2_score(y_train, y_hat_train)"
   ]
  },
  {
   "cell_type": "markdown",
   "metadata": {},
   "source": [
    "Our R-squared value dropped slightly to .73 after removing 17 features. Let's also check how our RMSE values have changed."
   ]
  },
  {
   "cell_type": "code",
   "execution_count": 61,
   "metadata": {},
   "outputs": [
    {
     "name": "stdout",
     "output_type": "stream",
     "text": [
      "RMSE Train: 193085.9488339999\n",
      "RMSE Test: 188114.07830792482\n"
     ]
    }
   ],
   "source": [
    "print('RMSE Train:',np.sqrt(metrics.mean_squared_error(y_train, y_hat_train)))\n",
    "print('RMSE Test:',np.sqrt(metrics.mean_squared_error(y_test, y_hat_test)))"
   ]
  },
  {
   "cell_type": "markdown",
   "metadata": {},
   "source": [
    "Our RMSE remained relatively close to the RMSE in our earlier model, leading us to conclude this is a better model (same result without uninfluential features). Next, let's check if our assumptions for linear regression are in place."
   ]
  },
  {
   "cell_type": "markdown",
   "metadata": {},
   "source": [
    "### Check Normality Assumption"
   ]
  },
  {
   "cell_type": "code",
   "execution_count": 62,
   "metadata": {},
   "outputs": [],
   "source": [
    "X_train, X_test, y_train, y_test = train_test_split(X, y, test_size=0.2, random_state=45)\n",
    "X_int = sm.add_constant(X_train)\n",
    "model_3 = sm.OLS(y_train, X_int).fit()"
   ]
  },
  {
   "cell_type": "code",
   "execution_count": 63,
   "metadata": {
    "scrolled": true
   },
   "outputs": [
    {
     "data": {
      "image/png": "[encoded data removed]",
      "text/plain": [
       "<Figure size 432x288 with 1 Axes>"
      ]
     },
     "metadata": {
      "needs_background": "light"
     },
     "output_type": "display_data"
    }
   ],
   "source": [
    "fig = sm.graphics.qqplot(model_3.resid, dist=stats.norm, line='45', fit=True)"
   ]
  },
  {
   "cell_type": "markdown",
   "metadata": {},
   "source": [
    "### Check Homoscedasticity Assumption"
   ]
  },
  {
   "cell_type": "code",
   "execution_count": 64,
   "metadata": {
    "scrolled": true
   },
   "outputs": [
    {
     "data": {
      "text/plain": [
       "[<matplotlib.lines.Line2D at 0x297247d0b50>]"
      ]
     },
     "execution_count": 64,
     "metadata": {},
     "output_type": "execute_result"
    },
    {
     "data": {
      "image/png": "[encoded data removed]",
      "text/plain": [
       "<Figure size 432x288 with 1 Axes>"
      ]
     },
     "metadata": {
      "needs_background": "light"
     },
     "output_type": "display_data"
    }
   ],
   "source": [
    "plt.scatter(model_3.predict(X_int), model_3.resid)\n",
    "plt.plot(model_3.predict(X_int), [0 for i in range(len(X_int))])"
   ]
  },
  {
   "cell_type": "markdown",
   "metadata": {},
   "source": [
    "It looks like the normality assumption is definitely violated at the outliers of the data. It also looks like homoscedasticity is also being violated in the scatter of the residuals. Let's remove outliers and see if it helps our data at all."
   ]
  },
  {
   "cell_type": "markdown",
   "metadata": {},
   "source": [
    "## Model 4: Remove Outliers"
   ]
  },
  {
   "cell_type": "markdown",
   "metadata": {},
   "source": [
    "### Explore Distribution of Data"
   ]
  },
  {
   "cell_type": "code",
   "execution_count": 65,
   "metadata": {
    "scrolled": true
   },
   "outputs": [
    {
     "data": {
      "image/png": "[encoded data removed]",
      "text/plain": [
       "<Figure size 1296x1080 with 36 Axes>"
      ]
     },
     "metadata": {
      "needs_background": "light"
     },
     "output_type": "display_data"
    }
   ],
   "source": [
    "data_model_3.hist(figsize=(18,15), bins = 'auto');"
   ]
  },
  {
   "cell_type": "markdown",
   "metadata": {},
   "source": [
    "It looks like there are a number of outliers in some of our independent variables and our dependent variable, price. Let's take a closer look at price, since sometimes fixing outliers in the dependent variable can fix outliers in other variables."
   ]
  },
  {
   "cell_type": "code",
   "execution_count": 66,
   "metadata": {
    "scrolled": true
   },
   "outputs": [
    {
     "data": {
      "text/plain": [
       "<AxesSubplot:>"
      ]
     },
     "execution_count": 66,
     "metadata": {},
     "output_type": "execute_result"
    },
    {
     "data": {
      "image/png": "[encoded data removed]",
      "text/plain": [
       "<Figure size 432x288 with 1 Axes>"
      ]
     },
     "metadata": {
      "needs_background": "light"
     },
     "output_type": "display_data"
    }
   ],
   "source": [
    "data_model_3.price.hist()"
   ]
  },
  {
   "cell_type": "code",
   "execution_count": 67,
   "metadata": {
    "scrolled": true
   },
   "outputs": [
    {
     "data": {
      "text/plain": [
       "<AxesSubplot:xlabel='price'>"
      ]
     },
     "execution_count": 67,
     "metadata": {},
     "output_type": "execute_result"
    },
    {
     "data": {
      "image/png": "[encoded data removed]",
      "text/plain": [
       "<Figure size 432x288 with 1 Axes>"
      ]
     },
     "metadata": {
      "needs_background": "light"
     },
     "output_type": "display_data"
    }
   ],
   "source": [
    "sns.boxplot(x=data_model_3['price'])"
   ]
  },
  {
   "cell_type": "markdown",
   "metadata": {},
   "source": [
    "It looks like it might be a good idea to remove any homes above 2 million dollars in price. Since ABC agency's clients are younger with less money to invest in homes above $2 million, it seems reasonable to eliminate these outliers. Before removing these outliers, let's check if using Z-score to eliminate outliers is a good strategy."
   ]
  },
  {
   "cell_type": "markdown",
   "metadata": {},
   "source": [
    "### Remove Price Outliers based on Z-Score"
   ]
  },
  {
   "cell_type": "code",
   "execution_count": 68,
   "metadata": {
    "scrolled": true
   },
   "outputs": [
    {
     "data": {
      "text/plain": [
       "array([0.86671627, 0.00625157, 0.98077344, ..., 0.37618606, 0.38190525,\n",
       "       0.58606486])"
      ]
     },
     "execution_count": 68,
     "metadata": {},
     "output_type": "execute_result"
    }
   ],
   "source": [
    "z = np.abs(stats.zscore(data_model_3.price))\n",
    "z"
   ]
  },
  {
   "cell_type": "code",
   "execution_count": 69,
   "metadata": {},
   "outputs": [],
   "source": [
    "data_model_4a = data_model_3[(z<3)]"
   ]
  },
  {
   "cell_type": "code",
   "execution_count": 70,
   "metadata": {},
   "outputs": [
    {
     "data": {
      "text/plain": [
       "(21191, 34)"
      ]
     },
     "execution_count": 70,
     "metadata": {},
     "output_type": "execute_result"
    }
   ],
   "source": [
    "data_model_4a.shape"
   ]
  },
  {
   "cell_type": "code",
   "execution_count": 71,
   "metadata": {},
   "outputs": [
    {
     "data": {
      "text/plain": [
       "<AxesSubplot:>"
      ]
     },
     "execution_count": 71,
     "metadata": {},
     "output_type": "execute_result"
    },
    {
     "data": {
      "image/png": "[encoded data removed]",
      "text/plain": [
       "<Figure size 432x288 with 1 Axes>"
      ]
     },
     "metadata": {
      "needs_background": "light"
     },
     "output_type": "display_data"
    }
   ],
   "source": [
    "data_model_4a.price.hist()"
   ]
  },
  {
   "cell_type": "markdown",
   "metadata": {},
   "source": [
    "It looks like removing outliers using z-score achieved our goal of eliminating price under 2 million. Let's run a new model and check if losing this data affected the model's accuracy."
   ]
  },
  {
   "cell_type": "code",
   "execution_count": 72,
   "metadata": {},
   "outputs": [],
   "source": [
    "y = data_model_4a['price']\n",
    "X = data_model_4a.drop(['price', 'id', 'date'], axis=1)"
   ]
  },
  {
   "cell_type": "code",
   "execution_count": 73,
   "metadata": {},
   "outputs": [
    {
     "data": {
      "text/plain": [
       "0.6964827995878333"
      ]
     },
     "execution_count": 73,
     "metadata": {},
     "output_type": "execute_result"
    }
   ],
   "source": [
    "X_train, X_test, y_train, y_test = train_test_split(X, y, test_size=0.2, random_state=45)\n",
    "model_4a = LinearRegression()\n",
    "model_4a.fit(X_train, y_train)\n",
    "y_hat_train = model_4a.predict(X_train)\n",
    "y_hat_test = model_4a.predict(X_test)\n",
    "metrics.r2_score(y_train, y_hat_train)"
   ]
  },
  {
   "cell_type": "code",
   "execution_count": 74,
   "metadata": {},
   "outputs": [
    {
     "name": "stdout",
     "output_type": "stream",
     "text": [
      "RMSE Train: 143484.9419359686\n",
      "RMSE Test: 141204.153961676\n"
     ]
    }
   ],
   "source": [
    "print('RMSE Train:',np.sqrt(metrics.mean_squared_error(y_train, y_hat_train)))\n",
    "print('RMSE Test:',np.sqrt(metrics.mean_squared_error(y_test, y_hat_test)))"
   ]
  },
  {
   "cell_type": "code",
   "execution_count": 75,
   "metadata": {},
   "outputs": [
    {
     "data": {
      "text/plain": [
       "-406"
      ]
     },
     "execution_count": 75,
     "metadata": {},
     "output_type": "execute_result"
    }
   ],
   "source": [
    "data_model_4a.shape[0]-data_model_3.shape[0]"
   ]
  },
  {
   "cell_type": "markdown",
   "metadata": {},
   "source": [
    "It looks like we lost about 400 values by eliminating outliers using z-score. Our model also lost some accuracy, dropping to an Rsquared value of .70. Our RMSE, however, decreased significantly. Let's check if removing outliers a different way works better."
   ]
  },
  {
   "cell_type": "markdown",
   "metadata": {},
   "source": [
    "### Aternate Aproach: Remove Outliers Based on Price Cutoff"
   ]
  },
  {
   "cell_type": "code",
   "execution_count": 76,
   "metadata": {
    "scrolled": false
   },
   "outputs": [
    {
     "name": "stdout",
     "output_type": "stream",
     "text": [
      "0.8 percentile: 700435.9999999998\n",
      "0.81 percentile: 718000.0\n",
      "0.82 percentile: 730000.72\n",
      "0.83 percentile: 749950.0\n",
      "0.84 percentile: 760003.2\n",
      "0.85 percentile: 779721.9999999991\n",
      "0.86 percentile: 799000.0\n",
      "0.87 percentile: 815000.0\n",
      "0.88 percentile: 836739.9999999998\n",
      "0.89 percentile: 859967.6\n",
      "0.9 percentile: 887000.0\n",
      "0.91 percentile: 919993.6\n",
      "0.92 percentile: 950000.0\n",
      "0.93 percentile: 997964.0000000002\n",
      "0.94 percentile: 1060000.0\n",
      "0.95 percentile: 1160000.0\n",
      "0.96 percentile: 1260000.0\n",
      "0.97 percentile: 1390000.0\n",
      "0.98 percentile: 1600000.0\n",
      "0.99 percentile: 1970000.0\n"
     ]
    }
   ],
   "source": [
    "for i in range(80,100):\n",
    "    q = i/100\n",
    "    print(\"{} percentile: {}\".format(q, data_model_3.price.quantile(q=q)))"
   ]
  },
  {
   "cell_type": "code",
   "execution_count": 77,
   "metadata": {
    "scrolled": false
   },
   "outputs": [
    {
     "name": "stdout",
     "output_type": "stream",
     "text": [
      "Percent removed: 0.009630967263971849\n"
     ]
    }
   ],
   "source": [
    "orig_tot = len(data_model_3)\n",
    "data_model_4b = data_model_3[data_model_3.price < 2000000] # Subsetting to remove extreme outliers\n",
    "print('Percent removed:', (orig_tot -len(data_model_4b))/orig_tot)\n",
    "# data_new.price = data_new.price.map(np.log) # Applying a log transformation"
   ]
  },
  {
   "cell_type": "code",
   "execution_count": 78,
   "metadata": {},
   "outputs": [
    {
     "data": {
      "text/plain": [
       "<AxesSubplot:>"
      ]
     },
     "execution_count": 78,
     "metadata": {},
     "output_type": "execute_result"
    },
    {
     "data": {
      "image/png": "[encoded data removed]",
      "text/plain": [
       "<Figure size 432x288 with 1 Axes>"
      ]
     },
     "metadata": {
      "needs_background": "light"
     },
     "output_type": "display_data"
    }
   ],
   "source": [
    "data_model_4b.price.hist()"
   ]
  },
  {
   "cell_type": "code",
   "execution_count": 79,
   "metadata": {},
   "outputs": [
    {
     "data": {
      "text/plain": [
       "0.7056673212919178"
      ]
     },
     "execution_count": 79,
     "metadata": {},
     "output_type": "execute_result"
    }
   ],
   "source": [
    "# Refit model with subset features\n",
    "y = data_model_4b['price']\n",
    "X = data_model_4b.drop(['price', 'id', 'date'], axis=1)\n",
    "X_train, X_test, y_train, y_test = train_test_split(X, y, test_size=0.2, random_state=51)\n",
    "\n",
    "model_4b = LinearRegression()\n",
    "model_4b.fit(X_train, y_train)\n",
    "y_hat_train = model_4b.predict(X_train)\n",
    "y_hat_test = model_4b.predict(X_test)\n",
    "metrics.r2_score(y_train, y_hat_train)"
   ]
  },
  {
   "cell_type": "code",
   "execution_count": 80,
   "metadata": {},
   "outputs": [
    {
     "name": "stdout",
     "output_type": "stream",
     "text": [
      "RMSE Train: 155844.5849414766\n",
      "RMSE Test: 155029.11719674882\n"
     ]
    }
   ],
   "source": [
    "print('RMSE Train:',np.sqrt(metrics.mean_squared_error(y_train, y_hat_train)))\n",
    "print('RMSE Test:',np.sqrt(metrics.mean_squared_error(y_test, y_hat_test)))"
   ]
  },
  {
   "cell_type": "code",
   "execution_count": 81,
   "metadata": {},
   "outputs": [
    {
     "data": {
      "text/plain": [
       "-208"
      ]
     },
     "execution_count": 81,
     "metadata": {},
     "output_type": "execute_result"
    }
   ],
   "source": [
    "data_model_4b.shape[0]-data_model_3.shape[0]"
   ]
  },
  {
   "cell_type": "markdown",
   "metadata": {},
   "source": [
    "Removing outliers in this way gave us a slightly better R squared score than by using z-score. Our RMSE also improved over model 3. We were able to preserve about 200 more values in this method, so let's use this model going forward."
   ]
  },
  {
   "cell_type": "markdown",
   "metadata": {},
   "source": [
    "### Recheck Normality and Homoscedasticity Assumptions"
   ]
  },
  {
   "cell_type": "code",
   "execution_count": 82,
   "metadata": {
    "scrolled": true
   },
   "outputs": [
    {
     "data": {
      "image/png": "[encoded data removed]",
      "text/plain": [
       "<Figure size 432x288 with 1 Axes>"
      ]
     },
     "metadata": {
      "needs_background": "light"
     },
     "output_type": "display_data"
    }
   ],
   "source": [
    "X_int = sm.add_constant(X_train)\n",
    "model_4b = sm.OLS(y_train, X_int).fit()\n",
    "fig = sm.graphics.qqplot(model_4b.resid, dist=stats.norm, line='45', fit=True)"
   ]
  },
  {
   "cell_type": "code",
   "execution_count": 83,
   "metadata": {
    "scrolled": false
   },
   "outputs": [
    {
     "data": {
      "text/plain": [
       "[<matplotlib.lines.Line2D at 0x297270e6130>]"
      ]
     },
     "execution_count": 83,
     "metadata": {},
     "output_type": "execute_result"
    },
    {
     "data": {
      "image/png": "[encoded data removed]",
      "text/plain": [
       "<Figure size 432x288 with 1 Axes>"
      ]
     },
     "metadata": {
      "needs_background": "light"
     },
     "output_type": "display_data"
    }
   ],
   "source": [
    "plt.scatter(model_4b.predict(X_int), model_4b.resid)\n",
    "plt.plot(model_4b.predict(X_int), [0 for i in range(len(X_int))])"
   ]
  },
  {
   "cell_type": "markdown",
   "metadata": {},
   "source": [
    "The normality of the residuals have improved, but it looks like it's still being violated. Homoscedasticity has also improved, but we still have a slight cone shape. We may need to try transforming our data in order to improve our model further. Before doing that, though, let's check our variables for multicollinearity."
   ]
  },
  {
   "cell_type": "markdown",
   "metadata": {},
   "source": [
    "## Model 5: Adjust for Multicollinearity"
   ]
  },
  {
   "cell_type": "markdown",
   "metadata": {},
   "source": [
    "### Investigate Pairwise Correlation"
   ]
  },
  {
   "cell_type": "code",
   "execution_count": 84,
   "metadata": {},
   "outputs": [],
   "source": [
    "# save absolute value of correlation matrix as a data frame\n",
    "# converts all values to absolute value\n",
    "# stacks the row:column pairs into a multindex\n",
    "# reset the index to set the multindex to seperate columns\n",
    "# sort values. 0 is the column automatically generated by the stacking\n",
    "\n",
    "df_pairs=data_model_4b.corr().abs().stack().reset_index().sort_values(0, ascending=False)\n",
    "\n",
    "# zip the variable name columns (Which were only named level_0 and level_1 by default) in a new column named \"pairs\"\n",
    "df_pairs['pairs'] = list(zip(df_pairs.level_0, df_pairs.level_1))\n",
    "\n",
    "# set index to pairs\n",
    "df_pairs.set_index(['pairs'], inplace = True)\n",
    "\n",
    "#d rop level columns\n",
    "df_pairs.drop(columns=['level_1', 'level_0'], inplace = True)\n",
    "\n",
    "# rename correlation column as cc rather than 0\n",
    "df_pairs.columns = ['cc']\n",
    "\n",
    "# drop duplicates. This could be dangerous if you have variables perfectly correlated with variables other than themselves.\n",
    "# for the sake of exercise, kept it in.\n",
    "df_pairs.drop_duplicates(inplace=True)"
   ]
  },
  {
   "cell_type": "code",
   "execution_count": 85,
   "metadata": {
    "scrolled": true
   },
   "outputs": [
    {
     "data": {
      "text/html": [
       "<div>\n",
       "<style scoped>\n",
       "    .dataframe tbody tr th:only-of-type {\n",
       "        vertical-align: middle;\n",
       "    }\n",
       "\n",
       "    .dataframe tbody tr th {\n",
       "        vertical-align: top;\n",
       "    }\n",
       "\n",
       "    .dataframe thead th {\n",
       "        text-align: right;\n",
       "    }\n",
       "</style>\n",
       "<table border=\"1\" class=\"dataframe\">\n",
       "  <thead>\n",
       "    <tr style=\"text-align: right;\">\n",
       "      <th></th>\n",
       "      <th>cc</th>\n",
       "    </tr>\n",
       "    <tr>\n",
       "      <th>pairs</th>\n",
       "      <th></th>\n",
       "    </tr>\n",
       "  </thead>\n",
       "  <tbody>\n",
       "    <tr>\n",
       "      <th>(sqft_above, sqft_living15)</th>\n",
       "      <td>0.727492</td>\n",
       "    </tr>\n",
       "    <tr>\n",
       "      <th>(sqft_lot15, sqft_lot)</th>\n",
       "      <td>0.713364</td>\n",
       "    </tr>\n",
       "  </tbody>\n",
       "</table>\n",
       "</div>"
      ],
      "text/plain": [
       "                                   cc\n",
       "pairs                                \n",
       "(sqft_above, sqft_living15)  0.727492\n",
       "(sqft_lot15, sqft_lot)       0.713364"
      ]
     },
     "execution_count": 85,
     "metadata": {},
     "output_type": "execute_result"
    }
   ],
   "source": [
    "df_pairs[(df_pairs.cc>.7) & (df_pairs.cc <1)]"
   ]
  },
  {
   "cell_type": "markdown",
   "metadata": {},
   "source": [
    "We can confirm there is no pairwise correlation present."
   ]
  },
  {
   "cell_type": "markdown",
   "metadata": {},
   "source": [
    "### Investigate multicollinearity"
   ]
  },
  {
   "cell_type": "code",
   "execution_count": 86,
   "metadata": {
    "scrolled": false
   },
   "outputs": [
    {
     "data": {
      "text/plain": [
       "[('sqft_lot', 2.3447767733444262),\n",
       " ('sqft_above', 21.29457486810911),\n",
       " ('sqft_basement', 2.076410433156791),\n",
       " ('yr_built', 29.564235362791113),\n",
       " ('yr_renovated', 1.0626649793220524),\n",
       " ('sqft_living15', 28.14228874088857),\n",
       " ('sqft_lot15', 2.5467596404490807),\n",
       " ('bedro_6_plus', 1.0975052449434137),\n",
       " ('bathr_2_to_3', 3.0045889037600184),\n",
       " ('bathr_3_to_4', 1.8380556645221025),\n",
       " ('bathr_4_to_5', 1.2449419803833142),\n",
       " ('bathr_5_to_6', 1.0763708932172662),\n",
       " ('bathr_6_plus', 1.022567294824475),\n",
       " ('floor_2.5', 1.0237215090919451),\n",
       " ('floor_3.0', 1.1498603634080846),\n",
       " ('floor_3.5', 1.0024905404300029),\n",
       " ('water_1.0', 1.3973347043510105),\n",
       " ('view_1.0', 1.046717054090999),\n",
       " ('view_2.0', 1.1109992386220107),\n",
       " ('view_3.0', 1.1056588250090413),\n",
       " ('view_4.0', 1.4474853953892843),\n",
       " ('condi_5', 1.1225961069635082),\n",
       " ('grade_11', 1.2240991474440654),\n",
       " ('grade_12', 1.0946142620421884),\n",
       " ('grade_13', 1.002951353979553),\n",
       " ('zipco_98051_to_98100', 1.830566741476571),\n",
       " ('zipco_98101_to_98150', 4.847585930114559),\n",
       " ('zipco_98150_to_98200', 1.7597891791071671),\n",
       " ('quadr_2', 4.645421074099228),\n",
       " ('quadr_3', 2.1617965551957186),\n",
       " ('quadr_4', 3.189404259930819)]"
      ]
     },
     "execution_count": 86,
     "metadata": {},
     "output_type": "execute_result"
    }
   ],
   "source": [
    "X = data_model_4b.drop(['price', 'id', 'date'], axis=1)\n",
    "vif = [variance_inflation_factor(X.values, i) for i in range(X.shape[1])]\n",
    "list(zip(new_x_cols, vif))"
   ]
  },
  {
   "cell_type": "code",
   "execution_count": 87,
   "metadata": {
    "scrolled": true
   },
   "outputs": [
    {
     "data": {
      "text/plain": [
       "['sqft_above', 'yr_built', 'sqft_living15']"
      ]
     },
     "execution_count": 87,
     "metadata": {},
     "output_type": "execute_result"
    }
   ],
   "source": [
    "vif_scores = list(zip(new_x_cols, vif))\n",
    "multi_co_cols = [x for x,vif in vif_scores if vif > 5]\n",
    "multi_co_cols"
   ]
  },
  {
   "cell_type": "code",
   "execution_count": 88,
   "metadata": {},
   "outputs": [],
   "source": [
    "data_model_5a = data_model_4b.drop('sqft_living15', axis=1)"
   ]
  },
  {
   "cell_type": "code",
   "execution_count": 89,
   "metadata": {},
   "outputs": [],
   "source": [
    "data_model_5b = data_model_4b.drop('yr_built', axis=1)"
   ]
  },
  {
   "cell_type": "code",
   "execution_count": 90,
   "metadata": {},
   "outputs": [],
   "source": [
    "data_model_5c = data_model_4b.drop('sqft_above', axis=1)"
   ]
  },
  {
   "cell_type": "code",
   "execution_count": 91,
   "metadata": {},
   "outputs": [],
   "source": [
    "data_model_5d = data_model_4b.drop(multi_co_cols, axis=1)"
   ]
  },
  {
   "cell_type": "code",
   "execution_count": 92,
   "metadata": {
    "scrolled": false
   },
   "outputs": [
    {
     "data": {
      "text/plain": [
       "0.5555721819083574"
      ]
     },
     "execution_count": 92,
     "metadata": {},
     "output_type": "execute_result"
    }
   ],
   "source": [
    "y = data_model_5d['price']\n",
    "X = data_model_5d.drop(['price', 'id', 'date'],axis=1)\n",
    "X_train, X_test, y_train, y_test = train_test_split(X, y, test_size=0.2, random_state=22)\n",
    "model_5 = LinearRegression()\n",
    "model_5.fit(X_train, y_train)\n",
    "y_hat_train = model_5.predict(X_train)\n",
    "y_hat_test = model_5.predict(X_test)\n",
    "metrics.r2_score(y_train, y_hat_train)"
   ]
  },
  {
   "cell_type": "code",
   "execution_count": 93,
   "metadata": {},
   "outputs": [
    {
     "data": {
      "text/plain": [
       "0.6989264206446139"
      ]
     },
     "execution_count": 93,
     "metadata": {},
     "output_type": "execute_result"
    }
   ],
   "source": [
    "y = data_model_5b['price']\n",
    "X = data_model_5b.drop(['price', 'id', 'date'],axis=1)\n",
    "X_train, X_test, y_train, y_test = train_test_split(X, y, test_size=0.2, random_state=22)\n",
    "model_5 = LinearRegression()\n",
    "model_5.fit(X_train, y_train)\n",
    "y_hat_train = model_5.predict(X_train)\n",
    "y_hat_test = model_5.predict(X_test)\n",
    "metrics.r2_score(y_train, y_hat_train)"
   ]
  },
  {
   "cell_type": "code",
   "execution_count": 94,
   "metadata": {},
   "outputs": [
    {
     "name": "stdout",
     "output_type": "stream",
     "text": [
      "RMSE Train: 156249.46890794893\n",
      "RMSE Test: 161256.16494939025\n"
     ]
    }
   ],
   "source": [
    "print('RMSE Train:',np.sqrt(metrics.mean_squared_error(y_train, y_hat_train)))\n",
    "print('RMSE Test:',np.sqrt(metrics.mean_squared_error(y_test, y_hat_test)))"
   ]
  },
  {
   "cell_type": "code",
   "execution_count": 95,
   "metadata": {},
   "outputs": [
    {
     "data": {
      "text/plain": [
       "[('sqft_lot', 2.344762701972133),\n",
       " ('sqft_above', 20.704135597441017),\n",
       " ('sqft_basement', 2.0521178172709162),\n",
       " ('yr_built', 1.062156993620382),\n",
       " ('yr_renovated', 21.537986287029366),\n",
       " ('sqft_living15', 2.5465271727284846),\n",
       " ('sqft_lot15', 1.0971473739613387),\n",
       " ('bedro_6_plus', 2.971047631997703),\n",
       " ('bathr_2_to_3', 1.781261899884595),\n",
       " ('bathr_3_to_4', 1.233662577159461),\n",
       " ('bathr_4_to_5', 1.0754098049103593),\n",
       " ('bathr_5_to_6', 1.022357257220077),\n",
       " ('bathr_6_plus', 1.0232996481613426),\n",
       " ('floor_2.5', 1.138667885837819),\n",
       " ('floor_3.0', 1.0023489770356675),\n",
       " ('floor_3.5', 1.396527754292314),\n",
       " ('water_1.0', 1.0457539205491262),\n",
       " ('view_1.0', 1.1046174120351857),\n",
       " ('view_2.0', 1.095440800431151),\n",
       " ('view_3.0', 1.433852293994957),\n",
       " ('view_4.0', 1.117598451775245),\n",
       " ('condi_5', 1.1938588426515273),\n",
       " ('grade_11', 1.0819079713859818),\n",
       " ('grade_12', 1.0019746931780713),\n",
       " ('grade_13', 1.8281790161437959),\n",
       " ('zipco_98051_to_98100', 2.400771672262677),\n",
       " ('zipco_98101_to_98150', 1.4262390283730788),\n",
       " ('zipco_98150_to_98200', 3.5527147738852163),\n",
       " ('quadr_2', 1.5911473594350383),\n",
       " ('quadr_3', 2.1920945755073156)]"
      ]
     },
     "execution_count": 95,
     "metadata": {},
     "output_type": "execute_result"
    }
   ],
   "source": [
    "vif = [variance_inflation_factor(X.values, i) for i in range(X.shape[1])]\n",
    "list(zip(new_x_cols, vif))"
   ]
  },
  {
   "cell_type": "code",
   "execution_count": 96,
   "metadata": {},
   "outputs": [
    {
     "data": {
      "text/html": [
       "<table class=\"simpletable\">\n",
       "<caption>OLS Regression Results</caption>\n",
       "<tr>\n",
       "  <th>Dep. Variable:</th>          <td>price</td>      <th>  R-squared:         </th>  <td>   0.699</td>  \n",
       "</tr>\n",
       "<tr>\n",
       "  <th>Model:</th>                   <td>OLS</td>       <th>  Adj. R-squared:    </th>  <td>   0.698</td>  \n",
       "</tr>\n",
       "<tr>\n",
       "  <th>Method:</th>             <td>Least Squares</td>  <th>  F-statistic:       </th>  <td>   1322.</td>  \n",
       "</tr>\n",
       "<tr>\n",
       "  <th>Date:</th>             <td>Fri, 08 Jan 2021</td> <th>  Prob (F-statistic):</th>   <td>  0.00</td>   \n",
       "</tr>\n",
       "<tr>\n",
       "  <th>Time:</th>                 <td>14:46:37</td>     <th>  Log-Likelihood:    </th> <td>-2.2891e+05</td>\n",
       "</tr>\n",
       "<tr>\n",
       "  <th>No. Observations:</th>      <td> 17111</td>      <th>  AIC:               </th>  <td>4.579e+05</td> \n",
       "</tr>\n",
       "<tr>\n",
       "  <th>Df Residuals:</th>          <td> 17080</td>      <th>  BIC:               </th>  <td>4.581e+05</td> \n",
       "</tr>\n",
       "<tr>\n",
       "  <th>Df Model:</th>              <td>    30</td>      <th>                     </th>      <td> </td>     \n",
       "</tr>\n",
       "<tr>\n",
       "  <th>Covariance Type:</th>      <td>nonrobust</td>    <th>                     </th>      <td> </td>     \n",
       "</tr>\n",
       "</table>\n",
       "<table class=\"simpletable\">\n",
       "<tr>\n",
       "            <td></td>              <th>coef</th>     <th>std err</th>      <th>t</th>      <th>P>|t|</th>  <th>[0.025</th>    <th>0.975]</th>  \n",
       "</tr>\n",
       "<tr>\n",
       "  <th>const</th>                <td> 1.211e+05</td> <td> 6504.172</td> <td>   18.617</td> <td> 0.000</td> <td> 1.08e+05</td> <td> 1.34e+05</td>\n",
       "</tr>\n",
       "<tr>\n",
       "  <th>sqft_lot</th>             <td>    0.2211</td> <td>    0.041</td> <td>    5.333</td> <td> 0.000</td> <td>    0.140</td> <td>    0.302</td>\n",
       "</tr>\n",
       "<tr>\n",
       "  <th>sqft_above</th>           <td>  159.1455</td> <td>    2.858</td> <td>   55.677</td> <td> 0.000</td> <td>  153.543</td> <td>  164.748</td>\n",
       "</tr>\n",
       "<tr>\n",
       "  <th>sqft_basement</th>        <td>  115.6271</td> <td>    3.367</td> <td>   34.338</td> <td> 0.000</td> <td>  109.027</td> <td>  122.227</td>\n",
       "</tr>\n",
       "<tr>\n",
       "  <th>yr_renovated</th>         <td>   43.7954</td> <td>    3.391</td> <td>   12.913</td> <td> 0.000</td> <td>   37.148</td> <td>   50.443</td>\n",
       "</tr>\n",
       "<tr>\n",
       "  <th>sqft_living15</th>        <td>   83.7518</td> <td>    3.073</td> <td>   27.251</td> <td> 0.000</td> <td>   77.728</td> <td>   89.776</td>\n",
       "</tr>\n",
       "<tr>\n",
       "  <th>sqft_lot15</th>           <td>   -0.2009</td> <td>    0.065</td> <td>   -3.087</td> <td> 0.002</td> <td>   -0.328</td> <td>   -0.073</td>\n",
       "</tr>\n",
       "<tr>\n",
       "  <th>bedro_6_plus</th>         <td>-6.705e+04</td> <td> 1.03e+04</td> <td>   -6.512</td> <td> 0.000</td> <td>-8.72e+04</td> <td>-4.69e+04</td>\n",
       "</tr>\n",
       "<tr>\n",
       "  <th>bathr_2_to_3</th>         <td>-4068.6710</td> <td> 3156.286</td> <td>   -1.289</td> <td> 0.197</td> <td>-1.03e+04</td> <td> 2117.974</td>\n",
       "</tr>\n",
       "<tr>\n",
       "  <th>bathr_3_to_4</th>         <td> 6.443e+04</td> <td> 6089.520</td> <td>   10.580</td> <td> 0.000</td> <td> 5.25e+04</td> <td> 7.64e+04</td>\n",
       "</tr>\n",
       "<tr>\n",
       "  <th>bathr_4_to_5</th>         <td> 8.594e+04</td> <td> 1.47e+04</td> <td>    5.866</td> <td> 0.000</td> <td> 5.72e+04</td> <td> 1.15e+05</td>\n",
       "</tr>\n",
       "<tr>\n",
       "  <th>bathr_5_to_6</th>         <td>-8.567e+04</td> <td> 4.29e+04</td> <td>   -1.995</td> <td> 0.046</td> <td> -1.7e+05</td> <td>-1505.571</td>\n",
       "</tr>\n",
       "<tr>\n",
       "  <th>bathr_6_plus</th>         <td>-3.011e+05</td> <td> 9.16e+04</td> <td>   -3.288</td> <td> 0.001</td> <td>-4.81e+05</td> <td>-1.22e+05</td>\n",
       "</tr>\n",
       "<tr>\n",
       "  <th>floor_2.5</th>            <td> 9.026e+04</td> <td> 1.48e+04</td> <td>    6.094</td> <td> 0.000</td> <td> 6.12e+04</td> <td> 1.19e+05</td>\n",
       "</tr>\n",
       "<tr>\n",
       "  <th>floor_3.0</th>            <td> 2.131e+04</td> <td> 7713.782</td> <td>    2.763</td> <td> 0.006</td> <td> 6190.486</td> <td> 3.64e+04</td>\n",
       "</tr>\n",
       "<tr>\n",
       "  <th>floor_3.5</th>            <td>  2.33e+04</td> <td> 7.83e+04</td> <td>    0.298</td> <td> 0.766</td> <td> -1.3e+05</td> <td> 1.77e+05</td>\n",
       "</tr>\n",
       "<tr>\n",
       "  <th>water_1.0</th>            <td> 2.955e+05</td> <td> 2.09e+04</td> <td>   14.129</td> <td> 0.000</td> <td> 2.54e+05</td> <td> 3.36e+05</td>\n",
       "</tr>\n",
       "<tr>\n",
       "  <th>view_1.0</th>             <td> 9.395e+04</td> <td> 1.02e+04</td> <td>    9.202</td> <td> 0.000</td> <td> 7.39e+04</td> <td> 1.14e+05</td>\n",
       "</tr>\n",
       "<tr>\n",
       "  <th>view_2.0</th>             <td> 6.708e+04</td> <td> 6065.479</td> <td>   11.059</td> <td> 0.000</td> <td> 5.52e+04</td> <td>  7.9e+04</td>\n",
       "</tr>\n",
       "<tr>\n",
       "  <th>view_3.0</th>             <td>   1.4e+05</td> <td> 8376.277</td> <td>   16.719</td> <td> 0.000</td> <td> 1.24e+05</td> <td> 1.56e+05</td>\n",
       "</tr>\n",
       "<tr>\n",
       "  <th>view_4.0</th>             <td> 2.513e+05</td> <td> 1.33e+04</td> <td>   18.907</td> <td> 0.000</td> <td> 2.25e+05</td> <td> 2.77e+05</td>\n",
       "</tr>\n",
       "<tr>\n",
       "  <th>condi_5</th>              <td> 8.091e+04</td> <td> 4515.154</td> <td>   17.919</td> <td> 0.000</td> <td> 7.21e+04</td> <td> 8.98e+04</td>\n",
       "</tr>\n",
       "<tr>\n",
       "  <th>grade_11</th>             <td> 1.277e+05</td> <td> 1.08e+04</td> <td>   11.854</td> <td> 0.000</td> <td> 1.07e+05</td> <td> 1.49e+05</td>\n",
       "</tr>\n",
       "<tr>\n",
       "  <th>grade_12</th>             <td> 2.692e+05</td> <td> 2.43e+04</td> <td>   11.068</td> <td> 0.000</td> <td> 2.22e+05</td> <td> 3.17e+05</td>\n",
       "</tr>\n",
       "<tr>\n",
       "  <th>grade_13</th>             <td>   4.4e+05</td> <td> 1.57e+05</td> <td>    2.808</td> <td> 0.005</td> <td> 1.33e+05</td> <td> 7.47e+05</td>\n",
       "</tr>\n",
       "<tr>\n",
       "  <th>zipco_98051_to_98100</th> <td> -3.92e+04</td> <td> 3487.311</td> <td>  -11.241</td> <td> 0.000</td> <td> -4.6e+04</td> <td>-3.24e+04</td>\n",
       "</tr>\n",
       "<tr>\n",
       "  <th>zipco_98101_to_98150</th> <td>-1244.1405</td> <td> 4765.906</td> <td>   -0.261</td> <td> 0.794</td> <td>-1.06e+04</td> <td> 8097.526</td>\n",
       "</tr>\n",
       "<tr>\n",
       "  <th>zipco_98150_to_98200</th> <td>-3.802e+04</td> <td> 4960.299</td> <td>   -7.664</td> <td> 0.000</td> <td>-4.77e+04</td> <td>-2.83e+04</td>\n",
       "</tr>\n",
       "<tr>\n",
       "  <th>quadr_2</th>              <td>-6.973e+04</td> <td> 4989.352</td> <td>  -13.976</td> <td> 0.000</td> <td>-7.95e+04</td> <td>   -6e+04</td>\n",
       "</tr>\n",
       "<tr>\n",
       "  <th>quadr_3</th>              <td>-2.549e+05</td> <td> 4627.382</td> <td>  -55.079</td> <td> 0.000</td> <td>-2.64e+05</td> <td>-2.46e+05</td>\n",
       "</tr>\n",
       "<tr>\n",
       "  <th>quadr_4</th>              <td>-2.533e+05</td> <td> 5269.826</td> <td>  -48.061</td> <td> 0.000</td> <td>-2.64e+05</td> <td>-2.43e+05</td>\n",
       "</tr>\n",
       "</table>\n",
       "<table class=\"simpletable\">\n",
       "<tr>\n",
       "  <th>Omnibus:</th>       <td>4603.009</td> <th>  Durbin-Watson:     </th> <td>   2.011</td> \n",
       "</tr>\n",
       "<tr>\n",
       "  <th>Prob(Omnibus):</th>  <td> 0.000</td>  <th>  Jarque-Bera (JB):  </th> <td>23063.494</td>\n",
       "</tr>\n",
       "<tr>\n",
       "  <th>Skew:</th>           <td> 1.213</td>  <th>  Prob(JB):          </th> <td>    0.00</td> \n",
       "</tr>\n",
       "<tr>\n",
       "  <th>Kurtosis:</th>       <td> 8.144</td>  <th>  Cond. No.          </th> <td>6.49e+06</td> \n",
       "</tr>\n",
       "</table><br/><br/>Notes:<br/>[1] Standard Errors assume that the covariance matrix of the errors is correctly specified.<br/>[2] The condition number is large, 6.49e+06. This might indicate that there are<br/>strong multicollinearity or other numerical problems."
      ],
      "text/plain": [
       "<class 'statsmodels.iolib.summary.Summary'>\n",
       "\"\"\"\n",
       "                            OLS Regression Results                            \n",
       "==============================================================================\n",
       "Dep. Variable:                  price   R-squared:                       0.699\n",
       "Model:                            OLS   Adj. R-squared:                  0.698\n",
       "Method:                 Least Squares   F-statistic:                     1322.\n",
       "Date:                Fri, 08 Jan 2021   Prob (F-statistic):               0.00\n",
       "Time:                        14:46:37   Log-Likelihood:            -2.2891e+05\n",
       "No. Observations:               17111   AIC:                         4.579e+05\n",
       "Df Residuals:                   17080   BIC:                         4.581e+05\n",
       "Df Model:                          30                                         \n",
       "Covariance Type:            nonrobust                                         \n",
       "========================================================================================\n",
       "                           coef    std err          t      P>|t|      [0.025      0.975]\n",
       "----------------------------------------------------------------------------------------\n",
       "const                 1.211e+05   6504.172     18.617      0.000    1.08e+05    1.34e+05\n",
       "sqft_lot                 0.2211      0.041      5.333      0.000       0.140       0.302\n",
       "sqft_above             159.1455      2.858     55.677      0.000     153.543     164.748\n",
       "sqft_basement          115.6271      3.367     34.338      0.000     109.027     122.227\n",
       "yr_renovated            43.7954      3.391     12.913      0.000      37.148      50.443\n",
       "sqft_living15           83.7518      3.073     27.251      0.000      77.728      89.776\n",
       "sqft_lot15              -0.2009      0.065     -3.087      0.002      -0.328      -0.073\n",
       "bedro_6_plus         -6.705e+04   1.03e+04     -6.512      0.000   -8.72e+04   -4.69e+04\n",
       "bathr_2_to_3         -4068.6710   3156.286     -1.289      0.197   -1.03e+04    2117.974\n",
       "bathr_3_to_4          6.443e+04   6089.520     10.580      0.000    5.25e+04    7.64e+04\n",
       "bathr_4_to_5          8.594e+04   1.47e+04      5.866      0.000    5.72e+04    1.15e+05\n",
       "bathr_5_to_6         -8.567e+04   4.29e+04     -1.995      0.046    -1.7e+05   -1505.571\n",
       "bathr_6_plus         -3.011e+05   9.16e+04     -3.288      0.001   -4.81e+05   -1.22e+05\n",
       "floor_2.5             9.026e+04   1.48e+04      6.094      0.000    6.12e+04    1.19e+05\n",
       "floor_3.0             2.131e+04   7713.782      2.763      0.006    6190.486    3.64e+04\n",
       "floor_3.5              2.33e+04   7.83e+04      0.298      0.766    -1.3e+05    1.77e+05\n",
       "water_1.0             2.955e+05   2.09e+04     14.129      0.000    2.54e+05    3.36e+05\n",
       "view_1.0              9.395e+04   1.02e+04      9.202      0.000    7.39e+04    1.14e+05\n",
       "view_2.0              6.708e+04   6065.479     11.059      0.000    5.52e+04     7.9e+04\n",
       "view_3.0                1.4e+05   8376.277     16.719      0.000    1.24e+05    1.56e+05\n",
       "view_4.0              2.513e+05   1.33e+04     18.907      0.000    2.25e+05    2.77e+05\n",
       "condi_5               8.091e+04   4515.154     17.919      0.000    7.21e+04    8.98e+04\n",
       "grade_11              1.277e+05   1.08e+04     11.854      0.000    1.07e+05    1.49e+05\n",
       "grade_12              2.692e+05   2.43e+04     11.068      0.000    2.22e+05    3.17e+05\n",
       "grade_13                4.4e+05   1.57e+05      2.808      0.005    1.33e+05    7.47e+05\n",
       "zipco_98051_to_98100  -3.92e+04   3487.311    -11.241      0.000    -4.6e+04   -3.24e+04\n",
       "zipco_98101_to_98150 -1244.1405   4765.906     -0.261      0.794   -1.06e+04    8097.526\n",
       "zipco_98150_to_98200 -3.802e+04   4960.299     -7.664      0.000   -4.77e+04   -2.83e+04\n",
       "quadr_2              -6.973e+04   4989.352    -13.976      0.000   -7.95e+04      -6e+04\n",
       "quadr_3              -2.549e+05   4627.382    -55.079      0.000   -2.64e+05   -2.46e+05\n",
       "quadr_4              -2.533e+05   5269.826    -48.061      0.000   -2.64e+05   -2.43e+05\n",
       "==============================================================================\n",
       "Omnibus:                     4603.009   Durbin-Watson:                   2.011\n",
       "Prob(Omnibus):                  0.000   Jarque-Bera (JB):            23063.494\n",
       "Skew:                           1.213   Prob(JB):                         0.00\n",
       "Kurtosis:                       8.144   Cond. No.                     6.49e+06\n",
       "==============================================================================\n",
       "\n",
       "Notes:\n",
       "[1] Standard Errors assume that the covariance matrix of the errors is correctly specified.\n",
       "[2] The condition number is large, 6.49e+06. This might indicate that there are\n",
       "strong multicollinearity or other numerical problems.\n",
       "\"\"\""
      ]
     },
     "execution_count": 96,
     "metadata": {},
     "output_type": "execute_result"
    }
   ],
   "source": [
    "X_int = sm.add_constant(X_train)\n",
    "model_5 = sm.OLS(y_train, X_int).fit()\n",
    "model_5.summary()"
   ]
  },
  {
   "cell_type": "markdown",
   "metadata": {},
   "source": [
    "It looks like our model lost some accuracy by removing the multicollinear features, with an R-squared value of .69. FOr the sake of having a more accurate model, we are going to stick with the model that contains these colinear features."
   ]
  },
  {
   "cell_type": "markdown",
   "metadata": {},
   "source": [
    "## Model 6: Log Transform the dependent variable (or some independent variables)"
   ]
  },
  {
   "cell_type": "markdown",
   "metadata": {},
   "source": [
    "Let's go back and check our assumptions of linear regression again."
   ]
  },
  {
   "cell_type": "code",
   "execution_count": 97,
   "metadata": {},
   "outputs": [
    {
     "data": {
      "image/png": "[encoded data removed]",
      "text/plain": [
       "<Figure size 432x288 with 1 Axes>"
      ]
     },
     "metadata": {
      "needs_background": "light"
     },
     "output_type": "display_data"
    }
   ],
   "source": [
    "X_int = sm.add_constant(X_train)\n",
    "model_5 = sm.OLS(y_train, X_int).fit()\n",
    "fig = sm.graphics.qqplot(model_5.resid, dist=stats.norm, line='45', fit=True)"
   ]
  },
  {
   "cell_type": "code",
   "execution_count": 98,
   "metadata": {
    "scrolled": true
   },
   "outputs": [
    {
     "data": {
      "text/plain": [
       "[<matplotlib.lines.Line2D at 0x2972483a670>]"
      ]
     },
     "execution_count": 98,
     "metadata": {},
     "output_type": "execute_result"
    },
    {
     "data": {
      "image/png": "[encoded data removed]",
      "text/plain": [
       "<Figure size 432x288 with 1 Axes>"
      ]
     },
     "metadata": {
      "needs_background": "light"
     },
     "output_type": "display_data"
    }
   ],
   "source": [
    "plt.scatter(model_5.predict(X_int), model_5.resid)\n",
    "plt.plot(model_5.predict(X_int), [0 for i in range(len(X_int))])"
   ]
  },
  {
   "cell_type": "markdown",
   "metadata": {},
   "source": [
    "We clearly still have some violations of our residual normality and homoscedasticity assumptions. A log transformation may be necessary in this case. Let's look at the distribution of our variables and see if there is a particular variable we should consider log transforming."
   ]
  },
  {
   "cell_type": "code",
   "execution_count": 99,
   "metadata": {},
   "outputs": [
    {
     "data": {
      "image/png": "[encoded data removed]",
      "text/plain": [
       "<Figure size 1296x1080 with 36 Axes>"
      ]
     },
     "metadata": {
      "needs_background": "light"
     },
     "output_type": "display_data"
    }
   ],
   "source": [
    "data_model_5b.hist(figsize=(18,15), bins = 'auto');"
   ]
  },
  {
   "cell_type": "markdown",
   "metadata": {},
   "source": [
    "We only have a handful of continuous variables left in our model. Let's run models for 2 different scenarios-- 1) log transforming all of our square footage independent variables, and 2) log transforming our dependent variable, price."
   ]
  },
  {
   "cell_type": "markdown",
   "metadata": {},
   "source": [
    "### Log transforming independent variables"
   ]
  },
  {
   "cell_type": "code",
   "execution_count": 100,
   "metadata": {},
   "outputs": [
    {
     "data": {
      "text/html": [
       "<div>\n",
       "<style scoped>\n",
       "    .dataframe tbody tr th:only-of-type {\n",
       "        vertical-align: middle;\n",
       "    }\n",
       "\n",
       "    .dataframe tbody tr th {\n",
       "        vertical-align: top;\n",
       "    }\n",
       "\n",
       "    .dataframe thead th {\n",
       "        text-align: right;\n",
       "    }\n",
       "</style>\n",
       "<table border=\"1\" class=\"dataframe\">\n",
       "  <thead>\n",
       "    <tr style=\"text-align: right;\">\n",
       "      <th></th>\n",
       "      <th>id</th>\n",
       "      <th>price</th>\n",
       "      <th>sqft_lot</th>\n",
       "      <th>sqft_above</th>\n",
       "      <th>sqft_basement</th>\n",
       "      <th>yr_renovated</th>\n",
       "      <th>sqft_living15</th>\n",
       "      <th>sqft_lot15</th>\n",
       "      <th>bedro_6_plus</th>\n",
       "      <th>bathr_2_to_3</th>\n",
       "      <th>...</th>\n",
       "      <th>condi_5</th>\n",
       "      <th>grade_11</th>\n",
       "      <th>grade_12</th>\n",
       "      <th>grade_13</th>\n",
       "      <th>zipco_98051_to_98100</th>\n",
       "      <th>zipco_98101_to_98150</th>\n",
       "      <th>zipco_98150_to_98200</th>\n",
       "      <th>quadr_2</th>\n",
       "      <th>quadr_3</th>\n",
       "      <th>quadr_4</th>\n",
       "    </tr>\n",
       "  </thead>\n",
       "  <tbody>\n",
       "    <tr>\n",
       "      <th>count</th>\n",
       "      <td>2.138900e+04</td>\n",
       "      <td>2.138900e+04</td>\n",
       "      <td>2.138900e+04</td>\n",
       "      <td>21389.000000</td>\n",
       "      <td>21389.000000</td>\n",
       "      <td>21389.000000</td>\n",
       "      <td>21389.000000</td>\n",
       "      <td>21389.000000</td>\n",
       "      <td>21389.000000</td>\n",
       "      <td>21389.000000</td>\n",
       "      <td>...</td>\n",
       "      <td>21389.000000</td>\n",
       "      <td>21389.000000</td>\n",
       "      <td>21389.000000</td>\n",
       "      <td>21389.000000</td>\n",
       "      <td>21389.000000</td>\n",
       "      <td>21389.000000</td>\n",
       "      <td>21389.000000</td>\n",
       "      <td>21389.000000</td>\n",
       "      <td>21389.000000</td>\n",
       "      <td>21389.000000</td>\n",
       "    </tr>\n",
       "    <tr>\n",
       "      <th>mean</th>\n",
       "      <td>4.586072e+09</td>\n",
       "      <td>5.189146e+05</td>\n",
       "      <td>1.498491e+04</td>\n",
       "      <td>1767.124831</td>\n",
       "      <td>278.844967</td>\n",
       "      <td>66.906213</td>\n",
       "      <td>1972.047127</td>\n",
       "      <td>12686.237692</td>\n",
       "      <td>0.014727</td>\n",
       "      <td>0.435551</td>\n",
       "      <td>...</td>\n",
       "      <td>0.078124</td>\n",
       "      <td>0.015195</td>\n",
       "      <td>0.002571</td>\n",
       "      <td>0.000047</td>\n",
       "      <td>0.215438</td>\n",
       "      <td>0.312824</td>\n",
       "      <td>0.103044</td>\n",
       "      <td>0.268362</td>\n",
       "      <td>0.144747</td>\n",
       "      <td>0.163776</td>\n",
       "    </tr>\n",
       "    <tr>\n",
       "      <th>std</th>\n",
       "      <td>2.877593e+09</td>\n",
       "      <td>2.862905e+05</td>\n",
       "      <td>4.096313e+04</td>\n",
       "      <td>792.013335</td>\n",
       "      <td>427.920329</td>\n",
       "      <td>359.271048</td>\n",
       "      <td>668.208775</td>\n",
       "      <td>27168.116149</td>\n",
       "      <td>0.120462</td>\n",
       "      <td>0.495841</td>\n",
       "      <td>...</td>\n",
       "      <td>0.268373</td>\n",
       "      <td>0.122330</td>\n",
       "      <td>0.050645</td>\n",
       "      <td>0.006838</td>\n",
       "      <td>0.411135</td>\n",
       "      <td>0.463654</td>\n",
       "      <td>0.304023</td>\n",
       "      <td>0.443118</td>\n",
       "      <td>0.351854</td>\n",
       "      <td>0.370081</td>\n",
       "    </tr>\n",
       "    <tr>\n",
       "      <th>min</th>\n",
       "      <td>1.000102e+06</td>\n",
       "      <td>7.800000e+04</td>\n",
       "      <td>5.200000e+02</td>\n",
       "      <td>370.000000</td>\n",
       "      <td>0.000000</td>\n",
       "      <td>0.000000</td>\n",
       "      <td>399.000000</td>\n",
       "      <td>651.000000</td>\n",
       "      <td>0.000000</td>\n",
       "      <td>0.000000</td>\n",
       "      <td>...</td>\n",
       "      <td>0.000000</td>\n",
       "      <td>0.000000</td>\n",
       "      <td>0.000000</td>\n",
       "      <td>0.000000</td>\n",
       "      <td>0.000000</td>\n",
       "      <td>0.000000</td>\n",
       "      <td>0.000000</td>\n",
       "      <td>0.000000</td>\n",
       "      <td>0.000000</td>\n",
       "      <td>0.000000</td>\n",
       "    </tr>\n",
       "    <tr>\n",
       "      <th>25%</th>\n",
       "      <td>2.124069e+09</td>\n",
       "      <td>3.200000e+05</td>\n",
       "      <td>5.027000e+03</td>\n",
       "      <td>1190.000000</td>\n",
       "      <td>0.000000</td>\n",
       "      <td>0.000000</td>\n",
       "      <td>1480.000000</td>\n",
       "      <td>5100.000000</td>\n",
       "      <td>0.000000</td>\n",
       "      <td>0.000000</td>\n",
       "      <td>...</td>\n",
       "      <td>0.000000</td>\n",
       "      <td>0.000000</td>\n",
       "      <td>0.000000</td>\n",
       "      <td>0.000000</td>\n",
       "      <td>0.000000</td>\n",
       "      <td>0.000000</td>\n",
       "      <td>0.000000</td>\n",
       "      <td>0.000000</td>\n",
       "      <td>0.000000</td>\n",
       "      <td>0.000000</td>\n",
       "    </tr>\n",
       "    <tr>\n",
       "      <th>50%</th>\n",
       "      <td>3.904990e+09</td>\n",
       "      <td>4.500000e+05</td>\n",
       "      <td>7.577000e+03</td>\n",
       "      <td>1550.000000</td>\n",
       "      <td>0.000000</td>\n",
       "      <td>0.000000</td>\n",
       "      <td>1830.000000</td>\n",
       "      <td>7600.000000</td>\n",
       "      <td>0.000000</td>\n",
       "      <td>0.000000</td>\n",
       "      <td>...</td>\n",
       "      <td>0.000000</td>\n",
       "      <td>0.000000</td>\n",
       "      <td>0.000000</td>\n",
       "      <td>0.000000</td>\n",
       "      <td>0.000000</td>\n",
       "      <td>0.000000</td>\n",
       "      <td>0.000000</td>\n",
       "      <td>0.000000</td>\n",
       "      <td>0.000000</td>\n",
       "      <td>0.000000</td>\n",
       "    </tr>\n",
       "    <tr>\n",
       "      <th>75%</th>\n",
       "      <td>7.319900e+09</td>\n",
       "      <td>6.350000e+05</td>\n",
       "      <td>1.054800e+04</td>\n",
       "      <td>2190.000000</td>\n",
       "      <td>530.000000</td>\n",
       "      <td>0.000000</td>\n",
       "      <td>2340.000000</td>\n",
       "      <td>10022.000000</td>\n",
       "      <td>0.000000</td>\n",
       "      <td>1.000000</td>\n",
       "      <td>...</td>\n",
       "      <td>0.000000</td>\n",
       "      <td>0.000000</td>\n",
       "      <td>0.000000</td>\n",
       "      <td>0.000000</td>\n",
       "      <td>0.000000</td>\n",
       "      <td>1.000000</td>\n",
       "      <td>0.000000</td>\n",
       "      <td>1.000000</td>\n",
       "      <td>0.000000</td>\n",
       "      <td>0.000000</td>\n",
       "    </tr>\n",
       "    <tr>\n",
       "      <th>max</th>\n",
       "      <td>9.900000e+09</td>\n",
       "      <td>1.990000e+06</td>\n",
       "      <td>1.651359e+06</td>\n",
       "      <td>7420.000000</td>\n",
       "      <td>3260.000000</td>\n",
       "      <td>2015.000000</td>\n",
       "      <td>5790.000000</td>\n",
       "      <td>871200.000000</td>\n",
       "      <td>1.000000</td>\n",
       "      <td>1.000000</td>\n",
       "      <td>...</td>\n",
       "      <td>1.000000</td>\n",
       "      <td>1.000000</td>\n",
       "      <td>1.000000</td>\n",
       "      <td>1.000000</td>\n",
       "      <td>1.000000</td>\n",
       "      <td>1.000000</td>\n",
       "      <td>1.000000</td>\n",
       "      <td>1.000000</td>\n",
       "      <td>1.000000</td>\n",
       "      <td>1.000000</td>\n",
       "    </tr>\n",
       "  </tbody>\n",
       "</table>\n",
       "<p>8 rows × 32 columns</p>\n",
       "</div>"
      ],
      "text/plain": [
       "                 id         price      sqft_lot    sqft_above  sqft_basement  \\\n",
       "count  2.138900e+04  2.138900e+04  2.138900e+04  21389.000000   21389.000000   \n",
       "mean   4.586072e+09  5.189146e+05  1.498491e+04   1767.124831     278.844967   \n",
       "std    2.877593e+09  2.862905e+05  4.096313e+04    792.013335     427.920329   \n",
       "min    1.000102e+06  7.800000e+04  5.200000e+02    370.000000       0.000000   \n",
       "25%    2.124069e+09  3.200000e+05  5.027000e+03   1190.000000       0.000000   \n",
       "50%    3.904990e+09  4.500000e+05  7.577000e+03   1550.000000       0.000000   \n",
       "75%    7.319900e+09  6.350000e+05  1.054800e+04   2190.000000     530.000000   \n",
       "max    9.900000e+09  1.990000e+06  1.651359e+06   7420.000000    3260.000000   \n",
       "\n",
       "       yr_renovated  sqft_living15     sqft_lot15  bedro_6_plus  bathr_2_to_3  \\\n",
       "count  21389.000000   21389.000000   21389.000000  21389.000000  21389.000000   \n",
       "mean      66.906213    1972.047127   12686.237692      0.014727      0.435551   \n",
       "std      359.271048     668.208775   27168.116149      0.120462      0.495841   \n",
       "min        0.000000     399.000000     651.000000      0.000000      0.000000   \n",
       "25%        0.000000    1480.000000    5100.000000      0.000000      0.000000   \n",
       "50%        0.000000    1830.000000    7600.000000      0.000000      0.000000   \n",
       "75%        0.000000    2340.000000   10022.000000      0.000000      1.000000   \n",
       "max     2015.000000    5790.000000  871200.000000      1.000000      1.000000   \n",
       "\n",
       "       ...       condi_5      grade_11      grade_12      grade_13  \\\n",
       "count  ...  21389.000000  21389.000000  21389.000000  21389.000000   \n",
       "mean   ...      0.078124      0.015195      0.002571      0.000047   \n",
       "std    ...      0.268373      0.122330      0.050645      0.006838   \n",
       "min    ...      0.000000      0.000000      0.000000      0.000000   \n",
       "25%    ...      0.000000      0.000000      0.000000      0.000000   \n",
       "50%    ...      0.000000      0.000000      0.000000      0.000000   \n",
       "75%    ...      0.000000      0.000000      0.000000      0.000000   \n",
       "max    ...      1.000000      1.000000      1.000000      1.000000   \n",
       "\n",
       "       zipco_98051_to_98100  zipco_98101_to_98150  zipco_98150_to_98200  \\\n",
       "count          21389.000000          21389.000000          21389.000000   \n",
       "mean               0.215438              0.312824              0.103044   \n",
       "std                0.411135              0.463654              0.304023   \n",
       "min                0.000000              0.000000              0.000000   \n",
       "25%                0.000000              0.000000              0.000000   \n",
       "50%                0.000000              0.000000              0.000000   \n",
       "75%                0.000000              1.000000              0.000000   \n",
       "max                1.000000              1.000000              1.000000   \n",
       "\n",
       "            quadr_2       quadr_3       quadr_4  \n",
       "count  21389.000000  21389.000000  21389.000000  \n",
       "mean       0.268362      0.144747      0.163776  \n",
       "std        0.443118      0.351854      0.370081  \n",
       "min        0.000000      0.000000      0.000000  \n",
       "25%        0.000000      0.000000      0.000000  \n",
       "50%        0.000000      0.000000      0.000000  \n",
       "75%        1.000000      0.000000      0.000000  \n",
       "max        1.000000      1.000000      1.000000  \n",
       "\n",
       "[8 rows x 32 columns]"
      ]
     },
     "execution_count": 100,
     "metadata": {},
     "output_type": "execute_result"
    }
   ],
   "source": [
    "data_model_5b.describe()"
   ]
  },
  {
   "cell_type": "code",
   "execution_count": 101,
   "metadata": {},
   "outputs": [
    {
     "data": {
      "text/plain": [
       "<AxesSubplot:>"
      ]
     },
     "execution_count": 101,
     "metadata": {},
     "output_type": "execute_result"
    },
    {
     "data": {
      "image/png": "[encoded data removed]",
      "text/plain": [
       "<Figure size 432x288 with 1 Axes>"
      ]
     },
     "metadata": {
      "needs_background": "light"
     },
     "output_type": "display_data"
    }
   ],
   "source": [
    "data_model_5b.sqft_lot.hist()"
   ]
  },
  {
   "cell_type": "code",
   "execution_count": 102,
   "metadata": {},
   "outputs": [],
   "source": [
    "sqft = ['sqft_lot', 'sqft_above', 'sqft_living15', 'sqft_lot15']\n",
    "\n",
    "col_names = [str(col+'_log') for col in sqft]\n",
    "\n",
    "data_model_6a = data_model_5b.copy()\n",
    "data_model_6a[col_names] = np.log(data_model_6a[sqft])"
   ]
  },
  {
   "cell_type": "code",
   "execution_count": 103,
   "metadata": {},
   "outputs": [
    {
     "data": {
      "text/html": [
       "<div>\n",
       "<style scoped>\n",
       "    .dataframe tbody tr th:only-of-type {\n",
       "        vertical-align: middle;\n",
       "    }\n",
       "\n",
       "    .dataframe tbody tr th {\n",
       "        vertical-align: top;\n",
       "    }\n",
       "\n",
       "    .dataframe thead th {\n",
       "        text-align: right;\n",
       "    }\n",
       "</style>\n",
       "<table border=\"1\" class=\"dataframe\">\n",
       "  <thead>\n",
       "    <tr style=\"text-align: right;\">\n",
       "      <th></th>\n",
       "      <th>id</th>\n",
       "      <th>date</th>\n",
       "      <th>price</th>\n",
       "      <th>sqft_lot</th>\n",
       "      <th>sqft_above</th>\n",
       "      <th>sqft_basement</th>\n",
       "      <th>yr_renovated</th>\n",
       "      <th>sqft_living15</th>\n",
       "      <th>sqft_lot15</th>\n",
       "      <th>bedro_6_plus</th>\n",
       "      <th>...</th>\n",
       "      <th>zipco_98051_to_98100</th>\n",
       "      <th>zipco_98101_to_98150</th>\n",
       "      <th>zipco_98150_to_98200</th>\n",
       "      <th>quadr_2</th>\n",
       "      <th>quadr_3</th>\n",
       "      <th>quadr_4</th>\n",
       "      <th>sqft_lot_log</th>\n",
       "      <th>sqft_above_log</th>\n",
       "      <th>sqft_living15_log</th>\n",
       "      <th>sqft_lot15_log</th>\n",
       "    </tr>\n",
       "  </thead>\n",
       "  <tbody>\n",
       "    <tr>\n",
       "      <th>0</th>\n",
       "      <td>7129300520</td>\n",
       "      <td>2014-10-13</td>\n",
       "      <td>221900.0</td>\n",
       "      <td>5650</td>\n",
       "      <td>1180</td>\n",
       "      <td>0.0</td>\n",
       "      <td>0.0</td>\n",
       "      <td>1340</td>\n",
       "      <td>5650</td>\n",
       "      <td>0</td>\n",
       "      <td>...</td>\n",
       "      <td>0</td>\n",
       "      <td>0</td>\n",
       "      <td>1</td>\n",
       "      <td>0</td>\n",
       "      <td>0</td>\n",
       "      <td>0</td>\n",
       "      <td>8.639411</td>\n",
       "      <td>7.073270</td>\n",
       "      <td>7.200425</td>\n",
       "      <td>8.639411</td>\n",
       "    </tr>\n",
       "    <tr>\n",
       "      <th>1</th>\n",
       "      <td>6414100192</td>\n",
       "      <td>2014-12-09</td>\n",
       "      <td>538000.0</td>\n",
       "      <td>7242</td>\n",
       "      <td>2170</td>\n",
       "      <td>400.0</td>\n",
       "      <td>1991.0</td>\n",
       "      <td>1690</td>\n",
       "      <td>7639</td>\n",
       "      <td>0</td>\n",
       "      <td>...</td>\n",
       "      <td>0</td>\n",
       "      <td>1</td>\n",
       "      <td>0</td>\n",
       "      <td>0</td>\n",
       "      <td>0</td>\n",
       "      <td>0</td>\n",
       "      <td>8.887653</td>\n",
       "      <td>7.682482</td>\n",
       "      <td>7.432484</td>\n",
       "      <td>8.941022</td>\n",
       "    </tr>\n",
       "    <tr>\n",
       "      <th>2</th>\n",
       "      <td>5631500400</td>\n",
       "      <td>2015-02-25</td>\n",
       "      <td>180000.0</td>\n",
       "      <td>10000</td>\n",
       "      <td>770</td>\n",
       "      <td>0.0</td>\n",
       "      <td>0.0</td>\n",
       "      <td>2720</td>\n",
       "      <td>8062</td>\n",
       "      <td>0</td>\n",
       "      <td>...</td>\n",
       "      <td>0</td>\n",
       "      <td>0</td>\n",
       "      <td>0</td>\n",
       "      <td>0</td>\n",
       "      <td>0</td>\n",
       "      <td>0</td>\n",
       "      <td>9.210340</td>\n",
       "      <td>6.646391</td>\n",
       "      <td>7.908387</td>\n",
       "      <td>8.994917</td>\n",
       "    </tr>\n",
       "    <tr>\n",
       "      <th>3</th>\n",
       "      <td>2487200875</td>\n",
       "      <td>2014-12-09</td>\n",
       "      <td>604000.0</td>\n",
       "      <td>5000</td>\n",
       "      <td>1050</td>\n",
       "      <td>910.0</td>\n",
       "      <td>0.0</td>\n",
       "      <td>1360</td>\n",
       "      <td>5000</td>\n",
       "      <td>0</td>\n",
       "      <td>...</td>\n",
       "      <td>0</td>\n",
       "      <td>1</td>\n",
       "      <td>0</td>\n",
       "      <td>0</td>\n",
       "      <td>0</td>\n",
       "      <td>0</td>\n",
       "      <td>8.517193</td>\n",
       "      <td>6.956545</td>\n",
       "      <td>7.215240</td>\n",
       "      <td>8.517193</td>\n",
       "    </tr>\n",
       "    <tr>\n",
       "      <th>4</th>\n",
       "      <td>1954400510</td>\n",
       "      <td>2015-02-18</td>\n",
       "      <td>510000.0</td>\n",
       "      <td>8080</td>\n",
       "      <td>1680</td>\n",
       "      <td>0.0</td>\n",
       "      <td>0.0</td>\n",
       "      <td>1800</td>\n",
       "      <td>7503</td>\n",
       "      <td>0</td>\n",
       "      <td>...</td>\n",
       "      <td>1</td>\n",
       "      <td>0</td>\n",
       "      <td>0</td>\n",
       "      <td>1</td>\n",
       "      <td>0</td>\n",
       "      <td>0</td>\n",
       "      <td>8.997147</td>\n",
       "      <td>7.426549</td>\n",
       "      <td>7.495542</td>\n",
       "      <td>8.923058</td>\n",
       "    </tr>\n",
       "  </tbody>\n",
       "</table>\n",
       "<p>5 rows × 37 columns</p>\n",
       "</div>"
      ],
      "text/plain": [
       "           id        date     price  sqft_lot  sqft_above  sqft_basement  \\\n",
       "0  7129300520  2014-10-13  221900.0      5650        1180            0.0   \n",
       "1  6414100192  2014-12-09  538000.0      7242        2170          400.0   \n",
       "2  5631500400  2015-02-25  180000.0     10000         770            0.0   \n",
       "3  2487200875  2014-12-09  604000.0      5000        1050          910.0   \n",
       "4  1954400510  2015-02-18  510000.0      8080        1680            0.0   \n",
       "\n",
       "   yr_renovated  sqft_living15  sqft_lot15  bedro_6_plus  ...  \\\n",
       "0           0.0           1340        5650             0  ...   \n",
       "1        1991.0           1690        7639             0  ...   \n",
       "2           0.0           2720        8062             0  ...   \n",
       "3           0.0           1360        5000             0  ...   \n",
       "4           0.0           1800        7503             0  ...   \n",
       "\n",
       "   zipco_98051_to_98100  zipco_98101_to_98150  zipco_98150_to_98200  quadr_2  \\\n",
       "0                     0                     0                     1        0   \n",
       "1                     0                     1                     0        0   \n",
       "2                     0                     0                     0        0   \n",
       "3                     0                     1                     0        0   \n",
       "4                     1                     0                     0        1   \n",
       "\n",
       "   quadr_3  quadr_4  sqft_lot_log  sqft_above_log  sqft_living15_log  \\\n",
       "0        0        0      8.639411        7.073270           7.200425   \n",
       "1        0        0      8.887653        7.682482           7.432484   \n",
       "2        0        0      9.210340        6.646391           7.908387   \n",
       "3        0        0      8.517193        6.956545           7.215240   \n",
       "4        0        0      8.997147        7.426549           7.495542   \n",
       "\n",
       "   sqft_lot15_log  \n",
       "0        8.639411  \n",
       "1        8.941022  \n",
       "2        8.994917  \n",
       "3        8.517193  \n",
       "4        8.923058  \n",
       "\n",
       "[5 rows x 37 columns]"
      ]
     },
     "execution_count": 103,
     "metadata": {},
     "output_type": "execute_result"
    }
   ],
   "source": [
    "data_model_6a.head()"
   ]
  },
  {
   "cell_type": "code",
   "execution_count": 104,
   "metadata": {},
   "outputs": [],
   "source": [
    "data_model_6a.drop(sqft, inplace=True, axis=1)"
   ]
  },
  {
   "cell_type": "code",
   "execution_count": 105,
   "metadata": {},
   "outputs": [
    {
     "data": {
      "text/plain": [
       "0.6883871351761046"
      ]
     },
     "execution_count": 105,
     "metadata": {},
     "output_type": "execute_result"
    }
   ],
   "source": [
    "y = data_model_6a['price']\n",
    "X = data_model_6a.drop(['price', 'id', 'date'],axis=1)\n",
    "X_train, X_test, y_train, y_test = train_test_split(X, y, test_size=0.2, random_state=22)\n",
    "model_6a = LinearRegression()\n",
    "model_6a.fit(X_train, y_train)\n",
    "y_hat_train = model_6a.predict(X_train)\n",
    "y_hat_test = model_6a.predict(X_test)\n",
    "metrics.r2_score(y_train, y_hat_train)"
   ]
  },
  {
   "cell_type": "markdown",
   "metadata": {},
   "source": [
    "### Log transforming dependent variable"
   ]
  },
  {
   "cell_type": "code",
   "execution_count": 106,
   "metadata": {},
   "outputs": [],
   "source": [
    "data_model_6b = data_model_5b.copy()"
   ]
  },
  {
   "cell_type": "code",
   "execution_count": 107,
   "metadata": {},
   "outputs": [],
   "source": [
    "data_model_6b['price_log'] = np.log(data_model_6b['price'])"
   ]
  },
  {
   "cell_type": "code",
   "execution_count": 132,
   "metadata": {
    "scrolled": true
   },
   "outputs": [
    {
     "data": {
      "text/plain": [
       "<AxesSubplot:>"
      ]
     },
     "execution_count": 132,
     "metadata": {},
     "output_type": "execute_result"
    },
    {
     "data": {
      "image/png": "[encoded data removed]",
      "text/plain": [
       "<Figure size 432x288 with 1 Axes>"
      ]
     },
     "metadata": {
      "needs_background": "light"
     },
     "output_type": "display_data"
    }
   ],
   "source": [
    "data_model_6b.price_log.hist()"
   ]
  },
  {
   "cell_type": "code",
   "execution_count": 109,
   "metadata": {},
   "outputs": [
    {
     "data": {
      "text/plain": [
       "0.7305963308433749"
      ]
     },
     "execution_count": 109,
     "metadata": {},
     "output_type": "execute_result"
    }
   ],
   "source": [
    "y = data_model_6b['price_log']\n",
    "X = data_model_6b.drop(['price', 'id', 'date', 'price_log'],axis=1)\n",
    "X_train, X_test, y_train_log, y_test_log = train_test_split(X, y, test_size=0.2, random_state=22)\n",
    "model_6b = LinearRegression()\n",
    "model_6b.fit(X_train, y_train_log)\n",
    "y_hat_train_log = model_6b.predict(X_train)\n",
    "y_hat_test_log = model_6b.predict(X_test)\n",
    "metrics.r2_score(y_train_log, y_hat_train_log)"
   ]
  },
  {
   "cell_type": "markdown",
   "metadata": {},
   "source": [
    "This looks much better! Let's check our RMSE values. We will need to inverse transform our residuals in order to interpret our error correctly."
   ]
  },
  {
   "cell_type": "code",
   "execution_count": 110,
   "metadata": {},
   "outputs": [
    {
     "name": "stdout",
     "output_type": "stream",
     "text": [
      "RMSE Train: 0.2594049866335426\n",
      "RMSE Test: 0.2601134071240397\n"
     ]
    }
   ],
   "source": [
    "print('RMSE Train:',np.sqrt(metrics.mean_squared_error(y_train_log, y_hat_train_log)))\n",
    "print('RMSE Test:',np.sqrt(metrics.mean_squared_error(y_test_log, y_hat_test_log)))"
   ]
  },
  {
   "cell_type": "code",
   "execution_count": 111,
   "metadata": {},
   "outputs": [
    {
     "name": "stdout",
     "output_type": "stream",
     "text": [
      "RMSE Train: 160744.40720687233\n",
      "RMSE Test: 170214.84635896387\n"
     ]
    }
   ],
   "source": [
    "y_hat_train = np.exp(y_hat_train_log)\n",
    "y_hat_test = np.exp(y_hat_test_log)\n",
    "y_train = np.exp(y_train_log)\n",
    "y_test = np.exp(y_test_log)\n",
    "\n",
    "print('RMSE Train:',np.sqrt(metrics.mean_squared_error(y_train, y_hat_train)))\n",
    "print('RMSE Test:',np.sqrt(metrics.mean_squared_error(y_test, y_hat_test)))\n"
   ]
  },
  {
   "cell_type": "code",
   "execution_count": 112,
   "metadata": {
    "scrolled": true
   },
   "outputs": [
    {
     "data": {
      "text/html": [
       "<table class=\"simpletable\">\n",
       "<caption>OLS Regression Results</caption>\n",
       "<tr>\n",
       "  <th>Dep. Variable:</th>        <td>price_log</td>    <th>  R-squared:         </th> <td>   0.731</td>\n",
       "</tr>\n",
       "<tr>\n",
       "  <th>Model:</th>                   <td>OLS</td>       <th>  Adj. R-squared:    </th> <td>   0.730</td>\n",
       "</tr>\n",
       "<tr>\n",
       "  <th>Method:</th>             <td>Least Squares</td>  <th>  F-statistic:       </th> <td>   1544.</td>\n",
       "</tr>\n",
       "<tr>\n",
       "  <th>Date:</th>             <td>Fri, 08 Jan 2021</td> <th>  Prob (F-statistic):</th>  <td>  0.00</td> \n",
       "</tr>\n",
       "<tr>\n",
       "  <th>Time:</th>                 <td>14:47:11</td>     <th>  Log-Likelihood:    </th> <td> -1190.5</td>\n",
       "</tr>\n",
       "<tr>\n",
       "  <th>No. Observations:</th>      <td> 17111</td>      <th>  AIC:               </th> <td>   2443.</td>\n",
       "</tr>\n",
       "<tr>\n",
       "  <th>Df Residuals:</th>          <td> 17080</td>      <th>  BIC:               </th> <td>   2683.</td>\n",
       "</tr>\n",
       "<tr>\n",
       "  <th>Df Model:</th>              <td>    30</td>      <th>                     </th>     <td> </td>   \n",
       "</tr>\n",
       "<tr>\n",
       "  <th>Covariance Type:</th>      <td>nonrobust</td>    <th>                     </th>     <td> </td>   \n",
       "</tr>\n",
       "</table>\n",
       "<table class=\"simpletable\">\n",
       "<tr>\n",
       "            <td></td>              <th>coef</th>     <th>std err</th>      <th>t</th>      <th>P>|t|</th>  <th>[0.025</th>    <th>0.975]</th>  \n",
       "</tr>\n",
       "<tr>\n",
       "  <th>const</th>                <td>   12.2641</td> <td>    0.011</td> <td> 1135.755</td> <td> 0.000</td> <td>   12.243</td> <td>   12.285</td>\n",
       "</tr>\n",
       "<tr>\n",
       "  <th>sqft_lot</th>             <td> 5.083e-07</td> <td> 6.88e-08</td> <td>    7.387</td> <td> 0.000</td> <td> 3.73e-07</td> <td> 6.43e-07</td>\n",
       "</tr>\n",
       "<tr>\n",
       "  <th>sqft_above</th>           <td>    0.0003</td> <td> 4.75e-06</td> <td>   58.867</td> <td> 0.000</td> <td>    0.000</td> <td>    0.000</td>\n",
       "</tr>\n",
       "<tr>\n",
       "  <th>sqft_basement</th>        <td>    0.0002</td> <td> 5.59e-06</td> <td>   38.569</td> <td> 0.000</td> <td>    0.000</td> <td>    0.000</td>\n",
       "</tr>\n",
       "<tr>\n",
       "  <th>yr_renovated</th>         <td> 6.364e-05</td> <td> 5.63e-06</td> <td>   11.303</td> <td> 0.000</td> <td> 5.26e-05</td> <td> 7.47e-05</td>\n",
       "</tr>\n",
       "<tr>\n",
       "  <th>sqft_living15</th>        <td>    0.0002</td> <td>  5.1e-06</td> <td>   30.967</td> <td> 0.000</td> <td>    0.000</td> <td>    0.000</td>\n",
       "</tr>\n",
       "<tr>\n",
       "  <th>sqft_lot15</th>           <td>-7.318e-08</td> <td> 1.08e-07</td> <td>   -0.677</td> <td> 0.498</td> <td>-2.85e-07</td> <td> 1.39e-07</td>\n",
       "</tr>\n",
       "<tr>\n",
       "  <th>bedro_6_plus</th>         <td>   -0.0941</td> <td>    0.017</td> <td>   -5.505</td> <td> 0.000</td> <td>   -0.128</td> <td>   -0.061</td>\n",
       "</tr>\n",
       "<tr>\n",
       "  <th>bathr_2_to_3</th>         <td>    0.0392</td> <td>    0.005</td> <td>    7.482</td> <td> 0.000</td> <td>    0.029</td> <td>    0.049</td>\n",
       "</tr>\n",
       "<tr>\n",
       "  <th>bathr_3_to_4</th>         <td>    0.0526</td> <td>    0.010</td> <td>    5.204</td> <td> 0.000</td> <td>    0.033</td> <td>    0.072</td>\n",
       "</tr>\n",
       "<tr>\n",
       "  <th>bathr_4_to_5</th>         <td>   -0.0083</td> <td>    0.024</td> <td>   -0.340</td> <td> 0.733</td> <td>   -0.056</td> <td>    0.039</td>\n",
       "</tr>\n",
       "<tr>\n",
       "  <th>bathr_5_to_6</th>         <td>   -0.2456</td> <td>    0.071</td> <td>   -3.445</td> <td> 0.001</td> <td>   -0.385</td> <td>   -0.106</td>\n",
       "</tr>\n",
       "<tr>\n",
       "  <th>bathr_6_plus</th>         <td>   -0.4048</td> <td>    0.152</td> <td>   -2.663</td> <td> 0.008</td> <td>   -0.703</td> <td>   -0.107</td>\n",
       "</tr>\n",
       "<tr>\n",
       "  <th>floor_2.5</th>            <td>    0.1014</td> <td>    0.025</td> <td>    4.123</td> <td> 0.000</td> <td>    0.053</td> <td>    0.150</td>\n",
       "</tr>\n",
       "<tr>\n",
       "  <th>floor_3.0</th>            <td>    0.0502</td> <td>    0.013</td> <td>    3.919</td> <td> 0.000</td> <td>    0.025</td> <td>    0.075</td>\n",
       "</tr>\n",
       "<tr>\n",
       "  <th>floor_3.5</th>            <td>    0.1000</td> <td>    0.130</td> <td>    0.770</td> <td> 0.442</td> <td>   -0.155</td> <td>    0.355</td>\n",
       "</tr>\n",
       "<tr>\n",
       "  <th>water_1.0</th>            <td>    0.4625</td> <td>    0.035</td> <td>   13.322</td> <td> 0.000</td> <td>    0.394</td> <td>    0.531</td>\n",
       "</tr>\n",
       "<tr>\n",
       "  <th>view_1.0</th>             <td>    0.1589</td> <td>    0.017</td> <td>    9.371</td> <td> 0.000</td> <td>    0.126</td> <td>    0.192</td>\n",
       "</tr>\n",
       "<tr>\n",
       "  <th>view_2.0</th>             <td>    0.1193</td> <td>    0.010</td> <td>   11.849</td> <td> 0.000</td> <td>    0.100</td> <td>    0.139</td>\n",
       "</tr>\n",
       "<tr>\n",
       "  <th>view_3.0</th>             <td>    0.1763</td> <td>    0.014</td> <td>   12.675</td> <td> 0.000</td> <td>    0.149</td> <td>    0.204</td>\n",
       "</tr>\n",
       "<tr>\n",
       "  <th>view_4.0</th>             <td>    0.2675</td> <td>    0.022</td> <td>   12.121</td> <td> 0.000</td> <td>    0.224</td> <td>    0.311</td>\n",
       "</tr>\n",
       "<tr>\n",
       "  <th>condi_5</th>              <td>    0.1301</td> <td>    0.007</td> <td>   17.351</td> <td> 0.000</td> <td>    0.115</td> <td>    0.145</td>\n",
       "</tr>\n",
       "<tr>\n",
       "  <th>grade_11</th>             <td>   -0.0449</td> <td>    0.018</td> <td>   -2.511</td> <td> 0.012</td> <td>   -0.080</td> <td>   -0.010</td>\n",
       "</tr>\n",
       "<tr>\n",
       "  <th>grade_12</th>             <td>   -0.0843</td> <td>    0.040</td> <td>   -2.088</td> <td> 0.037</td> <td>   -0.163</td> <td>   -0.005</td>\n",
       "</tr>\n",
       "<tr>\n",
       "  <th>grade_13</th>             <td>   -0.1190</td> <td>    0.260</td> <td>   -0.457</td> <td> 0.647</td> <td>   -0.629</td> <td>    0.391</td>\n",
       "</tr>\n",
       "<tr>\n",
       "  <th>zipco_98051_to_98100</th> <td>   -0.0374</td> <td>    0.006</td> <td>   -6.454</td> <td> 0.000</td> <td>   -0.049</td> <td>   -0.026</td>\n",
       "</tr>\n",
       "<tr>\n",
       "  <th>zipco_98101_to_98150</th> <td>    0.0720</td> <td>    0.008</td> <td>    9.103</td> <td> 0.000</td> <td>    0.057</td> <td>    0.088</td>\n",
       "</tr>\n",
       "<tr>\n",
       "  <th>zipco_98150_to_98200</th> <td>   -0.0266</td> <td>    0.008</td> <td>   -3.229</td> <td> 0.001</td> <td>   -0.043</td> <td>   -0.010</td>\n",
       "</tr>\n",
       "<tr>\n",
       "  <th>quadr_2</th>              <td>   -0.0550</td> <td>    0.008</td> <td>   -6.636</td> <td> 0.000</td> <td>   -0.071</td> <td>   -0.039</td>\n",
       "</tr>\n",
       "<tr>\n",
       "  <th>quadr_3</th>              <td>   -0.5416</td> <td>    0.008</td> <td>  -70.494</td> <td> 0.000</td> <td>   -0.557</td> <td>   -0.527</td>\n",
       "</tr>\n",
       "<tr>\n",
       "  <th>quadr_4</th>              <td>   -0.4676</td> <td>    0.009</td> <td>  -53.447</td> <td> 0.000</td> <td>   -0.485</td> <td>   -0.450</td>\n",
       "</tr>\n",
       "</table>\n",
       "<table class=\"simpletable\">\n",
       "<tr>\n",
       "  <th>Omnibus:</th>       <td>573.116</td> <th>  Durbin-Watson:     </th> <td>   2.004</td> \n",
       "</tr>\n",
       "<tr>\n",
       "  <th>Prob(Omnibus):</th> <td> 0.000</td>  <th>  Jarque-Bera (JB):  </th> <td>1214.205</td> \n",
       "</tr>\n",
       "<tr>\n",
       "  <th>Skew:</th>          <td>-0.219</td>  <th>  Prob(JB):          </th> <td>2.18e-264</td>\n",
       "</tr>\n",
       "<tr>\n",
       "  <th>Kurtosis:</th>      <td> 4.229</td>  <th>  Cond. No.          </th> <td>6.49e+06</td> \n",
       "</tr>\n",
       "</table><br/><br/>Notes:<br/>[1] Standard Errors assume that the covariance matrix of the errors is correctly specified.<br/>[2] The condition number is large, 6.49e+06. This might indicate that there are<br/>strong multicollinearity or other numerical problems."
      ],
      "text/plain": [
       "<class 'statsmodels.iolib.summary.Summary'>\n",
       "\"\"\"\n",
       "                            OLS Regression Results                            \n",
       "==============================================================================\n",
       "Dep. Variable:              price_log   R-squared:                       0.731\n",
       "Model:                            OLS   Adj. R-squared:                  0.730\n",
       "Method:                 Least Squares   F-statistic:                     1544.\n",
       "Date:                Fri, 08 Jan 2021   Prob (F-statistic):               0.00\n",
       "Time:                        14:47:11   Log-Likelihood:                -1190.5\n",
       "No. Observations:               17111   AIC:                             2443.\n",
       "Df Residuals:                   17080   BIC:                             2683.\n",
       "Df Model:                          30                                         \n",
       "Covariance Type:            nonrobust                                         \n",
       "========================================================================================\n",
       "                           coef    std err          t      P>|t|      [0.025      0.975]\n",
       "----------------------------------------------------------------------------------------\n",
       "const                   12.2641      0.011   1135.755      0.000      12.243      12.285\n",
       "sqft_lot              5.083e-07   6.88e-08      7.387      0.000    3.73e-07    6.43e-07\n",
       "sqft_above               0.0003   4.75e-06     58.867      0.000       0.000       0.000\n",
       "sqft_basement            0.0002   5.59e-06     38.569      0.000       0.000       0.000\n",
       "yr_renovated          6.364e-05   5.63e-06     11.303      0.000    5.26e-05    7.47e-05\n",
       "sqft_living15            0.0002    5.1e-06     30.967      0.000       0.000       0.000\n",
       "sqft_lot15           -7.318e-08   1.08e-07     -0.677      0.498   -2.85e-07    1.39e-07\n",
       "bedro_6_plus            -0.0941      0.017     -5.505      0.000      -0.128      -0.061\n",
       "bathr_2_to_3             0.0392      0.005      7.482      0.000       0.029       0.049\n",
       "bathr_3_to_4             0.0526      0.010      5.204      0.000       0.033       0.072\n",
       "bathr_4_to_5            -0.0083      0.024     -0.340      0.733      -0.056       0.039\n",
       "bathr_5_to_6            -0.2456      0.071     -3.445      0.001      -0.385      -0.106\n",
       "bathr_6_plus            -0.4048      0.152     -2.663      0.008      -0.703      -0.107\n",
       "floor_2.5                0.1014      0.025      4.123      0.000       0.053       0.150\n",
       "floor_3.0                0.0502      0.013      3.919      0.000       0.025       0.075\n",
       "floor_3.5                0.1000      0.130      0.770      0.442      -0.155       0.355\n",
       "water_1.0                0.4625      0.035     13.322      0.000       0.394       0.531\n",
       "view_1.0                 0.1589      0.017      9.371      0.000       0.126       0.192\n",
       "view_2.0                 0.1193      0.010     11.849      0.000       0.100       0.139\n",
       "view_3.0                 0.1763      0.014     12.675      0.000       0.149       0.204\n",
       "view_4.0                 0.2675      0.022     12.121      0.000       0.224       0.311\n",
       "condi_5                  0.1301      0.007     17.351      0.000       0.115       0.145\n",
       "grade_11                -0.0449      0.018     -2.511      0.012      -0.080      -0.010\n",
       "grade_12                -0.0843      0.040     -2.088      0.037      -0.163      -0.005\n",
       "grade_13                -0.1190      0.260     -0.457      0.647      -0.629       0.391\n",
       "zipco_98051_to_98100    -0.0374      0.006     -6.454      0.000      -0.049      -0.026\n",
       "zipco_98101_to_98150     0.0720      0.008      9.103      0.000       0.057       0.088\n",
       "zipco_98150_to_98200    -0.0266      0.008     -3.229      0.001      -0.043      -0.010\n",
       "quadr_2                 -0.0550      0.008     -6.636      0.000      -0.071      -0.039\n",
       "quadr_3                 -0.5416      0.008    -70.494      0.000      -0.557      -0.527\n",
       "quadr_4                 -0.4676      0.009    -53.447      0.000      -0.485      -0.450\n",
       "==============================================================================\n",
       "Omnibus:                      573.116   Durbin-Watson:                   2.004\n",
       "Prob(Omnibus):                  0.000   Jarque-Bera (JB):             1214.205\n",
       "Skew:                          -0.219   Prob(JB):                    2.18e-264\n",
       "Kurtosis:                       4.229   Cond. No.                     6.49e+06\n",
       "==============================================================================\n",
       "\n",
       "Notes:\n",
       "[1] Standard Errors assume that the covariance matrix of the errors is correctly specified.\n",
       "[2] The condition number is large, 6.49e+06. This might indicate that there are\n",
       "strong multicollinearity or other numerical problems.\n",
       "\"\"\""
      ]
     },
     "execution_count": 112,
     "metadata": {},
     "output_type": "execute_result"
    }
   ],
   "source": [
    "X_int = sm.add_constant(X_train)\n",
    "model_6 = sm.OLS(y_train_log, X_int).fit()\n",
    "model_6.summary()"
   ]
  },
  {
   "cell_type": "markdown",
   "metadata": {},
   "source": [
    "This model has both a high R2 and lower RMSE. Before finalizing our model, let's remove any variables with p-values below 0.05, and check our assumptions one last time."
   ]
  },
  {
   "cell_type": "code",
   "execution_count": 113,
   "metadata": {},
   "outputs": [],
   "source": [
    "cols_to_drop = ['sqft_lot15','bathr_4_to_5', 'floor_3.5', 'grade_13']"
   ]
  },
  {
   "cell_type": "code",
   "execution_count": 114,
   "metadata": {},
   "outputs": [],
   "source": [
    "data_model_6c = data_model_6b.drop(cols_to_drop, axis=1)"
   ]
  },
  {
   "cell_type": "code",
   "execution_count": 115,
   "metadata": {},
   "outputs": [
    {
     "data": {
      "text/plain": [
       "0.7305747930373371"
      ]
     },
     "execution_count": 115,
     "metadata": {},
     "output_type": "execute_result"
    }
   ],
   "source": [
    "y = data_model_6c['price_log']\n",
    "X = data_model_6c.drop(['price', 'id', 'date', 'price_log'],axis=1)\n",
    "X_train, X_test, y_train_log, y_test_log = train_test_split(X, y, test_size=0.2, random_state=22)\n",
    "model_6b = LinearRegression()\n",
    "model_6b.fit(X_train, y_train_log)\n",
    "y_hat_train_log = model_6b.predict(X_train)\n",
    "y_hat_test_log = model_6b.predict(X_test)\n",
    "metrics.r2_score(y_train_log, y_hat_train_log)"
   ]
  },
  {
   "cell_type": "code",
   "execution_count": 116,
   "metadata": {},
   "outputs": [
    {
     "name": "stdout",
     "output_type": "stream",
     "text": [
      "RMSE Train: 160822.3717940469\n",
      "RMSE Test: 170258.5631720927\n"
     ]
    }
   ],
   "source": [
    "y_hat_train = np.exp(y_hat_train_log)\n",
    "y_hat_test = np.exp(y_hat_test_log)\n",
    "y_train = np.exp(y_train_log)\n",
    "y_test = np.exp(y_test_log)\n",
    "\n",
    "print('RMSE Train:',np.sqrt(metrics.mean_squared_error(y_train, y_hat_train)))\n",
    "print('RMSE Test:',np.sqrt(metrics.mean_squared_error(y_test, y_hat_test)))\n"
   ]
  },
  {
   "cell_type": "code",
   "execution_count": 117,
   "metadata": {},
   "outputs": [
    {
     "data": {
      "text/html": [
       "<table class=\"simpletable\">\n",
       "<caption>OLS Regression Results</caption>\n",
       "<tr>\n",
       "  <th>Dep. Variable:</th>        <td>price_log</td>    <th>  R-squared:         </th> <td>   0.731</td>\n",
       "</tr>\n",
       "<tr>\n",
       "  <th>Model:</th>                   <td>OLS</td>       <th>  Adj. R-squared:    </th> <td>   0.730</td>\n",
       "</tr>\n",
       "<tr>\n",
       "  <th>Method:</th>             <td>Least Squares</td>  <th>  F-statistic:       </th> <td>   1782.</td>\n",
       "</tr>\n",
       "<tr>\n",
       "  <th>Date:</th>             <td>Fri, 08 Jan 2021</td> <th>  Prob (F-statistic):</th>  <td>  0.00</td> \n",
       "</tr>\n",
       "<tr>\n",
       "  <th>Time:</th>                 <td>14:51:49</td>     <th>  Log-Likelihood:    </th> <td> -1191.2</td>\n",
       "</tr>\n",
       "<tr>\n",
       "  <th>No. Observations:</th>      <td> 17111</td>      <th>  AIC:               </th> <td>   2436.</td>\n",
       "</tr>\n",
       "<tr>\n",
       "  <th>Df Residuals:</th>          <td> 17084</td>      <th>  BIC:               </th> <td>   2646.</td>\n",
       "</tr>\n",
       "<tr>\n",
       "  <th>Df Model:</th>              <td>    26</td>      <th>                     </th>     <td> </td>   \n",
       "</tr>\n",
       "<tr>\n",
       "  <th>Covariance Type:</th>      <td>nonrobust</td>    <th>                     </th>     <td> </td>   \n",
       "</tr>\n",
       "</table>\n",
       "<table class=\"simpletable\">\n",
       "<tr>\n",
       "            <td></td>              <th>coef</th>     <th>std err</th>      <th>t</th>      <th>P>|t|</th>  <th>[0.025</th>    <th>0.975]</th>  \n",
       "</tr>\n",
       "<tr>\n",
       "  <th>const</th>                <td>   12.2648</td> <td>    0.011</td> <td> 1142.719</td> <td> 0.000</td> <td>   12.244</td> <td>   12.286</td>\n",
       "</tr>\n",
       "<tr>\n",
       "  <th>sqft_lot</th>             <td>  4.77e-07</td> <td> 5.05e-08</td> <td>    9.449</td> <td> 0.000</td> <td> 3.78e-07</td> <td> 5.76e-07</td>\n",
       "</tr>\n",
       "<tr>\n",
       "  <th>sqft_above</th>           <td>    0.0003</td> <td> 4.55e-06</td> <td>   61.257</td> <td> 0.000</td> <td>    0.000</td> <td>    0.000</td>\n",
       "</tr>\n",
       "<tr>\n",
       "  <th>sqft_basement</th>        <td>    0.0002</td> <td>  5.5e-06</td> <td>   39.157</td> <td> 0.000</td> <td>    0.000</td> <td>    0.000</td>\n",
       "</tr>\n",
       "<tr>\n",
       "  <th>yr_renovated</th>         <td> 6.359e-05</td> <td> 5.63e-06</td> <td>   11.296</td> <td> 0.000</td> <td> 5.26e-05</td> <td> 7.46e-05</td>\n",
       "</tr>\n",
       "<tr>\n",
       "  <th>sqft_living15</th>        <td>    0.0002</td> <td> 5.08e-06</td> <td>   31.027</td> <td> 0.000</td> <td>    0.000</td> <td>    0.000</td>\n",
       "</tr>\n",
       "<tr>\n",
       "  <th>bedro_6_plus</th>         <td>   -0.0949</td> <td>    0.017</td> <td>   -5.598</td> <td> 0.000</td> <td>   -0.128</td> <td>   -0.062</td>\n",
       "</tr>\n",
       "<tr>\n",
       "  <th>bathr_2_to_3</th>         <td>    0.0400</td> <td>    0.005</td> <td>    7.927</td> <td> 0.000</td> <td>    0.030</td> <td>    0.050</td>\n",
       "</tr>\n",
       "<tr>\n",
       "  <th>bathr_3_to_4</th>         <td>    0.0539</td> <td>    0.010</td> <td>    5.561</td> <td> 0.000</td> <td>    0.035</td> <td>    0.073</td>\n",
       "</tr>\n",
       "<tr>\n",
       "  <th>bathr_5_to_6</th>         <td>   -0.2425</td> <td>    0.071</td> <td>   -3.417</td> <td> 0.001</td> <td>   -0.382</td> <td>   -0.103</td>\n",
       "</tr>\n",
       "<tr>\n",
       "  <th>bathr_6_plus</th>         <td>   -0.4014</td> <td>    0.152</td> <td>   -2.646</td> <td> 0.008</td> <td>   -0.699</td> <td>   -0.104</td>\n",
       "</tr>\n",
       "<tr>\n",
       "  <th>floor_2.5</th>            <td>    0.1011</td> <td>    0.025</td> <td>    4.112</td> <td> 0.000</td> <td>    0.053</td> <td>    0.149</td>\n",
       "</tr>\n",
       "<tr>\n",
       "  <th>floor_3.0</th>            <td>    0.0497</td> <td>    0.013</td> <td>    3.895</td> <td> 0.000</td> <td>    0.025</td> <td>    0.075</td>\n",
       "</tr>\n",
       "<tr>\n",
       "  <th>water_1.0</th>            <td>    0.4619</td> <td>    0.035</td> <td>   13.309</td> <td> 0.000</td> <td>    0.394</td> <td>    0.530</td>\n",
       "</tr>\n",
       "<tr>\n",
       "  <th>view_1.0</th>             <td>    0.1590</td> <td>    0.017</td> <td>    9.382</td> <td> 0.000</td> <td>    0.126</td> <td>    0.192</td>\n",
       "</tr>\n",
       "<tr>\n",
       "  <th>view_2.0</th>             <td>    0.1194</td> <td>    0.010</td> <td>   11.859</td> <td> 0.000</td> <td>    0.100</td> <td>    0.139</td>\n",
       "</tr>\n",
       "<tr>\n",
       "  <th>view_3.0</th>             <td>    0.1761</td> <td>    0.014</td> <td>   12.666</td> <td> 0.000</td> <td>    0.149</td> <td>    0.203</td>\n",
       "</tr>\n",
       "<tr>\n",
       "  <th>view_4.0</th>             <td>    0.2677</td> <td>    0.022</td> <td>   12.129</td> <td> 0.000</td> <td>    0.224</td> <td>    0.311</td>\n",
       "</tr>\n",
       "<tr>\n",
       "  <th>condi_5</th>              <td>    0.1301</td> <td>    0.007</td> <td>   17.363</td> <td> 0.000</td> <td>    0.115</td> <td>    0.145</td>\n",
       "</tr>\n",
       "<tr>\n",
       "  <th>grade_11</th>             <td>   -0.0454</td> <td>    0.018</td> <td>   -2.554</td> <td> 0.011</td> <td>   -0.080</td> <td>   -0.011</td>\n",
       "</tr>\n",
       "<tr>\n",
       "  <th>grade_12</th>             <td>   -0.0858</td> <td>    0.040</td> <td>   -2.134</td> <td> 0.033</td> <td>   -0.165</td> <td>   -0.007</td>\n",
       "</tr>\n",
       "<tr>\n",
       "  <th>zipco_98051_to_98100</th> <td>   -0.0373</td> <td>    0.006</td> <td>   -6.442</td> <td> 0.000</td> <td>   -0.049</td> <td>   -0.026</td>\n",
       "</tr>\n",
       "<tr>\n",
       "  <th>zipco_98101_to_98150</th> <td>    0.0722</td> <td>    0.008</td> <td>    9.129</td> <td> 0.000</td> <td>    0.057</td> <td>    0.088</td>\n",
       "</tr>\n",
       "<tr>\n",
       "  <th>zipco_98150_to_98200</th> <td>   -0.0265</td> <td>    0.008</td> <td>   -3.220</td> <td> 0.001</td> <td>   -0.043</td> <td>   -0.010</td>\n",
       "</tr>\n",
       "<tr>\n",
       "  <th>quadr_2</th>              <td>   -0.0552</td> <td>    0.008</td> <td>   -6.666</td> <td> 0.000</td> <td>   -0.071</td> <td>   -0.039</td>\n",
       "</tr>\n",
       "<tr>\n",
       "  <th>quadr_3</th>              <td>   -0.5417</td> <td>    0.008</td> <td>  -70.546</td> <td> 0.000</td> <td>   -0.557</td> <td>   -0.527</td>\n",
       "</tr>\n",
       "<tr>\n",
       "  <th>quadr_4</th>              <td>   -0.4679</td> <td>    0.009</td> <td>  -53.576</td> <td> 0.000</td> <td>   -0.485</td> <td>   -0.451</td>\n",
       "</tr>\n",
       "</table>\n",
       "<table class=\"simpletable\">\n",
       "<tr>\n",
       "  <th>Omnibus:</th>       <td>573.668</td> <th>  Durbin-Watson:     </th> <td>   2.005</td> \n",
       "</tr>\n",
       "<tr>\n",
       "  <th>Prob(Omnibus):</th> <td> 0.000</td>  <th>  Jarque-Bera (JB):  </th> <td>1213.408</td> \n",
       "</tr>\n",
       "<tr>\n",
       "  <th>Skew:</th>          <td>-0.220</td>  <th>  Prob(JB):          </th> <td>3.25e-264</td>\n",
       "</tr>\n",
       "<tr>\n",
       "  <th>Kurtosis:</th>      <td> 4.228</td>  <th>  Cond. No.          </th> <td>3.33e+06</td> \n",
       "</tr>\n",
       "</table><br/><br/>Notes:<br/>[1] Standard Errors assume that the covariance matrix of the errors is correctly specified.<br/>[2] The condition number is large, 3.33e+06. This might indicate that there are<br/>strong multicollinearity or other numerical problems."
      ],
      "text/plain": [
       "<class 'statsmodels.iolib.summary.Summary'>\n",
       "\"\"\"\n",
       "                            OLS Regression Results                            \n",
       "==============================================================================\n",
       "Dep. Variable:              price_log   R-squared:                       0.731\n",
       "Model:                            OLS   Adj. R-squared:                  0.730\n",
       "Method:                 Least Squares   F-statistic:                     1782.\n",
       "Date:                Fri, 08 Jan 2021   Prob (F-statistic):               0.00\n",
       "Time:                        14:51:49   Log-Likelihood:                -1191.2\n",
       "No. Observations:               17111   AIC:                             2436.\n",
       "Df Residuals:                   17084   BIC:                             2646.\n",
       "Df Model:                          26                                         \n",
       "Covariance Type:            nonrobust                                         \n",
       "========================================================================================\n",
       "                           coef    std err          t      P>|t|      [0.025      0.975]\n",
       "----------------------------------------------------------------------------------------\n",
       "const                   12.2648      0.011   1142.719      0.000      12.244      12.286\n",
       "sqft_lot               4.77e-07   5.05e-08      9.449      0.000    3.78e-07    5.76e-07\n",
       "sqft_above               0.0003   4.55e-06     61.257      0.000       0.000       0.000\n",
       "sqft_basement            0.0002    5.5e-06     39.157      0.000       0.000       0.000\n",
       "yr_renovated          6.359e-05   5.63e-06     11.296      0.000    5.26e-05    7.46e-05\n",
       "sqft_living15            0.0002   5.08e-06     31.027      0.000       0.000       0.000\n",
       "bedro_6_plus            -0.0949      0.017     -5.598      0.000      -0.128      -0.062\n",
       "bathr_2_to_3             0.0400      0.005      7.927      0.000       0.030       0.050\n",
       "bathr_3_to_4             0.0539      0.010      5.561      0.000       0.035       0.073\n",
       "bathr_5_to_6            -0.2425      0.071     -3.417      0.001      -0.382      -0.103\n",
       "bathr_6_plus            -0.4014      0.152     -2.646      0.008      -0.699      -0.104\n",
       "floor_2.5                0.1011      0.025      4.112      0.000       0.053       0.149\n",
       "floor_3.0                0.0497      0.013      3.895      0.000       0.025       0.075\n",
       "water_1.0                0.4619      0.035     13.309      0.000       0.394       0.530\n",
       "view_1.0                 0.1590      0.017      9.382      0.000       0.126       0.192\n",
       "view_2.0                 0.1194      0.010     11.859      0.000       0.100       0.139\n",
       "view_3.0                 0.1761      0.014     12.666      0.000       0.149       0.203\n",
       "view_4.0                 0.2677      0.022     12.129      0.000       0.224       0.311\n",
       "condi_5                  0.1301      0.007     17.363      0.000       0.115       0.145\n",
       "grade_11                -0.0454      0.018     -2.554      0.011      -0.080      -0.011\n",
       "grade_12                -0.0858      0.040     -2.134      0.033      -0.165      -0.007\n",
       "zipco_98051_to_98100    -0.0373      0.006     -6.442      0.000      -0.049      -0.026\n",
       "zipco_98101_to_98150     0.0722      0.008      9.129      0.000       0.057       0.088\n",
       "zipco_98150_to_98200    -0.0265      0.008     -3.220      0.001      -0.043      -0.010\n",
       "quadr_2                 -0.0552      0.008     -6.666      0.000      -0.071      -0.039\n",
       "quadr_3                 -0.5417      0.008    -70.546      0.000      -0.557      -0.527\n",
       "quadr_4                 -0.4679      0.009    -53.576      0.000      -0.485      -0.451\n",
       "==============================================================================\n",
       "Omnibus:                      573.668   Durbin-Watson:                   2.005\n",
       "Prob(Omnibus):                  0.000   Jarque-Bera (JB):             1213.408\n",
       "Skew:                          -0.220   Prob(JB):                    3.25e-264\n",
       "Kurtosis:                       4.228   Cond. No.                     3.33e+06\n",
       "==============================================================================\n",
       "\n",
       "Notes:\n",
       "[1] Standard Errors assume that the covariance matrix of the errors is correctly specified.\n",
       "[2] The condition number is large, 3.33e+06. This might indicate that there are\n",
       "strong multicollinearity or other numerical problems.\n",
       "\"\"\""
      ]
     },
     "execution_count": 117,
     "metadata": {},
     "output_type": "execute_result"
    }
   ],
   "source": [
    "X_int = sm.add_constant(X_train)\n",
    "model_6 = sm.OLS(y_train_log, X_int).fit()\n",
    "model_6.summary()"
   ]
  },
  {
   "cell_type": "code",
   "execution_count": 147,
   "metadata": {
    "scrolled": true
   },
   "outputs": [
    {
     "data": {
      "text/plain": [
       "0    21074\n",
       "1      315\n",
       "Name: bedro_6_plus, dtype: int64"
      ]
     },
     "execution_count": 147,
     "metadata": {},
     "output_type": "execute_result"
    }
   ],
   "source": [
    "data_model_6c['bedro_6_plus'].value_counts()"
   ]
  },
  {
   "cell_type": "code",
   "execution_count": 118,
   "metadata": {},
   "outputs": [
    {
     "data": {
      "image/png": "[encoded data removed]",
      "text/plain": [
       "<Figure size 432x288 with 1 Axes>"
      ]
     },
     "metadata": {
      "needs_background": "light"
     },
     "output_type": "display_data"
    }
   ],
   "source": [
    "fig = sm.graphics.qqplot(model_6.resid, dist=stats.norm, line='45', fit=True)"
   ]
  },
  {
   "cell_type": "code",
   "execution_count": 119,
   "metadata": {
    "scrolled": true
   },
   "outputs": [
    {
     "data": {
      "text/plain": [
       "[<matplotlib.lines.Line2D at 0x2972703ba30>]"
      ]
     },
     "execution_count": 119,
     "metadata": {},
     "output_type": "execute_result"
    },
    {
     "data": {
      "image/png": "[encoded data removed]",
      "text/plain": [
       "<Figure size 432x288 with 1 Axes>"
      ]
     },
     "metadata": {
      "needs_background": "light"
     },
     "output_type": "display_data"
    }
   ],
   "source": [
    "plt.scatter(model_6.predict(X_int), model_6.resid)\n",
    "plt.plot(model_6.predict(X_int), [0 for i in range(len(X_int))])"
   ]
  },
  {
   "cell_type": "markdown",
   "metadata": {},
   "source": [
    "Normality and homoscedasticity have improved enough that we are going to accept this model as final."
   ]
  },
  {
   "cell_type": "markdown",
   "metadata": {},
   "source": [
    "# Final Model Interpretation"
   ]
  },
  {
   "cell_type": "markdown",
   "metadata": {},
   "source": [
    "print coefficients and put into a data table - talk about the main drivers of price and what home renovators can do to increase price."
   ]
  },
  {
   "cell_type": "code",
   "execution_count": 120,
   "metadata": {},
   "outputs": [
    {
     "data": {
      "text/plain": [
       "array([ 4.77024193e-07,  2.78812902e-04,  2.15174110e-04,  6.35925079e-05,\n",
       "        1.57769186e-04, -9.48689466e-02,  3.99925546e-02,  5.38711038e-02,\n",
       "       -2.42461575e-01, -4.01385095e-01,  1.01104191e-01,  4.97371036e-02,\n",
       "        4.61900049e-01,  1.59017363e-01,  1.19403725e-01,  1.76069241e-01,\n",
       "        2.67655313e-01,  1.30111410e-01, -4.53810885e-02, -8.58165392e-02,\n",
       "       -3.72757172e-02,  7.21954429e-02, -2.65070283e-02, -5.51710955e-02,\n",
       "       -5.41706225e-01, -4.67944932e-01])"
      ]
     },
     "execution_count": 120,
     "metadata": {},
     "output_type": "execute_result"
    }
   ],
   "source": [
    "model_6b.coef_"
   ]
  },
  {
   "cell_type": "code",
   "execution_count": 136,
   "metadata": {},
   "outputs": [
    {
     "data": {
      "text/plain": [
       "array([ 4.77024307e-05,  2.78851774e-02,  2.15197262e-02,  6.35945299e-03,\n",
       "        1.57781632e-02, -9.05078813e+00,  4.08030249e+00,  5.53485630e+00,\n",
       "       -2.15306101e+01, -3.30607768e+01,  1.06391912e+01,  5.09947573e+00,\n",
       "        5.87086664e+01,  1.72358302e+01,  1.26824754e+01,  1.92520628e+01,\n",
       "        3.06896592e+01,  1.38955267e+01, -4.43667684e+00, -8.22374107e+00,\n",
       "       -3.65895301e+00,  7.48653983e+00, -2.61588006e+00, -5.36767775e+00,\n",
       "       -4.18245199e+01, -3.73711989e+01])"
      ]
     },
     "execution_count": 136,
     "metadata": {},
     "output_type": "execute_result"
    }
   ],
   "source": [
    "(np.exp(model_6b.coef_)-1)*100"
   ]
  },
  {
   "cell_type": "code",
   "execution_count": 137,
   "metadata": {},
   "outputs": [],
   "source": [
    "model_6b.transformed_coef = (np.exp(model_6b.coef_)-1)*100"
   ]
  },
  {
   "cell_type": "code",
   "execution_count": 138,
   "metadata": {},
   "outputs": [
    {
     "data": {
      "text/html": [
       "<div>\n",
       "<style scoped>\n",
       "    .dataframe tbody tr th:only-of-type {\n",
       "        vertical-align: middle;\n",
       "    }\n",
       "\n",
       "    .dataframe tbody tr th {\n",
       "        vertical-align: top;\n",
       "    }\n",
       "\n",
       "    .dataframe thead th {\n",
       "        text-align: right;\n",
       "    }\n",
       "</style>\n",
       "<table border=\"1\" class=\"dataframe\">\n",
       "  <thead>\n",
       "    <tr style=\"text-align: right;\">\n",
       "      <th></th>\n",
       "      <th>Coeff</th>\n",
       "    </tr>\n",
       "  </thead>\n",
       "  <tbody>\n",
       "    <tr>\n",
       "      <th>sqft_lot</th>\n",
       "      <td>4.770242e-07</td>\n",
       "    </tr>\n",
       "    <tr>\n",
       "      <th>sqft_above</th>\n",
       "      <td>2.788129e-04</td>\n",
       "    </tr>\n",
       "    <tr>\n",
       "      <th>sqft_basement</th>\n",
       "      <td>2.151741e-04</td>\n",
       "    </tr>\n",
       "    <tr>\n",
       "      <th>yr_renovated</th>\n",
       "      <td>6.359251e-05</td>\n",
       "    </tr>\n",
       "    <tr>\n",
       "      <th>sqft_living15</th>\n",
       "      <td>1.577692e-04</td>\n",
       "    </tr>\n",
       "    <tr>\n",
       "      <th>bedro_6_plus</th>\n",
       "      <td>-9.486895e-02</td>\n",
       "    </tr>\n",
       "    <tr>\n",
       "      <th>bathr_2_to_3</th>\n",
       "      <td>3.999255e-02</td>\n",
       "    </tr>\n",
       "    <tr>\n",
       "      <th>bathr_3_to_4</th>\n",
       "      <td>5.387110e-02</td>\n",
       "    </tr>\n",
       "    <tr>\n",
       "      <th>bathr_5_to_6</th>\n",
       "      <td>-2.424616e-01</td>\n",
       "    </tr>\n",
       "    <tr>\n",
       "      <th>bathr_6_plus</th>\n",
       "      <td>-4.013851e-01</td>\n",
       "    </tr>\n",
       "    <tr>\n",
       "      <th>floor_2.5</th>\n",
       "      <td>1.011042e-01</td>\n",
       "    </tr>\n",
       "    <tr>\n",
       "      <th>floor_3.0</th>\n",
       "      <td>4.973710e-02</td>\n",
       "    </tr>\n",
       "    <tr>\n",
       "      <th>water_1.0</th>\n",
       "      <td>4.619000e-01</td>\n",
       "    </tr>\n",
       "    <tr>\n",
       "      <th>view_1.0</th>\n",
       "      <td>1.590174e-01</td>\n",
       "    </tr>\n",
       "    <tr>\n",
       "      <th>view_2.0</th>\n",
       "      <td>1.194037e-01</td>\n",
       "    </tr>\n",
       "    <tr>\n",
       "      <th>view_3.0</th>\n",
       "      <td>1.760692e-01</td>\n",
       "    </tr>\n",
       "    <tr>\n",
       "      <th>view_4.0</th>\n",
       "      <td>2.676553e-01</td>\n",
       "    </tr>\n",
       "    <tr>\n",
       "      <th>condi_5</th>\n",
       "      <td>1.301114e-01</td>\n",
       "    </tr>\n",
       "    <tr>\n",
       "      <th>grade_11</th>\n",
       "      <td>-4.538109e-02</td>\n",
       "    </tr>\n",
       "    <tr>\n",
       "      <th>grade_12</th>\n",
       "      <td>-8.581654e-02</td>\n",
       "    </tr>\n",
       "    <tr>\n",
       "      <th>zipco_98051_to_98100</th>\n",
       "      <td>-3.727572e-02</td>\n",
       "    </tr>\n",
       "    <tr>\n",
       "      <th>zipco_98101_to_98150</th>\n",
       "      <td>7.219544e-02</td>\n",
       "    </tr>\n",
       "    <tr>\n",
       "      <th>zipco_98150_to_98200</th>\n",
       "      <td>-2.650703e-02</td>\n",
       "    </tr>\n",
       "    <tr>\n",
       "      <th>quadr_2</th>\n",
       "      <td>-5.517110e-02</td>\n",
       "    </tr>\n",
       "    <tr>\n",
       "      <th>quadr_3</th>\n",
       "      <td>-5.417062e-01</td>\n",
       "    </tr>\n",
       "    <tr>\n",
       "      <th>quadr_4</th>\n",
       "      <td>-4.679449e-01</td>\n",
       "    </tr>\n",
       "  </tbody>\n",
       "</table>\n",
       "</div>"
      ],
      "text/plain": [
       "                             Coeff\n",
       "sqft_lot              4.770242e-07\n",
       "sqft_above            2.788129e-04\n",
       "sqft_basement         2.151741e-04\n",
       "yr_renovated          6.359251e-05\n",
       "sqft_living15         1.577692e-04\n",
       "bedro_6_plus         -9.486895e-02\n",
       "bathr_2_to_3          3.999255e-02\n",
       "bathr_3_to_4          5.387110e-02\n",
       "bathr_5_to_6         -2.424616e-01\n",
       "bathr_6_plus         -4.013851e-01\n",
       "floor_2.5             1.011042e-01\n",
       "floor_3.0             4.973710e-02\n",
       "water_1.0             4.619000e-01\n",
       "view_1.0              1.590174e-01\n",
       "view_2.0              1.194037e-01\n",
       "view_3.0              1.760692e-01\n",
       "view_4.0              2.676553e-01\n",
       "condi_5               1.301114e-01\n",
       "grade_11             -4.538109e-02\n",
       "grade_12             -8.581654e-02\n",
       "zipco_98051_to_98100 -3.727572e-02\n",
       "zipco_98101_to_98150  7.219544e-02\n",
       "zipco_98150_to_98200 -2.650703e-02\n",
       "quadr_2              -5.517110e-02\n",
       "quadr_3              -5.417062e-01\n",
       "quadr_4              -4.679449e-01"
      ]
     },
     "execution_count": 138,
     "metadata": {},
     "output_type": "execute_result"
    }
   ],
   "source": [
    "pd.DataFrame(model_6b.coef_, X.columns, columns = ['Coeff'])"
   ]
  },
  {
   "cell_type": "code",
   "execution_count": 139,
   "metadata": {},
   "outputs": [
    {
     "data": {
      "text/html": [
       "<div>\n",
       "<style scoped>\n",
       "    .dataframe tbody tr th:only-of-type {\n",
       "        vertical-align: middle;\n",
       "    }\n",
       "\n",
       "    .dataframe tbody tr th {\n",
       "        vertical-align: top;\n",
       "    }\n",
       "\n",
       "    .dataframe thead th {\n",
       "        text-align: right;\n",
       "    }\n",
       "</style>\n",
       "<table border=\"1\" class=\"dataframe\">\n",
       "  <thead>\n",
       "    <tr style=\"text-align: right;\">\n",
       "      <th></th>\n",
       "      <th>Coeff</th>\n",
       "    </tr>\n",
       "  </thead>\n",
       "  <tbody>\n",
       "    <tr>\n",
       "      <th>sqft_lot</th>\n",
       "      <td>0.000048</td>\n",
       "    </tr>\n",
       "    <tr>\n",
       "      <th>sqft_above</th>\n",
       "      <td>0.027885</td>\n",
       "    </tr>\n",
       "    <tr>\n",
       "      <th>sqft_basement</th>\n",
       "      <td>0.021520</td>\n",
       "    </tr>\n",
       "    <tr>\n",
       "      <th>yr_renovated</th>\n",
       "      <td>0.006359</td>\n",
       "    </tr>\n",
       "    <tr>\n",
       "      <th>sqft_living15</th>\n",
       "      <td>0.015778</td>\n",
       "    </tr>\n",
       "    <tr>\n",
       "      <th>bedro_6_plus</th>\n",
       "      <td>-9.050788</td>\n",
       "    </tr>\n",
       "    <tr>\n",
       "      <th>bathr_2_to_3</th>\n",
       "      <td>4.080302</td>\n",
       "    </tr>\n",
       "    <tr>\n",
       "      <th>bathr_3_to_4</th>\n",
       "      <td>5.534856</td>\n",
       "    </tr>\n",
       "    <tr>\n",
       "      <th>bathr_5_to_6</th>\n",
       "      <td>-21.530610</td>\n",
       "    </tr>\n",
       "    <tr>\n",
       "      <th>bathr_6_plus</th>\n",
       "      <td>-33.060777</td>\n",
       "    </tr>\n",
       "    <tr>\n",
       "      <th>floor_2.5</th>\n",
       "      <td>10.639191</td>\n",
       "    </tr>\n",
       "    <tr>\n",
       "      <th>floor_3.0</th>\n",
       "      <td>5.099476</td>\n",
       "    </tr>\n",
       "    <tr>\n",
       "      <th>water_1.0</th>\n",
       "      <td>58.708666</td>\n",
       "    </tr>\n",
       "    <tr>\n",
       "      <th>view_1.0</th>\n",
       "      <td>17.235830</td>\n",
       "    </tr>\n",
       "    <tr>\n",
       "      <th>view_2.0</th>\n",
       "      <td>12.682475</td>\n",
       "    </tr>\n",
       "    <tr>\n",
       "      <th>view_3.0</th>\n",
       "      <td>19.252063</td>\n",
       "    </tr>\n",
       "    <tr>\n",
       "      <th>view_4.0</th>\n",
       "      <td>30.689659</td>\n",
       "    </tr>\n",
       "    <tr>\n",
       "      <th>condi_5</th>\n",
       "      <td>13.895527</td>\n",
       "    </tr>\n",
       "    <tr>\n",
       "      <th>grade_11</th>\n",
       "      <td>-4.436677</td>\n",
       "    </tr>\n",
       "    <tr>\n",
       "      <th>grade_12</th>\n",
       "      <td>-8.223741</td>\n",
       "    </tr>\n",
       "    <tr>\n",
       "      <th>zipco_98051_to_98100</th>\n",
       "      <td>-3.658953</td>\n",
       "    </tr>\n",
       "    <tr>\n",
       "      <th>zipco_98101_to_98150</th>\n",
       "      <td>7.486540</td>\n",
       "    </tr>\n",
       "    <tr>\n",
       "      <th>zipco_98150_to_98200</th>\n",
       "      <td>-2.615880</td>\n",
       "    </tr>\n",
       "    <tr>\n",
       "      <th>quadr_2</th>\n",
       "      <td>-5.367678</td>\n",
       "    </tr>\n",
       "    <tr>\n",
       "      <th>quadr_3</th>\n",
       "      <td>-41.824520</td>\n",
       "    </tr>\n",
       "    <tr>\n",
       "      <th>quadr_4</th>\n",
       "      <td>-37.371199</td>\n",
       "    </tr>\n",
       "  </tbody>\n",
       "</table>\n",
       "</div>"
      ],
      "text/plain": [
       "                          Coeff\n",
       "sqft_lot               0.000048\n",
       "sqft_above             0.027885\n",
       "sqft_basement          0.021520\n",
       "yr_renovated           0.006359\n",
       "sqft_living15          0.015778\n",
       "bedro_6_plus          -9.050788\n",
       "bathr_2_to_3           4.080302\n",
       "bathr_3_to_4           5.534856\n",
       "bathr_5_to_6         -21.530610\n",
       "bathr_6_plus         -33.060777\n",
       "floor_2.5             10.639191\n",
       "floor_3.0              5.099476\n",
       "water_1.0             58.708666\n",
       "view_1.0              17.235830\n",
       "view_2.0              12.682475\n",
       "view_3.0              19.252063\n",
       "view_4.0              30.689659\n",
       "condi_5               13.895527\n",
       "grade_11              -4.436677\n",
       "grade_12              -8.223741\n",
       "zipco_98051_to_98100  -3.658953\n",
       "zipco_98101_to_98150   7.486540\n",
       "zipco_98150_to_98200  -2.615880\n",
       "quadr_2               -5.367678\n",
       "quadr_3              -41.824520\n",
       "quadr_4              -37.371199"
      ]
     },
     "execution_count": 139,
     "metadata": {},
     "output_type": "execute_result"
    }
   ],
   "source": [
    "pd.DataFrame(model_6b.transformed_coef, X.columns, columns = ['Coeff'])"
   ]
  },
  {
   "cell_type": "code",
   "execution_count": 140,
   "metadata": {},
   "outputs": [
    {
     "data": {
      "text/plain": [
       "<matplotlib.collections.PathCollection at 0x2972c422130>"
      ]
     },
     "execution_count": 140,
     "metadata": {},
     "output_type": "execute_result"
    },
    {
     "data": {
      "image/png": "[encoded data removed]",
      "text/plain": [
       "<Figure size 432x288 with 1 Axes>"
      ]
     },
     "metadata": {
      "needs_background": "light"
     },
     "output_type": "display_data"
    }
   ],
   "source": [
    "plt.scatter(y_test, y_hat_test)"
   ]
  },
  {
   "cell_type": "code",
   "execution_count": 141,
   "metadata": {
    "scrolled": true
   },
   "outputs": [
    {
     "data": {
      "text/plain": [
       "(array([2.000e+00, 1.000e+00, 3.000e+00, 3.000e+00, 2.800e+01, 8.240e+02,\n",
       "        3.077e+03, 2.660e+02, 5.500e+01, 1.900e+01]),\n",
       " array([-1845105.73267466, -1550557.88704657, -1256010.04141849,\n",
       "         -961462.19579041,  -666914.35016233,  -372366.50453424,\n",
       "          -77818.65890616,   216729.18672192,   511277.03235001,\n",
       "          805824.87797809,  1100372.72360617]),\n",
       " <BarContainer object of 10 artists>)"
      ]
     },
     "execution_count": 141,
     "metadata": {},
     "output_type": "execute_result"
    },
    {
     "data": {
      "image/png": "[encoded data removed]",
      "text/plain": [
       "<Figure size 432x288 with 1 Axes>"
      ]
     },
     "metadata": {
      "needs_background": "light"
     },
     "output_type": "display_data"
    }
   ],
   "source": [
    "plt.hist(y_test - y_hat_test)"
   ]
  },
  {
   "cell_type": "markdown",
   "metadata": {},
   "source": [
    "Not exactly normal--maybe need to take care of lower end outliers"
   ]
  },
  {
   "cell_type": "code",
   "execution_count": 143,
   "metadata": {},
   "outputs": [
    {
     "data": {
      "text/plain": [
       "count    2.138900e+04\n",
       "mean     5.189146e+05\n",
       "std      2.862905e+05\n",
       "min      7.800000e+04\n",
       "25%      3.200000e+05\n",
       "50%      4.500000e+05\n",
       "75%      6.350000e+05\n",
       "max      1.990000e+06\n",
       "Name: price, dtype: float64"
      ]
     },
     "execution_count": 143,
     "metadata": {},
     "output_type": "execute_result"
    }
   ],
   "source": [
    "data_model_6c.price.describe()"
   ]
  },
  {
   "cell_type": "code",
   "execution_count": 144,
   "metadata": {},
   "outputs": [
    {
     "data": {
      "text/plain": [
       "<AxesSubplot:>"
      ]
     },
     "execution_count": 144,
     "metadata": {},
     "output_type": "execute_result"
    },
    {
     "data": {
      "image/png": "[encoded data removed]",
      "text/plain": [
       "<Figure size 432x288 with 1 Axes>"
      ]
     },
     "metadata": {
      "needs_background": "light"
     },
     "output_type": "display_data"
    }
   ],
   "source": [
    "data_model_6c.price.hist()"
   ]
  },
  {
   "cell_type": "code",
   "execution_count": 145,
   "metadata": {},
   "outputs": [
    {
     "name": "stderr",
     "output_type": "stream",
     "text": [
      "C:\\Users\\saman\\anaconda3\\envs\\learn-env\\lib\\site-packages\\seaborn\\_decorators.py:36: FutureWarning: Pass the following variable as a keyword arg: x. From version 0.12, the only valid positional argument will be `data`, and passing other arguments without an explicit keyword will result in an error or misinterpretation.\n",
      "  warnings.warn(\n"
     ]
    },
    {
     "data": {
      "text/plain": [
       "<AxesSubplot:xlabel='price'>"
      ]
     },
     "execution_count": 145,
     "metadata": {},
     "output_type": "execute_result"
    },
    {
     "data": {
      "image/png": "[encoded data removed]",
      "text/plain": [
       "<Figure size 432x288 with 1 Axes>"
      ]
     },
     "metadata": {
      "needs_background": "light"
     },
     "output_type": "display_data"
    }
   ],
   "source": [
    "sns.boxplot(data_model_6c.price)"
   ]
  },
  {
   "cell_type": "code",
   "execution_count": null,
   "metadata": {},
   "outputs": [],
   "source": []
  }
 ],
 "metadata": {
  "kernelspec": {
   "display_name": "Python 3",
   "language": "python",
   "name": "python3"
  },
  "language_info": {
   "codemirror_mode": {
    "name": "ipython",
    "version": 3
   },
   "file_extension": ".py",
   "mimetype": "text/x-python",
   "name": "python",
   "nbconvert_exporter": "python",
   "pygments_lexer": "ipython3",
   "version": "3.8.5"
  },
  "toc": {
   "base_numbering": 1,
   "nav_menu": {},
   "number_sections": true,
   "sideBar": true,
   "skip_h1_title": false,
   "title_cell": "Table of Contents",
   "title_sidebar": "Contents",
   "toc_cell": false,
   "toc_position": {
    "height": "calc(100% - 180px)",
    "left": "10px",
    "top": "150px",
    "width": "384px"
   },
   "toc_section_display": true,
   "toc_window_display": true
  }
 },
 "nbformat": 4,
 "nbformat_minor": 4
}
