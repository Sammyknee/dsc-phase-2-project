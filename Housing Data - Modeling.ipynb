{
 "cells": [
  {
   "cell_type": "markdown",
   "metadata": {},
   "source": [
    "![houses](images/houses.jpg)\n",
    "<a href='https://www.freepik.com/vectors/sale'>Sale vector created by pch.vector - www.freepik.com</a>"
   ]
  },
  {
   "cell_type": "markdown",
   "metadata": {},
   "source": [
    "# Modeling"
   ]
  },
  {
   "cell_type": "markdown",
   "metadata": {},
   "source": [
    "In this notebook, we iterate through different versions of a regression model to create the most accurate model for predicting home prices. We will use the final model to determine which features are most important to price and if a seller can change any of these features to increase selling price."
   ]
  },
  {
   "cell_type": "code",
   "execution_count": 1,
   "metadata": {},
   "outputs": [],
   "source": [
    "# import necessary libraries\n",
    "import pandas as pd\n",
    "import numpy as np\n",
    "import seaborn as sns\n",
    "import matplotlib.pyplot as plt\n",
    "plt.style.use('seaborn')\n",
    "\n",
    "from statsmodels.formula.api import ols\n",
    "from statsmodels.stats.outliers_influence import variance_inflation_factor\n",
    "import statsmodels.api as sm\n",
    "import statsmodels.stats.api as sms\n",
    "import scipy.stats as stats\n",
    "from sklearn.model_selection import train_test_split\n",
    "from sklearn.linear_model import LinearRegression\n",
    "from sklearn.model_selection import cross_val_score\n",
    "from sklearn import metrics"
   ]
  },
  {
   "cell_type": "code",
   "execution_count": 2,
   "metadata": {},
   "outputs": [],
   "source": [
    "#load clean dataset\n",
    "data = pd.read_csv('data/housing_data_clean.csv')"
   ]
  },
  {
   "cell_type": "code",
   "execution_count": 3,
   "metadata": {
    "scrolled": true
   },
   "outputs": [
    {
     "name": "stdout",
     "output_type": "stream",
     "text": [
      "<class 'pandas.core.frame.DataFrame'>\n",
      "RangeIndex: 21596 entries, 0 to 21595\n",
      "Data columns (total 19 columns):\n",
      " #   Column         Non-Null Count  Dtype  \n",
      "---  ------         --------------  -----  \n",
      " 0   id             21596 non-null  int64  \n",
      " 1   date           21596 non-null  object \n",
      " 2   price          21596 non-null  float64\n",
      " 3   bedrooms       21596 non-null  int64  \n",
      " 4   bathrooms      21596 non-null  float64\n",
      " 5   sqft_lot       21596 non-null  int64  \n",
      " 6   floors         21596 non-null  float64\n",
      " 7   waterfront     21596 non-null  float64\n",
      " 8   view           21596 non-null  float64\n",
      " 9   condition      21596 non-null  int64  \n",
      " 10  sqft_above     21596 non-null  int64  \n",
      " 11  sqft_basement  21596 non-null  float64\n",
      " 12  yr_built       21596 non-null  int64  \n",
      " 13  yr_renovated   21596 non-null  float64\n",
      " 14  zipcode        21596 non-null  int64  \n",
      " 15  lat            21596 non-null  float64\n",
      " 16  long           21596 non-null  float64\n",
      " 17  sqft_living15  21596 non-null  int64  \n",
      " 18  sqft_lot15     21596 non-null  int64  \n",
      "dtypes: float64(9), int64(9), object(1)\n",
      "memory usage: 3.1+ MB\n"
     ]
    }
   ],
   "source": [
    "data.info()"
   ]
  },
  {
   "cell_type": "markdown",
   "metadata": {},
   "source": [
    "## Model 1: Baseline"
   ]
  },
  {
   "cell_type": "markdown",
   "metadata": {},
   "source": [
    "This model will be the baseline for which we base all other models. This model does not take into account categorical variables, outliers, or other data transformations."
   ]
  },
  {
   "cell_type": "code",
   "execution_count": 4,
   "metadata": {},
   "outputs": [],
   "source": [
    "# Create summary function to quickly show statsmodel summary output.\n",
    "\n",
    "def linreg_summary(X_train, y_train):\n",
    "    X_int = sm.add_constant(X_train)\n",
    "    model = sm.OLS(y_train, X_int).fit()\n",
    "    return model.summary()"
   ]
  },
  {
   "cell_type": "code",
   "execution_count": 5,
   "metadata": {},
   "outputs": [],
   "source": [
    "# drop non-numerical columns like id and date.\n",
    "y = data['price']\n",
    "X = data.drop(['price', 'id', 'date'], axis=1)"
   ]
  },
  {
   "cell_type": "code",
   "execution_count": 6,
   "metadata": {},
   "outputs": [],
   "source": [
    "# perform train-test split using a test size of 20%.\n",
    "X_train, X_test, y_train, y_test = train_test_split(X, y, test_size=0.2, random_state=57)"
   ]
  },
  {
   "cell_type": "code",
   "execution_count": 7,
   "metadata": {},
   "outputs": [],
   "source": [
    "# perform linear regression in scikitlearn\n",
    "linreg = LinearRegression()\n",
    "linreg.fit(X_train, y_train)\n",
    "y_hat_train = linreg.predict(X_train)\n",
    "y_hat_test = linreg.predict(X_test)"
   ]
  },
  {
   "cell_type": "code",
   "execution_count": 8,
   "metadata": {},
   "outputs": [
    {
     "data": {
      "text/plain": [
       "0.6707918326331238"
      ]
     },
     "execution_count": 8,
     "metadata": {},
     "output_type": "execute_result"
    }
   ],
   "source": [
    "metrics.r2_score(y_train, y_hat_train)"
   ]
  },
  {
   "cell_type": "code",
   "execution_count": 9,
   "metadata": {
    "scrolled": true
   },
   "outputs": [
    {
     "data": {
      "text/html": [
       "<table class=\"simpletable\">\n",
       "<caption>OLS Regression Results</caption>\n",
       "<tr>\n",
       "  <th>Dep. Variable:</th>          <td>price</td>      <th>  R-squared:         </th>  <td>   0.671</td>  \n",
       "</tr>\n",
       "<tr>\n",
       "  <th>Model:</th>                   <td>OLS</td>       <th>  Adj. R-squared:    </th>  <td>   0.670</td>  \n",
       "</tr>\n",
       "<tr>\n",
       "  <th>Method:</th>             <td>Least Squares</td>  <th>  F-statistic:       </th>  <td>   2198.</td>  \n",
       "</tr>\n",
       "<tr>\n",
       "  <th>Date:</th>             <td>Mon, 18 Jan 2021</td> <th>  Prob (F-statistic):</th>   <td>  0.00</td>   \n",
       "</tr>\n",
       "<tr>\n",
       "  <th>Time:</th>                 <td>17:26:06</td>     <th>  Log-Likelihood:    </th> <td>-2.3634e+05</td>\n",
       "</tr>\n",
       "<tr>\n",
       "  <th>No. Observations:</th>      <td> 17276</td>      <th>  AIC:               </th>  <td>4.727e+05</td> \n",
       "</tr>\n",
       "<tr>\n",
       "  <th>Df Residuals:</th>          <td> 17259</td>      <th>  BIC:               </th>  <td>4.728e+05</td> \n",
       "</tr>\n",
       "<tr>\n",
       "  <th>Df Model:</th>              <td>    16</td>      <th>                     </th>      <td> </td>     \n",
       "</tr>\n",
       "<tr>\n",
       "  <th>Covariance Type:</th>      <td>nonrobust</td>    <th>                     </th>      <td> </td>     \n",
       "</tr>\n",
       "</table>\n",
       "<table class=\"simpletable\">\n",
       "<tr>\n",
       "        <td></td>           <th>coef</th>     <th>std err</th>      <th>t</th>      <th>P>|t|</th>  <th>[0.025</th>    <th>0.975]</th>  \n",
       "</tr>\n",
       "<tr>\n",
       "  <th>const</th>         <td> -2.36e+06</td> <td> 3.44e+06</td> <td>   -0.686</td> <td> 0.493</td> <td> -9.1e+06</td> <td> 4.38e+06</td>\n",
       "</tr>\n",
       "<tr>\n",
       "  <th>bedrooms</th>      <td>-5.052e+04</td> <td> 2296.492</td> <td>  -21.999</td> <td> 0.000</td> <td> -5.5e+04</td> <td> -4.6e+04</td>\n",
       "</tr>\n",
       "<tr>\n",
       "  <th>bathrooms</th>     <td>  5.86e+04</td> <td> 3830.862</td> <td>   15.296</td> <td> 0.000</td> <td> 5.11e+04</td> <td> 6.61e+04</td>\n",
       "</tr>\n",
       "<tr>\n",
       "  <th>sqft_lot</th>      <td>    0.1514</td> <td>    0.054</td> <td>    2.811</td> <td> 0.005</td> <td>    0.046</td> <td>    0.257</td>\n",
       "</tr>\n",
       "<tr>\n",
       "  <th>floors</th>        <td> 1.911e+04</td> <td> 4206.690</td> <td>    4.542</td> <td> 0.000</td> <td> 1.09e+04</td> <td> 2.74e+04</td>\n",
       "</tr>\n",
       "<tr>\n",
       "  <th>waterfront</th>    <td> 5.711e+05</td> <td> 2.08e+04</td> <td>   27.402</td> <td> 0.000</td> <td>  5.3e+05</td> <td> 6.12e+05</td>\n",
       "</tr>\n",
       "<tr>\n",
       "  <th>view</th>          <td> 5.996e+04</td> <td> 2479.967</td> <td>   24.176</td> <td> 0.000</td> <td> 5.51e+04</td> <td> 6.48e+04</td>\n",
       "</tr>\n",
       "<tr>\n",
       "  <th>condition</th>     <td> 2.778e+04</td> <td> 2767.952</td> <td>   10.036</td> <td> 0.000</td> <td> 2.24e+04</td> <td> 3.32e+04</td>\n",
       "</tr>\n",
       "<tr>\n",
       "  <th>sqft_above</th>    <td>  249.5904</td> <td>    3.987</td> <td>   62.600</td> <td> 0.000</td> <td>  241.775</td> <td>  257.406</td>\n",
       "</tr>\n",
       "<tr>\n",
       "  <th>sqft_basement</th> <td>  187.5434</td> <td>    5.057</td> <td>   37.089</td> <td> 0.000</td> <td>  177.632</td> <td>  197.455</td>\n",
       "</tr>\n",
       "<tr>\n",
       "  <th>yr_built</th>      <td>-2019.8535</td> <td>   82.456</td> <td>  -24.496</td> <td> 0.000</td> <td>-2181.475</td> <td>-1858.232</td>\n",
       "</tr>\n",
       "<tr>\n",
       "  <th>yr_renovated</th>  <td>   28.6307</td> <td>    4.660</td> <td>    6.144</td> <td> 0.000</td> <td>   19.497</td> <td>   37.765</td>\n",
       "</tr>\n",
       "<tr>\n",
       "  <th>zipcode</th>       <td> -659.9187</td> <td>   38.819</td> <td>  -17.000</td> <td> 0.000</td> <td> -736.008</td> <td> -583.829</td>\n",
       "</tr>\n",
       "<tr>\n",
       "  <th>lat</th>           <td> 6.836e+05</td> <td> 1.25e+04</td> <td>   54.783</td> <td> 0.000</td> <td> 6.59e+05</td> <td> 7.08e+05</td>\n",
       "</tr>\n",
       "<tr>\n",
       "  <th>long</th>          <td> -3.14e+05</td> <td> 1.53e+04</td> <td>  -20.581</td> <td> 0.000</td> <td>-3.44e+05</td> <td>-2.84e+05</td>\n",
       "</tr>\n",
       "<tr>\n",
       "  <th>sqft_living15</th> <td>   62.3981</td> <td>    3.906</td> <td>   15.976</td> <td> 0.000</td> <td>   54.742</td> <td>   70.054</td>\n",
       "</tr>\n",
       "<tr>\n",
       "  <th>sqft_lot15</th>    <td>   -0.4891</td> <td>    0.085</td> <td>   -5.722</td> <td> 0.000</td> <td>   -0.657</td> <td>   -0.322</td>\n",
       "</tr>\n",
       "</table>\n",
       "<table class=\"simpletable\">\n",
       "<tr>\n",
       "  <th>Omnibus:</th>       <td>13675.916</td> <th>  Durbin-Watson:     </th>  <td>   1.996</td>  \n",
       "</tr>\n",
       "<tr>\n",
       "  <th>Prob(Omnibus):</th>  <td> 0.000</td>   <th>  Jarque-Bera (JB):  </th> <td>1079376.874</td>\n",
       "</tr>\n",
       "<tr>\n",
       "  <th>Skew:</th>           <td> 3.241</td>   <th>  Prob(JB):          </th>  <td>    0.00</td>  \n",
       "</tr>\n",
       "<tr>\n",
       "  <th>Kurtosis:</th>       <td>41.177</td>   <th>  Cond. No.          </th>  <td>2.15e+08</td>  \n",
       "</tr>\n",
       "</table><br/><br/>Notes:<br/>[1] Standard Errors assume that the covariance matrix of the errors is correctly specified.<br/>[2] The condition number is large, 2.15e+08. This might indicate that there are<br/>strong multicollinearity or other numerical problems."
      ],
      "text/plain": [
       "<class 'statsmodels.iolib.summary.Summary'>\n",
       "\"\"\"\n",
       "                            OLS Regression Results                            \n",
       "==============================================================================\n",
       "Dep. Variable:                  price   R-squared:                       0.671\n",
       "Model:                            OLS   Adj. R-squared:                  0.670\n",
       "Method:                 Least Squares   F-statistic:                     2198.\n",
       "Date:                Mon, 18 Jan 2021   Prob (F-statistic):               0.00\n",
       "Time:                        17:26:06   Log-Likelihood:            -2.3634e+05\n",
       "No. Observations:               17276   AIC:                         4.727e+05\n",
       "Df Residuals:                   17259   BIC:                         4.728e+05\n",
       "Df Model:                          16                                         \n",
       "Covariance Type:            nonrobust                                         \n",
       "=================================================================================\n",
       "                    coef    std err          t      P>|t|      [0.025      0.975]\n",
       "---------------------------------------------------------------------------------\n",
       "const          -2.36e+06   3.44e+06     -0.686      0.493    -9.1e+06    4.38e+06\n",
       "bedrooms      -5.052e+04   2296.492    -21.999      0.000    -5.5e+04    -4.6e+04\n",
       "bathrooms       5.86e+04   3830.862     15.296      0.000    5.11e+04    6.61e+04\n",
       "sqft_lot          0.1514      0.054      2.811      0.005       0.046       0.257\n",
       "floors         1.911e+04   4206.690      4.542      0.000    1.09e+04    2.74e+04\n",
       "waterfront     5.711e+05   2.08e+04     27.402      0.000     5.3e+05    6.12e+05\n",
       "view           5.996e+04   2479.967     24.176      0.000    5.51e+04    6.48e+04\n",
       "condition      2.778e+04   2767.952     10.036      0.000    2.24e+04    3.32e+04\n",
       "sqft_above      249.5904      3.987     62.600      0.000     241.775     257.406\n",
       "sqft_basement   187.5434      5.057     37.089      0.000     177.632     197.455\n",
       "yr_built      -2019.8535     82.456    -24.496      0.000   -2181.475   -1858.232\n",
       "yr_renovated     28.6307      4.660      6.144      0.000      19.497      37.765\n",
       "zipcode        -659.9187     38.819    -17.000      0.000    -736.008    -583.829\n",
       "lat            6.836e+05   1.25e+04     54.783      0.000    6.59e+05    7.08e+05\n",
       "long           -3.14e+05   1.53e+04    -20.581      0.000   -3.44e+05   -2.84e+05\n",
       "sqft_living15    62.3981      3.906     15.976      0.000      54.742      70.054\n",
       "sqft_lot15       -0.4891      0.085     -5.722      0.000      -0.657      -0.322\n",
       "==============================================================================\n",
       "Omnibus:                    13675.916   Durbin-Watson:                   1.996\n",
       "Prob(Omnibus):                  0.000   Jarque-Bera (JB):          1079376.874\n",
       "Skew:                           3.241   Prob(JB):                         0.00\n",
       "Kurtosis:                      41.177   Cond. No.                     2.15e+08\n",
       "==============================================================================\n",
       "\n",
       "Notes:\n",
       "[1] Standard Errors assume that the covariance matrix of the errors is correctly specified.\n",
       "[2] The condition number is large, 2.15e+08. This might indicate that there are\n",
       "strong multicollinearity or other numerical problems.\n",
       "\"\"\""
      ]
     },
     "execution_count": 9,
     "metadata": {},
     "output_type": "execute_result"
    }
   ],
   "source": [
    "linreg_summary(X_train,y_train)"
   ]
  },
  {
   "cell_type": "markdown",
   "metadata": {},
   "source": [
    "This initial model has an R-squared value of .67. This means that 67% of the variation in our dependent variable, price, is explained by the independent variables in this model.\n",
    "\n",
    "Also, all of our features appear to be statistically significant with p-values less than 0.05. It appears waterfront and latitude have the strongest positive effect on price, while longitude and bedrooms have the strongest negative affect. We will definitely need to look into these variables closer and investigate why bedrooms would have a negative affect on price.\n",
    "\n",
    "Let's also look at the root mean squared error (RMSE) values and see how well our model works on test data."
   ]
  },
  {
   "cell_type": "code",
   "execution_count": 10,
   "metadata": {
    "scrolled": true
   },
   "outputs": [
    {
     "name": "stdout",
     "output_type": "stream",
     "text": [
      "RMSE Train: 211378.2182045845\n",
      "RMSE Test: 206576.069094622\n"
     ]
    }
   ],
   "source": [
    "print('RMSE Train:',np.sqrt(metrics.mean_squared_error(y_train, y_hat_train)))\n",
    "print('RMSE Test:',np.sqrt(metrics.mean_squared_error(y_test, y_hat_test)))"
   ]
  },
  {
   "cell_type": "markdown",
   "metadata": {},
   "source": [
    "The train dataset's RMSE is relatively close to the test dataset's, with a root mean squared error around 200k. This model seems to be a good starting point."
   ]
  },
  {
   "cell_type": "markdown",
   "metadata": {},
   "source": [
    "## Model 2: Dealing with Categorical Variables"
   ]
  },
  {
   "cell_type": "markdown",
   "metadata": {},
   "source": [
    "Now that we have our baseline model established, let's do some additional tuning of the model to account for categorical variables to potentially increase our R-squared value."
   ]
  },
  {
   "cell_type": "markdown",
   "metadata": {},
   "source": [
    "### Preparing the Categorical Data"
   ]
  },
  {
   "cell_type": "markdown",
   "metadata": {},
   "source": [
    "First, let's return to the histograms for all columns and inspect the distribution of the data and whether or not the variables are continuous or categorical."
   ]
  },
  {
   "cell_type": "code",
   "execution_count": 11,
   "metadata": {
    "scrolled": true
   },
   "outputs": [
    {
     "data": {
      "image/png": "[encoded data removed]",
      "text/plain": [
       "<Figure size 1296x1080 with 20 Axes>"
      ]
     },
     "metadata": {},
     "output_type": "display_data"
    }
   ],
   "source": [
    "data.hist(figsize=(18,15), bins = 'auto', color='coral');"
   ]
  },
  {
   "cell_type": "markdown",
   "metadata": {},
   "source": [
    "Based on these histograms, the following columns appear to be categorical:\n",
    "* bedrooms\n",
    "* bathrooms\n",
    "* floors\n",
    "* waterfront\n",
    "* view\n",
    "* condition\n",
    "\n",
    "This is because these columns have distinct, discrete values for each home. Some of these variables need to be further investigated, but let's address these clearly categorical columns for now."
   ]
  },
  {
   "cell_type": "markdown",
   "metadata": {},
   "source": [
    "It appeared in our first model that bedrooms had a negatively correlated relationship with sales price. Since this seems counterintuitive, let's explore this variable further.\n"
   ]
  },
  {
   "cell_type": "code",
   "execution_count": 12,
   "metadata": {
    "scrolled": true
   },
   "outputs": [
    {
     "data": {
      "image/png": "[encoded data removed]",
      "text/plain": [
       "<Figure size 576x396 with 1 Axes>"
      ]
     },
     "metadata": {},
     "output_type": "display_data"
    }
   ],
   "source": [
    "sns.boxplot(x = data.bedrooms, y = data.price);"
   ]
  },
  {
   "cell_type": "code",
   "execution_count": 13,
   "metadata": {},
   "outputs": [
    {
     "data": {
      "image/png": "[encoded data removed]",
      "text/plain": [
       "<Figure size 576x396 with 1 Axes>"
      ]
     },
     "metadata": {},
     "output_type": "display_data"
    }
   ],
   "source": [
    "sns.regplot(x=\"bedrooms\", y=\"price\", data=data);"
   ]
  },
  {
   "cell_type": "markdown",
   "metadata": {},
   "source": [
    "There does seem to be a slightly positive relationship between price and bedrooms, but this relationship doesn't hold as well when bedrooms increases past 5. Binning bedrooms into categories may solve this issue."
   ]
  },
  {
   "cell_type": "markdown",
   "metadata": {},
   "source": [
    "Let's now separate these columns into continuous and categorical variables to be handled separately."
   ]
  },
  {
   "cell_type": "code",
   "execution_count": 14,
   "metadata": {},
   "outputs": [],
   "source": [
    "conts = []\n",
    "cats = []\n",
    "for col in data.columns:\n",
    "    if data[col].nunique()<30:\n",
    "        cats.append(col)\n",
    "    else:\n",
    "        conts.append(col)"
   ]
  },
  {
   "cell_type": "code",
   "execution_count": 15,
   "metadata": {},
   "outputs": [
    {
     "data": {
      "text/plain": [
       "['id',\n",
       " 'date',\n",
       " 'price',\n",
       " 'sqft_lot',\n",
       " 'sqft_above',\n",
       " 'sqft_basement',\n",
       " 'yr_built',\n",
       " 'yr_renovated',\n",
       " 'zipcode',\n",
       " 'lat',\n",
       " 'long',\n",
       " 'sqft_living15',\n",
       " 'sqft_lot15']"
      ]
     },
     "execution_count": 15,
     "metadata": {},
     "output_type": "execute_result"
    }
   ],
   "source": [
    "conts"
   ]
  },
  {
   "cell_type": "code",
   "execution_count": 16,
   "metadata": {
    "scrolled": true
   },
   "outputs": [
    {
     "data": {
      "text/plain": [
       "['bedrooms', 'bathrooms', 'floors', 'waterfront', 'view', 'condition']"
      ]
     },
     "execution_count": 16,
     "metadata": {},
     "output_type": "execute_result"
    }
   ],
   "source": [
    "cats"
   ]
  },
  {
   "cell_type": "markdown",
   "metadata": {},
   "source": [
    "Using a cutoff of unique values less than 30, we get the same resulting categorical columns as when we viewed the histograms for each column.\n",
    "\n",
    "However, we noticed earlier that zipcodes were included in our dataset. These shouldn't really be considered continuous, as zipcode is a discrete value. Since there are 70 zipcodes in the dataset, let's include our zipcodes as categorical and bin into groups based on number."
   ]
  },
  {
   "cell_type": "code",
   "execution_count": 17,
   "metadata": {},
   "outputs": [],
   "source": [
    "conts.remove('zipcode')\n",
    "cats.append('zipcode')"
   ]
  },
  {
   "cell_type": "code",
   "execution_count": 18,
   "metadata": {
    "scrolled": true
   },
   "outputs": [
    {
     "data": {
      "text/plain": [
       "['bedrooms',\n",
       " 'bathrooms',\n",
       " 'floors',\n",
       " 'waterfront',\n",
       " 'view',\n",
       " 'condition',\n",
       " 'zipcode']"
      ]
     },
     "execution_count": 18,
     "metadata": {},
     "output_type": "execute_result"
    }
   ],
   "source": [
    "cats"
   ]
  },
  {
   "cell_type": "markdown",
   "metadata": {},
   "source": [
    "Longitude and latitude are also included in the dataset. It could be a good idea to separate these into quadrants--longitude and latitude may be a better indicator of price than zipcode, but we will leave both in our model for now."
   ]
  },
  {
   "cell_type": "code",
   "execution_count": 19,
   "metadata": {
    "scrolled": false
   },
   "outputs": [
    {
     "data": {
      "text/plain": [
       "count    21596.000000\n",
       "mean        47.560087\n",
       "std          0.138552\n",
       "min         47.155900\n",
       "25%         47.471100\n",
       "50%         47.571800\n",
       "75%         47.678000\n",
       "max         47.777600\n",
       "Name: lat, dtype: float64"
      ]
     },
     "execution_count": 19,
     "metadata": {},
     "output_type": "execute_result"
    }
   ],
   "source": [
    "# explore lat and long to decide cutoff points for the quadrants\n",
    "\n",
    "data.lat.describe()"
   ]
  },
  {
   "cell_type": "code",
   "execution_count": 20,
   "metadata": {},
   "outputs": [
    {
     "data": {
      "text/plain": [
       "count    21596.000000\n",
       "mean      -122.213977\n",
       "std          0.140725\n",
       "min       -122.519000\n",
       "25%       -122.328000\n",
       "50%       -122.231000\n",
       "75%       -122.125000\n",
       "max       -121.315000\n",
       "Name: long, dtype: float64"
      ]
     },
     "execution_count": 20,
     "metadata": {},
     "output_type": "execute_result"
    }
   ],
   "source": [
    "data.long.describe()"
   ]
  },
  {
   "cell_type": "code",
   "execution_count": 21,
   "metadata": {
    "scrolled": true
   },
   "outputs": [
    {
     "data": {
      "image/png": "[encoded data removed]",
      "text/plain": [
       "<Figure size 576x396 with 1 Axes>"
      ]
     },
     "metadata": {},
     "output_type": "display_data"
    }
   ],
   "source": [
    "sns.scatterplot(data=data, x=\"long\", y=\"lat\", color=\"coral\");"
   ]
  },
  {
   "cell_type": "markdown",
   "metadata": {},
   "source": [
    "Let's use 47.5 as our cutoff for latitude and -122.2 for longitude."
   ]
  },
  {
   "cell_type": "code",
   "execution_count": 22,
   "metadata": {},
   "outputs": [],
   "source": [
    "# create a formula for determining which quadrant the data falls in.\n",
    "\n",
    "def quadrant(lat, long):\n",
    "    if (lat >= 47.5) & (long <=-122.2):\n",
    "        return 1\n",
    "    elif (lat >= 47.5) & (long >-122.2):\n",
    "        return 2\n",
    "    elif (lat < 47.5) & (long <=-122.2):\n",
    "        return 3\n",
    "    else:\n",
    "        return 4"
   ]
  },
  {
   "cell_type": "code",
   "execution_count": 23,
   "metadata": {},
   "outputs": [],
   "source": [
    "data['coordinates'] = data.apply(lambda x: list([x['lat'], x['long']]), axis=1)"
   ]
  },
  {
   "cell_type": "code",
   "execution_count": 24,
   "metadata": {
    "scrolled": true
   },
   "outputs": [],
   "source": [
    "# create a new column called quadrant that categorizes the location\n",
    "\n",
    "data['quadrant']= data['coordinates'].apply(lambda x: quadrant(x[0],x[1]))"
   ]
  },
  {
   "cell_type": "code",
   "execution_count": 25,
   "metadata": {
    "scrolled": true
   },
   "outputs": [
    {
     "data": {
      "text/plain": [
       "1    9220\n",
       "2    5775\n",
       "4    3503\n",
       "3    3098\n",
       "Name: quadrant, dtype: int64"
      ]
     },
     "execution_count": 25,
     "metadata": {},
     "output_type": "execute_result"
    }
   ],
   "source": [
    "data.quadrant.value_counts()"
   ]
  },
  {
   "cell_type": "code",
   "execution_count": 26,
   "metadata": {},
   "outputs": [],
   "source": [
    "# add quadrant to our categorical variable list\n",
    "\n",
    "cats.append('quadrant')\n"
   ]
  },
  {
   "cell_type": "code",
   "execution_count": 27,
   "metadata": {},
   "outputs": [],
   "source": [
    "# remove helper column 'coordinates'\n",
    "data.drop('coordinates', inplace=True, axis=1)"
   ]
  },
  {
   "cell_type": "markdown",
   "metadata": {},
   "source": [
    "Revisiting the histogram above for 'sqft_basement', it appears any house without a basement has a 'sqft_basement' value of zero. It may make more sense to turn this into a categorical variable, where a value of 1 means there is a basement and 0 means there is not."
   ]
  },
  {
   "cell_type": "code",
   "execution_count": 28,
   "metadata": {},
   "outputs": [],
   "source": [
    "data['has_basement'] = np.where(data['sqft_basement']>0,1,0)"
   ]
  },
  {
   "cell_type": "markdown",
   "metadata": {},
   "source": [
    "### One Hot Encoding Categorical Variables"
   ]
  },
  {
   "cell_type": "code",
   "execution_count": 29,
   "metadata": {},
   "outputs": [],
   "source": [
    "df_cat = data.loc[:,cats]"
   ]
  },
  {
   "cell_type": "code",
   "execution_count": 30,
   "metadata": {
    "scrolled": true
   },
   "outputs": [
    {
     "data": {
      "text/plain": [
       "bedrooms      11\n",
       "bathrooms     29\n",
       "floors         6\n",
       "waterfront     2\n",
       "view           5\n",
       "condition      5\n",
       "zipcode       70\n",
       "quadrant       4\n",
       "dtype: int64"
      ]
     },
     "execution_count": 30,
     "metadata": {},
     "output_type": "execute_result"
    }
   ],
   "source": [
    "df_cat.nunique()"
   ]
  },
  {
   "cell_type": "code",
   "execution_count": 31,
   "metadata": {},
   "outputs": [
    {
     "data": {
      "text/plain": [
       "2.50    5377\n",
       "1.00    3851\n",
       "1.75    3047\n",
       "2.25    2047\n",
       "2.00    1930\n",
       "1.50    1445\n",
       "2.75    1185\n",
       "3.00     753\n",
       "3.50     731\n",
       "3.25     589\n",
       "3.75     155\n",
       "4.00     136\n",
       "4.50     100\n",
       "4.25      79\n",
       "0.75      71\n",
       "4.75      23\n",
       "5.00      21\n",
       "5.25      13\n",
       "5.50      10\n",
       "1.25       9\n",
       "6.00       6\n",
       "5.75       4\n",
       "0.50       4\n",
       "8.00       2\n",
       "6.25       2\n",
       "6.75       2\n",
       "6.50       2\n",
       "7.50       1\n",
       "7.75       1\n",
       "Name: bathrooms, dtype: int64"
      ]
     },
     "execution_count": 31,
     "metadata": {},
     "output_type": "execute_result"
    }
   ],
   "source": [
    "# Check the range of values for bathrooms to see if binning is appropriate.\n",
    "df_cat.bathrooms.value_counts()"
   ]
  },
  {
   "cell_type": "markdown",
   "metadata": {},
   "source": [
    "Since bathrooms has a large number of categories (20+) let's categorize this bathroom data into bins."
   ]
  },
  {
   "cell_type": "code",
   "execution_count": 32,
   "metadata": {},
   "outputs": [],
   "source": [
    "# use cut function to put bathroom data into bins\n",
    "\n",
    "df_cat['bathrooms'] = pd.cut(df_cat.bathrooms, [0, 1, 2, 3, 4, 5, 6, 8], \n",
    "                             labels = ['0_to_1', '1_to_2', '2_to_3', '3_to_4', '4_to_5', '5_to_6', '6_plus'])"
   ]
  },
  {
   "cell_type": "code",
   "execution_count": 33,
   "metadata": {},
   "outputs": [
    {
     "data": {
      "text/plain": [
       "2_to_3    9362\n",
       "1_to_2    6431\n",
       "0_to_1    3926\n",
       "3_to_4    1611\n",
       "4_to_5     223\n",
       "5_to_6      33\n",
       "6_plus      10\n",
       "Name: bathrooms, dtype: int64"
      ]
     },
     "execution_count": 33,
     "metadata": {},
     "output_type": "execute_result"
    }
   ],
   "source": [
    "df_cat.bathrooms.value_counts()"
   ]
  },
  {
   "cell_type": "markdown",
   "metadata": {},
   "source": [
    "Bedrooms may also be helpful to bin, since there are 11 categories."
   ]
  },
  {
   "cell_type": "code",
   "execution_count": 34,
   "metadata": {},
   "outputs": [
    {
     "data": {
      "text/plain": [
       "3     9824\n",
       "4     6882\n",
       "2     2760\n",
       "5     1601\n",
       "6      272\n",
       "1      196\n",
       "7       38\n",
       "8       13\n",
       "9        6\n",
       "10       3\n",
       "11       1\n",
       "Name: bedrooms, dtype: int64"
      ]
     },
     "execution_count": 34,
     "metadata": {},
     "output_type": "execute_result"
    }
   ],
   "source": [
    "df_cat['bedrooms'].value_counts()"
   ]
  },
  {
   "cell_type": "code",
   "execution_count": 35,
   "metadata": {},
   "outputs": [],
   "source": [
    "df_cat['bedrooms'] = pd.cut(df_cat.bedrooms, [0,1,2,3,4,5,12],\n",
    "                            labels = ['1','2','3','4','5','6_plus'])"
   ]
  },
  {
   "cell_type": "markdown",
   "metadata": {},
   "source": [
    "Let's also categorize the zipcode data as we mentioned earlier.\n"
   ]
  },
  {
   "cell_type": "code",
   "execution_count": 36,
   "metadata": {
    "scrolled": true
   },
   "outputs": [
    {
     "data": {
      "text/html": [
       "<div>\n",
       "<style scoped>\n",
       "    .dataframe tbody tr th:only-of-type {\n",
       "        vertical-align: middle;\n",
       "    }\n",
       "\n",
       "    .dataframe tbody tr th {\n",
       "        vertical-align: top;\n",
       "    }\n",
       "\n",
       "    .dataframe thead th {\n",
       "        text-align: right;\n",
       "    }\n",
       "</style>\n",
       "<table border=\"1\" class=\"dataframe\">\n",
       "  <thead>\n",
       "    <tr style=\"text-align: right;\">\n",
       "      <th></th>\n",
       "      <th>bedrooms</th>\n",
       "      <th>bathrooms</th>\n",
       "      <th>floors</th>\n",
       "      <th>waterfront</th>\n",
       "      <th>view</th>\n",
       "      <th>condition</th>\n",
       "      <th>quadrant</th>\n",
       "    </tr>\n",
       "    <tr>\n",
       "      <th>zipcode</th>\n",
       "      <th></th>\n",
       "      <th></th>\n",
       "      <th></th>\n",
       "      <th></th>\n",
       "      <th></th>\n",
       "      <th></th>\n",
       "      <th></th>\n",
       "    </tr>\n",
       "  </thead>\n",
       "  <tbody>\n",
       "    <tr>\n",
       "      <th>98001</th>\n",
       "      <td>361</td>\n",
       "      <td>361</td>\n",
       "      <td>361</td>\n",
       "      <td>361</td>\n",
       "      <td>361</td>\n",
       "      <td>361</td>\n",
       "      <td>361</td>\n",
       "    </tr>\n",
       "    <tr>\n",
       "      <th>98002</th>\n",
       "      <td>199</td>\n",
       "      <td>199</td>\n",
       "      <td>199</td>\n",
       "      <td>199</td>\n",
       "      <td>199</td>\n",
       "      <td>199</td>\n",
       "      <td>199</td>\n",
       "    </tr>\n",
       "    <tr>\n",
       "      <th>98003</th>\n",
       "      <td>280</td>\n",
       "      <td>280</td>\n",
       "      <td>280</td>\n",
       "      <td>280</td>\n",
       "      <td>280</td>\n",
       "      <td>280</td>\n",
       "      <td>280</td>\n",
       "    </tr>\n",
       "    <tr>\n",
       "      <th>98004</th>\n",
       "      <td>317</td>\n",
       "      <td>317</td>\n",
       "      <td>317</td>\n",
       "      <td>317</td>\n",
       "      <td>317</td>\n",
       "      <td>317</td>\n",
       "      <td>317</td>\n",
       "    </tr>\n",
       "    <tr>\n",
       "      <th>98005</th>\n",
       "      <td>168</td>\n",
       "      <td>168</td>\n",
       "      <td>168</td>\n",
       "      <td>168</td>\n",
       "      <td>168</td>\n",
       "      <td>168</td>\n",
       "      <td>168</td>\n",
       "    </tr>\n",
       "    <tr>\n",
       "      <th>...</th>\n",
       "      <td>...</td>\n",
       "      <td>...</td>\n",
       "      <td>...</td>\n",
       "      <td>...</td>\n",
       "      <td>...</td>\n",
       "      <td>...</td>\n",
       "      <td>...</td>\n",
       "    </tr>\n",
       "    <tr>\n",
       "      <th>98177</th>\n",
       "      <td>255</td>\n",
       "      <td>255</td>\n",
       "      <td>255</td>\n",
       "      <td>255</td>\n",
       "      <td>255</td>\n",
       "      <td>255</td>\n",
       "      <td>255</td>\n",
       "    </tr>\n",
       "    <tr>\n",
       "      <th>98178</th>\n",
       "      <td>262</td>\n",
       "      <td>262</td>\n",
       "      <td>262</td>\n",
       "      <td>262</td>\n",
       "      <td>262</td>\n",
       "      <td>262</td>\n",
       "      <td>262</td>\n",
       "    </tr>\n",
       "    <tr>\n",
       "      <th>98188</th>\n",
       "      <td>136</td>\n",
       "      <td>136</td>\n",
       "      <td>136</td>\n",
       "      <td>136</td>\n",
       "      <td>136</td>\n",
       "      <td>136</td>\n",
       "      <td>136</td>\n",
       "    </tr>\n",
       "    <tr>\n",
       "      <th>98198</th>\n",
       "      <td>280</td>\n",
       "      <td>280</td>\n",
       "      <td>280</td>\n",
       "      <td>280</td>\n",
       "      <td>280</td>\n",
       "      <td>280</td>\n",
       "      <td>280</td>\n",
       "    </tr>\n",
       "    <tr>\n",
       "      <th>98199</th>\n",
       "      <td>317</td>\n",
       "      <td>317</td>\n",
       "      <td>317</td>\n",
       "      <td>317</td>\n",
       "      <td>317</td>\n",
       "      <td>317</td>\n",
       "      <td>317</td>\n",
       "    </tr>\n",
       "  </tbody>\n",
       "</table>\n",
       "<p>70 rows × 7 columns</p>\n",
       "</div>"
      ],
      "text/plain": [
       "         bedrooms  bathrooms  floors  waterfront  view  condition  quadrant\n",
       "zipcode                                                                    \n",
       "98001         361        361     361         361   361        361       361\n",
       "98002         199        199     199         199   199        199       199\n",
       "98003         280        280     280         280   280        280       280\n",
       "98004         317        317     317         317   317        317       317\n",
       "98005         168        168     168         168   168        168       168\n",
       "...           ...        ...     ...         ...   ...        ...       ...\n",
       "98177         255        255     255         255   255        255       255\n",
       "98178         262        262     262         262   262        262       262\n",
       "98188         136        136     136         136   136        136       136\n",
       "98198         280        280     280         280   280        280       280\n",
       "98199         317        317     317         317   317        317       317\n",
       "\n",
       "[70 rows x 7 columns]"
      ]
     },
     "execution_count": 36,
     "metadata": {},
     "output_type": "execute_result"
    }
   ],
   "source": [
    "# check the range of values for zipcodes to see the best way to properly bin.\n",
    "df_cat.groupby(by='zipcode').count()"
   ]
  },
  {
   "cell_type": "markdown",
   "metadata": {},
   "source": [
    "There are about 200 zipcodes between the first and last zipcodes, so let's separate into 4 groups."
   ]
  },
  {
   "cell_type": "code",
   "execution_count": 37,
   "metadata": {},
   "outputs": [],
   "source": [
    "df_cat['zipcode'] = pd.cut(df_cat.zipcode, [98000, 98050, 98100, 98150, 98200],\n",
    "                                labels = ['98001_to_98050','98051_to_98100', '98101_to_98150', '98150_to_98200'])"
   ]
  },
  {
   "cell_type": "code",
   "execution_count": 38,
   "metadata": {},
   "outputs": [
    {
     "data": {
      "text/html": [
       "<div>\n",
       "<style scoped>\n",
       "    .dataframe tbody tr th:only-of-type {\n",
       "        vertical-align: middle;\n",
       "    }\n",
       "\n",
       "    .dataframe tbody tr th {\n",
       "        vertical-align: top;\n",
       "    }\n",
       "\n",
       "    .dataframe thead th {\n",
       "        text-align: right;\n",
       "    }\n",
       "</style>\n",
       "<table border=\"1\" class=\"dataframe\">\n",
       "  <thead>\n",
       "    <tr style=\"text-align: right;\">\n",
       "      <th></th>\n",
       "      <th>bedro_2</th>\n",
       "      <th>bedro_3</th>\n",
       "      <th>bedro_4</th>\n",
       "      <th>bedro_5</th>\n",
       "      <th>bedro_6_plus</th>\n",
       "      <th>bathr_1_to_2</th>\n",
       "      <th>bathr_2_to_3</th>\n",
       "      <th>bathr_3_to_4</th>\n",
       "      <th>bathr_4_to_5</th>\n",
       "      <th>bathr_5_to_6</th>\n",
       "      <th>...</th>\n",
       "      <th>condi_2</th>\n",
       "      <th>condi_3</th>\n",
       "      <th>condi_4</th>\n",
       "      <th>condi_5</th>\n",
       "      <th>zipco_98051_to_98100</th>\n",
       "      <th>zipco_98101_to_98150</th>\n",
       "      <th>zipco_98150_to_98200</th>\n",
       "      <th>quadr_2</th>\n",
       "      <th>quadr_3</th>\n",
       "      <th>quadr_4</th>\n",
       "    </tr>\n",
       "  </thead>\n",
       "  <tbody>\n",
       "    <tr>\n",
       "      <th>0</th>\n",
       "      <td>0</td>\n",
       "      <td>1</td>\n",
       "      <td>0</td>\n",
       "      <td>0</td>\n",
       "      <td>0</td>\n",
       "      <td>0</td>\n",
       "      <td>0</td>\n",
       "      <td>0</td>\n",
       "      <td>0</td>\n",
       "      <td>0</td>\n",
       "      <td>...</td>\n",
       "      <td>0</td>\n",
       "      <td>1</td>\n",
       "      <td>0</td>\n",
       "      <td>0</td>\n",
       "      <td>0</td>\n",
       "      <td>0</td>\n",
       "      <td>1</td>\n",
       "      <td>0</td>\n",
       "      <td>0</td>\n",
       "      <td>0</td>\n",
       "    </tr>\n",
       "    <tr>\n",
       "      <th>1</th>\n",
       "      <td>0</td>\n",
       "      <td>1</td>\n",
       "      <td>0</td>\n",
       "      <td>0</td>\n",
       "      <td>0</td>\n",
       "      <td>0</td>\n",
       "      <td>1</td>\n",
       "      <td>0</td>\n",
       "      <td>0</td>\n",
       "      <td>0</td>\n",
       "      <td>...</td>\n",
       "      <td>0</td>\n",
       "      <td>1</td>\n",
       "      <td>0</td>\n",
       "      <td>0</td>\n",
       "      <td>0</td>\n",
       "      <td>1</td>\n",
       "      <td>0</td>\n",
       "      <td>0</td>\n",
       "      <td>0</td>\n",
       "      <td>0</td>\n",
       "    </tr>\n",
       "    <tr>\n",
       "      <th>2</th>\n",
       "      <td>1</td>\n",
       "      <td>0</td>\n",
       "      <td>0</td>\n",
       "      <td>0</td>\n",
       "      <td>0</td>\n",
       "      <td>0</td>\n",
       "      <td>0</td>\n",
       "      <td>0</td>\n",
       "      <td>0</td>\n",
       "      <td>0</td>\n",
       "      <td>...</td>\n",
       "      <td>0</td>\n",
       "      <td>1</td>\n",
       "      <td>0</td>\n",
       "      <td>0</td>\n",
       "      <td>0</td>\n",
       "      <td>0</td>\n",
       "      <td>0</td>\n",
       "      <td>0</td>\n",
       "      <td>0</td>\n",
       "      <td>0</td>\n",
       "    </tr>\n",
       "    <tr>\n",
       "      <th>3</th>\n",
       "      <td>0</td>\n",
       "      <td>0</td>\n",
       "      <td>1</td>\n",
       "      <td>0</td>\n",
       "      <td>0</td>\n",
       "      <td>0</td>\n",
       "      <td>1</td>\n",
       "      <td>0</td>\n",
       "      <td>0</td>\n",
       "      <td>0</td>\n",
       "      <td>...</td>\n",
       "      <td>0</td>\n",
       "      <td>0</td>\n",
       "      <td>0</td>\n",
       "      <td>1</td>\n",
       "      <td>0</td>\n",
       "      <td>1</td>\n",
       "      <td>0</td>\n",
       "      <td>0</td>\n",
       "      <td>0</td>\n",
       "      <td>0</td>\n",
       "    </tr>\n",
       "    <tr>\n",
       "      <th>4</th>\n",
       "      <td>0</td>\n",
       "      <td>1</td>\n",
       "      <td>0</td>\n",
       "      <td>0</td>\n",
       "      <td>0</td>\n",
       "      <td>1</td>\n",
       "      <td>0</td>\n",
       "      <td>0</td>\n",
       "      <td>0</td>\n",
       "      <td>0</td>\n",
       "      <td>...</td>\n",
       "      <td>0</td>\n",
       "      <td>1</td>\n",
       "      <td>0</td>\n",
       "      <td>0</td>\n",
       "      <td>1</td>\n",
       "      <td>0</td>\n",
       "      <td>0</td>\n",
       "      <td>1</td>\n",
       "      <td>0</td>\n",
       "      <td>0</td>\n",
       "    </tr>\n",
       "    <tr>\n",
       "      <th>...</th>\n",
       "      <td>...</td>\n",
       "      <td>...</td>\n",
       "      <td>...</td>\n",
       "      <td>...</td>\n",
       "      <td>...</td>\n",
       "      <td>...</td>\n",
       "      <td>...</td>\n",
       "      <td>...</td>\n",
       "      <td>...</td>\n",
       "      <td>...</td>\n",
       "      <td>...</td>\n",
       "      <td>...</td>\n",
       "      <td>...</td>\n",
       "      <td>...</td>\n",
       "      <td>...</td>\n",
       "      <td>...</td>\n",
       "      <td>...</td>\n",
       "      <td>...</td>\n",
       "      <td>...</td>\n",
       "      <td>...</td>\n",
       "      <td>...</td>\n",
       "    </tr>\n",
       "    <tr>\n",
       "      <th>21591</th>\n",
       "      <td>0</td>\n",
       "      <td>1</td>\n",
       "      <td>0</td>\n",
       "      <td>0</td>\n",
       "      <td>0</td>\n",
       "      <td>0</td>\n",
       "      <td>1</td>\n",
       "      <td>0</td>\n",
       "      <td>0</td>\n",
       "      <td>0</td>\n",
       "      <td>...</td>\n",
       "      <td>0</td>\n",
       "      <td>1</td>\n",
       "      <td>0</td>\n",
       "      <td>0</td>\n",
       "      <td>0</td>\n",
       "      <td>1</td>\n",
       "      <td>0</td>\n",
       "      <td>0</td>\n",
       "      <td>0</td>\n",
       "      <td>0</td>\n",
       "    </tr>\n",
       "    <tr>\n",
       "      <th>21592</th>\n",
       "      <td>0</td>\n",
       "      <td>0</td>\n",
       "      <td>1</td>\n",
       "      <td>0</td>\n",
       "      <td>0</td>\n",
       "      <td>0</td>\n",
       "      <td>1</td>\n",
       "      <td>0</td>\n",
       "      <td>0</td>\n",
       "      <td>0</td>\n",
       "      <td>...</td>\n",
       "      <td>0</td>\n",
       "      <td>1</td>\n",
       "      <td>0</td>\n",
       "      <td>0</td>\n",
       "      <td>0</td>\n",
       "      <td>1</td>\n",
       "      <td>0</td>\n",
       "      <td>0</td>\n",
       "      <td>0</td>\n",
       "      <td>0</td>\n",
       "    </tr>\n",
       "    <tr>\n",
       "      <th>21593</th>\n",
       "      <td>1</td>\n",
       "      <td>0</td>\n",
       "      <td>0</td>\n",
       "      <td>0</td>\n",
       "      <td>0</td>\n",
       "      <td>0</td>\n",
       "      <td>0</td>\n",
       "      <td>0</td>\n",
       "      <td>0</td>\n",
       "      <td>0</td>\n",
       "      <td>...</td>\n",
       "      <td>0</td>\n",
       "      <td>1</td>\n",
       "      <td>0</td>\n",
       "      <td>0</td>\n",
       "      <td>0</td>\n",
       "      <td>1</td>\n",
       "      <td>0</td>\n",
       "      <td>0</td>\n",
       "      <td>0</td>\n",
       "      <td>0</td>\n",
       "    </tr>\n",
       "    <tr>\n",
       "      <th>21594</th>\n",
       "      <td>0</td>\n",
       "      <td>1</td>\n",
       "      <td>0</td>\n",
       "      <td>0</td>\n",
       "      <td>0</td>\n",
       "      <td>0</td>\n",
       "      <td>1</td>\n",
       "      <td>0</td>\n",
       "      <td>0</td>\n",
       "      <td>0</td>\n",
       "      <td>...</td>\n",
       "      <td>0</td>\n",
       "      <td>1</td>\n",
       "      <td>0</td>\n",
       "      <td>0</td>\n",
       "      <td>0</td>\n",
       "      <td>0</td>\n",
       "      <td>0</td>\n",
       "      <td>1</td>\n",
       "      <td>0</td>\n",
       "      <td>0</td>\n",
       "    </tr>\n",
       "    <tr>\n",
       "      <th>21595</th>\n",
       "      <td>1</td>\n",
       "      <td>0</td>\n",
       "      <td>0</td>\n",
       "      <td>0</td>\n",
       "      <td>0</td>\n",
       "      <td>0</td>\n",
       "      <td>0</td>\n",
       "      <td>0</td>\n",
       "      <td>0</td>\n",
       "      <td>0</td>\n",
       "      <td>...</td>\n",
       "      <td>0</td>\n",
       "      <td>1</td>\n",
       "      <td>0</td>\n",
       "      <td>0</td>\n",
       "      <td>0</td>\n",
       "      <td>1</td>\n",
       "      <td>0</td>\n",
       "      <td>0</td>\n",
       "      <td>0</td>\n",
       "      <td>0</td>\n",
       "    </tr>\n",
       "  </tbody>\n",
       "</table>\n",
       "<p>21596 rows × 31 columns</p>\n",
       "</div>"
      ],
      "text/plain": [
       "       bedro_2  bedro_3  bedro_4  bedro_5  bedro_6_plus  bathr_1_to_2  \\\n",
       "0            0        1        0        0             0             0   \n",
       "1            0        1        0        0             0             0   \n",
       "2            1        0        0        0             0             0   \n",
       "3            0        0        1        0             0             0   \n",
       "4            0        1        0        0             0             1   \n",
       "...        ...      ...      ...      ...           ...           ...   \n",
       "21591        0        1        0        0             0             0   \n",
       "21592        0        0        1        0             0             0   \n",
       "21593        1        0        0        0             0             0   \n",
       "21594        0        1        0        0             0             0   \n",
       "21595        1        0        0        0             0             0   \n",
       "\n",
       "       bathr_2_to_3  bathr_3_to_4  bathr_4_to_5  bathr_5_to_6  ...  condi_2  \\\n",
       "0                 0             0             0             0  ...        0   \n",
       "1                 1             0             0             0  ...        0   \n",
       "2                 0             0             0             0  ...        0   \n",
       "3                 1             0             0             0  ...        0   \n",
       "4                 0             0             0             0  ...        0   \n",
       "...             ...           ...           ...           ...  ...      ...   \n",
       "21591             1             0             0             0  ...        0   \n",
       "21592             1             0             0             0  ...        0   \n",
       "21593             0             0             0             0  ...        0   \n",
       "21594             1             0             0             0  ...        0   \n",
       "21595             0             0             0             0  ...        0   \n",
       "\n",
       "       condi_3  condi_4  condi_5  zipco_98051_to_98100  zipco_98101_to_98150  \\\n",
       "0            1        0        0                     0                     0   \n",
       "1            1        0        0                     0                     1   \n",
       "2            1        0        0                     0                     0   \n",
       "3            0        0        1                     0                     1   \n",
       "4            1        0        0                     1                     0   \n",
       "...        ...      ...      ...                   ...                   ...   \n",
       "21591        1        0        0                     0                     1   \n",
       "21592        1        0        0                     0                     1   \n",
       "21593        1        0        0                     0                     1   \n",
       "21594        1        0        0                     0                     0   \n",
       "21595        1        0        0                     0                     1   \n",
       "\n",
       "       zipco_98150_to_98200  quadr_2  quadr_3  quadr_4  \n",
       "0                         1        0        0        0  \n",
       "1                         0        0        0        0  \n",
       "2                         0        0        0        0  \n",
       "3                         0        0        0        0  \n",
       "4                         0        1        0        0  \n",
       "...                     ...      ...      ...      ...  \n",
       "21591                     0        0        0        0  \n",
       "21592                     0        0        0        0  \n",
       "21593                     0        0        0        0  \n",
       "21594                     0        1        0        0  \n",
       "21595                     0        0        0        0  \n",
       "\n",
       "[21596 rows x 31 columns]"
      ]
     },
     "execution_count": 38,
     "metadata": {},
     "output_type": "execute_result"
    }
   ],
   "source": [
    "# Use a for loop to create a new dataframe of dummy variables\n",
    "dataset = pd.DataFrame()\n",
    "for col in df_cat.columns:\n",
    "    col_dummies = pd.get_dummies(df_cat[col], prefix = str(col)[:5], drop_first=True)\n",
    "    dataset = pd.concat([dataset, col_dummies], axis=1)\n",
    "\n",
    "dataset"
   ]
  },
  {
   "cell_type": "code",
   "execution_count": 39,
   "metadata": {
    "scrolled": true
   },
   "outputs": [],
   "source": [
    "# concatenate the original data set with the dummy variable columns\n",
    "data_model_2 = pd.concat([data, dataset], axis=1)\n",
    "\n",
    "# drop variables that are now included as dummy variables\n",
    "data_model_2.drop(columns=cats, inplace=True)"
   ]
  },
  {
   "cell_type": "code",
   "execution_count": 40,
   "metadata": {
    "scrolled": true
   },
   "outputs": [
    {
     "data": {
      "text/plain": [
       "Index(['id', 'date', 'price', 'sqft_lot', 'sqft_above', 'sqft_basement',\n",
       "       'yr_built', 'yr_renovated', 'lat', 'long', 'sqft_living15',\n",
       "       'sqft_lot15', 'has_basement', 'bedro_2', 'bedro_3', 'bedro_4',\n",
       "       'bedro_5', 'bedro_6_plus', 'bathr_1_to_2', 'bathr_2_to_3',\n",
       "       'bathr_3_to_4', 'bathr_4_to_5', 'bathr_5_to_6', 'bathr_6_plus',\n",
       "       'floor_1.5', 'floor_2.0', 'floor_2.5', 'floor_3.0', 'floor_3.5',\n",
       "       'water_1.0', 'view_1.0', 'view_2.0', 'view_3.0', 'view_4.0', 'condi_2',\n",
       "       'condi_3', 'condi_4', 'condi_5', 'zipco_98051_to_98100',\n",
       "       'zipco_98101_to_98150', 'zipco_98150_to_98200', 'quadr_2', 'quadr_3',\n",
       "       'quadr_4'],\n",
       "      dtype='object')"
      ]
     },
     "execution_count": 40,
     "metadata": {},
     "output_type": "execute_result"
    }
   ],
   "source": [
    "data_model_2.columns"
   ]
  },
  {
   "cell_type": "code",
   "execution_count": 41,
   "metadata": {},
   "outputs": [],
   "source": [
    "# drop variables that we later converted to categorical\n",
    "data_model_2.drop(columns=['lat', 'long', 'sqft_basement'], inplace=True)"
   ]
  },
  {
   "cell_type": "markdown",
   "metadata": {},
   "source": [
    "### Run New Model"
   ]
  },
  {
   "cell_type": "code",
   "execution_count": 42,
   "metadata": {
    "scrolled": true
   },
   "outputs": [],
   "source": [
    "y = data_model_2['price']\n",
    "X = data_model_2.drop(['price', 'id', 'date'], axis=1)\n",
    "X_train, X_test, y_train, y_test = train_test_split(X, y, test_size=0.2, random_state=45)\n"
   ]
  },
  {
   "cell_type": "code",
   "execution_count": 43,
   "metadata": {},
   "outputs": [],
   "source": [
    "model_2 = LinearRegression()\n",
    "model_2.fit(X_train, y_train)\n",
    "y_hat_train = model_2.predict(X_train)\n",
    "y_hat_test = model_2.predict(X_test)"
   ]
  },
  {
   "cell_type": "code",
   "execution_count": 44,
   "metadata": {},
   "outputs": [
    {
     "data": {
      "text/plain": [
       "0.7043320241482438"
      ]
     },
     "execution_count": 44,
     "metadata": {},
     "output_type": "execute_result"
    }
   ],
   "source": [
    "metrics.r2_score(y_train, y_hat_train)"
   ]
  },
  {
   "cell_type": "markdown",
   "metadata": {},
   "source": [
    "Our R-squared score has improved from .67 to .7. Let's also look at the model summary and see if any insights can be gained to further improve the model. We'll also check if the RMSE improved."
   ]
  },
  {
   "cell_type": "code",
   "execution_count": 45,
   "metadata": {},
   "outputs": [
    {
     "data": {
      "text/html": [
       "<table class=\"simpletable\">\n",
       "<caption>OLS Regression Results</caption>\n",
       "<tr>\n",
       "  <th>Dep. Variable:</th>          <td>price</td>      <th>  R-squared:         </th>  <td>   0.704</td>  \n",
       "</tr>\n",
       "<tr>\n",
       "  <th>Model:</th>                   <td>OLS</td>       <th>  Adj. R-squared:    </th>  <td>   0.704</td>  \n",
       "</tr>\n",
       "<tr>\n",
       "  <th>Method:</th>             <td>Least Squares</td>  <th>  F-statistic:       </th>  <td>   1081.</td>  \n",
       "</tr>\n",
       "<tr>\n",
       "  <th>Date:</th>             <td>Mon, 18 Jan 2021</td> <th>  Prob (F-statistic):</th>   <td>  0.00</td>   \n",
       "</tr>\n",
       "<tr>\n",
       "  <th>Time:</th>                 <td>17:26:30</td>     <th>  Log-Likelihood:    </th> <td>-2.3562e+05</td>\n",
       "</tr>\n",
       "<tr>\n",
       "  <th>No. Observations:</th>      <td> 17276</td>      <th>  AIC:               </th>  <td>4.713e+05</td> \n",
       "</tr>\n",
       "<tr>\n",
       "  <th>Df Residuals:</th>          <td> 17237</td>      <th>  BIC:               </th>  <td>4.716e+05</td> \n",
       "</tr>\n",
       "<tr>\n",
       "  <th>Df Model:</th>              <td>    38</td>      <th>                     </th>      <td> </td>     \n",
       "</tr>\n",
       "<tr>\n",
       "  <th>Covariance Type:</th>      <td>nonrobust</td>    <th>                     </th>      <td> </td>     \n",
       "</tr>\n",
       "</table>\n",
       "<table class=\"simpletable\">\n",
       "<tr>\n",
       "            <td></td>              <th>coef</th>     <th>std err</th>      <th>t</th>      <th>P>|t|</th>  <th>[0.025</th>    <th>0.975]</th>  \n",
       "</tr>\n",
       "<tr>\n",
       "  <th>const</th>                <td> 2.196e+06</td> <td> 1.83e+05</td> <td>   11.966</td> <td> 0.000</td> <td> 1.84e+06</td> <td> 2.56e+06</td>\n",
       "</tr>\n",
       "<tr>\n",
       "  <th>sqft_lot</th>             <td>    0.1782</td> <td>    0.055</td> <td>    3.219</td> <td> 0.001</td> <td>    0.070</td> <td>    0.287</td>\n",
       "</tr>\n",
       "<tr>\n",
       "  <th>sqft_above</th>           <td>  221.4292</td> <td>    4.043</td> <td>   54.769</td> <td> 0.000</td> <td>  213.505</td> <td>  229.354</td>\n",
       "</tr>\n",
       "<tr>\n",
       "  <th>yr_built</th>             <td>-1153.1352</td> <td>   91.534</td> <td>  -12.598</td> <td> 0.000</td> <td>-1332.551</td> <td> -973.719</td>\n",
       "</tr>\n",
       "<tr>\n",
       "  <th>yr_renovated</th>         <td>   37.4787</td> <td>    4.575</td> <td>    8.191</td> <td> 0.000</td> <td>   28.510</td> <td>   46.447</td>\n",
       "</tr>\n",
       "<tr>\n",
       "  <th>sqft_living15</th>        <td>  102.8563</td> <td>    3.835</td> <td>   26.820</td> <td> 0.000</td> <td>   95.339</td> <td>  110.373</td>\n",
       "</tr>\n",
       "<tr>\n",
       "  <th>sqft_lot15</th>           <td>   -0.4028</td> <td>    0.085</td> <td>   -4.720</td> <td> 0.000</td> <td>   -0.570</td> <td>   -0.236</td>\n",
       "</tr>\n",
       "<tr>\n",
       "  <th>has_basement</th>         <td> 9.997e+04</td> <td> 4198.339</td> <td>   23.811</td> <td> 0.000</td> <td> 9.17e+04</td> <td> 1.08e+05</td>\n",
       "</tr>\n",
       "<tr>\n",
       "  <th>bedro_2</th>              <td> 1.554e+04</td> <td> 1.68e+04</td> <td>    0.925</td> <td> 0.355</td> <td>-1.74e+04</td> <td> 4.85e+04</td>\n",
       "</tr>\n",
       "<tr>\n",
       "  <th>bedro_3</th>              <td>-6160.8053</td> <td> 1.67e+04</td> <td>   -0.368</td> <td> 0.713</td> <td> -3.9e+04</td> <td> 2.66e+04</td>\n",
       "</tr>\n",
       "<tr>\n",
       "  <th>bedro_4</th>              <td>-3.256e+04</td> <td> 1.71e+04</td> <td>   -1.902</td> <td> 0.057</td> <td>-6.61e+04</td> <td>  986.914</td>\n",
       "</tr>\n",
       "<tr>\n",
       "  <th>bedro_5</th>              <td>-4.615e+04</td> <td>  1.8e+04</td> <td>   -2.564</td> <td> 0.010</td> <td>-8.14e+04</td> <td>-1.09e+04</td>\n",
       "</tr>\n",
       "<tr>\n",
       "  <th>bedro_6_plus</th>         <td>-1.055e+05</td> <td> 2.12e+04</td> <td>   -4.979</td> <td> 0.000</td> <td>-1.47e+05</td> <td>-6.39e+04</td>\n",
       "</tr>\n",
       "<tr>\n",
       "  <th>bathr_1_to_2</th>         <td> 7446.1055</td> <td> 5333.711</td> <td>    1.396</td> <td> 0.163</td> <td>-3008.509</td> <td> 1.79e+04</td>\n",
       "</tr>\n",
       "<tr>\n",
       "  <th>bathr_2_to_3</th>         <td> 2.323e+04</td> <td> 6775.268</td> <td>    3.429</td> <td> 0.001</td> <td> 9950.274</td> <td> 3.65e+04</td>\n",
       "</tr>\n",
       "<tr>\n",
       "  <th>bathr_3_to_4</th>         <td> 1.411e+05</td> <td> 1.02e+04</td> <td>   13.830</td> <td> 0.000</td> <td> 1.21e+05</td> <td> 1.61e+05</td>\n",
       "</tr>\n",
       "<tr>\n",
       "  <th>bathr_4_to_5</th>         <td> 3.748e+05</td> <td> 1.85e+04</td> <td>   20.229</td> <td> 0.000</td> <td> 3.38e+05</td> <td> 4.11e+05</td>\n",
       "</tr>\n",
       "<tr>\n",
       "  <th>bathr_5_to_6</th>         <td> 8.921e+05</td> <td> 4.15e+04</td> <td>   21.514</td> <td> 0.000</td> <td> 8.11e+05</td> <td> 9.73e+05</td>\n",
       "</tr>\n",
       "<tr>\n",
       "  <th>bathr_6_plus</th>         <td> 1.317e+06</td> <td> 6.75e+04</td> <td>   19.525</td> <td> 0.000</td> <td> 1.18e+06</td> <td> 1.45e+06</td>\n",
       "</tr>\n",
       "<tr>\n",
       "  <th>floor_1.5</th>            <td>-2.013e+04</td> <td> 6206.166</td> <td>   -3.244</td> <td> 0.001</td> <td>-3.23e+04</td> <td>-7967.707</td>\n",
       "</tr>\n",
       "<tr>\n",
       "  <th>floor_2.0</th>            <td>-3.504e+04</td> <td> 5140.188</td> <td>   -6.818</td> <td> 0.000</td> <td>-4.51e+04</td> <td> -2.5e+04</td>\n",
       "</tr>\n",
       "<tr>\n",
       "  <th>floor_2.5</th>            <td> 1.296e+05</td> <td> 1.88e+04</td> <td>    6.900</td> <td> 0.000</td> <td> 9.28e+04</td> <td> 1.66e+05</td>\n",
       "</tr>\n",
       "<tr>\n",
       "  <th>floor_3.0</th>            <td> 3.602e+04</td> <td> 1.12e+04</td> <td>    3.217</td> <td> 0.001</td> <td> 1.41e+04</td> <td>  5.8e+04</td>\n",
       "</tr>\n",
       "<tr>\n",
       "  <th>floor_3.5</th>            <td> 2.782e+05</td> <td> 9.11e+04</td> <td>    3.056</td> <td> 0.002</td> <td> 9.98e+04</td> <td> 4.57e+05</td>\n",
       "</tr>\n",
       "<tr>\n",
       "  <th>water_1.0</th>            <td> 5.871e+05</td> <td> 2.26e+04</td> <td>   25.938</td> <td> 0.000</td> <td> 5.43e+05</td> <td> 6.31e+05</td>\n",
       "</tr>\n",
       "<tr>\n",
       "  <th>view_1.0</th>             <td> 9.304e+04</td> <td> 1.31e+04</td> <td>    7.128</td> <td> 0.000</td> <td> 6.75e+04</td> <td> 1.19e+05</td>\n",
       "</tr>\n",
       "<tr>\n",
       "  <th>view_2.0</th>             <td> 7.152e+04</td> <td> 7692.855</td> <td>    9.297</td> <td> 0.000</td> <td> 5.64e+04</td> <td> 8.66e+04</td>\n",
       "</tr>\n",
       "<tr>\n",
       "  <th>view_3.0</th>             <td>  1.52e+05</td> <td> 1.07e+04</td> <td>   14.240</td> <td> 0.000</td> <td> 1.31e+05</td> <td> 1.73e+05</td>\n",
       "</tr>\n",
       "<tr>\n",
       "  <th>view_4.0</th>             <td> 3.316e+05</td> <td> 1.55e+04</td> <td>   21.326</td> <td> 0.000</td> <td> 3.01e+05</td> <td> 3.62e+05</td>\n",
       "</tr>\n",
       "<tr>\n",
       "  <th>condi_2</th>              <td>  8.55e+04</td> <td> 4.68e+04</td> <td>    1.826</td> <td> 0.068</td> <td>-6285.264</td> <td> 1.77e+05</td>\n",
       "</tr>\n",
       "<tr>\n",
       "  <th>condi_3</th>              <td> 1.003e+05</td> <td> 4.35e+04</td> <td>    2.305</td> <td> 0.021</td> <td>  1.5e+04</td> <td> 1.86e+05</td>\n",
       "</tr>\n",
       "<tr>\n",
       "  <th>condi_4</th>              <td> 1.445e+05</td> <td> 4.35e+04</td> <td>    3.321</td> <td> 0.001</td> <td> 5.92e+04</td> <td>  2.3e+05</td>\n",
       "</tr>\n",
       "<tr>\n",
       "  <th>condi_5</th>              <td> 1.863e+05</td> <td> 4.38e+04</td> <td>    4.259</td> <td> 0.000</td> <td> 1.01e+05</td> <td> 2.72e+05</td>\n",
       "</tr>\n",
       "<tr>\n",
       "  <th>zipco_98051_to_98100</th> <td>-5.001e+04</td> <td> 4514.212</td> <td>  -11.079</td> <td> 0.000</td> <td>-5.89e+04</td> <td>-4.12e+04</td>\n",
       "</tr>\n",
       "<tr>\n",
       "  <th>zipco_98101_to_98150</th> <td>-5.303e+04</td> <td> 6421.968</td> <td>   -8.258</td> <td> 0.000</td> <td>-6.56e+04</td> <td>-4.04e+04</td>\n",
       "</tr>\n",
       "<tr>\n",
       "  <th>zipco_98150_to_98200</th> <td>-7.584e+04</td> <td> 6493.041</td> <td>  -11.680</td> <td> 0.000</td> <td>-8.86e+04</td> <td>-6.31e+04</td>\n",
       "</tr>\n",
       "<tr>\n",
       "  <th>quadr_2</th>              <td>-1.247e+05</td> <td> 6344.985</td> <td>  -19.653</td> <td> 0.000</td> <td>-1.37e+05</td> <td>-1.12e+05</td>\n",
       "</tr>\n",
       "<tr>\n",
       "  <th>quadr_3</th>              <td>-2.897e+05</td> <td> 5973.647</td> <td>  -48.496</td> <td> 0.000</td> <td>-3.01e+05</td> <td>-2.78e+05</td>\n",
       "</tr>\n",
       "<tr>\n",
       "  <th>quadr_4</th>              <td>-2.863e+05</td> <td> 6834.873</td> <td>  -41.883</td> <td> 0.000</td> <td>   -3e+05</td> <td>-2.73e+05</td>\n",
       "</tr>\n",
       "</table>\n",
       "<table class=\"simpletable\">\n",
       "<tr>\n",
       "  <th>Omnibus:</th>       <td>12199.412</td> <th>  Durbin-Watson:     </th>  <td>   2.016</td> \n",
       "</tr>\n",
       "<tr>\n",
       "  <th>Prob(Omnibus):</th>  <td> 0.000</td>   <th>  Jarque-Bera (JB):  </th> <td>869156.990</td>\n",
       "</tr>\n",
       "<tr>\n",
       "  <th>Skew:</th>           <td> 2.720</td>   <th>  Prob(JB):          </th>  <td>    0.00</td> \n",
       "</tr>\n",
       "<tr>\n",
       "  <th>Kurtosis:</th>       <td>37.320</td>   <th>  Cond. No.          </th>  <td>5.84e+06</td> \n",
       "</tr>\n",
       "</table><br/><br/>Notes:<br/>[1] Standard Errors assume that the covariance matrix of the errors is correctly specified.<br/>[2] The condition number is large, 5.84e+06. This might indicate that there are<br/>strong multicollinearity or other numerical problems."
      ],
      "text/plain": [
       "<class 'statsmodels.iolib.summary.Summary'>\n",
       "\"\"\"\n",
       "                            OLS Regression Results                            \n",
       "==============================================================================\n",
       "Dep. Variable:                  price   R-squared:                       0.704\n",
       "Model:                            OLS   Adj. R-squared:                  0.704\n",
       "Method:                 Least Squares   F-statistic:                     1081.\n",
       "Date:                Mon, 18 Jan 2021   Prob (F-statistic):               0.00\n",
       "Time:                        17:26:30   Log-Likelihood:            -2.3562e+05\n",
       "No. Observations:               17276   AIC:                         4.713e+05\n",
       "Df Residuals:                   17237   BIC:                         4.716e+05\n",
       "Df Model:                          38                                         \n",
       "Covariance Type:            nonrobust                                         \n",
       "========================================================================================\n",
       "                           coef    std err          t      P>|t|      [0.025      0.975]\n",
       "----------------------------------------------------------------------------------------\n",
       "const                 2.196e+06   1.83e+05     11.966      0.000    1.84e+06    2.56e+06\n",
       "sqft_lot                 0.1782      0.055      3.219      0.001       0.070       0.287\n",
       "sqft_above             221.4292      4.043     54.769      0.000     213.505     229.354\n",
       "yr_built             -1153.1352     91.534    -12.598      0.000   -1332.551    -973.719\n",
       "yr_renovated            37.4787      4.575      8.191      0.000      28.510      46.447\n",
       "sqft_living15          102.8563      3.835     26.820      0.000      95.339     110.373\n",
       "sqft_lot15              -0.4028      0.085     -4.720      0.000      -0.570      -0.236\n",
       "has_basement          9.997e+04   4198.339     23.811      0.000    9.17e+04    1.08e+05\n",
       "bedro_2               1.554e+04   1.68e+04      0.925      0.355   -1.74e+04    4.85e+04\n",
       "bedro_3              -6160.8053   1.67e+04     -0.368      0.713    -3.9e+04    2.66e+04\n",
       "bedro_4              -3.256e+04   1.71e+04     -1.902      0.057   -6.61e+04     986.914\n",
       "bedro_5              -4.615e+04    1.8e+04     -2.564      0.010   -8.14e+04   -1.09e+04\n",
       "bedro_6_plus         -1.055e+05   2.12e+04     -4.979      0.000   -1.47e+05   -6.39e+04\n",
       "bathr_1_to_2          7446.1055   5333.711      1.396      0.163   -3008.509    1.79e+04\n",
       "bathr_2_to_3          2.323e+04   6775.268      3.429      0.001    9950.274    3.65e+04\n",
       "bathr_3_to_4          1.411e+05   1.02e+04     13.830      0.000    1.21e+05    1.61e+05\n",
       "bathr_4_to_5          3.748e+05   1.85e+04     20.229      0.000    3.38e+05    4.11e+05\n",
       "bathr_5_to_6          8.921e+05   4.15e+04     21.514      0.000    8.11e+05    9.73e+05\n",
       "bathr_6_plus          1.317e+06   6.75e+04     19.525      0.000    1.18e+06    1.45e+06\n",
       "floor_1.5            -2.013e+04   6206.166     -3.244      0.001   -3.23e+04   -7967.707\n",
       "floor_2.0            -3.504e+04   5140.188     -6.818      0.000   -4.51e+04    -2.5e+04\n",
       "floor_2.5             1.296e+05   1.88e+04      6.900      0.000    9.28e+04    1.66e+05\n",
       "floor_3.0             3.602e+04   1.12e+04      3.217      0.001    1.41e+04     5.8e+04\n",
       "floor_3.5             2.782e+05   9.11e+04      3.056      0.002    9.98e+04    4.57e+05\n",
       "water_1.0             5.871e+05   2.26e+04     25.938      0.000    5.43e+05    6.31e+05\n",
       "view_1.0              9.304e+04   1.31e+04      7.128      0.000    6.75e+04    1.19e+05\n",
       "view_2.0              7.152e+04   7692.855      9.297      0.000    5.64e+04    8.66e+04\n",
       "view_3.0               1.52e+05   1.07e+04     14.240      0.000    1.31e+05    1.73e+05\n",
       "view_4.0              3.316e+05   1.55e+04     21.326      0.000    3.01e+05    3.62e+05\n",
       "condi_2                8.55e+04   4.68e+04      1.826      0.068   -6285.264    1.77e+05\n",
       "condi_3               1.003e+05   4.35e+04      2.305      0.021     1.5e+04    1.86e+05\n",
       "condi_4               1.445e+05   4.35e+04      3.321      0.001    5.92e+04     2.3e+05\n",
       "condi_5               1.863e+05   4.38e+04      4.259      0.000    1.01e+05    2.72e+05\n",
       "zipco_98051_to_98100 -5.001e+04   4514.212    -11.079      0.000   -5.89e+04   -4.12e+04\n",
       "zipco_98101_to_98150 -5.303e+04   6421.968     -8.258      0.000   -6.56e+04   -4.04e+04\n",
       "zipco_98150_to_98200 -7.584e+04   6493.041    -11.680      0.000   -8.86e+04   -6.31e+04\n",
       "quadr_2              -1.247e+05   6344.985    -19.653      0.000   -1.37e+05   -1.12e+05\n",
       "quadr_3              -2.897e+05   5973.647    -48.496      0.000   -3.01e+05   -2.78e+05\n",
       "quadr_4              -2.863e+05   6834.873    -41.883      0.000      -3e+05   -2.73e+05\n",
       "==============================================================================\n",
       "Omnibus:                    12199.412   Durbin-Watson:                   2.016\n",
       "Prob(Omnibus):                  0.000   Jarque-Bera (JB):           869156.990\n",
       "Skew:                           2.720   Prob(JB):                         0.00\n",
       "Kurtosis:                      37.320   Cond. No.                     5.84e+06\n",
       "==============================================================================\n",
       "\n",
       "Notes:\n",
       "[1] Standard Errors assume that the covariance matrix of the errors is correctly specified.\n",
       "[2] The condition number is large, 5.84e+06. This might indicate that there are\n",
       "strong multicollinearity or other numerical problems.\n",
       "\"\"\""
      ]
     },
     "execution_count": 45,
     "metadata": {},
     "output_type": "execute_result"
    }
   ],
   "source": [
    "X_int = sm.add_constant(X_train)\n",
    "model_2 = sm.OLS(y_train, X_int).fit()\n",
    "model_2.summary()"
   ]
  },
  {
   "cell_type": "code",
   "execution_count": 46,
   "metadata": {
    "scrolled": true
   },
   "outputs": [
    {
     "name": "stdout",
     "output_type": "stream",
     "text": [
      "RMSE Train: 202683.2122704163\n",
      "RMSE Test: 189802.41396018508\n"
     ]
    }
   ],
   "source": [
    "print('RMSE Train:',np.sqrt(metrics.mean_squared_error(y_train, y_hat_train)))\n",
    "print('RMSE Test:',np.sqrt(metrics.mean_squared_error(y_test, y_hat_test)))"
   ]
  },
  {
   "cell_type": "markdown",
   "metadata": {},
   "source": [
    "Our RMSE has also slightly improved.\n",
    "\n",
    "Looking at p-values in the table, it looks like not all of our features are statistically significant using a p-value cut off of 0.05. We are still seeing negative coefficients as the number of bedrooms increase, however, it now appears some of these features are below our level of significance. Interestingly, bathrooms do have a significant relationship with price in the positive direction, which makes more sense. The location of the home as it relates to quadrants also seems to be important.\n",
    "\n",
    "Let's remove some of these features with p-values above 0.05 to simplify our model."
   ]
  },
  {
   "cell_type": "markdown",
   "metadata": {},
   "source": [
    "## Model 3: Remove Statistically Insignificant Features"
   ]
  },
  {
   "cell_type": "markdown",
   "metadata": {},
   "source": [
    "### Drop Insignificant Features Using Stepwise Function"
   ]
  },
  {
   "cell_type": "markdown",
   "metadata": {},
   "source": [
    "Let's use a stepwise selection function to choose columns only with p-values less than 0.05."
   ]
  },
  {
   "cell_type": "code",
   "execution_count": 47,
   "metadata": {},
   "outputs": [],
   "source": [
    "def stepwise_selection(X, y, \n",
    "                       initial_list=[], \n",
    "                       threshold_in=0.01, \n",
    "                       threshold_out = 0.05, \n",
    "                       verbose=True):\n",
    "    \"\"\" Perform a forward-backward feature selection \n",
    "    based on p-value from statsmodels.api.OLS\n",
    "    Arguments:\n",
    "        X - pandas.DataFrame with candidate features\n",
    "        y - list-like with the target\n",
    "        initial_list - list of features to start with (column names of X)\n",
    "        threshold_in - include a feature if its p-value < threshold_in\n",
    "        threshold_out - exclude a feature if its p-value > threshold_out\n",
    "        verbose - whether to print the sequence of inclusions and exclusions\n",
    "    Returns: list of selected features \n",
    "    Always set threshold_in < threshold_out to avoid infinite looping.\n",
    "    See https://en.wikipedia.org/wiki/Stepwise_regression for the details\n",
    "    \"\"\"\n",
    "    included = list(initial_list)\n",
    "    while True:\n",
    "        changed=False\n",
    "        # forward step\n",
    "        excluded = list(set(X.columns)-set(included))\n",
    "        new_pval = pd.Series(index=excluded)\n",
    "        for new_column in excluded:\n",
    "            model = sm.OLS(y, sm.add_constant(pd.DataFrame(X[included+[new_column]]))).fit()\n",
    "            new_pval[new_column] = model.pvalues[new_column]\n",
    "        best_pval = new_pval.min()\n",
    "        if best_pval < threshold_in:\n",
    "            best_feature = new_pval.idxmin()\n",
    "            included.append(best_feature)\n",
    "            changed=True\n",
    "            if verbose:\n",
    "                print('Add  {:30} with p-value {:.6}'.format(best_feature, best_pval))\n",
    "\n",
    "        # backward step\n",
    "        model = sm.OLS(y, sm.add_constant(pd.DataFrame(X[included]))).fit()\n",
    "        # use all coefs except intercept\n",
    "        pvalues = model.pvalues.iloc[1:]\n",
    "        worst_pval = pvalues.max() # null if pvalues is empty\n",
    "        if worst_pval > threshold_out:\n",
    "            changed=True\n",
    "            worst_feature = pvalues.idxmax()\n",
    "            included.remove(worst_feature)\n",
    "            if verbose:\n",
    "                print('Drop {:30} with p-value {:.6}'.format(worst_feature, worst_pval))\n",
    "        if not changed:\n",
    "            break\n",
    "    return included"
   ]
  },
  {
   "cell_type": "code",
   "execution_count": 48,
   "metadata": {
    "scrolled": true
   },
   "outputs": [
    {
     "name": "stderr",
     "output_type": "stream",
     "text": [
      "<ipython-input-47-3a06d07146b7>:24: DeprecationWarning: The default dtype for empty Series will be 'object' instead of 'float64' in a future version. Specify a dtype explicitly to silence this warning.\n",
      "  new_pval = pd.Series(index=excluded)\n",
      "<ipython-input-47-3a06d07146b7>:24: DeprecationWarning: The default dtype for empty Series will be 'object' instead of 'float64' in a future version. Specify a dtype explicitly to silence this warning.\n",
      "  new_pval = pd.Series(index=excluded)\n",
      "<ipython-input-47-3a06d07146b7>:24: DeprecationWarning: The default dtype for empty Series will be 'object' instead of 'float64' in a future version. Specify a dtype explicitly to silence this warning.\n",
      "  new_pval = pd.Series(index=excluded)\n",
      "<ipython-input-47-3a06d07146b7>:24: DeprecationWarning: The default dtype for empty Series will be 'object' instead of 'float64' in a future version. Specify a dtype explicitly to silence this warning.\n",
      "  new_pval = pd.Series(index=excluded)\n",
      "<ipython-input-47-3a06d07146b7>:24: DeprecationWarning: The default dtype for empty Series will be 'object' instead of 'float64' in a future version. Specify a dtype explicitly to silence this warning.\n",
      "  new_pval = pd.Series(index=excluded)\n",
      "<ipython-input-47-3a06d07146b7>:24: DeprecationWarning: The default dtype for empty Series will be 'object' instead of 'float64' in a future version. Specify a dtype explicitly to silence this warning.\n",
      "  new_pval = pd.Series(index=excluded)\n",
      "<ipython-input-47-3a06d07146b7>:24: DeprecationWarning: The default dtype for empty Series will be 'object' instead of 'float64' in a future version. Specify a dtype explicitly to silence this warning.\n",
      "  new_pval = pd.Series(index=excluded)\n",
      "<ipython-input-47-3a06d07146b7>:24: DeprecationWarning: The default dtype for empty Series will be 'object' instead of 'float64' in a future version. Specify a dtype explicitly to silence this warning.\n",
      "  new_pval = pd.Series(index=excluded)\n",
      "<ipython-input-47-3a06d07146b7>:24: DeprecationWarning: The default dtype for empty Series will be 'object' instead of 'float64' in a future version. Specify a dtype explicitly to silence this warning.\n",
      "  new_pval = pd.Series(index=excluded)\n",
      "<ipython-input-47-3a06d07146b7>:24: DeprecationWarning: The default dtype for empty Series will be 'object' instead of 'float64' in a future version. Specify a dtype explicitly to silence this warning.\n",
      "  new_pval = pd.Series(index=excluded)\n",
      "<ipython-input-47-3a06d07146b7>:24: DeprecationWarning: The default dtype for empty Series will be 'object' instead of 'float64' in a future version. Specify a dtype explicitly to silence this warning.\n",
      "  new_pval = pd.Series(index=excluded)\n",
      "<ipython-input-47-3a06d07146b7>:24: DeprecationWarning: The default dtype for empty Series will be 'object' instead of 'float64' in a future version. Specify a dtype explicitly to silence this warning.\n",
      "  new_pval = pd.Series(index=excluded)\n",
      "<ipython-input-47-3a06d07146b7>:24: DeprecationWarning: The default dtype for empty Series will be 'object' instead of 'float64' in a future version. Specify a dtype explicitly to silence this warning.\n",
      "  new_pval = pd.Series(index=excluded)\n",
      "<ipython-input-47-3a06d07146b7>:24: DeprecationWarning: The default dtype for empty Series will be 'object' instead of 'float64' in a future version. Specify a dtype explicitly to silence this warning.\n",
      "  new_pval = pd.Series(index=excluded)\n",
      "<ipython-input-47-3a06d07146b7>:24: DeprecationWarning: The default dtype for empty Series will be 'object' instead of 'float64' in a future version. Specify a dtype explicitly to silence this warning.\n",
      "  new_pval = pd.Series(index=excluded)\n",
      "<ipython-input-47-3a06d07146b7>:24: DeprecationWarning: The default dtype for empty Series will be 'object' instead of 'float64' in a future version. Specify a dtype explicitly to silence this warning.\n",
      "  new_pval = pd.Series(index=excluded)\n",
      "<ipython-input-47-3a06d07146b7>:24: DeprecationWarning: The default dtype for empty Series will be 'object' instead of 'float64' in a future version. Specify a dtype explicitly to silence this warning.\n",
      "  new_pval = pd.Series(index=excluded)\n",
      "<ipython-input-47-3a06d07146b7>:24: DeprecationWarning: The default dtype for empty Series will be 'object' instead of 'float64' in a future version. Specify a dtype explicitly to silence this warning.\n",
      "  new_pval = pd.Series(index=excluded)\n",
      "<ipython-input-47-3a06d07146b7>:24: DeprecationWarning: The default dtype for empty Series will be 'object' instead of 'float64' in a future version. Specify a dtype explicitly to silence this warning.\n",
      "  new_pval = pd.Series(index=excluded)\n",
      "<ipython-input-47-3a06d07146b7>:24: DeprecationWarning: The default dtype for empty Series will be 'object' instead of 'float64' in a future version. Specify a dtype explicitly to silence this warning.\n",
      "  new_pval = pd.Series(index=excluded)\n",
      "<ipython-input-47-3a06d07146b7>:24: DeprecationWarning: The default dtype for empty Series will be 'object' instead of 'float64' in a future version. Specify a dtype explicitly to silence this warning.\n",
      "  new_pval = pd.Series(index=excluded)\n",
      "<ipython-input-47-3a06d07146b7>:24: DeprecationWarning: The default dtype for empty Series will be 'object' instead of 'float64' in a future version. Specify a dtype explicitly to silence this warning.\n",
      "  new_pval = pd.Series(index=excluded)\n",
      "<ipython-input-47-3a06d07146b7>:24: DeprecationWarning: The default dtype for empty Series will be 'object' instead of 'float64' in a future version. Specify a dtype explicitly to silence this warning.\n",
      "  new_pval = pd.Series(index=excluded)\n",
      "<ipython-input-47-3a06d07146b7>:24: DeprecationWarning: The default dtype for empty Series will be 'object' instead of 'float64' in a future version. Specify a dtype explicitly to silence this warning.\n",
      "  new_pval = pd.Series(index=excluded)\n",
      "<ipython-input-47-3a06d07146b7>:24: DeprecationWarning: The default dtype for empty Series will be 'object' instead of 'float64' in a future version. Specify a dtype explicitly to silence this warning.\n",
      "  new_pval = pd.Series(index=excluded)\n",
      "<ipython-input-47-3a06d07146b7>:24: DeprecationWarning: The default dtype for empty Series will be 'object' instead of 'float64' in a future version. Specify a dtype explicitly to silence this warning.\n",
      "  new_pval = pd.Series(index=excluded)\n",
      "<ipython-input-47-3a06d07146b7>:24: DeprecationWarning: The default dtype for empty Series will be 'object' instead of 'float64' in a future version. Specify a dtype explicitly to silence this warning.\n",
      "  new_pval = pd.Series(index=excluded)\n",
      "<ipython-input-47-3a06d07146b7>:24: DeprecationWarning: The default dtype for empty Series will be 'object' instead of 'float64' in a future version. Specify a dtype explicitly to silence this warning.\n",
      "  new_pval = pd.Series(index=excluded)\n",
      "<ipython-input-47-3a06d07146b7>:24: DeprecationWarning: The default dtype for empty Series will be 'object' instead of 'float64' in a future version. Specify a dtype explicitly to silence this warning.\n",
      "  new_pval = pd.Series(index=excluded)\n",
      "<ipython-input-47-3a06d07146b7>:24: DeprecationWarning: The default dtype for empty Series will be 'object' instead of 'float64' in a future version. Specify a dtype explicitly to silence this warning.\n",
      "  new_pval = pd.Series(index=excluded)\n",
      "<ipython-input-47-3a06d07146b7>:24: DeprecationWarning: The default dtype for empty Series will be 'object' instead of 'float64' in a future version. Specify a dtype explicitly to silence this warning.\n",
      "  new_pval = pd.Series(index=excluded)\n",
      "<ipython-input-47-3a06d07146b7>:24: DeprecationWarning: The default dtype for empty Series will be 'object' instead of 'float64' in a future version. Specify a dtype explicitly to silence this warning.\n",
      "  new_pval = pd.Series(index=excluded)\n",
      "<ipython-input-47-3a06d07146b7>:24: DeprecationWarning: The default dtype for empty Series will be 'object' instead of 'float64' in a future version. Specify a dtype explicitly to silence this warning.\n",
      "  new_pval = pd.Series(index=excluded)\n",
      "<ipython-input-47-3a06d07146b7>:24: DeprecationWarning: The default dtype for empty Series will be 'object' instead of 'float64' in a future version. Specify a dtype explicitly to silence this warning.\n",
      "  new_pval = pd.Series(index=excluded)\n"
     ]
    },
    {
     "name": "stderr",
     "output_type": "stream",
     "text": [
      "<ipython-input-47-3a06d07146b7>:24: DeprecationWarning: The default dtype for empty Series will be 'object' instead of 'float64' in a future version. Specify a dtype explicitly to silence this warning.\n",
      "  new_pval = pd.Series(index=excluded)\n",
      "<ipython-input-47-3a06d07146b7>:24: DeprecationWarning: The default dtype for empty Series will be 'object' instead of 'float64' in a future version. Specify a dtype explicitly to silence this warning.\n",
      "  new_pval = pd.Series(index=excluded)\n",
      "<ipython-input-47-3a06d07146b7>:24: DeprecationWarning: The default dtype for empty Series will be 'object' instead of 'float64' in a future version. Specify a dtype explicitly to silence this warning.\n",
      "  new_pval = pd.Series(index=excluded)\n"
     ]
    },
    {
     "name": "stdout",
     "output_type": "stream",
     "text": [
      "resulting features:\n",
      "['bathr_4_to_5', 'sqft_living15', 'water_1.0', 'sqft_above', 'has_basement', 'quadr_4', 'quadr_3', 'quadr_2', 'yr_built', 'view_4.0', 'bathr_5_to_6', 'bathr_6_plus', 'bathr_3_to_4', 'view_3.0', 'zipco_98051_to_98100', 'view_2.0', 'yr_renovated', 'floor_2.0', 'zipco_98150_to_98200', 'view_1.0', 'zipco_98101_to_98150', 'floor_2.5', 'condi_5', 'bedro_6_plus', 'bedro_4', 'bedro_5', 'condi_4', 'floor_3.0', 'bedro_2', 'sqft_lot15', 'bathr_2_to_3', 'floor_1.5', 'sqft_lot', 'floor_3.5']\n"
     ]
    }
   ],
   "source": [
    "new_x_cols = stepwise_selection(X_train, y_train, verbose=False)\n",
    "print('resulting features:')\n",
    "print(new_x_cols)"
   ]
  },
  {
   "cell_type": "code",
   "execution_count": 49,
   "metadata": {
    "scrolled": true
   },
   "outputs": [
    {
     "data": {
      "text/plain": [
       "['bathr_4_to_5',\n",
       " 'sqft_living15',\n",
       " 'water_1.0',\n",
       " 'sqft_above',\n",
       " 'has_basement',\n",
       " 'quadr_4',\n",
       " 'quadr_3',\n",
       " 'quadr_2',\n",
       " 'yr_built',\n",
       " 'view_4.0',\n",
       " 'bathr_5_to_6',\n",
       " 'bathr_6_plus',\n",
       " 'bathr_3_to_4',\n",
       " 'view_3.0',\n",
       " 'zipco_98051_to_98100',\n",
       " 'view_2.0',\n",
       " 'yr_renovated',\n",
       " 'floor_2.0',\n",
       " 'zipco_98150_to_98200',\n",
       " 'view_1.0',\n",
       " 'zipco_98101_to_98150',\n",
       " 'floor_2.5',\n",
       " 'condi_5',\n",
       " 'bedro_6_plus',\n",
       " 'bedro_4',\n",
       " 'bedro_5',\n",
       " 'condi_4',\n",
       " 'floor_3.0',\n",
       " 'bedro_2',\n",
       " 'sqft_lot15',\n",
       " 'bathr_2_to_3',\n",
       " 'floor_1.5',\n",
       " 'sqft_lot',\n",
       " 'floor_3.5']"
      ]
     },
     "execution_count": 49,
     "metadata": {},
     "output_type": "execute_result"
    }
   ],
   "source": [
    "new_x_cols"
   ]
  },
  {
   "cell_type": "code",
   "execution_count": 50,
   "metadata": {},
   "outputs": [
    {
     "name": "stdout",
     "output_type": "stream",
     "text": [
      "38 34\n"
     ]
    }
   ],
   "source": [
    "# see how many columns were dropped using stepwise selection\n",
    "print(len(X.columns), len(new_x_cols))"
   ]
  },
  {
   "cell_type": "markdown",
   "metadata": {},
   "source": [
    "### Run New Model"
   ]
  },
  {
   "cell_type": "code",
   "execution_count": 51,
   "metadata": {},
   "outputs": [],
   "source": [
    "data_model_3 = data_model_2.copy()"
   ]
  },
  {
   "cell_type": "code",
   "execution_count": 52,
   "metadata": {},
   "outputs": [],
   "source": [
    "y = data_model_3['price']\n",
    "X = data_model_3[new_x_cols]\n",
    "X_train, X_test, y_train, y_test = train_test_split(X, y, test_size=0.2, random_state=51)"
   ]
  },
  {
   "cell_type": "code",
   "execution_count": 53,
   "metadata": {},
   "outputs": [],
   "source": [
    "model_3 = LinearRegression()\n",
    "model_3.fit(X_train, y_train)\n",
    "y_hat_train = model_3.predict(X_train)\n",
    "y_hat_test = model_3.predict(X_test)"
   ]
  },
  {
   "cell_type": "code",
   "execution_count": 54,
   "metadata": {
    "scrolled": false
   },
   "outputs": [
    {
     "data": {
      "text/plain": [
       "0.7018930581312065"
      ]
     },
     "execution_count": 54,
     "metadata": {},
     "output_type": "execute_result"
    }
   ],
   "source": [
    "metrics.r2_score(y_train, y_hat_train)"
   ]
  },
  {
   "cell_type": "code",
   "execution_count": 55,
   "metadata": {},
   "outputs": [
    {
     "name": "stdout",
     "output_type": "stream",
     "text": [
      "RMSE Train: 200750.74996909892\n",
      "RMSE Test: 198154.43172640202\n"
     ]
    }
   ],
   "source": [
    "print('RMSE Train:',np.sqrt(metrics.mean_squared_error(y_train, y_hat_train)))\n",
    "print('RMSE Test:',np.sqrt(metrics.mean_squared_error(y_test, y_hat_test)))"
   ]
  },
  {
   "cell_type": "code",
   "execution_count": 56,
   "metadata": {},
   "outputs": [
    {
     "data": {
      "text/plain": [
       "201323.01149955118"
      ]
     },
     "execution_count": 56,
     "metadata": {},
     "output_type": "execute_result"
    }
   ],
   "source": [
    "# Perform cross validation\n",
    "from sklearn.metrics import mean_squared_error, make_scorer\n",
    "mse = make_scorer(mean_squared_error)\n",
    "\n",
    "cv_20_results = cross_val_score(model_3, X,y, cv=20, scoring=mse)\n",
    "np.mean(np.sqrt(cv_20_results))"
   ]
  },
  {
   "cell_type": "markdown",
   "metadata": {},
   "source": [
    "Our Rsquared value and root mean squared error values stayed nearly even with our previous model. Since this version of the model has been simplified to use fewer insignificant features without losing accuracy, we will proceed with this version of the model."
   ]
  },
  {
   "cell_type": "markdown",
   "metadata": {},
   "source": [
    "Now is a good time to check if our assumptions for linear regression are in place."
   ]
  },
  {
   "cell_type": "markdown",
   "metadata": {},
   "source": [
    "### Check Normality Assumption"
   ]
  },
  {
   "cell_type": "code",
   "execution_count": 57,
   "metadata": {},
   "outputs": [],
   "source": [
    "X_int = sm.add_constant(X_train)\n",
    "model_3 = sm.OLS(y_train, X_int).fit()"
   ]
  },
  {
   "cell_type": "code",
   "execution_count": 58,
   "metadata": {
    "scrolled": false
   },
   "outputs": [
    {
     "data": {
      "image/png": "[encoded data removed]",
      "text/plain": [
       "<Figure size 576x396 with 1 Axes>"
      ]
     },
     "metadata": {},
     "output_type": "display_data"
    }
   ],
   "source": [
    "fig = sm.graphics.qqplot(model_3.resid, dist=stats.norm, line='45', fit=True)"
   ]
  },
  {
   "cell_type": "markdown",
   "metadata": {},
   "source": [
    "According to this QQ plot, it appears the residual normality assumption is violated at both tails of the data."
   ]
  },
  {
   "cell_type": "markdown",
   "metadata": {},
   "source": [
    "### Check Homoscedasticity Assumption"
   ]
  },
  {
   "cell_type": "code",
   "execution_count": 59,
   "metadata": {
    "scrolled": true
   },
   "outputs": [
    {
     "data": {
      "image/png": "[encoded data removed]",
      "text/plain": [
       "<Figure size 576x396 with 1 Axes>"
      ]
     },
     "metadata": {},
     "output_type": "display_data"
    }
   ],
   "source": [
    "plt.scatter(model_3.predict(X_int), model_3.resid)\n",
    "plt.plot(model_3.predict(X_int), [0 for i in range(len(X_int))]);"
   ]
  },
  {
   "cell_type": "markdown",
   "metadata": {},
   "source": [
    "It also looks like homoscedasticity is being violated, as there is a clear cone shape in the scatter plot of the residuals. Let's remove outliers and see if it helps our data meet these assumptions."
   ]
  },
  {
   "cell_type": "markdown",
   "metadata": {},
   "source": [
    "## Model 4: Remove Outliers"
   ]
  },
  {
   "cell_type": "code",
   "execution_count": 60,
   "metadata": {},
   "outputs": [],
   "source": [
    "# remove unnecessary columns dropped in our last model\n",
    "del_x_cols = []\n",
    "for col in data_model_3.columns:\n",
    "    if col not in new_x_cols:\n",
    "        del_x_cols.append(col)"
   ]
  },
  {
   "cell_type": "code",
   "execution_count": 61,
   "metadata": {
    "scrolled": false
   },
   "outputs": [
    {
     "data": {
      "text/plain": [
       "['id', 'date', 'price', 'bedro_3', 'bathr_1_to_2', 'condi_2', 'condi_3']"
      ]
     },
     "execution_count": 61,
     "metadata": {},
     "output_type": "execute_result"
    }
   ],
   "source": [
    "del_x_cols"
   ]
  },
  {
   "cell_type": "code",
   "execution_count": 62,
   "metadata": {},
   "outputs": [],
   "source": [
    "# do not included price in the columns deleted from the model\n",
    "del_x_cols.remove('price')"
   ]
  },
  {
   "cell_type": "code",
   "execution_count": 63,
   "metadata": {},
   "outputs": [],
   "source": [
    "data_model_3.drop(del_x_cols, axis=1, inplace=True)"
   ]
  },
  {
   "cell_type": "markdown",
   "metadata": {},
   "source": [
    "### Explore Distribution of Data"
   ]
  },
  {
   "cell_type": "code",
   "execution_count": 64,
   "metadata": {
    "scrolled": true
   },
   "outputs": [
    {
     "data": {
      "image/png": "[encoded data removed]",
      "text/plain": [
       "<Figure size 1296x1080 with 36 Axes>"
      ]
     },
     "metadata": {},
     "output_type": "display_data"
    }
   ],
   "source": [
    "data_model_3.hist(figsize=(18,15), bins = 'auto', color='coral');"
   ]
  },
  {
   "cell_type": "markdown",
   "metadata": {},
   "source": [
    "It looks like there are a number of outliers in some of our independent variables and our dependent variable, price. Let's take a closer look at price, since often removing outliers in the dependent variable can eliminate outliers in other variables."
   ]
  },
  {
   "cell_type": "code",
   "execution_count": 65,
   "metadata": {
    "scrolled": true
   },
   "outputs": [
    {
     "data": {
      "image/png": "[encoded data removed]",
      "text/plain": [
       "<Figure size 576x396 with 1 Axes>"
      ]
     },
     "metadata": {},
     "output_type": "display_data"
    }
   ],
   "source": [
    "data_model_3.price.hist(color='coral');"
   ]
  },
  {
   "cell_type": "code",
   "execution_count": 66,
   "metadata": {
    "scrolled": true
   },
   "outputs": [
    {
     "data": {
      "text/plain": [
       "<AxesSubplot:xlabel='price'>"
      ]
     },
     "execution_count": 66,
     "metadata": {},
     "output_type": "execute_result"
    },
    {
     "data": {
      "image/png": "[encoded data removed]",
      "text/plain": [
       "<Figure size 576x396 with 1 Axes>"
      ]
     },
     "metadata": {},
     "output_type": "display_data"
    }
   ],
   "source": [
    "sns.boxplot(x=data_model_3['price'])"
   ]
  },
  {
   "cell_type": "markdown",
   "metadata": {},
   "source": [
    "It looks like it might be a good idea to remove any homes above 2 million dollars in price. Since ABC agency's clients are younger, price-sensitive individuals unlikely to own homes above $2 million, it seems reasonable to eliminate these outliers. Before removing these outliers, let's check if using Z-score to eliminate outliers is a good strategy."
   ]
  },
  {
   "cell_type": "markdown",
   "metadata": {},
   "source": [
    "### Remove Price Outliers based on Z-Score"
   ]
  },
  {
   "cell_type": "code",
   "execution_count": 67,
   "metadata": {
    "scrolled": true
   },
   "outputs": [
    {
     "data": {
      "text/plain": [
       "array([0.86668512, 0.00623887, 0.98073984, ..., 0.37616542, 0.38188449,\n",
       "       0.58603973])"
      ]
     },
     "execution_count": 67,
     "metadata": {},
     "output_type": "execute_result"
    }
   ],
   "source": [
    "z = np.abs(stats.zscore(data_model_3.price))\n",
    "z"
   ]
  },
  {
   "cell_type": "code",
   "execution_count": 68,
   "metadata": {},
   "outputs": [],
   "source": [
    "data_model_4a = data_model_3[(z<3)]"
   ]
  },
  {
   "cell_type": "code",
   "execution_count": 69,
   "metadata": {},
   "outputs": [
    {
     "data": {
      "text/plain": [
       "(21190, 35)"
      ]
     },
     "execution_count": 69,
     "metadata": {},
     "output_type": "execute_result"
    }
   ],
   "source": [
    "data_model_4a.shape"
   ]
  },
  {
   "cell_type": "code",
   "execution_count": 70,
   "metadata": {},
   "outputs": [
    {
     "data": {
      "text/plain": [
       "<AxesSubplot:>"
      ]
     },
     "execution_count": 70,
     "metadata": {},
     "output_type": "execute_result"
    },
    {
     "data": {
      "image/png": "[encoded data removed]",
      "text/plain": [
       "<Figure size 576x396 with 1 Axes>"
      ]
     },
     "metadata": {},
     "output_type": "display_data"
    }
   ],
   "source": [
    "data_model_4a.price.hist()"
   ]
  },
  {
   "cell_type": "markdown",
   "metadata": {},
   "source": [
    "It looks like removing outliers using z-score achieved our goal of eliminating price under 2 million. Let's run a new model and check if losing this data affected the model's accuracy."
   ]
  },
  {
   "cell_type": "code",
   "execution_count": 71,
   "metadata": {},
   "outputs": [],
   "source": [
    "y = data_model_4a['price']\n",
    "X = data_model_4a.drop(['price'], axis=1)"
   ]
  },
  {
   "cell_type": "code",
   "execution_count": 72,
   "metadata": {},
   "outputs": [
    {
     "data": {
      "text/plain": [
       "0.6930229157330343"
      ]
     },
     "execution_count": 72,
     "metadata": {},
     "output_type": "execute_result"
    }
   ],
   "source": [
    "X_train, X_test, y_train, y_test = train_test_split(X, y, test_size=0.2, random_state=31)\n",
    "model_4a = LinearRegression()\n",
    "model_4a.fit(X_train, y_train)\n",
    "y_hat_train = model_4a.predict(X_train)\n",
    "y_hat_test = model_4a.predict(X_test)\n",
    "metrics.r2_score(y_train, y_hat_train)"
   ]
  },
  {
   "cell_type": "code",
   "execution_count": 73,
   "metadata": {},
   "outputs": [
    {
     "name": "stdout",
     "output_type": "stream",
     "text": [
      "RMSE Train: 143746.9570018191\n",
      "RMSE Test: 143018.83160745114\n"
     ]
    }
   ],
   "source": [
    "print('RMSE Train:',np.sqrt(metrics.mean_squared_error(y_train, y_hat_train)))\n",
    "print('RMSE Test:',np.sqrt(metrics.mean_squared_error(y_test, y_hat_test)))"
   ]
  },
  {
   "cell_type": "code",
   "execution_count": 74,
   "metadata": {},
   "outputs": [
    {
     "data": {
      "text/plain": [
       "-406"
      ]
     },
     "execution_count": 74,
     "metadata": {},
     "output_type": "execute_result"
    }
   ],
   "source": [
    "data_model_4a.shape[0]-data_model_3.shape[0]"
   ]
  },
  {
   "cell_type": "markdown",
   "metadata": {},
   "source": [
    "It looks like we lost about 400 values by eliminating outliers using z-score. Our model also lost some accuracy, dropping to an Rsquared value of .69. Our RMSE, however, decreased significantly. Let's check if removing outliers a different way returns a better model."
   ]
  },
  {
   "cell_type": "markdown",
   "metadata": {},
   "source": [
    "### Aternate Aproach: Remove Outliers Based on Price Cutoff"
   ]
  },
  {
   "cell_type": "code",
   "execution_count": 75,
   "metadata": {
    "scrolled": false
   },
   "outputs": [
    {
     "name": "stdout",
     "output_type": "stream",
     "text": [
      "0.8 percentile: 700500.0\n",
      "0.81 percentile: 718000.0\n",
      "0.82 percentile: 730000.8999999999\n",
      "0.83 percentile: 749950.0\n",
      "0.84 percentile: 760004.0\n",
      "0.85 percentile: 779807.5\n",
      "0.86 percentile: 799000.0\n",
      "0.87 percentile: 815000.0\n",
      "0.88 percentile: 836799.9999999993\n",
      "0.89 percentile: 859972.0\n",
      "0.9 percentile: 887000.0\n",
      "0.91 percentile: 919994.5\n",
      "0.92 percentile: 950000.0\n",
      "0.93 percentile: 997967.5\n",
      "0.94 percentile: 1060000.0\n",
      "0.95 percentile: 1160000.0\n",
      "0.96 percentile: 1260000.0\n",
      "0.97 percentile: 1390000.0\n",
      "0.98 percentile: 1600000.0\n",
      "0.99 percentile: 1970000.0\n"
     ]
    }
   ],
   "source": [
    "for i in range(80,100):\n",
    "    q = i/100\n",
    "    print(\"{} percentile: {}\".format(q, data_model_3.price.quantile(q=q)))"
   ]
  },
  {
   "cell_type": "code",
   "execution_count": 76,
   "metadata": {
    "scrolled": false
   },
   "outputs": [
    {
     "name": "stdout",
     "output_type": "stream",
     "text": [
      "Percent removed: 0.009631413224671235\n"
     ]
    }
   ],
   "source": [
    "orig_tot = len(data_model_3)\n",
    "data_model_4b = data_model_3[data_model_3.price < 2000000] # Subsetting to remove extreme outliers\n",
    "print('Percent removed:', (orig_tot -len(data_model_4b))/orig_tot)"
   ]
  },
  {
   "cell_type": "code",
   "execution_count": 77,
   "metadata": {},
   "outputs": [
    {
     "data": {
      "text/plain": [
       "<AxesSubplot:>"
      ]
     },
     "execution_count": 77,
     "metadata": {},
     "output_type": "execute_result"
    },
    {
     "data": {
      "image/png": "[encoded data removed]",
      "text/plain": [
       "<Figure size 576x396 with 1 Axes>"
      ]
     },
     "metadata": {},
     "output_type": "display_data"
    }
   ],
   "source": [
    "data_model_4b.price.hist()"
   ]
  },
  {
   "cell_type": "code",
   "execution_count": 78,
   "metadata": {},
   "outputs": [
    {
     "data": {
      "text/plain": [
       "0.7024546068840238"
      ]
     },
     "execution_count": 78,
     "metadata": {},
     "output_type": "execute_result"
    }
   ],
   "source": [
    "# Refit model with subset features\n",
    "y = data_model_4b['price']\n",
    "X = data_model_4b.drop(['price'], axis=1)\n",
    "X_train, X_test, y_train, y_test = train_test_split(X, y, test_size=0.2, random_state=32)\n",
    "\n",
    "model_4b = LinearRegression()\n",
    "model_4b.fit(X_train, y_train)\n",
    "y_hat_train = model_4b.predict(X_train)\n",
    "y_hat_test = model_4b.predict(X_test)\n",
    "metrics.r2_score(y_train, y_hat_train)"
   ]
  },
  {
   "cell_type": "code",
   "execution_count": 79,
   "metadata": {},
   "outputs": [
    {
     "name": "stdout",
     "output_type": "stream",
     "text": [
      "RMSE Train: 156989.60356603545\n",
      "RMSE Test: 156731.2898559558\n"
     ]
    }
   ],
   "source": [
    "print('RMSE Train:',np.sqrt(metrics.mean_squared_error(y_train, y_hat_train)))\n",
    "print('RMSE Test:',np.sqrt(metrics.mean_squared_error(y_test, y_hat_test)))"
   ]
  },
  {
   "cell_type": "code",
   "execution_count": 80,
   "metadata": {},
   "outputs": [
    {
     "data": {
      "text/plain": [
       "-208"
      ]
     },
     "execution_count": 80,
     "metadata": {},
     "output_type": "execute_result"
    }
   ],
   "source": [
    "data_model_4b.shape[0]-data_model_3.shape[0]"
   ]
  },
  {
   "cell_type": "markdown",
   "metadata": {},
   "source": [
    "Removing outliers in this way gave us a slightly better R squared value than removing outliers by using z-score. Our RMSE also improved over model 3. We were able to preserve about 200 more values in this method, so let's use this model going forward."
   ]
  },
  {
   "cell_type": "markdown",
   "metadata": {},
   "source": [
    "### Recheck Normality and Homoscedasticity Assumptions"
   ]
  },
  {
   "cell_type": "code",
   "execution_count": 81,
   "metadata": {
    "scrolled": true
   },
   "outputs": [
    {
     "data": {
      "image/png": "[encoded data removed]",
      "text/plain": [
       "<Figure size 576x396 with 1 Axes>"
      ]
     },
     "metadata": {},
     "output_type": "display_data"
    }
   ],
   "source": [
    "X_int = sm.add_constant(X_train)\n",
    "model_4b = sm.OLS(y_train, X_int).fit()\n",
    "fig = sm.graphics.qqplot(model_4b.resid, dist=stats.norm, line='45', fit=True)"
   ]
  },
  {
   "cell_type": "code",
   "execution_count": 82,
   "metadata": {
    "scrolled": false
   },
   "outputs": [
    {
     "data": {
      "text/plain": [
       "[<matplotlib.lines.Line2D at 0x1614558e310>]"
      ]
     },
     "execution_count": 82,
     "metadata": {},
     "output_type": "execute_result"
    },
    {
     "data": {
      "image/png": "[encoded data removed]",
      "text/plain": [
       "<Figure size 576x396 with 1 Axes>"
      ]
     },
     "metadata": {},
     "output_type": "display_data"
    }
   ],
   "source": [
    "plt.scatter(model_4b.predict(X_int), model_4b.resid)\n",
    "plt.plot(model_4b.predict(X_int), [0 for i in range(len(X_int))])"
   ]
  },
  {
   "cell_type": "markdown",
   "metadata": {},
   "source": [
    "The normality of the residuals has improved, but it looks like the assumption is still being violated. Homoscedasticity has also improved, but we still have a slight cone shape. We may need to try transforming our data in order to improve our model further. Before doing that, though, let's check our variables for multicollinearity."
   ]
  },
  {
   "cell_type": "markdown",
   "metadata": {},
   "source": [
    "## Model 5: Adjust for Multicollinearity"
   ]
  },
  {
   "cell_type": "markdown",
   "metadata": {},
   "source": [
    "### Investigate Pairwise Correlation"
   ]
  },
  {
   "cell_type": "code",
   "execution_count": 83,
   "metadata": {},
   "outputs": [],
   "source": [
    "# save absolute value of correlation matrix as a data frame\n",
    "# converts all values to absolute value\n",
    "# stacks the row:column pairs into a multindex\n",
    "# reset the index to set the multindex to seperate columns\n",
    "# sort values. 0 is the column automatically generated by the stacking\n",
    "\n",
    "df_pairs=data_model_4b.corr().abs().stack().reset_index().sort_values(0, ascending=False)\n",
    "\n",
    "# zip the variable name columns (Which were only named level_0 and level_1 by default) in a new column named \"pairs\"\n",
    "df_pairs['pairs'] = list(zip(df_pairs.level_0, df_pairs.level_1))\n",
    "\n",
    "# set index to pairs\n",
    "df_pairs.set_index(['pairs'], inplace = True)\n",
    "\n",
    "#d rop level columns\n",
    "df_pairs.drop(columns=['level_1', 'level_0'], inplace = True)\n",
    "\n",
    "# rename correlation column as cc rather than 0\n",
    "df_pairs.columns = ['cc']\n",
    "\n",
    "# drop duplicates. \n",
    "df_pairs.drop_duplicates(inplace=True)"
   ]
  },
  {
   "cell_type": "code",
   "execution_count": 84,
   "metadata": {
    "scrolled": true
   },
   "outputs": [
    {
     "data": {
      "text/html": [
       "<div>\n",
       "<style scoped>\n",
       "    .dataframe tbody tr th:only-of-type {\n",
       "        vertical-align: middle;\n",
       "    }\n",
       "\n",
       "    .dataframe tbody tr th {\n",
       "        vertical-align: top;\n",
       "    }\n",
       "\n",
       "    .dataframe thead th {\n",
       "        text-align: right;\n",
       "    }\n",
       "</style>\n",
       "<table border=\"1\" class=\"dataframe\">\n",
       "  <thead>\n",
       "    <tr style=\"text-align: right;\">\n",
       "      <th></th>\n",
       "      <th>cc</th>\n",
       "    </tr>\n",
       "    <tr>\n",
       "      <th>pairs</th>\n",
       "      <th></th>\n",
       "    </tr>\n",
       "  </thead>\n",
       "  <tbody>\n",
       "  </tbody>\n",
       "</table>\n",
       "</div>"
      ],
      "text/plain": [
       "Empty DataFrame\n",
       "Columns: [cc]\n",
       "Index: []"
      ]
     },
     "execution_count": 84,
     "metadata": {},
     "output_type": "execute_result"
    }
   ],
   "source": [
    "df_pairs[(df_pairs.cc>.75) & (df_pairs.cc <1)]"
   ]
  },
  {
   "cell_type": "markdown",
   "metadata": {},
   "source": [
    "We can confirm there is no pairwise correlation present."
   ]
  },
  {
   "cell_type": "markdown",
   "metadata": {},
   "source": [
    "### Investigate multicollinearity"
   ]
  },
  {
   "cell_type": "code",
   "execution_count": 85,
   "metadata": {
    "scrolled": true
   },
   "outputs": [
    {
     "data": {
      "text/plain": [
       "[('sqft_lot', 2.3520260946816336),\n",
       " ('sqft_above', 26.798053500094824),\n",
       " ('yr_built', 32.59326954893151),\n",
       " ('yr_renovated', 1.0648022774583203),\n",
       " ('sqft_living15', 27.309313117497698),\n",
       " ('sqft_lot15', 2.557560715762715),\n",
       " ('has_basement', 2.609962084651896),\n",
       " ('bedro_2', 1.4472233655109707),\n",
       " ('bedro_4', 2.080151489922795),\n",
       " ('bedro_5', 1.3523396054511112),\n",
       " ('bedro_6_plus', 1.1257396226202225),\n",
       " ('bathr_2_to_3', 3.784434433261295),\n",
       " ('bathr_3_to_4', 2.0464498799180326),\n",
       " ('bathr_4_to_5', 1.2405879073536417),\n",
       " ('bathr_5_to_6', 1.0512201255861977),\n",
       " ('bathr_6_plus', 1.0182653729887992),\n",
       " ('floor_1.5', 1.3401759617345583),\n",
       " ('floor_2.0', 3.925152817052293),\n",
       " ('floor_2.5', 1.0644857470145421),\n",
       " ('floor_3.0', 1.3282680893651435),\n",
       " ('floor_3.5', 1.004984492535364),\n",
       " ('water_1.0', 1.3983610165107383),\n",
       " ('view_1.0', 1.0469017331723403),\n",
       " ('view_2.0', 1.1103634699366323),\n",
       " ('view_3.0', 1.0984932587353748),\n",
       " ('view_4.0', 1.4415156962832816),\n",
       " ('condi_4', 1.57746101843817),\n",
       " ('condi_5', 1.1938344303818604),\n",
       " ('zipco_98051_to_98100', 1.8328872202565587),\n",
       " ('zipco_98101_to_98150', 5.105155576218364),\n",
       " ('zipco_98150_to_98200', 1.778632649572321),\n",
       " ('quadr_2', 4.646938615130217),\n",
       " ('quadr_3', 2.1688037532883935),\n",
       " ('quadr_4', 3.2042842580324185)]"
      ]
     },
     "execution_count": 85,
     "metadata": {},
     "output_type": "execute_result"
    }
   ],
   "source": [
    "# Use VIF scores to determine whether a column exhibits multicollinearity\n",
    "\n",
    "X = data_model_4b.drop(['price'], axis=1)\n",
    "vif = [variance_inflation_factor(X.values, i) for i in range(X.shape[1])]\n",
    "list(zip(X.columns, vif))"
   ]
  },
  {
   "cell_type": "code",
   "execution_count": 86,
   "metadata": {
    "scrolled": false
   },
   "outputs": [
    {
     "data": {
      "text/plain": [
       "['sqft_above', 'yr_built', 'sqft_living15']"
      ]
     },
     "execution_count": 86,
     "metadata": {},
     "output_type": "execute_result"
    }
   ],
   "source": [
    "vif_scores = list(zip(X.columns, vif))\n",
    "multi_co_cols = [x for x,vif in vif_scores if vif > 10]\n",
    "multi_co_cols"
   ]
  },
  {
   "cell_type": "markdown",
   "metadata": {},
   "source": [
    "It looks like three of our columns have VIF scores greater than 10, suggesting multicollinearity in these columns. We will run different versions of the model and see if we can maintain accuracy without one or all of these columns."
   ]
  },
  {
   "cell_type": "code",
   "execution_count": 87,
   "metadata": {},
   "outputs": [],
   "source": [
    "# create function to quickly check r-squared values when dropping different columns.\n",
    "def r2_calc(X,y):\n",
    "    X_train, X_test, y_train, y_test = train_test_split(X, y, test_size=0.2)\n",
    "    model = LinearRegression()\n",
    "    model.fit(X_train, y_train)\n",
    "    y_hat_train = model.predict(X_train)\n",
    "    y_hat_test = model.predict(X_test)\n",
    "    return metrics.r2_score(y_train, y_hat_train)"
   ]
  },
  {
   "cell_type": "markdown",
   "metadata": {},
   "source": [
    "### Check Columns to Drop and Run New Model"
   ]
  },
  {
   "cell_type": "code",
   "execution_count": 88,
   "metadata": {},
   "outputs": [
    {
     "data": {
      "text/plain": [
       "0.5488138199906489"
      ]
     },
     "execution_count": 88,
     "metadata": {},
     "output_type": "execute_result"
    }
   ],
   "source": [
    "y = data_model_4b['price']\n",
    "X = data_model_4b.drop(['price', 'sqft_above','yr_built','sqft_living15'],axis=1)\n",
    "r2_calc(X,y)"
   ]
  },
  {
   "cell_type": "markdown",
   "metadata": {},
   "source": [
    "Dropping all of the multicollinear columns leads to too much loss of accuracy in our model. Let's check our R-squared value when dropping one of each column."
   ]
  },
  {
   "cell_type": "code",
   "execution_count": 89,
   "metadata": {},
   "outputs": [
    {
     "data": {
      "text/plain": [
       "0.6484772987656998"
      ]
     },
     "execution_count": 89,
     "metadata": {},
     "output_type": "execute_result"
    }
   ],
   "source": [
    "y = data_model_4b['price']\n",
    "X = data_model_4b.drop(['price', 'sqft_above'],axis=1)\n",
    "r2_calc(X,y)"
   ]
  },
  {
   "cell_type": "code",
   "execution_count": 90,
   "metadata": {},
   "outputs": [
    {
     "data": {
      "text/plain": [
       "0.6944989270824107"
      ]
     },
     "execution_count": 90,
     "metadata": {},
     "output_type": "execute_result"
    }
   ],
   "source": [
    "y = data_model_4b['price']\n",
    "X = data_model_4b.drop(['price', 'yr_built'],axis=1)\n",
    "r2_calc(X,y)"
   ]
  },
  {
   "cell_type": "code",
   "execution_count": 91,
   "metadata": {
    "scrolled": false
   },
   "outputs": [
    {
     "data": {
      "text/plain": [
       "0.681704181403082"
      ]
     },
     "execution_count": 91,
     "metadata": {},
     "output_type": "execute_result"
    }
   ],
   "source": [
    "y = data_model_4b['price']\n",
    "X = data_model_4b.drop(['price', 'sqft_living15'],axis=1)\n",
    "r2_calc(X,y)"
   ]
  },
  {
   "cell_type": "code",
   "execution_count": 92,
   "metadata": {},
   "outputs": [
    {
     "data": {
      "text/plain": [
       "0.6781458259751353"
      ]
     },
     "execution_count": 92,
     "metadata": {},
     "output_type": "execute_result"
    }
   ],
   "source": [
    "y = data_model_4b['price']\n",
    "X = data_model_4b.drop(['price', 'sqft_living15', 'yr_built'],axis=1)\n",
    "r2_calc(X,y)"
   ]
  },
  {
   "cell_type": "markdown",
   "metadata": {},
   "source": [
    "It appears dropping the 'yr_built' column produces the strongest results for our model. Let's drop this column for our 5th model to decrease our multicollinearity."
   ]
  },
  {
   "cell_type": "code",
   "execution_count": 93,
   "metadata": {},
   "outputs": [
    {
     "data": {
      "text/plain": [
       "0.6974875716826215"
      ]
     },
     "execution_count": 93,
     "metadata": {},
     "output_type": "execute_result"
    }
   ],
   "source": [
    "data_model_5 = data_model_4b.drop(['yr_built'], axis=1)\n",
    "y = data_model_5['price']\n",
    "X = data_model_5.drop(['price'],axis=1)\n",
    "X_train, X_test, y_train, y_test = train_test_split(X, y, test_size=0.2, random_state=22)\n",
    "model_5 = LinearRegression()\n",
    "model_5.fit(X_train, y_train)\n",
    "y_hat_train = model_5.predict(X_train)\n",
    "y_hat_test = model_5.predict(X_test)\n",
    "metrics.r2_score(y_train, y_hat_train)"
   ]
  },
  {
   "cell_type": "code",
   "execution_count": 94,
   "metadata": {
    "scrolled": true
   },
   "outputs": [
    {
     "name": "stdout",
     "output_type": "stream",
     "text": [
      "RMSE Train: 156750.32358819112\n",
      "RMSE Test: 162287.21724229452\n"
     ]
    }
   ],
   "source": [
    "print('RMSE Train:',np.sqrt(metrics.mean_squared_error(y_train, y_hat_train)))\n",
    "print('RMSE Test:',np.sqrt(metrics.mean_squared_error(y_test, y_hat_test)))"
   ]
  },
  {
   "cell_type": "code",
   "execution_count": 95,
   "metadata": {},
   "outputs": [
    {
     "data": {
      "text/plain": [
       "158135.21361879917"
      ]
     },
     "execution_count": 95,
     "metadata": {},
     "output_type": "execute_result"
    }
   ],
   "source": [
    "# Perform cross validation\n",
    "cv_20_results = cross_val_score(model_5, X,y, cv=20, scoring=mse)\n",
    "np.mean(np.sqrt(cv_20_results))"
   ]
  },
  {
   "cell_type": "markdown",
   "metadata": {},
   "source": [
    "Our RMSE increased slightly but is still much improved from earlier models."
   ]
  },
  {
   "cell_type": "code",
   "execution_count": 96,
   "metadata": {},
   "outputs": [
    {
     "data": {
      "text/html": [
       "<table class=\"simpletable\">\n",
       "<caption>OLS Regression Results</caption>\n",
       "<tr>\n",
       "  <th>Dep. Variable:</th>          <td>price</td>      <th>  R-squared:         </th>  <td>   0.697</td>  \n",
       "</tr>\n",
       "<tr>\n",
       "  <th>Model:</th>                   <td>OLS</td>       <th>  Adj. R-squared:    </th>  <td>   0.697</td>  \n",
       "</tr>\n",
       "<tr>\n",
       "  <th>Method:</th>             <td>Least Squares</td>  <th>  F-statistic:       </th>  <td>   1193.</td>  \n",
       "</tr>\n",
       "<tr>\n",
       "  <th>Date:</th>             <td>Mon, 18 Jan 2021</td> <th>  Prob (F-statistic):</th>   <td>  0.00</td>   \n",
       "</tr>\n",
       "<tr>\n",
       "  <th>Time:</th>                 <td>17:27:16</td>     <th>  Log-Likelihood:    </th> <td>-2.2895e+05</td>\n",
       "</tr>\n",
       "<tr>\n",
       "  <th>No. Observations:</th>      <td> 17110</td>      <th>  AIC:               </th>  <td>4.580e+05</td> \n",
       "</tr>\n",
       "<tr>\n",
       "  <th>Df Residuals:</th>          <td> 17076</td>      <th>  BIC:               </th>  <td>4.582e+05</td> \n",
       "</tr>\n",
       "<tr>\n",
       "  <th>Df Model:</th>              <td>    33</td>      <th>                     </th>      <td> </td>     \n",
       "</tr>\n",
       "<tr>\n",
       "  <th>Covariance Type:</th>      <td>nonrobust</td>    <th>                     </th>      <td> </td>     \n",
       "</tr>\n",
       "</table>\n",
       "<table class=\"simpletable\">\n",
       "<tr>\n",
       "            <td></td>              <th>coef</th>     <th>std err</th>      <th>t</th>      <th>P>|t|</th>  <th>[0.025</th>    <th>0.975]</th>  \n",
       "</tr>\n",
       "<tr>\n",
       "  <th>const</th>                <td> 4.904e+04</td> <td> 6845.139</td> <td>    7.165</td> <td> 0.000</td> <td> 3.56e+04</td> <td> 6.25e+04</td>\n",
       "</tr>\n",
       "<tr>\n",
       "  <th>sqft_lot</th>             <td>    0.2067</td> <td>    0.041</td> <td>    5.036</td> <td> 0.000</td> <td>    0.126</td> <td>    0.287</td>\n",
       "</tr>\n",
       "<tr>\n",
       "  <th>sqft_above</th>           <td>  175.5036</td> <td>    3.218</td> <td>   54.535</td> <td> 0.000</td> <td>  169.196</td> <td>  181.812</td>\n",
       "</tr>\n",
       "<tr>\n",
       "  <th>yr_renovated</th>         <td>   48.2889</td> <td>    3.415</td> <td>   14.142</td> <td> 0.000</td> <td>   41.596</td> <td>   54.982</td>\n",
       "</tr>\n",
       "<tr>\n",
       "  <th>sqft_living15</th>        <td>   97.7746</td> <td>    3.021</td> <td>   32.362</td> <td> 0.000</td> <td>   91.853</td> <td>  103.697</td>\n",
       "</tr>\n",
       "<tr>\n",
       "  <th>sqft_lot15</th>           <td>   -0.2275</td> <td>    0.065</td> <td>   -3.523</td> <td> 0.000</td> <td>   -0.354</td> <td>   -0.101</td>\n",
       "</tr>\n",
       "<tr>\n",
       "  <th>has_basement</th>         <td>  8.42e+04</td> <td> 3128.679</td> <td>   26.913</td> <td> 0.000</td> <td> 7.81e+04</td> <td> 9.03e+04</td>\n",
       "</tr>\n",
       "<tr>\n",
       "  <th>bedro_2</th>              <td> 1.706e+04</td> <td> 4022.985</td> <td>    4.240</td> <td> 0.000</td> <td> 9173.792</td> <td> 2.49e+04</td>\n",
       "</tr>\n",
       "<tr>\n",
       "  <th>bedro_4</th>              <td>-8495.1149</td> <td> 3066.266</td> <td>   -2.771</td> <td> 0.006</td> <td>-1.45e+04</td> <td>-2484.918</td>\n",
       "</tr>\n",
       "<tr>\n",
       "  <th>bedro_5</th>              <td>-1.879e+04</td> <td> 5185.995</td> <td>   -3.624</td> <td> 0.000</td> <td> -2.9e+04</td> <td>-8628.046</td>\n",
       "</tr>\n",
       "<tr>\n",
       "  <th>bedro_6_plus</th>         <td>-7.253e+04</td> <td> 1.06e+04</td> <td>   -6.837</td> <td> 0.000</td> <td>-9.33e+04</td> <td>-5.17e+04</td>\n",
       "</tr>\n",
       "<tr>\n",
       "  <th>bathr_2_to_3</th>         <td> 1.432e+04</td> <td> 3527.009</td> <td>    4.061</td> <td> 0.000</td> <td> 7410.316</td> <td> 2.12e+04</td>\n",
       "</tr>\n",
       "<tr>\n",
       "  <th>bathr_3_to_4</th>         <td> 1.088e+05</td> <td> 6427.701</td> <td>   16.930</td> <td> 0.000</td> <td> 9.62e+04</td> <td> 1.21e+05</td>\n",
       "</tr>\n",
       "<tr>\n",
       "  <th>bathr_4_to_5</th>         <td> 1.587e+05</td> <td> 1.48e+04</td> <td>   10.753</td> <td> 0.000</td> <td>  1.3e+05</td> <td> 1.88e+05</td>\n",
       "</tr>\n",
       "<tr>\n",
       "  <th>bathr_5_to_6</th>         <td> 8.797e+04</td> <td> 4.14e+04</td> <td>    2.124</td> <td> 0.034</td> <td> 6797.134</td> <td> 1.69e+05</td>\n",
       "</tr>\n",
       "<tr>\n",
       "  <th>bathr_6_plus</th>         <td>-1.306e+05</td> <td> 9.16e+04</td> <td>   -1.426</td> <td> 0.154</td> <td> -3.1e+05</td> <td>  4.9e+04</td>\n",
       "</tr>\n",
       "<tr>\n",
       "  <th>floor_1.5</th>            <td>  1.32e+04</td> <td> 4655.592</td> <td>    2.835</td> <td> 0.005</td> <td> 4074.070</td> <td> 2.23e+04</td>\n",
       "</tr>\n",
       "<tr>\n",
       "  <th>floor_2.0</th>            <td>-2.922e+04</td> <td> 3844.941</td> <td>   -7.600</td> <td> 0.000</td> <td>-3.68e+04</td> <td>-2.17e+04</td>\n",
       "</tr>\n",
       "<tr>\n",
       "  <th>floor_2.5</th>            <td> 5.934e+04</td> <td> 1.56e+04</td> <td>    3.805</td> <td> 0.000</td> <td> 2.88e+04</td> <td> 8.99e+04</td>\n",
       "</tr>\n",
       "<tr>\n",
       "  <th>floor_3.0</th>            <td> 1.445e+04</td> <td> 8258.107</td> <td>    1.750</td> <td> 0.080</td> <td>-1731.765</td> <td> 3.06e+04</td>\n",
       "</tr>\n",
       "<tr>\n",
       "  <th>floor_3.5</th>            <td>  1.93e+04</td> <td> 7.86e+04</td> <td>    0.246</td> <td> 0.806</td> <td>-1.35e+05</td> <td> 1.73e+05</td>\n",
       "</tr>\n",
       "<tr>\n",
       "  <th>water_1.0</th>            <td> 2.717e+05</td> <td> 2.14e+04</td> <td>   12.686</td> <td> 0.000</td> <td>  2.3e+05</td> <td> 3.14e+05</td>\n",
       "</tr>\n",
       "<tr>\n",
       "  <th>view_1.0</th>             <td> 8.154e+04</td> <td> 1.03e+04</td> <td>    7.894</td> <td> 0.000</td> <td> 6.13e+04</td> <td> 1.02e+05</td>\n",
       "</tr>\n",
       "<tr>\n",
       "  <th>view_2.0</th>             <td> 6.761e+04</td> <td> 6070.081</td> <td>   11.139</td> <td> 0.000</td> <td> 5.57e+04</td> <td> 7.95e+04</td>\n",
       "</tr>\n",
       "<tr>\n",
       "  <th>view_3.0</th>             <td> 1.532e+05</td> <td> 8354.988</td> <td>   18.331</td> <td> 0.000</td> <td> 1.37e+05</td> <td>  1.7e+05</td>\n",
       "</tr>\n",
       "<tr>\n",
       "  <th>view_4.0</th>             <td> 2.641e+05</td> <td> 1.33e+04</td> <td>   19.867</td> <td> 0.000</td> <td> 2.38e+05</td> <td>  2.9e+05</td>\n",
       "</tr>\n",
       "<tr>\n",
       "  <th>condi_4</th>              <td> 5.161e+04</td> <td> 2959.968</td> <td>   17.435</td> <td> 0.000</td> <td> 4.58e+04</td> <td> 5.74e+04</td>\n",
       "</tr>\n",
       "<tr>\n",
       "  <th>condi_5</th>              <td>  1.05e+05</td> <td> 4641.332</td> <td>   22.628</td> <td> 0.000</td> <td> 9.59e+04</td> <td> 1.14e+05</td>\n",
       "</tr>\n",
       "<tr>\n",
       "  <th>zipco_98051_to_98100</th> <td>-4.116e+04</td> <td> 3495.187</td> <td>  -11.777</td> <td> 0.000</td> <td> -4.8e+04</td> <td>-3.43e+04</td>\n",
       "</tr>\n",
       "<tr>\n",
       "  <th>zipco_98101_to_98150</th> <td> 1244.3073</td> <td> 4911.144</td> <td>    0.253</td> <td> 0.800</td> <td>-8382.041</td> <td> 1.09e+04</td>\n",
       "</tr>\n",
       "<tr>\n",
       "  <th>zipco_98150_to_98200</th> <td>-3.286e+04</td> <td> 5002.864</td> <td>   -6.568</td> <td> 0.000</td> <td>-4.27e+04</td> <td>-2.31e+04</td>\n",
       "</tr>\n",
       "<tr>\n",
       "  <th>quadr_2</th>              <td>-6.526e+04</td> <td> 5016.195</td> <td>  -13.010</td> <td> 0.000</td> <td>-7.51e+04</td> <td>-5.54e+04</td>\n",
       "</tr>\n",
       "<tr>\n",
       "  <th>quadr_3</th>              <td>-2.519e+05</td> <td> 4658.530</td> <td>  -54.082</td> <td> 0.000</td> <td>-2.61e+05</td> <td>-2.43e+05</td>\n",
       "</tr>\n",
       "<tr>\n",
       "  <th>quadr_4</th>              <td>-2.494e+05</td> <td> 5310.089</td> <td>  -46.964</td> <td> 0.000</td> <td> -2.6e+05</td> <td>-2.39e+05</td>\n",
       "</tr>\n",
       "</table>\n",
       "<table class=\"simpletable\">\n",
       "<tr>\n",
       "  <th>Omnibus:</th>       <td>4684.594</td> <th>  Durbin-Watson:     </th> <td>   2.008</td> \n",
       "</tr>\n",
       "<tr>\n",
       "  <th>Prob(Omnibus):</th>  <td> 0.000</td>  <th>  Jarque-Bera (JB):  </th> <td>23104.796</td>\n",
       "</tr>\n",
       "<tr>\n",
       "  <th>Skew:</th>           <td> 1.242</td>  <th>  Prob(JB):          </th> <td>    0.00</td> \n",
       "</tr>\n",
       "<tr>\n",
       "  <th>Kurtosis:</th>       <td> 8.123</td>  <th>  Cond. No.          </th> <td>3.80e+06</td> \n",
       "</tr>\n",
       "</table><br/><br/>Notes:<br/>[1] Standard Errors assume that the covariance matrix of the errors is correctly specified.<br/>[2] The condition number is large, 3.8e+06. This might indicate that there are<br/>strong multicollinearity or other numerical problems."
      ],
      "text/plain": [
       "<class 'statsmodels.iolib.summary.Summary'>\n",
       "\"\"\"\n",
       "                            OLS Regression Results                            \n",
       "==============================================================================\n",
       "Dep. Variable:                  price   R-squared:                       0.697\n",
       "Model:                            OLS   Adj. R-squared:                  0.697\n",
       "Method:                 Least Squares   F-statistic:                     1193.\n",
       "Date:                Mon, 18 Jan 2021   Prob (F-statistic):               0.00\n",
       "Time:                        17:27:16   Log-Likelihood:            -2.2895e+05\n",
       "No. Observations:               17110   AIC:                         4.580e+05\n",
       "Df Residuals:                   17076   BIC:                         4.582e+05\n",
       "Df Model:                          33                                         \n",
       "Covariance Type:            nonrobust                                         \n",
       "========================================================================================\n",
       "                           coef    std err          t      P>|t|      [0.025      0.975]\n",
       "----------------------------------------------------------------------------------------\n",
       "const                 4.904e+04   6845.139      7.165      0.000    3.56e+04    6.25e+04\n",
       "sqft_lot                 0.2067      0.041      5.036      0.000       0.126       0.287\n",
       "sqft_above             175.5036      3.218     54.535      0.000     169.196     181.812\n",
       "yr_renovated            48.2889      3.415     14.142      0.000      41.596      54.982\n",
       "sqft_living15           97.7746      3.021     32.362      0.000      91.853     103.697\n",
       "sqft_lot15              -0.2275      0.065     -3.523      0.000      -0.354      -0.101\n",
       "has_basement           8.42e+04   3128.679     26.913      0.000    7.81e+04    9.03e+04\n",
       "bedro_2               1.706e+04   4022.985      4.240      0.000    9173.792    2.49e+04\n",
       "bedro_4              -8495.1149   3066.266     -2.771      0.006   -1.45e+04   -2484.918\n",
       "bedro_5              -1.879e+04   5185.995     -3.624      0.000    -2.9e+04   -8628.046\n",
       "bedro_6_plus         -7.253e+04   1.06e+04     -6.837      0.000   -9.33e+04   -5.17e+04\n",
       "bathr_2_to_3          1.432e+04   3527.009      4.061      0.000    7410.316    2.12e+04\n",
       "bathr_3_to_4          1.088e+05   6427.701     16.930      0.000    9.62e+04    1.21e+05\n",
       "bathr_4_to_5          1.587e+05   1.48e+04     10.753      0.000     1.3e+05    1.88e+05\n",
       "bathr_5_to_6          8.797e+04   4.14e+04      2.124      0.034    6797.134    1.69e+05\n",
       "bathr_6_plus         -1.306e+05   9.16e+04     -1.426      0.154    -3.1e+05     4.9e+04\n",
       "floor_1.5              1.32e+04   4655.592      2.835      0.005    4074.070    2.23e+04\n",
       "floor_2.0            -2.922e+04   3844.941     -7.600      0.000   -3.68e+04   -2.17e+04\n",
       "floor_2.5             5.934e+04   1.56e+04      3.805      0.000    2.88e+04    8.99e+04\n",
       "floor_3.0             1.445e+04   8258.107      1.750      0.080   -1731.765    3.06e+04\n",
       "floor_3.5              1.93e+04   7.86e+04      0.246      0.806   -1.35e+05    1.73e+05\n",
       "water_1.0             2.717e+05   2.14e+04     12.686      0.000     2.3e+05    3.14e+05\n",
       "view_1.0              8.154e+04   1.03e+04      7.894      0.000    6.13e+04    1.02e+05\n",
       "view_2.0              6.761e+04   6070.081     11.139      0.000    5.57e+04    7.95e+04\n",
       "view_3.0              1.532e+05   8354.988     18.331      0.000    1.37e+05     1.7e+05\n",
       "view_4.0              2.641e+05   1.33e+04     19.867      0.000    2.38e+05     2.9e+05\n",
       "condi_4               5.161e+04   2959.968     17.435      0.000    4.58e+04    5.74e+04\n",
       "condi_5                1.05e+05   4641.332     22.628      0.000    9.59e+04    1.14e+05\n",
       "zipco_98051_to_98100 -4.116e+04   3495.187    -11.777      0.000    -4.8e+04   -3.43e+04\n",
       "zipco_98101_to_98150  1244.3073   4911.144      0.253      0.800   -8382.041    1.09e+04\n",
       "zipco_98150_to_98200 -3.286e+04   5002.864     -6.568      0.000   -4.27e+04   -2.31e+04\n",
       "quadr_2              -6.526e+04   5016.195    -13.010      0.000   -7.51e+04   -5.54e+04\n",
       "quadr_3              -2.519e+05   4658.530    -54.082      0.000   -2.61e+05   -2.43e+05\n",
       "quadr_4              -2.494e+05   5310.089    -46.964      0.000    -2.6e+05   -2.39e+05\n",
       "==============================================================================\n",
       "Omnibus:                     4684.594   Durbin-Watson:                   2.008\n",
       "Prob(Omnibus):                  0.000   Jarque-Bera (JB):            23104.796\n",
       "Skew:                           1.242   Prob(JB):                         0.00\n",
       "Kurtosis:                       8.123   Cond. No.                     3.80e+06\n",
       "==============================================================================\n",
       "\n",
       "Notes:\n",
       "[1] Standard Errors assume that the covariance matrix of the errors is correctly specified.\n",
       "[2] The condition number is large, 3.8e+06. This might indicate that there are\n",
       "strong multicollinearity or other numerical problems.\n",
       "\"\"\""
      ]
     },
     "execution_count": 96,
     "metadata": {},
     "output_type": "execute_result"
    }
   ],
   "source": [
    "X_int = sm.add_constant(X_train)\n",
    "model_5 = sm.OLS(y_train, X_int).fit()\n",
    "model_5.summary()"
   ]
  },
  {
   "cell_type": "markdown",
   "metadata": {},
   "source": [
    "Our model lost a minimal amount of accuracy by removing the 'yr_built' column, but our multicollinearity did decrease. For the sake of having a more accurate model, we are going to proceed with this version of the model and leave in the other multicollinear columns, 'sqft_above' and sqft_living_15'. "
   ]
  },
  {
   "cell_type": "markdown",
   "metadata": {},
   "source": [
    "## Model 6: Log Transform Variables"
   ]
  },
  {
   "cell_type": "markdown",
   "metadata": {},
   "source": [
    "Let's go back and check our assumptions of linear regression again."
   ]
  },
  {
   "cell_type": "code",
   "execution_count": 97,
   "metadata": {},
   "outputs": [
    {
     "data": {
      "image/png": "[encoded data removed]",
      "text/plain": [
       "<Figure size 576x396 with 1 Axes>"
      ]
     },
     "metadata": {},
     "output_type": "display_data"
    }
   ],
   "source": [
    "X_int = sm.add_constant(X_train)\n",
    "model_5 = sm.OLS(y_train, X_int).fit()\n",
    "fig = sm.graphics.qqplot(model_5.resid, dist=stats.norm, line='45', fit=True)"
   ]
  },
  {
   "cell_type": "code",
   "execution_count": 98,
   "metadata": {
    "scrolled": true
   },
   "outputs": [
    {
     "data": {
      "text/plain": [
       "[<matplotlib.lines.Line2D at 0x16142c14d90>]"
      ]
     },
     "execution_count": 98,
     "metadata": {},
     "output_type": "execute_result"
    },
    {
     "data": {
      "image/png": "[encoded data removed]",
      "text/plain": [
       "<Figure size 576x396 with 1 Axes>"
      ]
     },
     "metadata": {},
     "output_type": "display_data"
    }
   ],
   "source": [
    "plt.scatter(model_5.predict(X_int), model_5.resid)\n",
    "plt.plot(model_5.predict(X_int), [0 for i in range(len(X_int))])"
   ]
  },
  {
   "cell_type": "markdown",
   "metadata": {},
   "source": [
    "We clearly still have some violations of our residual normality and homoscedasticity assumptions. A log transformation may be necessary in this case. Since non-normality of the residuals is the problem with this model, let's log transform our dependent variable."
   ]
  },
  {
   "cell_type": "code",
   "execution_count": 99,
   "metadata": {},
   "outputs": [],
   "source": [
    "data_model_6 = data_model_5.copy()"
   ]
  },
  {
   "cell_type": "code",
   "execution_count": 100,
   "metadata": {},
   "outputs": [],
   "source": [
    "data_model_6['price_log'] = np.log(data_model_6['price'])"
   ]
  },
  {
   "cell_type": "code",
   "execution_count": 101,
   "metadata": {
    "scrolled": true
   },
   "outputs": [
    {
     "data": {
      "text/plain": [
       "<AxesSubplot:>"
      ]
     },
     "execution_count": 101,
     "metadata": {},
     "output_type": "execute_result"
    },
    {
     "data": {
      "image/png": "[encoded data removed]",
      "text/plain": [
       "<Figure size 576x396 with 1 Axes>"
      ]
     },
     "metadata": {},
     "output_type": "display_data"
    }
   ],
   "source": [
    "data_model_6.price_log.hist()"
   ]
  },
  {
   "cell_type": "code",
   "execution_count": 102,
   "metadata": {},
   "outputs": [
    {
     "data": {
      "text/plain": [
       "0.7384629254211739"
      ]
     },
     "execution_count": 102,
     "metadata": {},
     "output_type": "execute_result"
    }
   ],
   "source": [
    "y = data_model_6['price_log']\n",
    "X = data_model_6.drop(['price', 'price_log'],axis=1)\n",
    "X_train, X_test, y_train_log, y_test_log = train_test_split(X, y, test_size=0.2, random_state=22)\n",
    "model_6 = LinearRegression()\n",
    "model_6.fit(X_train, y_train_log)\n",
    "y_hat_train_log = model_6.predict(X_train)\n",
    "y_hat_test_log = model_6.predict(X_test)\n",
    "metrics.r2_score(y_train_log, y_hat_train_log)"
   ]
  },
  {
   "cell_type": "markdown",
   "metadata": {},
   "source": [
    "This looks much better! Let's check our RMSE values. We will need to inverse transform our residuals in order to interpret our error correctly."
   ]
  },
  {
   "cell_type": "code",
   "execution_count": 103,
   "metadata": {},
   "outputs": [
    {
     "name": "stdout",
     "output_type": "stream",
     "text": [
      "RMSE Train: 0.25537642348252104\n",
      "RMSE Test: 0.2611051698994695\n"
     ]
    }
   ],
   "source": [
    "print('RMSE Train:',np.sqrt(metrics.mean_squared_error(y_train_log, y_hat_train_log)))\n",
    "print('RMSE Test:',np.sqrt(metrics.mean_squared_error(y_test_log, y_hat_test_log)))"
   ]
  },
  {
   "cell_type": "code",
   "execution_count": 104,
   "metadata": {},
   "outputs": [
    {
     "name": "stdout",
     "output_type": "stream",
     "text": [
      "RMSE Train: 159508.90549190796\n",
      "RMSE Test: 166728.85001795844\n"
     ]
    }
   ],
   "source": [
    "y_hat_train = np.exp(y_hat_train_log)\n",
    "y_hat_test = np.exp(y_hat_test_log)\n",
    "y_train = np.exp(y_train_log)\n",
    "y_test = np.exp(y_test_log)\n",
    "\n",
    "print('RMSE Train:',np.sqrt(metrics.mean_squared_error(y_train, y_hat_train)))\n",
    "print('RMSE Test:',np.sqrt(metrics.mean_squared_error(y_test, y_hat_test)))\n"
   ]
  },
  {
   "cell_type": "code",
   "execution_count": 105,
   "metadata": {
    "scrolled": true
   },
   "outputs": [
    {
     "data": {
      "text/html": [
       "<table class=\"simpletable\">\n",
       "<caption>OLS Regression Results</caption>\n",
       "<tr>\n",
       "  <th>Dep. Variable:</th>        <td>price_log</td>    <th>  R-squared:         </th> <td>   0.738</td>\n",
       "</tr>\n",
       "<tr>\n",
       "  <th>Model:</th>                   <td>OLS</td>       <th>  Adj. R-squared:    </th> <td>   0.738</td>\n",
       "</tr>\n",
       "<tr>\n",
       "  <th>Method:</th>             <td>Least Squares</td>  <th>  F-statistic:       </th> <td>   1461.</td>\n",
       "</tr>\n",
       "<tr>\n",
       "  <th>Date:</th>             <td>Mon, 18 Jan 2021</td> <th>  Prob (F-statistic):</th>  <td>  0.00</td> \n",
       "</tr>\n",
       "<tr>\n",
       "  <th>Time:</th>                 <td>17:27:17</td>     <th>  Log-Likelihood:    </th> <td> -922.60</td>\n",
       "</tr>\n",
       "<tr>\n",
       "  <th>No. Observations:</th>      <td> 17110</td>      <th>  AIC:               </th> <td>   1913.</td>\n",
       "</tr>\n",
       "<tr>\n",
       "  <th>Df Residuals:</th>          <td> 17076</td>      <th>  BIC:               </th> <td>   2177.</td>\n",
       "</tr>\n",
       "<tr>\n",
       "  <th>Df Model:</th>              <td>    33</td>      <th>                     </th>     <td> </td>   \n",
       "</tr>\n",
       "<tr>\n",
       "  <th>Covariance Type:</th>      <td>nonrobust</td>    <th>                     </th>     <td> </td>   \n",
       "</tr>\n",
       "</table>\n",
       "<table class=\"simpletable\">\n",
       "<tr>\n",
       "            <td></td>              <th>coef</th>     <th>std err</th>      <th>t</th>      <th>P>|t|</th>  <th>[0.025</th>    <th>0.975]</th>  \n",
       "</tr>\n",
       "<tr>\n",
       "  <th>const</th>                <td>   12.1861</td> <td>    0.011</td> <td> 1092.722</td> <td> 0.000</td> <td>   12.164</td> <td>   12.208</td>\n",
       "</tr>\n",
       "<tr>\n",
       "  <th>sqft_lot</th>             <td> 5.304e-07</td> <td> 6.69e-08</td> <td>    7.933</td> <td> 0.000</td> <td> 3.99e-07</td> <td> 6.61e-07</td>\n",
       "</tr>\n",
       "<tr>\n",
       "  <th>sqft_above</th>           <td>    0.0003</td> <td> 5.24e-06</td> <td>   54.041</td> <td> 0.000</td> <td>    0.000</td> <td>    0.000</td>\n",
       "</tr>\n",
       "<tr>\n",
       "  <th>yr_renovated</th>         <td> 7.384e-05</td> <td> 5.56e-06</td> <td>   13.274</td> <td> 0.000</td> <td> 6.29e-05</td> <td> 8.47e-05</td>\n",
       "</tr>\n",
       "<tr>\n",
       "  <th>sqft_living15</th>        <td>    0.0002</td> <td> 4.92e-06</td> <td>   34.427</td> <td> 0.000</td> <td>    0.000</td> <td>    0.000</td>\n",
       "</tr>\n",
       "<tr>\n",
       "  <th>sqft_lot15</th>           <td>-1.232e-07</td> <td> 1.05e-07</td> <td>   -1.171</td> <td> 0.242</td> <td>-3.29e-07</td> <td>  8.3e-08</td>\n",
       "</tr>\n",
       "<tr>\n",
       "  <th>has_basement</th>         <td>    0.1771</td> <td>    0.005</td> <td>   34.742</td> <td> 0.000</td> <td>    0.167</td> <td>    0.187</td>\n",
       "</tr>\n",
       "<tr>\n",
       "  <th>bedro_2</th>              <td>   -0.0082</td> <td>    0.007</td> <td>   -1.258</td> <td> 0.209</td> <td>   -0.021</td> <td>    0.005</td>\n",
       "</tr>\n",
       "<tr>\n",
       "  <th>bedro_4</th>              <td>   -0.0032</td> <td>    0.005</td> <td>   -0.634</td> <td> 0.526</td> <td>   -0.013</td> <td>    0.007</td>\n",
       "</tr>\n",
       "<tr>\n",
       "  <th>bedro_5</th>              <td>   -0.0305</td> <td>    0.008</td> <td>   -3.607</td> <td> 0.000</td> <td>   -0.047</td> <td>   -0.014</td>\n",
       "</tr>\n",
       "<tr>\n",
       "  <th>bedro_6_plus</th>         <td>   -0.0722</td> <td>    0.017</td> <td>   -4.178</td> <td> 0.000</td> <td>   -0.106</td> <td>   -0.038</td>\n",
       "</tr>\n",
       "<tr>\n",
       "  <th>bathr_2_to_3</th>         <td>    0.0626</td> <td>    0.006</td> <td>   10.887</td> <td> 0.000</td> <td>    0.051</td> <td>    0.074</td>\n",
       "</tr>\n",
       "<tr>\n",
       "  <th>bathr_3_to_4</th>         <td>    0.0906</td> <td>    0.010</td> <td>    8.655</td> <td> 0.000</td> <td>    0.070</td> <td>    0.111</td>\n",
       "</tr>\n",
       "<tr>\n",
       "  <th>bathr_4_to_5</th>         <td>    0.0389</td> <td>    0.024</td> <td>    1.620</td> <td> 0.105</td> <td>   -0.008</td> <td>    0.086</td>\n",
       "</tr>\n",
       "<tr>\n",
       "  <th>bathr_5_to_6</th>         <td>   -0.1668</td> <td>    0.067</td> <td>   -2.472</td> <td> 0.013</td> <td>   -0.299</td> <td>   -0.035</td>\n",
       "</tr>\n",
       "<tr>\n",
       "  <th>bathr_6_plus</th>         <td>   -0.2602</td> <td>    0.149</td> <td>   -1.743</td> <td> 0.081</td> <td>   -0.553</td> <td>    0.032</td>\n",
       "</tr>\n",
       "<tr>\n",
       "  <th>floor_1.5</th>            <td>    0.0523</td> <td>    0.008</td> <td>    6.894</td> <td> 0.000</td> <td>    0.037</td> <td>    0.067</td>\n",
       "</tr>\n",
       "<tr>\n",
       "  <th>floor_2.0</th>            <td>   -0.0105</td> <td>    0.006</td> <td>   -1.671</td> <td> 0.095</td> <td>   -0.023</td> <td>    0.002</td>\n",
       "</tr>\n",
       "<tr>\n",
       "  <th>floor_2.5</th>            <td>    0.0734</td> <td>    0.025</td> <td>    2.890</td> <td> 0.004</td> <td>    0.024</td> <td>    0.123</td>\n",
       "</tr>\n",
       "<tr>\n",
       "  <th>floor_3.0</th>            <td>    0.0723</td> <td>    0.013</td> <td>    5.376</td> <td> 0.000</td> <td>    0.046</td> <td>    0.099</td>\n",
       "</tr>\n",
       "<tr>\n",
       "  <th>floor_3.5</th>            <td>    0.1439</td> <td>    0.128</td> <td>    1.123</td> <td> 0.261</td> <td>   -0.107</td> <td>    0.395</td>\n",
       "</tr>\n",
       "<tr>\n",
       "  <th>water_1.0</th>            <td>    0.4204</td> <td>    0.035</td> <td>   12.046</td> <td> 0.000</td> <td>    0.352</td> <td>    0.489</td>\n",
       "</tr>\n",
       "<tr>\n",
       "  <th>view_1.0</th>             <td>    0.1499</td> <td>    0.017</td> <td>    8.907</td> <td> 0.000</td> <td>    0.117</td> <td>    0.183</td>\n",
       "</tr>\n",
       "<tr>\n",
       "  <th>view_2.0</th>             <td>    0.1223</td> <td>    0.010</td> <td>   12.364</td> <td> 0.000</td> <td>    0.103</td> <td>    0.142</td>\n",
       "</tr>\n",
       "<tr>\n",
       "  <th>view_3.0</th>             <td>    0.1909</td> <td>    0.014</td> <td>   14.023</td> <td> 0.000</td> <td>    0.164</td> <td>    0.218</td>\n",
       "</tr>\n",
       "<tr>\n",
       "  <th>view_4.0</th>             <td>    0.2927</td> <td>    0.022</td> <td>   13.518</td> <td> 0.000</td> <td>    0.250</td> <td>    0.335</td>\n",
       "</tr>\n",
       "<tr>\n",
       "  <th>condi_4</th>              <td>    0.0934</td> <td>    0.005</td> <td>   19.358</td> <td> 0.000</td> <td>    0.084</td> <td>    0.103</td>\n",
       "</tr>\n",
       "<tr>\n",
       "  <th>condi_5</th>              <td>    0.1704</td> <td>    0.008</td> <td>   22.533</td> <td> 0.000</td> <td>    0.156</td> <td>    0.185</td>\n",
       "</tr>\n",
       "<tr>\n",
       "  <th>zipco_98051_to_98100</th> <td>   -0.0346</td> <td>    0.006</td> <td>   -6.071</td> <td> 0.000</td> <td>   -0.046</td> <td>   -0.023</td>\n",
       "</tr>\n",
       "<tr>\n",
       "  <th>zipco_98101_to_98150</th> <td>    0.0641</td> <td>    0.008</td> <td>    8.017</td> <td> 0.000</td> <td>    0.048</td> <td>    0.080</td>\n",
       "</tr>\n",
       "<tr>\n",
       "  <th>zipco_98150_to_98200</th> <td>   -0.0206</td> <td>    0.008</td> <td>   -2.531</td> <td> 0.011</td> <td>   -0.037</td> <td>   -0.005</td>\n",
       "</tr>\n",
       "<tr>\n",
       "  <th>quadr_2</th>              <td>   -0.0512</td> <td>    0.008</td> <td>   -6.271</td> <td> 0.000</td> <td>   -0.067</td> <td>   -0.035</td>\n",
       "</tr>\n",
       "<tr>\n",
       "  <th>quadr_3</th>              <td>   -0.5376</td> <td>    0.008</td> <td>  -70.829</td> <td> 0.000</td> <td>   -0.552</td> <td>   -0.523</td>\n",
       "</tr>\n",
       "<tr>\n",
       "  <th>quadr_4</th>              <td>   -0.4639</td> <td>    0.009</td> <td>  -53.618</td> <td> 0.000</td> <td>   -0.481</td> <td>   -0.447</td>\n",
       "</tr>\n",
       "</table>\n",
       "<table class=\"simpletable\">\n",
       "<tr>\n",
       "  <th>Omnibus:</th>       <td>433.707</td> <th>  Durbin-Watson:     </th> <td>   2.015</td> \n",
       "</tr>\n",
       "<tr>\n",
       "  <th>Prob(Omnibus):</th> <td> 0.000</td>  <th>  Jarque-Bera (JB):  </th> <td> 926.218</td> \n",
       "</tr>\n",
       "<tr>\n",
       "  <th>Skew:</th>          <td>-0.135</td>  <th>  Prob(JB):          </th> <td>7.49e-202</td>\n",
       "</tr>\n",
       "<tr>\n",
       "  <th>Kurtosis:</th>      <td> 4.107</td>  <th>  Cond. No.          </th> <td>3.80e+06</td> \n",
       "</tr>\n",
       "</table><br/><br/>Notes:<br/>[1] Standard Errors assume that the covariance matrix of the errors is correctly specified.<br/>[2] The condition number is large, 3.8e+06. This might indicate that there are<br/>strong multicollinearity or other numerical problems."
      ],
      "text/plain": [
       "<class 'statsmodels.iolib.summary.Summary'>\n",
       "\"\"\"\n",
       "                            OLS Regression Results                            \n",
       "==============================================================================\n",
       "Dep. Variable:              price_log   R-squared:                       0.738\n",
       "Model:                            OLS   Adj. R-squared:                  0.738\n",
       "Method:                 Least Squares   F-statistic:                     1461.\n",
       "Date:                Mon, 18 Jan 2021   Prob (F-statistic):               0.00\n",
       "Time:                        17:27:17   Log-Likelihood:                -922.60\n",
       "No. Observations:               17110   AIC:                             1913.\n",
       "Df Residuals:                   17076   BIC:                             2177.\n",
       "Df Model:                          33                                         \n",
       "Covariance Type:            nonrobust                                         \n",
       "========================================================================================\n",
       "                           coef    std err          t      P>|t|      [0.025      0.975]\n",
       "----------------------------------------------------------------------------------------\n",
       "const                   12.1861      0.011   1092.722      0.000      12.164      12.208\n",
       "sqft_lot              5.304e-07   6.69e-08      7.933      0.000    3.99e-07    6.61e-07\n",
       "sqft_above               0.0003   5.24e-06     54.041      0.000       0.000       0.000\n",
       "yr_renovated          7.384e-05   5.56e-06     13.274      0.000    6.29e-05    8.47e-05\n",
       "sqft_living15            0.0002   4.92e-06     34.427      0.000       0.000       0.000\n",
       "sqft_lot15           -1.232e-07   1.05e-07     -1.171      0.242   -3.29e-07     8.3e-08\n",
       "has_basement             0.1771      0.005     34.742      0.000       0.167       0.187\n",
       "bedro_2                 -0.0082      0.007     -1.258      0.209      -0.021       0.005\n",
       "bedro_4                 -0.0032      0.005     -0.634      0.526      -0.013       0.007\n",
       "bedro_5                 -0.0305      0.008     -3.607      0.000      -0.047      -0.014\n",
       "bedro_6_plus            -0.0722      0.017     -4.178      0.000      -0.106      -0.038\n",
       "bathr_2_to_3             0.0626      0.006     10.887      0.000       0.051       0.074\n",
       "bathr_3_to_4             0.0906      0.010      8.655      0.000       0.070       0.111\n",
       "bathr_4_to_5             0.0389      0.024      1.620      0.105      -0.008       0.086\n",
       "bathr_5_to_6            -0.1668      0.067     -2.472      0.013      -0.299      -0.035\n",
       "bathr_6_plus            -0.2602      0.149     -1.743      0.081      -0.553       0.032\n",
       "floor_1.5                0.0523      0.008      6.894      0.000       0.037       0.067\n",
       "floor_2.0               -0.0105      0.006     -1.671      0.095      -0.023       0.002\n",
       "floor_2.5                0.0734      0.025      2.890      0.004       0.024       0.123\n",
       "floor_3.0                0.0723      0.013      5.376      0.000       0.046       0.099\n",
       "floor_3.5                0.1439      0.128      1.123      0.261      -0.107       0.395\n",
       "water_1.0                0.4204      0.035     12.046      0.000       0.352       0.489\n",
       "view_1.0                 0.1499      0.017      8.907      0.000       0.117       0.183\n",
       "view_2.0                 0.1223      0.010     12.364      0.000       0.103       0.142\n",
       "view_3.0                 0.1909      0.014     14.023      0.000       0.164       0.218\n",
       "view_4.0                 0.2927      0.022     13.518      0.000       0.250       0.335\n",
       "condi_4                  0.0934      0.005     19.358      0.000       0.084       0.103\n",
       "condi_5                  0.1704      0.008     22.533      0.000       0.156       0.185\n",
       "zipco_98051_to_98100    -0.0346      0.006     -6.071      0.000      -0.046      -0.023\n",
       "zipco_98101_to_98150     0.0641      0.008      8.017      0.000       0.048       0.080\n",
       "zipco_98150_to_98200    -0.0206      0.008     -2.531      0.011      -0.037      -0.005\n",
       "quadr_2                 -0.0512      0.008     -6.271      0.000      -0.067      -0.035\n",
       "quadr_3                 -0.5376      0.008    -70.829      0.000      -0.552      -0.523\n",
       "quadr_4                 -0.4639      0.009    -53.618      0.000      -0.481      -0.447\n",
       "==============================================================================\n",
       "Omnibus:                      433.707   Durbin-Watson:                   2.015\n",
       "Prob(Omnibus):                  0.000   Jarque-Bera (JB):              926.218\n",
       "Skew:                          -0.135   Prob(JB):                    7.49e-202\n",
       "Kurtosis:                       4.107   Cond. No.                     3.80e+06\n",
       "==============================================================================\n",
       "\n",
       "Notes:\n",
       "[1] Standard Errors assume that the covariance matrix of the errors is correctly specified.\n",
       "[2] The condition number is large, 3.8e+06. This might indicate that there are\n",
       "strong multicollinearity or other numerical problems.\n",
       "\"\"\""
      ]
     },
     "execution_count": 105,
     "metadata": {},
     "output_type": "execute_result"
    }
   ],
   "source": [
    "X_int = sm.add_constant(X_train)\n",
    "model_6 = sm.OLS(y_train_log, X_int).fit()\n",
    "model_6.summary()"
   ]
  },
  {
   "cell_type": "markdown",
   "metadata": {},
   "source": [
    "This model has both a high R2 and lower RMSE. Before finalizing our model, let's remove any variables with p-values below 0.05, and check our assumptions one last time."
   ]
  },
  {
   "cell_type": "code",
   "execution_count": 106,
   "metadata": {},
   "outputs": [],
   "source": [
    "cols_to_drop = ['sqft_lot15', 'bedro_2', 'bedro_4', 'bathr_4_to_5', 'bathr_6_plus', 'floor_2.0','floor_3.5']"
   ]
  },
  {
   "cell_type": "code",
   "execution_count": 107,
   "metadata": {},
   "outputs": [],
   "source": [
    "data_model_6b = data_model_6.drop(cols_to_drop, axis=1)"
   ]
  },
  {
   "cell_type": "code",
   "execution_count": 108,
   "metadata": {},
   "outputs": [
    {
     "data": {
      "text/plain": [
       "0.7382674402569489"
      ]
     },
     "execution_count": 108,
     "metadata": {},
     "output_type": "execute_result"
    }
   ],
   "source": [
    "y = data_model_6b['price_log']\n",
    "X = data_model_6b.drop(['price', 'price_log'],axis=1)\n",
    "X_train, X_test, y_train_log, y_test_log = train_test_split(X, y, test_size=0.2, random_state=22)\n",
    "model_final = LinearRegression()\n",
    "model_final.fit(X_train, y_train_log)\n",
    "y_hat_train_log = model_final.predict(X_train)\n",
    "y_hat_test_log = model_final.predict(X_test)\n",
    "metrics.r2_score(y_train_log, y_hat_train_log)"
   ]
  },
  {
   "cell_type": "code",
   "execution_count": 109,
   "metadata": {},
   "outputs": [
    {
     "name": "stdout",
     "output_type": "stream",
     "text": [
      "RMSE Train: 159560.6764230314\n",
      "RMSE Test: 166875.79816493497\n"
     ]
    }
   ],
   "source": [
    "y_hat_train = np.exp(y_hat_train_log)\n",
    "y_hat_test = np.exp(y_hat_test_log)\n",
    "y_train = np.exp(y_train_log)\n",
    "y_test = np.exp(y_test_log)\n",
    "\n",
    "print('RMSE Train:',np.sqrt(metrics.mean_squared_error(y_train, y_hat_train)))\n",
    "print('RMSE Test:',np.sqrt(metrics.mean_squared_error(y_test, y_hat_test)))\n"
   ]
  },
  {
   "cell_type": "code",
   "execution_count": 110,
   "metadata": {
    "scrolled": true
   },
   "outputs": [
    {
     "data": {
      "text/html": [
       "<table class=\"simpletable\">\n",
       "<caption>OLS Regression Results</caption>\n",
       "<tr>\n",
       "  <th>Dep. Variable:</th>        <td>price_log</td>    <th>  R-squared:         </th> <td>   0.738</td>\n",
       "</tr>\n",
       "<tr>\n",
       "  <th>Model:</th>                   <td>OLS</td>       <th>  Adj. R-squared:    </th> <td>   0.738</td>\n",
       "</tr>\n",
       "<tr>\n",
       "  <th>Method:</th>             <td>Least Squares</td>  <th>  F-statistic:       </th> <td>   1853.</td>\n",
       "</tr>\n",
       "<tr>\n",
       "  <th>Date:</th>             <td>Mon, 18 Jan 2021</td> <th>  Prob (F-statistic):</th>  <td>  0.00</td> \n",
       "</tr>\n",
       "<tr>\n",
       "  <th>Time:</th>                 <td>17:27:17</td>     <th>  Log-Likelihood:    </th> <td> -929.00</td>\n",
       "</tr>\n",
       "<tr>\n",
       "  <th>No. Observations:</th>      <td> 17110</td>      <th>  AIC:               </th> <td>   1912.</td>\n",
       "</tr>\n",
       "<tr>\n",
       "  <th>Df Residuals:</th>          <td> 17083</td>      <th>  BIC:               </th> <td>   2121.</td>\n",
       "</tr>\n",
       "<tr>\n",
       "  <th>Df Model:</th>              <td>    26</td>      <th>                     </th>     <td> </td>   \n",
       "</tr>\n",
       "<tr>\n",
       "  <th>Covariance Type:</th>      <td>nonrobust</td>    <th>                     </th>     <td> </td>   \n",
       "</tr>\n",
       "</table>\n",
       "<table class=\"simpletable\">\n",
       "<tr>\n",
       "            <td></td>              <th>coef</th>     <th>std err</th>      <th>t</th>      <th>P>|t|</th>  <th>[0.025</th>    <th>0.975]</th>  \n",
       "</tr>\n",
       "<tr>\n",
       "  <th>const</th>                <td>   12.1824</td> <td>    0.011</td> <td> 1136.755</td> <td> 0.000</td> <td>   12.161</td> <td>   12.203</td>\n",
       "</tr>\n",
       "<tr>\n",
       "  <th>sqft_lot</th>             <td> 4.836e-07</td> <td> 4.95e-08</td> <td>    9.772</td> <td> 0.000</td> <td> 3.87e-07</td> <td> 5.81e-07</td>\n",
       "</tr>\n",
       "<tr>\n",
       "  <th>sqft_above</th>           <td>    0.0003</td> <td> 4.52e-06</td> <td>   62.483</td> <td> 0.000</td> <td>    0.000</td> <td>    0.000</td>\n",
       "</tr>\n",
       "<tr>\n",
       "  <th>yr_renovated</th>         <td> 7.406e-05</td> <td> 5.56e-06</td> <td>   13.314</td> <td> 0.000</td> <td> 6.32e-05</td> <td>  8.5e-05</td>\n",
       "</tr>\n",
       "<tr>\n",
       "  <th>sqft_living15</th>        <td>    0.0002</td> <td> 4.88e-06</td> <td>   34.752</td> <td> 0.000</td> <td>    0.000</td> <td>    0.000</td>\n",
       "</tr>\n",
       "<tr>\n",
       "  <th>has_basement</th>         <td>    0.1800</td> <td>    0.005</td> <td>   37.381</td> <td> 0.000</td> <td>    0.171</td> <td>    0.189</td>\n",
       "</tr>\n",
       "<tr>\n",
       "  <th>bedro_5</th>              <td>   -0.0263</td> <td>    0.008</td> <td>   -3.330</td> <td> 0.001</td> <td>   -0.042</td> <td>   -0.011</td>\n",
       "</tr>\n",
       "<tr>\n",
       "  <th>bedro_6_plus</th>         <td>   -0.0679</td> <td>    0.017</td> <td>   -4.058</td> <td> 0.000</td> <td>   -0.101</td> <td>   -0.035</td>\n",
       "</tr>\n",
       "<tr>\n",
       "  <th>bathr_2_to_3</th>         <td>    0.0576</td> <td>    0.005</td> <td>   11.623</td> <td> 0.000</td> <td>    0.048</td> <td>    0.067</td>\n",
       "</tr>\n",
       "<tr>\n",
       "  <th>bathr_3_to_4</th>         <td>    0.0833</td> <td>    0.010</td> <td>    8.608</td> <td> 0.000</td> <td>    0.064</td> <td>    0.102</td>\n",
       "</tr>\n",
       "<tr>\n",
       "  <th>bathr_5_to_6</th>         <td>   -0.1735</td> <td>    0.067</td> <td>   -2.583</td> <td> 0.010</td> <td>   -0.305</td> <td>   -0.042</td>\n",
       "</tr>\n",
       "<tr>\n",
       "  <th>floor_1.5</th>            <td>    0.0557</td> <td>    0.007</td> <td>    7.701</td> <td> 0.000</td> <td>    0.042</td> <td>    0.070</td>\n",
       "</tr>\n",
       "<tr>\n",
       "  <th>floor_2.5</th>            <td>    0.0822</td> <td>    0.025</td> <td>    3.287</td> <td> 0.001</td> <td>    0.033</td> <td>    0.131</td>\n",
       "</tr>\n",
       "<tr>\n",
       "  <th>floor_3.0</th>            <td>    0.0819</td> <td>    0.013</td> <td>    6.507</td> <td> 0.000</td> <td>    0.057</td> <td>    0.107</td>\n",
       "</tr>\n",
       "<tr>\n",
       "  <th>water_1.0</th>            <td>    0.4177</td> <td>    0.035</td> <td>   11.982</td> <td> 0.000</td> <td>    0.349</td> <td>    0.486</td>\n",
       "</tr>\n",
       "<tr>\n",
       "  <th>view_1.0</th>             <td>    0.1499</td> <td>    0.017</td> <td>    8.913</td> <td> 0.000</td> <td>    0.117</td> <td>    0.183</td>\n",
       "</tr>\n",
       "<tr>\n",
       "  <th>view_2.0</th>             <td>    0.1222</td> <td>    0.010</td> <td>   12.358</td> <td> 0.000</td> <td>    0.103</td> <td>    0.142</td>\n",
       "</tr>\n",
       "<tr>\n",
       "  <th>view_3.0</th>             <td>    0.1914</td> <td>    0.014</td> <td>   14.074</td> <td> 0.000</td> <td>    0.165</td> <td>    0.218</td>\n",
       "</tr>\n",
       "<tr>\n",
       "  <th>view_4.0</th>             <td>    0.2936</td> <td>    0.022</td> <td>   13.563</td> <td> 0.000</td> <td>    0.251</td> <td>    0.336</td>\n",
       "</tr>\n",
       "<tr>\n",
       "  <th>condi_4</th>              <td>    0.0945</td> <td>    0.005</td> <td>   19.938</td> <td> 0.000</td> <td>    0.085</td> <td>    0.104</td>\n",
       "</tr>\n",
       "<tr>\n",
       "  <th>condi_5</th>              <td>    0.1718</td> <td>    0.007</td> <td>   22.926</td> <td> 0.000</td> <td>    0.157</td> <td>    0.187</td>\n",
       "</tr>\n",
       "<tr>\n",
       "  <th>zipco_98051_to_98100</th> <td>   -0.0351</td> <td>    0.006</td> <td>   -6.180</td> <td> 0.000</td> <td>   -0.046</td> <td>   -0.024</td>\n",
       "</tr>\n",
       "<tr>\n",
       "  <th>zipco_98101_to_98150</th> <td>    0.0616</td> <td>    0.008</td> <td>    7.796</td> <td> 0.000</td> <td>    0.046</td> <td>    0.077</td>\n",
       "</tr>\n",
       "<tr>\n",
       "  <th>zipco_98150_to_98200</th> <td>   -0.0215</td> <td>    0.008</td> <td>   -2.646</td> <td> 0.008</td> <td>   -0.037</td> <td>   -0.006</td>\n",
       "</tr>\n",
       "<tr>\n",
       "  <th>quadr_2</th>              <td>   -0.0517</td> <td>    0.008</td> <td>   -6.334</td> <td> 0.000</td> <td>   -0.068</td> <td>   -0.036</td>\n",
       "</tr>\n",
       "<tr>\n",
       "  <th>quadr_3</th>              <td>   -0.5375</td> <td>    0.008</td> <td>  -70.909</td> <td> 0.000</td> <td>   -0.552</td> <td>   -0.523</td>\n",
       "</tr>\n",
       "<tr>\n",
       "  <th>quadr_4</th>              <td>   -0.4647</td> <td>    0.009</td> <td>  -53.895</td> <td> 0.000</td> <td>   -0.482</td> <td>   -0.448</td>\n",
       "</tr>\n",
       "</table>\n",
       "<table class=\"simpletable\">\n",
       "<tr>\n",
       "  <th>Omnibus:</th>       <td>432.395</td> <th>  Durbin-Watson:     </th> <td>   2.014</td> \n",
       "</tr>\n",
       "<tr>\n",
       "  <th>Prob(Omnibus):</th> <td> 0.000</td>  <th>  Jarque-Bera (JB):  </th> <td> 924.905</td> \n",
       "</tr>\n",
       "<tr>\n",
       "  <th>Skew:</th>          <td>-0.134</td>  <th>  Prob(JB):          </th> <td>1.44e-201</td>\n",
       "</tr>\n",
       "<tr>\n",
       "  <th>Kurtosis:</th>      <td> 4.107</td>  <th>  Cond. No.          </th> <td>1.51e+06</td> \n",
       "</tr>\n",
       "</table><br/><br/>Notes:<br/>[1] Standard Errors assume that the covariance matrix of the errors is correctly specified.<br/>[2] The condition number is large, 1.51e+06. This might indicate that there are<br/>strong multicollinearity or other numerical problems."
      ],
      "text/plain": [
       "<class 'statsmodels.iolib.summary.Summary'>\n",
       "\"\"\"\n",
       "                            OLS Regression Results                            \n",
       "==============================================================================\n",
       "Dep. Variable:              price_log   R-squared:                       0.738\n",
       "Model:                            OLS   Adj. R-squared:                  0.738\n",
       "Method:                 Least Squares   F-statistic:                     1853.\n",
       "Date:                Mon, 18 Jan 2021   Prob (F-statistic):               0.00\n",
       "Time:                        17:27:17   Log-Likelihood:                -929.00\n",
       "No. Observations:               17110   AIC:                             1912.\n",
       "Df Residuals:                   17083   BIC:                             2121.\n",
       "Df Model:                          26                                         \n",
       "Covariance Type:            nonrobust                                         \n",
       "========================================================================================\n",
       "                           coef    std err          t      P>|t|      [0.025      0.975]\n",
       "----------------------------------------------------------------------------------------\n",
       "const                   12.1824      0.011   1136.755      0.000      12.161      12.203\n",
       "sqft_lot              4.836e-07   4.95e-08      9.772      0.000    3.87e-07    5.81e-07\n",
       "sqft_above               0.0003   4.52e-06     62.483      0.000       0.000       0.000\n",
       "yr_renovated          7.406e-05   5.56e-06     13.314      0.000    6.32e-05     8.5e-05\n",
       "sqft_living15            0.0002   4.88e-06     34.752      0.000       0.000       0.000\n",
       "has_basement             0.1800      0.005     37.381      0.000       0.171       0.189\n",
       "bedro_5                 -0.0263      0.008     -3.330      0.001      -0.042      -0.011\n",
       "bedro_6_plus            -0.0679      0.017     -4.058      0.000      -0.101      -0.035\n",
       "bathr_2_to_3             0.0576      0.005     11.623      0.000       0.048       0.067\n",
       "bathr_3_to_4             0.0833      0.010      8.608      0.000       0.064       0.102\n",
       "bathr_5_to_6            -0.1735      0.067     -2.583      0.010      -0.305      -0.042\n",
       "floor_1.5                0.0557      0.007      7.701      0.000       0.042       0.070\n",
       "floor_2.5                0.0822      0.025      3.287      0.001       0.033       0.131\n",
       "floor_3.0                0.0819      0.013      6.507      0.000       0.057       0.107\n",
       "water_1.0                0.4177      0.035     11.982      0.000       0.349       0.486\n",
       "view_1.0                 0.1499      0.017      8.913      0.000       0.117       0.183\n",
       "view_2.0                 0.1222      0.010     12.358      0.000       0.103       0.142\n",
       "view_3.0                 0.1914      0.014     14.074      0.000       0.165       0.218\n",
       "view_4.0                 0.2936      0.022     13.563      0.000       0.251       0.336\n",
       "condi_4                  0.0945      0.005     19.938      0.000       0.085       0.104\n",
       "condi_5                  0.1718      0.007     22.926      0.000       0.157       0.187\n",
       "zipco_98051_to_98100    -0.0351      0.006     -6.180      0.000      -0.046      -0.024\n",
       "zipco_98101_to_98150     0.0616      0.008      7.796      0.000       0.046       0.077\n",
       "zipco_98150_to_98200    -0.0215      0.008     -2.646      0.008      -0.037      -0.006\n",
       "quadr_2                 -0.0517      0.008     -6.334      0.000      -0.068      -0.036\n",
       "quadr_3                 -0.5375      0.008    -70.909      0.000      -0.552      -0.523\n",
       "quadr_4                 -0.4647      0.009    -53.895      0.000      -0.482      -0.448\n",
       "==============================================================================\n",
       "Omnibus:                      432.395   Durbin-Watson:                   2.014\n",
       "Prob(Omnibus):                  0.000   Jarque-Bera (JB):              924.905\n",
       "Skew:                          -0.134   Prob(JB):                    1.44e-201\n",
       "Kurtosis:                       4.107   Cond. No.                     1.51e+06\n",
       "==============================================================================\n",
       "\n",
       "Notes:\n",
       "[1] Standard Errors assume that the covariance matrix of the errors is correctly specified.\n",
       "[2] The condition number is large, 1.51e+06. This might indicate that there are\n",
       "strong multicollinearity or other numerical problems.\n",
       "\"\"\""
      ]
     },
     "execution_count": 110,
     "metadata": {},
     "output_type": "execute_result"
    }
   ],
   "source": [
    "X_int = sm.add_constant(X_train)\n",
    "model_final_ols = sm.OLS(y_train_log, X_int).fit()\n",
    "model_final_ols.summary()"
   ]
  },
  {
   "cell_type": "code",
   "execution_count": 111,
   "metadata": {},
   "outputs": [
    {
     "data": {
      "image/png": "[encoded data removed]",
      "text/plain": [
       "<Figure size 576x396 with 1 Axes>"
      ]
     },
     "metadata": {},
     "output_type": "display_data"
    }
   ],
   "source": [
    "fig = sm.graphics.qqplot(model_final_ols.resid, dist=stats.norm, line='45', fit=True)"
   ]
  },
  {
   "cell_type": "code",
   "execution_count": 112,
   "metadata": {
    "scrolled": true
   },
   "outputs": [
    {
     "data": {
      "text/plain": [
       "[<matplotlib.lines.Line2D at 0x1613f362b80>]"
      ]
     },
     "execution_count": 112,
     "metadata": {},
     "output_type": "execute_result"
    },
    {
     "data": {
      "image/png": "[encoded data removed]",
      "text/plain": [
       "<Figure size 576x396 with 1 Axes>"
      ]
     },
     "metadata": {},
     "output_type": "display_data"
    }
   ],
   "source": [
    "plt.scatter(model_final_ols.predict(X_int), model_final_ols.resid)\n",
    "plt.plot(model_final_ols.predict(X_int), [0 for i in range(len(X_int))])"
   ]
  },
  {
   "cell_type": "markdown",
   "metadata": {},
   "source": [
    "Normality and homoscedasticity have improved enough that we are going to accept this model as final."
   ]
  },
  {
   "cell_type": "code",
   "execution_count": 113,
   "metadata": {
    "scrolled": true
   },
   "outputs": [
    {
     "data": {
      "image/png": "[encoded data removed]",
      "text/plain": [
       "<Figure size 576x396 with 1 Axes>"
      ]
     },
     "metadata": {},
     "output_type": "display_data"
    }
   ],
   "source": [
    "plt.hist(y_test - y_hat_test, bins='auto');"
   ]
  },
  {
   "cell_type": "markdown",
   "metadata": {},
   "source": [
    "Our residuals look normally distributed, which is encouraging that our model meets the residual normality assumption."
   ]
  },
  {
   "cell_type": "markdown",
   "metadata": {},
   "source": [
    "# Evaluation - Final Model Interpretation"
   ]
  },
  {
   "cell_type": "markdown",
   "metadata": {},
   "source": [
    "First, let's print the coefficients of our final model, and transform them to be interpretted correctly, taking into account the dependent variable log transformation."
   ]
  },
  {
   "cell_type": "code",
   "execution_count": 114,
   "metadata": {},
   "outputs": [],
   "source": [
    "# Save model data as final version\n",
    "data_model_final = data_model_6b.copy()"
   ]
  },
  {
   "cell_type": "code",
   "execution_count": 115,
   "metadata": {},
   "outputs": [
    {
     "data": {
      "text/plain": [
       "array([ 4.83598069e-07,  2.82158114e-04,  7.40603635e-05,  1.69737572e-04,\n",
       "        1.79990636e-01, -2.62719469e-02, -6.79041296e-02,  5.76386234e-02,\n",
       "        8.32611053e-02, -1.73510186e-01,  5.57319610e-02,  8.21569217e-02,\n",
       "        8.19459231e-02,  4.17742728e-01,  1.49939899e-01,  1.22152078e-01,\n",
       "        1.91439091e-01,  2.93581663e-01,  9.45395953e-02,  1.71811474e-01,\n",
       "       -3.51298283e-02,  6.16088605e-02, -2.15225642e-02, -5.17291094e-02,\n",
       "       -5.37481134e-01, -4.64735326e-01])"
      ]
     },
     "execution_count": 115,
     "metadata": {},
     "output_type": "execute_result"
    }
   ],
   "source": [
    "model_final.coef_"
   ]
  },
  {
   "cell_type": "code",
   "execution_count": 116,
   "metadata": {},
   "outputs": [],
   "source": [
    "# to easily interpret % change in dependent variable - exponentiate the coefficient, subtract one, and multiply by 100\n",
    "model_final.transformed_coef = (np.exp(model_final.coef_)-1)*100"
   ]
  },
  {
   "cell_type": "code",
   "execution_count": 117,
   "metadata": {
    "scrolled": true
   },
   "outputs": [],
   "source": [
    "# put transformed coefficients into a dataframe for easier manipulation\n",
    "coeff_df = pd.DataFrame(model_final.transformed_coef, X.columns, columns = ['Coeff'])"
   ]
  },
  {
   "cell_type": "code",
   "execution_count": 118,
   "metadata": {},
   "outputs": [
    {
     "data": {
      "text/html": [
       "<div>\n",
       "<style scoped>\n",
       "    .dataframe tbody tr th:only-of-type {\n",
       "        vertical-align: middle;\n",
       "    }\n",
       "\n",
       "    .dataframe tbody tr th {\n",
       "        vertical-align: top;\n",
       "    }\n",
       "\n",
       "    .dataframe thead th {\n",
       "        text-align: right;\n",
       "    }\n",
       "</style>\n",
       "<table border=\"1\" class=\"dataframe\">\n",
       "  <thead>\n",
       "    <tr style=\"text-align: right;\">\n",
       "      <th></th>\n",
       "      <th>Coeff</th>\n",
       "    </tr>\n",
       "  </thead>\n",
       "  <tbody>\n",
       "    <tr>\n",
       "      <th>sqft_lot</th>\n",
       "      <td>0.000048</td>\n",
       "    </tr>\n",
       "    <tr>\n",
       "      <th>sqft_above</th>\n",
       "      <td>0.028220</td>\n",
       "    </tr>\n",
       "    <tr>\n",
       "      <th>yr_renovated</th>\n",
       "      <td>0.007406</td>\n",
       "    </tr>\n",
       "    <tr>\n",
       "      <th>sqft_living15</th>\n",
       "      <td>0.016975</td>\n",
       "    </tr>\n",
       "    <tr>\n",
       "      <th>has_basement</th>\n",
       "      <td>19.720615</td>\n",
       "    </tr>\n",
       "    <tr>\n",
       "      <th>bedro_5</th>\n",
       "      <td>-2.592984</td>\n",
       "    </tr>\n",
       "    <tr>\n",
       "      <th>bedro_6_plus</th>\n",
       "      <td>-6.564995</td>\n",
       "    </tr>\n",
       "    <tr>\n",
       "      <th>bathr_2_to_3</th>\n",
       "      <td>5.933211</td>\n",
       "    </tr>\n",
       "    <tr>\n",
       "      <th>bathr_3_to_4</th>\n",
       "      <td>8.682555</td>\n",
       "    </tr>\n",
       "    <tr>\n",
       "      <th>bathr_5_to_6</th>\n",
       "      <td>-15.929141</td>\n",
       "    </tr>\n",
       "    <tr>\n",
       "      <th>floor_1.5</th>\n",
       "      <td>5.731424</td>\n",
       "    </tr>\n",
       "    <tr>\n",
       "      <th>floor_2.5</th>\n",
       "      <td>8.562615</td>\n",
       "    </tr>\n",
       "    <tr>\n",
       "      <th>floor_3.0</th>\n",
       "      <td>8.539711</td>\n",
       "    </tr>\n",
       "    <tr>\n",
       "      <th>water_1.0</th>\n",
       "      <td>51.852995</td>\n",
       "    </tr>\n",
       "    <tr>\n",
       "      <th>view_1.0</th>\n",
       "      <td>16.176442</td>\n",
       "    </tr>\n",
       "    <tr>\n",
       "      <th>view_2.0</th>\n",
       "      <td>12.992593</td>\n",
       "    </tr>\n",
       "    <tr>\n",
       "      <th>view_3.0</th>\n",
       "      <td>21.099107</td>\n",
       "    </tr>\n",
       "    <tr>\n",
       "      <th>view_4.0</th>\n",
       "      <td>34.122270</td>\n",
       "    </tr>\n",
       "    <tr>\n",
       "      <th>condi_4</th>\n",
       "      <td>9.915268</td>\n",
       "    </tr>\n",
       "    <tr>\n",
       "      <th>condi_5</th>\n",
       "      <td>18.745395</td>\n",
       "    </tr>\n",
       "    <tr>\n",
       "      <th>zipco_98051_to_98100</th>\n",
       "      <td>-3.451994</td>\n",
       "    </tr>\n",
       "    <tr>\n",
       "      <th>zipco_98101_to_98150</th>\n",
       "      <td>6.354627</td>\n",
       "    </tr>\n",
       "    <tr>\n",
       "      <th>zipco_98150_to_98200</th>\n",
       "      <td>-2.129261</td>\n",
       "    </tr>\n",
       "    <tr>\n",
       "      <th>quadr_2</th>\n",
       "      <td>-5.041393</td>\n",
       "    </tr>\n",
       "    <tr>\n",
       "      <th>quadr_3</th>\n",
       "      <td>-41.578203</td>\n",
       "    </tr>\n",
       "    <tr>\n",
       "      <th>quadr_4</th>\n",
       "      <td>-37.169862</td>\n",
       "    </tr>\n",
       "  </tbody>\n",
       "</table>\n",
       "</div>"
      ],
      "text/plain": [
       "                          Coeff\n",
       "sqft_lot               0.000048\n",
       "sqft_above             0.028220\n",
       "yr_renovated           0.007406\n",
       "sqft_living15          0.016975\n",
       "has_basement          19.720615\n",
       "bedro_5               -2.592984\n",
       "bedro_6_plus          -6.564995\n",
       "bathr_2_to_3           5.933211\n",
       "bathr_3_to_4           8.682555\n",
       "bathr_5_to_6         -15.929141\n",
       "floor_1.5              5.731424\n",
       "floor_2.5              8.562615\n",
       "floor_3.0              8.539711\n",
       "water_1.0             51.852995\n",
       "view_1.0              16.176442\n",
       "view_2.0              12.992593\n",
       "view_3.0              21.099107\n",
       "view_4.0              34.122270\n",
       "condi_4                9.915268\n",
       "condi_5               18.745395\n",
       "zipco_98051_to_98100  -3.451994\n",
       "zipco_98101_to_98150   6.354627\n",
       "zipco_98150_to_98200  -2.129261\n",
       "quadr_2               -5.041393\n",
       "quadr_3              -41.578203\n",
       "quadr_4              -37.169862"
      ]
     },
     "execution_count": 118,
     "metadata": {},
     "output_type": "execute_result"
    }
   ],
   "source": [
    "coeff_df"
   ]
  },
  {
   "cell_type": "code",
   "execution_count": 119,
   "metadata": {},
   "outputs": [
    {
     "name": "stdout",
     "output_type": "stream",
     "text": [
      "<class 'pandas.core.frame.DataFrame'>\n",
      "Index: 26 entries, sqft_lot to quadr_4\n",
      "Data columns (total 1 columns):\n",
      " #   Column  Non-Null Count  Dtype  \n",
      "---  ------  --------------  -----  \n",
      " 0   Coeff   26 non-null     float64\n",
      "dtypes: float64(1)\n",
      "memory usage: 1.7+ KB\n"
     ]
    }
   ],
   "source": [
    "coeff_df.info()"
   ]
  },
  {
   "cell_type": "code",
   "execution_count": 120,
   "metadata": {
    "scrolled": true
   },
   "outputs": [],
   "source": [
    "coeff_top_10 = coeff_df.sort_values('Coeff', ascending=False, axis=0).head(10)"
   ]
  },
  {
   "cell_type": "code",
   "execution_count": 121,
   "metadata": {},
   "outputs": [
    {
     "data": {
      "image/png": "[encoded data removed]",
      "text/plain": [
       "<Figure size 792x360 with 1 Axes>"
      ]
     },
     "metadata": {},
     "output_type": "display_data"
    }
   ],
   "source": [
    "sns.set_context('notebook')\n",
    "sns.set_style('whitegrid')\n",
    "plt.figure(figsize=(11,5))\n",
    "ax = sns.barplot(x = coeff_top_10.index, y = coeff_top_10['Coeff'], \n",
    "            data=coeff_top_10, palette = 'rocket')\n",
    "ax.set_title('Top Coefficients of Change for Independent Variables')\n",
    "ax.set(xlabel='Independent Variables', ylabel= '% Change in Price')\n",
    "\n",
    "for p in ax.patches:\n",
    "    height = p.get_height() \n",
    "    width = p.get_width() \n",
    "    ax.text(x = p.get_x()+(width/4),\n",
    "            y = height+.25,\n",
    "            s = '{:.0f}%'.format(height)) \n",
    "plt.savefig('images/top_coefficents.png')"
   ]
  },
  {
   "cell_type": "markdown",
   "metadata": {},
   "source": [
    "## Conclusions"
   ]
  },
  {
   "cell_type": "markdown",
   "metadata": {},
   "source": [
    "**Houses with more views have higher prices.** Our 'view' variable that was converted into dummy variables represents how many times a house on the market was viewed. As the number of times a house is viewed increases from 0 to 4, the price of the house increases by 34%. This seems logical, as the more times a house is viewed, the more likely there is to be competition among buyers, driving a higher price. The seller could try to increase views by increasing the number of open houses held, which in turn could increase price."
   ]
  },
  {
   "cell_type": "code",
   "execution_count": 122,
   "metadata": {},
   "outputs": [],
   "source": [
    "views = coeff_df.loc[['view_4.0', 'view_3.0', 'view_2.0', 'view_1.0']]"
   ]
  },
  {
   "cell_type": "code",
   "execution_count": 123,
   "metadata": {},
   "outputs": [
    {
     "data": {
      "image/png": "[encoded data removed]",
      "text/plain": [
       "<Figure size 576x360 with 1 Axes>"
      ]
     },
     "metadata": {},
     "output_type": "display_data"
    }
   ],
   "source": [
    "plt.figure(figsize=(8,5))\n",
    "ax = sns.barplot(x = views.index, y = views['Coeff'], \n",
    "            data=coeff_top_10, palette = 'rocket')\n",
    "ax.set_title('Coefficients of Change for Home Views')\n",
    "ax.set(xlabel='# of Views', ylabel= '% Change in Price')\n",
    "\n",
    "for p in ax.patches:\n",
    "    height = p.get_height() \n",
    "    width = p.get_width() \n",
    "    ax.text(x = p.get_x()+(width/3),\n",
    "            y = height+.25,\n",
    "            s = '{:.0f}%'.format(height))\n",
    "plt.savefig('images/views.png')"
   ]
  },
  {
   "cell_type": "markdown",
   "metadata": {},
   "source": [
    "**Houses with 3 to 4 bathrooms have higher prices.** As the number of bathrooms increases from 1 to 3-4 (including 4), housing prices increase by ~9%. This is useful information if a seller is trying to make renovations to increase price. Increasing the number of bathrooms to 3-4 could have a significant impact on raising the price. Additionally, increasing from 1 to 2-3 bathrooms (including 3) could lead to a 6.25% price increase. This makes sense, however, the increase in bathrooms no longer leads to an increase in price after more than 5 bathrooms. This is likely due to outliers in the number of bathrooms, as not many houses have more than 5 bathrooms. We would need to further explore a set of houses with more than 5 bathrooms to see if this logic holds."
   ]
  },
  {
   "cell_type": "code",
   "execution_count": 124,
   "metadata": {},
   "outputs": [],
   "source": [
    "bathrooms = coeff_df.loc[['bathr_2_to_3', 'bathr_3_to_4', 'bathr_5_to_6']]"
   ]
  },
  {
   "cell_type": "code",
   "execution_count": 125,
   "metadata": {},
   "outputs": [
    {
     "data": {
      "image/png": "[encoded data removed]",
      "text/plain": [
       "<Figure size 576x360 with 1 Axes>"
      ]
     },
     "metadata": {},
     "output_type": "display_data"
    }
   ],
   "source": [
    "plt.figure(figsize=(8,5))\n",
    "ax = sns.barplot(x = bathrooms.index, y = bathrooms['Coeff'], \n",
    "            data=coeff_top_10, palette = 'rocket')\n",
    "ax.set_title('Coefficients of Change for Bathrooms')\n",
    "ax.set(xlabel='# of Bathrooms', ylabel= '% Change in Price')\n",
    "\n",
    "for p in ax.patches:\n",
    "    height = p.get_height() \n",
    "    width = p.get_width() \n",
    "    ax.text(x = p.get_x()+(width/3),\n",
    "            y = height+.25,\n",
    "            s = '{:.0f}%'.format(height)) \n",
    "plt.savefig('images/bathrooms.png')"
   ]
  },
  {
   "cell_type": "markdown",
   "metadata": {},
   "source": [
    "**Houses with Conditions of 5 have higher prices.** Compared to houses with a condition of 1, houses with condition of 5 have an 18.5% higher price on average. This seems logical, as the nicer the condition of a house, the higher the asking price. By upgrading some of the fixtures and appliances in the home, a seller could increase its condition on the scale. Homes with a condition of 4 also have a price 9.8% higher on average, so there still could be value in trying to improve a home's condition, even if it cannot reach a 5 condition. "
   ]
  },
  {
   "cell_type": "code",
   "execution_count": 126,
   "metadata": {},
   "outputs": [],
   "source": [
    "conditions = coeff_df.loc[['condi_4', 'condi_5']]"
   ]
  },
  {
   "cell_type": "code",
   "execution_count": 127,
   "metadata": {},
   "outputs": [
    {
     "data": {
      "image/png": "[encoded data removed]",
      "text/plain": [
       "<Figure size 576x360 with 1 Axes>"
      ]
     },
     "metadata": {},
     "output_type": "display_data"
    }
   ],
   "source": [
    "plt.figure(figsize=(8,5))\n",
    "ax = sns.barplot(x = conditions.index, y = conditions['Coeff'], \n",
    "            data=coeff_top_10, palette = 'rocket')\n",
    "ax.set_title('Coefficients of Change for Home Condition')\n",
    "ax.set(xlabel='Condition', ylabel= '% Change in Price')\n",
    "\n",
    "for p in ax.patches:\n",
    "    height = p.get_height() \n",
    "    width = p.get_width() \n",
    "    ax.text(x = p.get_x()+(width/2.3),\n",
    "            y = height+.25,\n",
    "            s = '{:.0f}%'.format(height)); \n",
    "plt.savefig('images/conditions.png')"
   ]
  },
  {
   "cell_type": "markdown",
   "metadata": {},
   "source": [
    "## Other Considerations"
   ]
  },
  {
   "cell_type": "markdown",
   "metadata": {},
   "source": [
    "Our model had a final R-squared value of .74, meaning 74% of the variation in price is explained by the independent variables in our model. The RMSE value was approximately 160k, meaning our model usually comes within this amount of the home's actual price."
   ]
  },
  {
   "cell_type": "markdown",
   "metadata": {},
   "source": [
    "**Water.** Our model found that having a waterfront property coincides with the highest price percentage increase of all features--a house with water has a 52% higher price on average than one without. Since this is not a feature a seller can change about their property, we did not highlight it in our analysis.\n",
    "\n",
    "**Basement.** Having a basement is another highly influential feature of housing prices, as houses with basements have a 16% higher price on average than houses without basements. Again, though, it would be very difficult for a seller to change the structure of their house to add a basement, so this feature also was not highlighted.\n",
    "\n",
    "**6+ bedrooms.** Our model concluded that housees with more than 5 bedrooms have a 6% lower price on average. This isn't a very logical conclusion, and is likely due to our dataset not including enough houses with this feature. We would need to further explore homes of this size, and it may be useful to drop these homes from our dataset in the future. We run into a similar issue with 5-6 bathrooms, which is showing a 16% decrease in price on average.\n",
    "\n",
    "**Location.** Location, whether zipcode or quadrant, also had a significant effect on price--living in quadrant 4 lowered price by 42% compared with houses in quadrant 1. However, a home seller cannot change the location of their current house. This information could be useful in a different context, for example, if location was unimportant to a buyer compared to the attributes of the house, the buyer could use this information to find a less expensive house in quadrant 4."
   ]
  },
  {
   "cell_type": "markdown",
   "metadata": {},
   "source": [
    "## Future Work"
   ]
  },
  {
   "cell_type": "markdown",
   "metadata": {},
   "source": [
    "**Run a similar analysis for buyers.** As previewed in the location consideration above, parts of this model could be useful to buyers of homes trying to find the lowest price possible. The model could be further refined with buyers in mind, focusing on the features of a home the buyer is interested in, and which features they are willing to give up in order to obtain the best price. For example, if a buyer is price sensitive and does not need a basement, they may be better off targeting homes that do not have a basement, since they sell for 16% less on average."
   ]
  },
  {
   "cell_type": "markdown",
   "metadata": {},
   "source": [
    "**Further investigate the relationship between bedrooms and price.** In our final model, there was a negative relationship between price and bedrooms greater than 5. We would like to do further investigation into this to find out if it is a product of not having enough houses in our dataset with this many bedrooms, or if there is actually a negative affect on a home's price if there are too many bedrooms."
   ]
  }
 ],
 "metadata": {
  "kernelspec": {
   "display_name": "Python 3",
   "language": "python",
   "name": "python3"
  },
  "language_info": {
   "codemirror_mode": {
    "name": "ipython",
    "version": 3
   },
   "file_extension": ".py",
   "mimetype": "text/x-python",
   "name": "python",
   "nbconvert_exporter": "python",
   "pygments_lexer": "ipython3",
   "version": "3.8.5"
  },
  "toc": {
   "base_numbering": 1,
   "nav_menu": {},
   "number_sections": true,
   "sideBar": true,
   "skip_h1_title": false,
   "title_cell": "Table of Contents",
   "title_sidebar": "Contents",
   "toc_cell": false,
   "toc_position": {
    "height": "calc(100% - 180px)",
    "left": "10px",
    "top": "150px",
    "width": "384px"
   },
   "toc_section_display": true,
   "toc_window_display": false
  }
 },
 "nbformat": 4,
 "nbformat_minor": 4
}
